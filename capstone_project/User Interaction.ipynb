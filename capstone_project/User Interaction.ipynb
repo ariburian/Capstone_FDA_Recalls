{
 "cells": [
  {
   "cell_type": "code",
   "execution_count": 1,
   "metadata": {
    "collapsed": true
   },
   "outputs": [],
   "source": [
    "import pandas as pd\n",
    "import numpy as np\n",
    "import matplotlib.pyplot as plt"
   ]
  },
  {
   "cell_type": "code",
   "execution_count": 2,
   "metadata": {
    "collapsed": true
   },
   "outputs": [],
   "source": [
    "filename1='modeling/training_data_w_predictions.csv'\n",
    "filename2='modeling/testing_data_w_predictions.csv'"
   ]
  },
  {
   "cell_type": "code",
   "execution_count": 3,
   "metadata": {
    "collapsed": true
   },
   "outputs": [],
   "source": [
    "df1=pd.read_csv(filename1)\n",
    "df2=pd.read_csv(filename2)"
   ]
  },
  {
   "cell_type": "code",
   "execution_count": 4,
   "metadata": {
    "collapsed": true
   },
   "outputs": [],
   "source": [
    "df=pd.concat([df1,df2])"
   ]
  },
  {
   "cell_type": "code",
   "execution_count": 113,
   "metadata": {
    "collapsed": true
   },
   "outputs": [],
   "source": [
    "list_of_ndcs=list(df['unq_ndc'])"
   ]
  },
  {
   "cell_type": "code",
   "execution_count": 7,
   "metadata": {},
   "outputs": [],
   "source": []
  },
  {
   "cell_type": "code",
   "execution_count": null,
   "metadata": {},
   "outputs": [],
   "source": []
  },
  {
   "cell_type": "code",
   "execution_count": null,
   "metadata": {
    "collapsed": true
   },
   "outputs": [],
   "source": []
  },
  {
   "cell_type": "code",
   "execution_count": 110,
   "metadata": {},
   "outputs": [],
   "source": [
    "def ndc_printout(ndc):\n",
    "    if ndc not in list(df['unq_ndc']):\n",
    "        print \"Please enter a correct NDC number!\"\n",
    "        return \n",
    "\n",
    "    name=str(df[df['unq_ndc']==ndc]['spl_product_data_elements'])\n",
    "#     print name\n",
    "   # name=name.split(' ')\n",
    "    print \"This drug's name is \",name[10:50]\n",
    " \n",
    "    target=int(df[df['unq_ndc']==ndc]['target'])\n",
    "#     print 'target',target, type(target)\n",
    "    prediction=int(df[df['unq_ndc']==ndc]['predictions'])\n",
    "    #prediction=prediction[0]\n",
    "#     print 'predictions',prediction\n",
    "    if (target==0):\n",
    "        print 'This drug has not been recalled.'\n",
    "    else:\n",
    "        month=int(df[df['unq_ndc']==ndc]['month'])\n",
    "        date=int(df[df['unq_ndc']==ndc]['date'])\n",
    "        year=int(df[df['unq_ndc']==ndc]['year'])\n",
    "        #print type(month),type(date),type(year)\n",
    "        print 'This drug was recalled on ',month,'/',date,'/',year\n",
    "    if (prediction==0):\n",
    "        print 'My model doesn\\'t predict this drug to be recalled.'\n",
    "    else:\n",
    "        print'My model predicts this drug will be recalled'\n",
    "    if int(target)==int(prediction):\n",
    "        print 'My model was correct in this instance.'\n",
    "    else:\n",
    "        print \"My model was incorrect in this instance\"\n",
    "\n",
    "    "
   ]
  },
  {
   "cell_type": "code",
   "execution_count": 120,
   "metadata": {},
   "outputs": [
    {
     "data": {
      "text/plain": [
       "0.52"
      ]
     },
     "execution_count": 120,
     "metadata": {},
     "output_type": "execute_result"
    }
   ],
   "source": []
  },
  {
   "cell_type": "code",
   "execution_count": 111,
   "metadata": {},
   "outputs": [
    {
     "data": {
      "text/plain": [
       "1    u carisoprodol carisoprodol carisoprodol caris...\n",
       "Name: spl_product_data_elements, dtype: object"
      ]
     },
     "execution_count": 111,
     "metadata": {},
     "output_type": "execute_result"
    }
   ],
   "source": [
    "df[df['unq_ndc']=='55045-1433']['spl_product_data_elements']"
   ]
  },
  {
   "cell_type": "code",
   "execution_count": 112,
   "metadata": {},
   "outputs": [
    {
     "name": "stdout",
     "output_type": "stream",
     "text": [
      "This drug's name is  medlin acetaminophen acetaminophen aceta\n",
      "This drug was recalled on  12 / 27 / 2013\n",
      "My model doesn't predict this drug to be recalled.\n",
      "My model was incorrect in this instance\n"
     ]
    }
   ],
   "source": [
    "ndc_printout('53329-641')"
   ]
  },
  {
   "cell_type": "code",
   "execution_count": 121,
   "metadata": {},
   "outputs": [],
   "source": [
    "true_positives=list(df[(df['target']==1)&df['predictions']==1]['spl_product_data_elements'])"
   ]
  },
  {
   "cell_type": "code",
   "execution_count": 90,
   "metadata": {},
   "outputs": [
    {
     "name": "stdout",
     "output_type": "stream",
     "text": [
      "0\n"
     ]
    }
   ],
   "source": [
    "target=df[df['unq_ndc']=='66336-706']['target']\n",
    "print target[0]"
   ]
  },
  {
   "cell_type": "code",
   "execution_count": 116,
   "metadata": {
    "collapsed": true
   },
   "outputs": [],
   "source": []
  },
  {
   "cell_type": "code",
   "execution_count": null,
   "metadata": {
    "collapsed": true
   },
   "outputs": [],
   "source": []
  }
 ],
 "metadata": {
  "kernelspec": {
   "display_name": "Python 2",
   "language": "python",
   "name": "python2"
  },
  "language_info": {
   "codemirror_mode": {
    "name": "ipython",
    "version": 2
   },
   "file_extension": ".py",
   "mimetype": "text/x-python",
   "name": "python",
   "nbconvert_exporter": "python",
   "pygments_lexer": "ipython2",
   "version": "2.7.13"
  }
 },
 "nbformat": 4,
 "nbformat_minor": 2
}
