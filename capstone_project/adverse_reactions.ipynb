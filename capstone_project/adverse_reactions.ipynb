{
 "cells": [
  {
   "cell_type": "code",
   "execution_count": 1,
   "metadata": {
    "collapsed": true
   },
   "outputs": [],
   "source": [
    "import pandas as pd\n",
    "import json"
   ]
  },
  {
   "cell_type": "code",
   "execution_count": 2,
   "metadata": {
    "collapsed": true
   },
   "outputs": [],
   "source": [
    "with open('drug-enforcement-0001-of-0001.json') as json_data:\n",
    "    d = json.load(json_data)"
   ]
  },
  {
   "cell_type": "code",
   "execution_count": 3,
   "metadata": {
    "collapsed": false
   },
   "outputs": [],
   "source": [
    "results= d['results']"
   ]
  },
  {
   "cell_type": "code",
   "execution_count": 4,
   "metadata": {
    "collapsed": false
   },
   "outputs": [
    {
     "data": {
      "text/plain": [
       "list"
      ]
     },
     "execution_count": 4,
     "metadata": {},
     "output_type": "execute_result"
    }
   ],
   "source": [
    "type(results)"
   ]
  },
  {
   "cell_type": "code",
   "execution_count": 5,
   "metadata": {
    "collapsed": true
   },
   "outputs": [],
   "source": [
    "df=pd.DataFrame(results)"
   ]
  },
  {
   "cell_type": "code",
   "execution_count": 12,
   "metadata": {
    "collapsed": false
   },
   "outputs": [
    {
     "data": {
      "text/html": [
       "<div>\n",
       "<table border=\"1\" class=\"dataframe\">\n",
       "  <thead>\n",
       "    <tr style=\"text-align: right;\">\n",
       "      <th></th>\n",
       "      <th>address_1</th>\n",
       "      <th>address_2</th>\n",
       "      <th>center_classification_date</th>\n",
       "      <th>city</th>\n",
       "      <th>classification</th>\n",
       "      <th>code_info</th>\n",
       "      <th>country</th>\n",
       "      <th>distribution_pattern</th>\n",
       "      <th>event_id</th>\n",
       "      <th>initial_firm_notification</th>\n",
       "      <th>...</th>\n",
       "      <th>product_type</th>\n",
       "      <th>reason_for_recall</th>\n",
       "      <th>recall_initiation_date</th>\n",
       "      <th>recall_number</th>\n",
       "      <th>recalling_firm</th>\n",
       "      <th>report_date</th>\n",
       "      <th>state</th>\n",
       "      <th>status</th>\n",
       "      <th>termination_date</th>\n",
       "      <th>voluntary_mandated</th>\n",
       "    </tr>\n",
       "  </thead>\n",
       "  <tbody>\n",
       "    <tr>\n",
       "      <th>2</th>\n",
       "      <td>12515 E 55th St Ste 100</td>\n",
       "      <td></td>\n",
       "      <td>20120618</td>\n",
       "      <td>Tulsa</td>\n",
       "      <td>Class I</td>\n",
       "      <td>PTC Drug Number: 4033.  PTC Batch Number: 65I...</td>\n",
       "      <td>United States</td>\n",
       "      <td>FL</td>\n",
       "      <td>61233</td>\n",
       "      <td>FAX</td>\n",
       "      <td>...</td>\n",
       "      <td>Drugs</td>\n",
       "      <td>Labeling: Label mix-up; Bottles labeled to con...</td>\n",
       "      <td>20101110</td>\n",
       "      <td>D-1385-2012</td>\n",
       "      <td>Physicians Total Care, Inc</td>\n",
       "      <td>20120627</td>\n",
       "      <td>OK</td>\n",
       "      <td>Terminated</td>\n",
       "      <td>20120724</td>\n",
       "      <td>Voluntary: Firm Initiated</td>\n",
       "    </tr>\n",
       "    <tr>\n",
       "      <th>41</th>\n",
       "      <td>275 N Field Dr</td>\n",
       "      <td></td>\n",
       "      <td>20120807</td>\n",
       "      <td>Lake Forest</td>\n",
       "      <td>Class I</td>\n",
       "      <td>Lot #07547LL, Exp 07/01/13</td>\n",
       "      <td>United States</td>\n",
       "      <td>Nationwide.</td>\n",
       "      <td>61847</td>\n",
       "      <td>Press Release</td>\n",
       "      <td>...</td>\n",
       "      <td>Drugs</td>\n",
       "      <td>Superpotent (Single Ingredient) Drug: Some of ...</td>\n",
       "      <td>20120512</td>\n",
       "      <td>D-1444-2012</td>\n",
       "      <td>Hospira Inc.</td>\n",
       "      <td>20120815</td>\n",
       "      <td>IL</td>\n",
       "      <td>Terminated</td>\n",
       "      <td>20150529</td>\n",
       "      <td>Voluntary: Firm Initiated</td>\n",
       "    </tr>\n",
       "    <tr>\n",
       "      <th>50</th>\n",
       "      <td>12515 E 55th St Ste 100</td>\n",
       "      <td></td>\n",
       "      <td>20120618</td>\n",
       "      <td>Tulsa</td>\n",
       "      <td>Class I</td>\n",
       "      <td>PTC Drug Number: 4973.  PTC Batch Number: 65J...</td>\n",
       "      <td>United States</td>\n",
       "      <td>FL</td>\n",
       "      <td>61233</td>\n",
       "      <td>FAX</td>\n",
       "      <td>...</td>\n",
       "      <td>Drugs</td>\n",
       "      <td>Labeling: Label mix-up; Bottles labeled to con...</td>\n",
       "      <td>20101110</td>\n",
       "      <td>D-1386-2012</td>\n",
       "      <td>Physicians Total Care, Inc</td>\n",
       "      <td>20120627</td>\n",
       "      <td>OK</td>\n",
       "      <td>Terminated</td>\n",
       "      <td>20120724</td>\n",
       "      <td>Voluntary: Firm Initiated</td>\n",
       "    </tr>\n",
       "    <tr>\n",
       "      <th>62</th>\n",
       "      <td>6001 McKinley Rd.</td>\n",
       "      <td></td>\n",
       "      <td>20120926</td>\n",
       "      <td>Brewerton</td>\n",
       "      <td>Class I</td>\n",
       "      <td>All lots.</td>\n",
       "      <td>United States</td>\n",
       "      <td>Nationwide</td>\n",
       "      <td>61256</td>\n",
       "      <td>E-Mail</td>\n",
       "      <td>...</td>\n",
       "      <td>Drugs</td>\n",
       "      <td>Marketed Without an Approved ANDA/NDA: presenc...</td>\n",
       "      <td>20120223</td>\n",
       "      <td>D-1700-2012</td>\n",
       "      <td>www.vitaminbestbuy.com</td>\n",
       "      <td>20121003</td>\n",
       "      <td>NY</td>\n",
       "      <td>Ongoing</td>\n",
       "      <td>NaN</td>\n",
       "      <td>Voluntary: Firm Initiated</td>\n",
       "    </tr>\n",
       "    <tr>\n",
       "      <th>201</th>\n",
       "      <td>6001 McKinley Rd.</td>\n",
       "      <td></td>\n",
       "      <td>20120926</td>\n",
       "      <td>Brewerton</td>\n",
       "      <td>Class I</td>\n",
       "      <td>All lots.</td>\n",
       "      <td>United States</td>\n",
       "      <td>Nationwide</td>\n",
       "      <td>61256</td>\n",
       "      <td>E-Mail</td>\n",
       "      <td>...</td>\n",
       "      <td>Drugs</td>\n",
       "      <td>Marketed Without an Approved ANDA/NDA: presenc...</td>\n",
       "      <td>20120223</td>\n",
       "      <td>D-1699-2012</td>\n",
       "      <td>www.vitaminbestbuy.com</td>\n",
       "      <td>20121003</td>\n",
       "      <td>NY</td>\n",
       "      <td>Ongoing</td>\n",
       "      <td>NaN</td>\n",
       "      <td>Voluntary: Firm Initiated</td>\n",
       "    </tr>\n",
       "  </tbody>\n",
       "</table>\n",
       "<p>5 rows × 25 columns</p>\n",
       "</div>"
      ],
      "text/plain": [
       "                   address_1 address_2 center_classification_date  \\\n",
       "2    12515 E 55th St Ste 100                             20120618   \n",
       "41            275 N Field Dr                             20120807   \n",
       "50   12515 E 55th St Ste 100                             20120618   \n",
       "62         6001 McKinley Rd.                             20120926   \n",
       "201        6001 McKinley Rd.                             20120926   \n",
       "\n",
       "            city classification  \\\n",
       "2          Tulsa        Class I   \n",
       "41   Lake Forest        Class I   \n",
       "50         Tulsa        Class I   \n",
       "62     Brewerton        Class I   \n",
       "201    Brewerton        Class I   \n",
       "\n",
       "                                             code_info        country  \\\n",
       "2     PTC Drug Number: 4033.  PTC Batch Number: 65I...  United States   \n",
       "41                          Lot #07547LL, Exp 07/01/13  United States   \n",
       "50    PTC Drug Number: 4973.  PTC Batch Number: 65J...  United States   \n",
       "62                                           All lots.  United States   \n",
       "201                                          All lots.  United States   \n",
       "\n",
       "    distribution_pattern event_id initial_firm_notification  \\\n",
       "2                     FL    61233                       FAX   \n",
       "41           Nationwide.    61847             Press Release   \n",
       "50                    FL    61233                       FAX   \n",
       "62            Nationwide    61256                    E-Mail   \n",
       "201           Nationwide    61256                    E-Mail   \n",
       "\n",
       "               ...             product_type  \\\n",
       "2              ...                    Drugs   \n",
       "41             ...                    Drugs   \n",
       "50             ...                    Drugs   \n",
       "62             ...                    Drugs   \n",
       "201            ...                    Drugs   \n",
       "\n",
       "                                     reason_for_recall recall_initiation_date  \\\n",
       "2    Labeling: Label mix-up; Bottles labeled to con...               20101110   \n",
       "41   Superpotent (Single Ingredient) Drug: Some of ...               20120512   \n",
       "50   Labeling: Label mix-up; Bottles labeled to con...               20101110   \n",
       "62   Marketed Without an Approved ANDA/NDA: presenc...               20120223   \n",
       "201  Marketed Without an Approved ANDA/NDA: presenc...               20120223   \n",
       "\n",
       "    recall_number              recalling_firm report_date state      status  \\\n",
       "2     D-1385-2012  Physicians Total Care, Inc    20120627    OK  Terminated   \n",
       "41    D-1444-2012                Hospira Inc.    20120815    IL  Terminated   \n",
       "50    D-1386-2012  Physicians Total Care, Inc    20120627    OK  Terminated   \n",
       "62    D-1700-2012      www.vitaminbestbuy.com    20121003    NY     Ongoing   \n",
       "201   D-1699-2012      www.vitaminbestbuy.com    20121003    NY     Ongoing   \n",
       "\n",
       "    termination_date         voluntary_mandated  \n",
       "2           20120724  Voluntary: Firm Initiated  \n",
       "41          20150529  Voluntary: Firm Initiated  \n",
       "50          20120724  Voluntary: Firm Initiated  \n",
       "62               NaN  Voluntary: Firm Initiated  \n",
       "201              NaN  Voluntary: Firm Initiated  \n",
       "\n",
       "[5 rows x 25 columns]"
      ]
     },
     "execution_count": 12,
     "metadata": {},
     "output_type": "execute_result"
    }
   ],
   "source": [
    "df[df['classification']=='Class I'].head()"
   ]
  },
  {
   "cell_type": "code",
   "execution_count": 21,
   "metadata": {
    "collapsed": false
   },
   "outputs": [],
   "source": [
    "df_ndc=df['code_info']"
   ]
  },
  {
   "cell_type": "code",
   "execution_count": 28,
   "metadata": {
    "collapsed": false
   },
   "outputs": [
    {
     "data": {
      "text/plain": [
       "u' Rx #:   0400257  '"
      ]
     },
     "execution_count": 28,
     "metadata": {},
     "output_type": "execute_result"
    }
   ],
   "source": [
    "df_ndc[6]"
   ]
  },
  {
   "cell_type": "code",
   "execution_count": null,
   "metadata": {
    "collapsed": true
   },
   "outputs": [],
   "source": []
  },
  {
   "cell_type": "code",
   "execution_count": null,
   "metadata": {
    "collapsed": true
   },
   "outputs": [],
   "source": []
  },
  {
   "cell_type": "code",
   "execution_count": 7,
   "metadata": {
    "collapsed": false
   },
   "outputs": [
    {
     "data": {
      "text/plain": [
       "Index([u'address_1', u'address_2', u'center_classification_date', u'city',\n",
       "       u'classification', u'code_info', u'country', u'distribution_pattern',\n",
       "       u'event_id', u'initial_firm_notification', u'more_code_info',\n",
       "       u'openfda', u'postal_code', u'product_description', u'product_quantity',\n",
       "       u'product_type', u'reason_for_recall', u'recall_initiation_date',\n",
       "       u'recall_number', u'recalling_firm', u'report_date', u'state',\n",
       "       u'status', u'termination_date', u'voluntary_mandated'],\n",
       "      dtype='object')"
      ]
     },
     "execution_count": 7,
     "metadata": {},
     "output_type": "execute_result"
    }
   ],
   "source": [
    "df.columns"
   ]
  },
  {
   "cell_type": "code",
   "execution_count": 15,
   "metadata": {
    "collapsed": false
   },
   "outputs": [
    {
     "data": {
      "text/plain": [
       "u'Imodium Multi-Symptom Relief Caplets, Loperamide HCl 2 mg/Simethicone 125 mg, 18 count blister pack cartons, McNeil Consumer Healthcare, Div of McNeil-PPC Inc., Fort Washington, PA'"
      ]
     },
     "execution_count": 15,
     "metadata": {},
     "output_type": "execute_result"
    }
   ],
   "source": [
    "df.loc[0,'product_description']"
   ]
  },
  {
   "cell_type": "code",
   "execution_count": 47,
   "metadata": {
    "collapsed": false
   },
   "outputs": [
    {
     "ename": "IndexError",
     "evalue": "list index out of range",
     "output_type": "error",
     "traceback": [
      "\u001b[0;31m----------------------------------------------------------------------\u001b[0m",
      "\u001b[0;31mIndexError\u001b[0m                           Traceback (most recent call last)",
      "\u001b[0;32m<ipython-input-47-ad14271a6929>\u001b[0m in \u001b[0;36m<module>\u001b[0;34m()\u001b[0m\n\u001b[0;32m----> 1\u001b[0;31m \u001b[0mnew_df\u001b[0m\u001b[0;34m[\u001b[0m\u001b[0;36m0\u001b[0m\u001b[0;34m]\u001b[0m\u001b[0;34m[\u001b[0m\u001b[0;34m'drug'\u001b[0m\u001b[0;34m]\u001b[0m\u001b[0;34m[\u001b[0m\u001b[0;36m3\u001b[0m\u001b[0;34m]\u001b[0m\u001b[0;34m\u001b[0m\u001b[0m\n\u001b[0m",
      "\u001b[0;31mIndexError\u001b[0m: list index out of range"
     ]
    }
   ],
   "source": [
    "new_df[0]['drug'][3]"
   ]
  },
  {
   "cell_type": "code",
   "execution_count": 35,
   "metadata": {
    "collapsed": false
   },
   "outputs": [
    {
     "data": {
      "text/plain": [
       "[u'reaction',\n",
       " u'patientonsetage',\n",
       " u'patientsex',\n",
       " u'patientonsetageunit',\n",
       " u'drug']"
      ]
     },
     "execution_count": 35,
     "metadata": {},
     "output_type": "execute_result"
    }
   ],
   "source": [
    "new_df[1].keys()"
   ]
  },
  {
   "cell_type": "code",
   "execution_count": 29,
   "metadata": {
    "collapsed": false
   },
   "outputs": [
    {
     "ename": "AttributeError",
     "evalue": "'module' object has no attribute 'DateFrame'",
     "output_type": "error",
     "traceback": [
      "\u001b[0;31m----------------------------------------------------------------------\u001b[0m",
      "\u001b[0;31mAttributeError\u001b[0m                       Traceback (most recent call last)",
      "\u001b[0;32m<ipython-input-29-31dfd9ca0ae2>\u001b[0m in \u001b[0;36m<module>\u001b[0;34m()\u001b[0m\n\u001b[0;32m----> 1\u001b[0;31m \u001b[0mnew_df\u001b[0m\u001b[0;34m=\u001b[0m\u001b[0mpd\u001b[0m\u001b[0;34m.\u001b[0m\u001b[0mDateFrame\u001b[0m\u001b[0;34m(\u001b[0m\u001b[0mnew_df\u001b[0m\u001b[0;34m)\u001b[0m\u001b[0;34m\u001b[0m\u001b[0m\n\u001b[0m",
      "\u001b[0;31mAttributeError\u001b[0m: 'module' object has no attribute 'DateFrame'"
     ]
    }
   ],
   "source": [
    "new_df=pd.DateFrame(new_df)"
   ]
  },
  {
   "cell_type": "code",
   "execution_count": null,
   "metadata": {
    "collapsed": true
   },
   "outputs": [],
   "source": []
  }
 ],
 "metadata": {
  "kernelspec": {
   "display_name": "Python 2",
   "language": "python",
   "name": "python2"
  },
  "language_info": {
   "codemirror_mode": {
    "name": "ipython",
    "version": 2
   },
   "file_extension": ".py",
   "mimetype": "text/x-python",
   "name": "python",
   "nbconvert_exporter": "python",
   "pygments_lexer": "ipython2",
   "version": "2.7.13"
  }
 },
 "nbformat": 4,
 "nbformat_minor": 2
}
