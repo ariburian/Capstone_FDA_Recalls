{
 "cells": [
  {
   "cell_type": "code",
   "execution_count": 1,
   "metadata": {
    "collapsed": true
   },
   "outputs": [],
   "source": [
    "import pandas as pd"
   ]
  },
  {
   "cell_type": "code",
   "execution_count": 2,
   "metadata": {
    "collapsed": true
   },
   "outputs": [],
   "source": [
    "df=pd.read_csv('drug_enforcement_class_1_2016.csv')\n"
   ]
  },
  {
   "cell_type": "code",
   "execution_count": 3,
   "metadata": {},
   "outputs": [
    {
     "data": {
      "text/plain": [
       "Index([u'Product Type', u'Event ID', u'Status', u'Recalling Firm', u'Address1',\n",
       "       u'Address2', u'City', u'State/Province', u'Postal Code', u'Country',\n",
       "       u'Voluntary/Mandated',\n",
       "       u'Initial Firm Notification of Consignee or Public',\n",
       "       u'Distribution Pattern', u'Recall Number', u'Classification',\n",
       "       u'Product Description', u'Product Quantity', u'Reason for Recall',\n",
       "       u'Recall Initiation Date', u'Center Classification Date',\n",
       "       u'Termination Date', u'Code Info'],\n",
       "      dtype='object')"
      ]
     },
     "execution_count": 3,
     "metadata": {},
     "output_type": "execute_result"
    }
   ],
   "source": [
    "df.columns"
   ]
  },
  {
   "cell_type": "code",
   "execution_count": 33,
   "metadata": {},
   "outputs": [
    {
     "name": "stdout",
     "output_type": "stream",
     "text": [
      "Product Type Drugs\n",
      "Event ID 67531\n",
      "Status Terminated\n",
      "Recalling Firm Medisca Inc\n",
      "Address1 661 State Route 3 \n",
      "Address2 Unit C\n",
      "City Plattsburgh\n",
      "State/Province NY\n",
      "Postal Code 12901-6531\n",
      "Country United States\n",
      "Voluntary/Mandated Voluntary: Firm Initiated\n",
      "Initial Firm Notification of Consignee or Public Two or more of the following: Email, Fax, Letter, Press Release, Telephone, Visit\n",
      "Distribution Pattern Nationwide and Australia\n",
      "Recall Number D-0674-2016\n",
      "Classification Class I\n",
      "Product Description CITRULLINE (L) in 25 g, 100 g, 500 g and 1 kg plastic bottles, White crystals or crystalline powder, odorless, For Use and distribution in prescription compounding, manufacturing, processing, or repackaging only in accordance with FDA regulations and applicable law, Packaged by Medisca Inc. Plattsburgh, NY 12901, USA, NDC #s: 38779-1186-4 (25 g), 38779-1186-5 (100 g), 38779-1186-8 (500 g), 38779-1186-9 (1 kg).\n",
      "Product Quantity 25 g: 15 bottles, 100 g: 153 bottles; 500 g: 18 bottles, 1 kg: 24 bottles\n",
      "Reason for Recall Labeling: Label Mix-Up: FDA tested samples of API from Medisca, labeled as to contain L-Citrulline, and results revealed no L-Citrulline was present. Levels of N-acetyl-leucine were found instead.\n",
      "Recall Initiation Date 02/14/2014\n",
      "Center Classification Date 02/17/2016\n",
      "Termination Date 02/17/2016\n",
      "Code Info  Lot #s: 95482/A, 95482/B, 95482/C, 95482/D, 96453/A, 96453/B, 96453/C, and 96453/D, Exp. 10/31/2014 \n",
      "unq_ndc 38779-1186-4\n"
     ]
    }
   ],
   "source": [
    "for col in df.columns:\n",
    "    print col, df[col][0]"
   ]
  },
  {
   "cell_type": "code",
   "execution_count": 11,
   "metadata": {},
   "outputs": [
    {
     "name": "stdout",
     "output_type": "stream",
     "text": [
      "CITRULLINE (L) in 25 g, 100 g, 500 g and 1 kg plastic bottles, White crystals or crystalline powder, odorless, For Use and distribution in prescription compounding, manufacturing, processing, or repackaging only in accordance with FDA regulations and applicable law, Packaged by Medisca Inc. Plattsburgh, NY 12901, USA, NDC #s: 38779-1186-4 (25 g), 38779-1186-5 (100 g), 38779-1186-8 (500 g), 38779-1186-9 (1 kg). \n",
      "\n",
      "Asset BOLD Capsules, 500 mg, 60-count bottles, Distributed by Descor, LLC www.assetcapsules4u.com  \n",
      "\n",
      "Asset extreme+PLUS Capsules,  500 mg, 30-count bottles, Distributed by Descor, LLC www.assetcapsules4u.com  www.allnaturalbeelievers.com \n",
      "\n",
      "EVOLVE BEE POLLEN Capsules, 250mg, 60-count bottles, Manufactured for 2637 E. Atlantic Blvd, Pompano Beach, Florida, 33062 WWW.BEEEXTREMELYAMAZED.COM \n",
      "\n",
      "Infinity Capsules, 500 mg, 30-count bottle, Manufactured for Floyd Nutrition  \n",
      "\n",
      "Jenesis Capsules, 350 mg,  60-count bottles, Manufactured for Timeless Solutions 1810 E. Sahara Ave #100 Las Vegas, Nevada 89104 \n",
      "\n",
      "La' Trim Plus Capsules, 350 mg,  60-count bottles, Manufactured for: MWN Health 37 N Orange Ave Suite 500 Orlando, FL 32801 (407) 930-4043 \n",
      "\n",
      "Oasis Capsules,  500mg, 45-count bottles, Manufactured for: MWN Health 37 N Orange Ave Suite 500 Orlando FL 32801 (407)930-4043 \n",
      "\n",
      "Prime Capsules, 500mg, 60-count bottles, Distributed By Zagonfly 3129 25th St. #392 Columbus, IN 47203 \n",
      "\n",
      "SlimeX-15 Capsules, 15 mg, 30-count bottles, Marketed by: Signature Pharmaceuticals Ltd. MUMBAI-400-030 Manufactured in India by: HAB Pharmaceuticals & Research Limited 10-Pharma City, SIDCUL, Selaqui, Dehradun, 248 197  \n",
      "\n",
      "SLIM TRIM U Capsules, 250mg, 60-count bottles, Manufactured for Floyd Nutrition \n",
      "\n",
      "Ultimate Formula Capsules, 250mg, 48-count bottles, Manufactured for: Zi Xiu Tang Success, LLC Trexlertown, PA 18087, USA www.zixiutangsuccess.com  \n",
      "\n",
      "XCEL Capsules, 300 mg, 60-count bottles, Manufactured for JNS Health  \n",
      "\n",
      "XCEL ADVANCED Capsules, 350mg, 60-count bottles, Manufactured for JNS Health \n",
      "\n",
      "ZI XIU TANG BEAUTY FACE & FIGURE Capsules,  250 mg,  60-count bottles \n",
      "\n",
      "Smart Lipo Dietary Supplement capsules, 800 mg, packaged in 30-count plastic bottle, Distributed by: SmartLipo365, Arlington, TX 76011 \n",
      "\n",
      "Smart Lipo Dietary Supplement capsules, 900 mg, packaged in 30-count plastic bottle,  Distributed by: SmartLipo365, Arlington, TX 76011 \n",
      "\n",
      "Akttive High Performance Fat Burner Gold dietary supplement capsules, 30-count bottle, Distributed by Life and More, L.L.C., Doral, Florida   \n",
      "\n",
      "Thin and Slim Fataway Ultimate Stack with Chromium, packaged per 120 capsules.  Distributed by Dale H Enterprises Inc. Lewisburg, PA 17837, www.fataway.org. \n",
      "\n",
      "The People's Chemist Thermo FX Barely Legal Thermogenic Aid, packaged in 90 capsule containers.  Manufactured by TPC, LLC, www.thepeopleschemist.com. \n",
      "\n",
      "Thin and Slim MaxOut Body Max Out FX Fat Burner with Ephedra packaged in containers of 60 capsules.  Distributed by Teamtrade, Inc., Ft. Lauderdale, FL. 1-866-MaxOut www.MaxOutBODY.com. \n",
      "\n",
      "MetaPro 360 Metabolic Accelerator Dietary Supplement packaged in 120 capsule containers.  www.metapro360.com 877-778-7509. \n",
      "\n",
      "Thin and Slim Burn Fat Now Dietary Supplement packaged in 90 capsule containers.  http://www.secretsofherbs.com.  Made in the USA. \n",
      "\n",
      "The Store Thin and Slim Thermogenic Fat Burner Dietary Supplement packaged in 90 capsule containers. Distributed by The Store 2050 E. 6200 S., Holladay, UT 84121, The Store Holliday, 4695 S.Holladay Blvd, Holladay, UT 84117, The Store Midway, 42 W. Main Street, Midway, UT 84049. \n",
      "\n",
      "TruTrim (product not labeled) \n",
      "\n",
      "Thin and Slim Naturally The Natural Alternative AM Dietary Supplement packaged in 90 capsule containers. Distributed by TSN Labs Inc., P.O. Box 38, Midvale, UT 84047, 1-800-769-7290, www.tsn2000.com \n",
      "\n",
      "Thin and Slim Extreme Stack Fat Burner Dietary Supplement packaged in 90 capsule containers.  TSN Labs Inc., P.O. Box 38, Midvale, UT 84047, 1-800-769-7290, www.tsn2000.com \n",
      "\n",
      "Asia Black 25 Ephedra Extreme Fat Burner Potent Dietary Supplement packaged in 100 capsule containers. Distributed by Cloma Pharma Laboratories, Samford, CT 06902. \n",
      "\n",
      "Black Widow 25 Ephedra Super Potent Fat Burner Dietary Supplement packaged in 100 capsule containers. Distributed by Cloma Pharma Laboratories, Samford, CT 06902. \n",
      "\n",
      "Methyldrene Original 25 Ephedra ECA Stack Extra-Potent Fat Burner Dietary Supplement packaged in 100 capsule containers.  Distributed by Cloma Pharma Laboratories, Samford, CT 06902. \n",
      "\n",
      "Xcellerator (product not labeled) \n",
      "\n",
      "fentaNYL citrate in 0.9% Sodium Chloride Injection, 10 mcg/1 mL (10 mcg/mL), in 1 mL Syringe, Rx Only, Cantrell Drug Co., Little Rock, AR --- NDC 52533-024-45, UPC: 0100352533024450 \n",
      "\n",
      "Atropine Sulfate Injection Solution, 0.4 mg/1 mL (0.4 mg/mL),  in a) 1 mL syringes and b) 2 mL syringes, Rx Only, Cantrell Drug Co., Little Rock, AR --- NDC 52533-010-45, UPC: 0100352533010453  \n",
      "\n",
      "fentaNYL Citrate 1 MCG/mL in 0.9% Sodium Chloride Injection, in 3 mL Syringe, Rx Only, Cantrell Drug Co., Little Rock, AR --- UPC: 9999992131 \n",
      "\n",
      "fentaNYL CITRATE 25 mcg/mL in 5% DEXTROSE Injection, in 2 mL Syringe, Rx Only, Cantrell Drug Co., Little Rock AR --- UPC: 9999993301 \n",
      "\n",
      "fentaNYL citrate in 0.9% Sodium Chloride Injection, 5 mcg/1 mL (5 mcg/mL), in a) 1 mL syringe (NDC 52533-214-45, UPC: 0100352533214455) and b) 3 mL syringe (NDC 52533-214-60, UPC: 0100352533214608), Rx Only, Cantrell Drug Co., Little Rock, AR \n",
      "\n",
      "fentaNYL CITRATE 4 MCG/mL in 0.9% SODIUM CHLORIDE Injection, in 1 mL Syringe, Rx Only, Cantrell Drug Co., Little Rock, AR ---  UPC: 9999993491 \n",
      "\n",
      "fentaNYL Citrate 50 mcg/mL in Sterile Water for Injection, packaged in 2 mL syringe, Rx Only, Cantrell Drug Co., Little Rock, AR --- NDC 52533-074-16, UPC: 0100352533074165 \n",
      "\n",
      "Zero Xtreme High Performance Fat Burner capsules, 30-count bottle, Distributed by Xtreme Z Distributors, Inc., Miami, FL 33180 \n",
      "\n",
      "Pink Bikini Strong Formula capsules, 750 mg, packaged in 30-count plastic bottle, Manufactured and Distributed by: Lucy's Weight Loss System, Arlington, Texas 76010 \n",
      "\n"
     ]
    }
   ],
   "source": [
    "for num in range(40):\n",
    "    print df['Product Description'][num],'\\n'"
   ]
  },
  {
   "cell_type": "code",
   "execution_count": 5,
   "metadata": {},
   "outputs": [
    {
     "name": "stdout",
     "output_type": "stream",
     "text": [
      "CITRULLINE (L) in 25 g, 100 g, 500 g and 1 kg plastic bottles, White crystals or crystalline powder, odorless, For Use and distribution in prescription compounding, manufacturing, processing, or repackaging only in accordance with FDA regulations and applicable law, Packaged by Medisca Inc. Plattsburgh, NY 12901, USA, NDC #s: 38779-1186-4 (25 g), 38779-1186-5 (100 g), 38779-1186-8 (500 g), 38779-1186-9 (1 kg).\n",
      " Lot #s: 95482/A, 95482/B, 95482/C, 95482/D, 96453/A, 96453/B, 96453/C, and 96453/D, Exp. 10/31/2014 \n"
     ]
    }
   ],
   "source": [
    "print df['Product Description'][0]\n",
    "print df['Code Info'][0]"
   ]
  },
  {
   "cell_type": "code",
   "execution_count": 6,
   "metadata": {},
   "outputs": [
    {
     "name": "stdout",
     "output_type": "stream",
     "text": [
      "0    D-0674-2016\n",
      "1    D-1138-2016\n",
      "2    D-1139-2016\n",
      "3    D-1140-2016\n",
      "4    D-1141-2016\n",
      "Name: Recall Number, dtype: object\n"
     ]
    }
   ],
   "source": [
    "print df['Recall Number'].head()"
   ]
  },
  {
   "cell_type": "code",
   "execution_count": 29,
   "metadata": {},
   "outputs": [
    {
     "name": "stdout",
     "output_type": "stream",
     "text": [
      "fentaNYL Citrate 50 mcg/mL in Sterile Water for Injection, packaged in 2 mL syringe, Rx Only, Cantrell Drug Co., Little Rock, AR --- NDC 52533-074-16, UPC: 0100352533074165\n"
     ]
    }
   ],
   "source": [
    "print df['Product Description'][37]"
   ]
  },
  {
   "cell_type": "code",
   "execution_count": 26,
   "metadata": {
    "collapsed": true
   },
   "outputs": [],
   "source": [
    "def get_ndc(value):\n",
    "    value_split=value.split(' ')\n",
    "    for i,item in enumerate(value_split):\n",
    "        if (item=='NDC'):\n",
    "            if ('#' in value_split[i+1]):\n",
    "                ndc_num=value_split[i+2]\n",
    "            else:\n",
    "                ndc_num=value_split[i+1]\n",
    "            return ndc_num"
   ]
  },
  {
   "cell_type": "code",
   "execution_count": 27,
   "metadata": {
    "collapsed": true
   },
   "outputs": [],
   "source": [
    "df['unq_ndc']=df['Product Description'].apply(get_ndc)"
   ]
  },
  {
   "cell_type": "code",
   "execution_count": 32,
   "metadata": {},
   "outputs": [
    {
     "data": {
      "text/plain": [
       "'Amikacin Sulfate injection USP,1 gm/4 mL (250 mg/mL)  4mL vial, Rx only, Manufactured in Hungary For: Teva Pharmaceuticals USA, INC. North Wales, PA 19454. Individual Pack NDC 0703-9040-01, Shelf Pack NDC 0703-9040-03'"
      ]
     },
     "execution_count": 32,
     "metadata": {},
     "output_type": "execute_result"
    }
   ],
   "source": [
    "df['Product Description'][100]"
   ]
  },
  {
   "cell_type": "code",
   "execution_count": 31,
   "metadata": {},
   "outputs": [
    {
     "data": {
      "text/plain": [
       "0       38779-1186-4\n",
       "1               None\n",
       "2               None\n",
       "3               None\n",
       "4               None\n",
       "5               None\n",
       "6               None\n",
       "7               None\n",
       "8               None\n",
       "9               None\n",
       "10              None\n",
       "11              None\n",
       "12              None\n",
       "13              None\n",
       "14              None\n",
       "15              None\n",
       "16              None\n",
       "17              None\n",
       "18              None\n",
       "19              None\n",
       "20              None\n",
       "21              None\n",
       "22              None\n",
       "23              None\n",
       "24              None\n",
       "25              None\n",
       "26              None\n",
       "27              None\n",
       "28              None\n",
       "29              None\n",
       "           ...      \n",
       "100    0703-9040-01,\n",
       "101             None\n",
       "102             None\n",
       "103    00264-1510-32\n",
       "104     0409-6625-02\n",
       "105             None\n",
       "106             None\n",
       "107    0409-2168-02,\n",
       "108             None\n",
       "109             None\n",
       "110             None\n",
       "111             None\n",
       "112             None\n",
       "113             None\n",
       "114             None\n",
       "115     0536-0590-85\n",
       "116             None\n",
       "117    53462-915-50;\n",
       "118    24338-700-10.\n",
       "119             None\n",
       "120     0409-1159-02\n",
       "121             None\n",
       "122             None\n",
       "123     0169-7065-15\n",
       "124    76439-309-10.\n",
       "125    76439-307-10.\n",
       "126    76439-308-10.\n",
       "127             None\n",
       "128             None\n",
       "129             None\n",
       "Name: unq_ndc, dtype: object"
      ]
     },
     "execution_count": 31,
     "metadata": {},
     "output_type": "execute_result"
    }
   ],
   "source": [
    "df['unq_ndc']"
   ]
  },
  {
   "cell_type": "code",
   "execution_count": 34,
   "metadata": {
    "collapsed": true
   },
   "outputs": [],
   "source": [
    "df_merge=df[['Recall Initiation Date','unq_ndc']]"
   ]
  },
  {
   "cell_type": "code",
   "execution_count": 39,
   "metadata": {},
   "outputs": [
    {
     "data": {
      "text/plain": [
       "1322719200.0"
      ]
     },
     "execution_count": 39,
     "metadata": {},
     "output_type": "execute_result"
    }
   ],
   "source": [
    "import time\n",
    "import datetime\n",
    "date = \"01/12/2011\"\n",
    "time.mktime(datetime.datetime.strptime(date, \"%d/%m/%Y\").timetuple())"
   ]
  },
  {
   "cell_type": "code",
   "execution_count": 40,
   "metadata": {},
   "outputs": [
    {
     "data": {
      "text/html": [
       "<div>\n",
       "<table border=\"1\" class=\"dataframe\">\n",
       "  <thead>\n",
       "    <tr style=\"text-align: right;\">\n",
       "      <th></th>\n",
       "      <th>Recall Initiation Date</th>\n",
       "      <th>unq_ndc</th>\n",
       "    </tr>\n",
       "  </thead>\n",
       "  <tbody>\n",
       "    <tr>\n",
       "      <th>0</th>\n",
       "      <td>02/14/2014</td>\n",
       "      <td>38779-1186-4</td>\n",
       "    </tr>\n",
       "    <tr>\n",
       "      <th>1</th>\n",
       "      <td>12/15/2015</td>\n",
       "      <td>None</td>\n",
       "    </tr>\n",
       "    <tr>\n",
       "      <th>2</th>\n",
       "      <td>12/15/2015</td>\n",
       "      <td>None</td>\n",
       "    </tr>\n",
       "    <tr>\n",
       "      <th>3</th>\n",
       "      <td>12/15/2015</td>\n",
       "      <td>None</td>\n",
       "    </tr>\n",
       "    <tr>\n",
       "      <th>4</th>\n",
       "      <td>12/15/2015</td>\n",
       "      <td>None</td>\n",
       "    </tr>\n",
       "  </tbody>\n",
       "</table>\n",
       "</div>"
      ],
      "text/plain": [
       "  Recall Initiation Date       unq_ndc\n",
       "0             02/14/2014  38779-1186-4\n",
       "1             12/15/2015          None\n",
       "2             12/15/2015          None\n",
       "3             12/15/2015          None\n",
       "4             12/15/2015          None"
      ]
     },
     "execution_count": 40,
     "metadata": {},
     "output_type": "execute_result"
    }
   ],
   "source": [
    "df_merge.head()"
   ]
  },
  {
   "cell_type": "code",
   "execution_count": 47,
   "metadata": {},
   "outputs": [],
   "source": [
    "def time_to_unix(date):\n",
    "    unix_time=time.mktime(datetime.datetime.strptime(date, \"%m/%d/%Y\").timetuple())\n",
    "    return unix_time"
   ]
  },
  {
   "cell_type": "code",
   "execution_count": 48,
   "metadata": {},
   "outputs": [
    {
     "name": "stderr",
     "output_type": "stream",
     "text": [
      "/Users/ariburian/anaconda2/lib/python2.7/site-packages/ipykernel/__main__.py:1: SettingWithCopyWarning: \n",
      "A value is trying to be set on a copy of a slice from a DataFrame.\n",
      "Try using .loc[row_indexer,col_indexer] = value instead\n",
      "\n",
      "See the caveats in the documentation: http://pandas.pydata.org/pandas-docs/stable/indexing.html#indexing-view-versus-copy\n",
      "  if __name__ == '__main__':\n"
     ]
    }
   ],
   "source": [
    "df_merge['unix']=df_merge['Recall Initiation Date'].apply(time_to_unix)"
   ]
  },
  {
   "cell_type": "code",
   "execution_count": 51,
   "metadata": {},
   "outputs": [
    {
     "data": {
      "text/plain": [
       "Recall Initiation Date      02/14/2014\n",
       "unq_ndc                   38779-1186-4\n",
       "unix                       1.39236e+09\n",
       "Name: 0, dtype: object"
      ]
     },
     "execution_count": 51,
     "metadata": {},
     "output_type": "execute_result"
    }
   ],
   "source": [
    "df_merge.iloc[0,:]"
   ]
  },
  {
   "cell_type": "code",
   "execution_count": null,
   "metadata": {
    "collapsed": true
   },
   "outputs": [],
   "source": []
  },
  {
   "cell_type": "code",
   "execution_count": 36,
   "metadata": {
    "collapsed": true
   },
   "outputs": [],
   "source": [
    "df1=pd.read_csv('drug_enforcement_class_1_2016.csv')\n",
    "df2=pd.read_csv('drug_enforcement_class_2_2016.csv')\n",
    "df3=pd.read_csv('drug_enforcement_class_3_2016.csv')\n"
   ]
  },
  {
   "cell_type": "code",
   "execution_count": null,
   "metadata": {
    "collapsed": true
   },
   "outputs": [],
   "source": []
  },
  {
   "cell_type": "code",
   "execution_count": null,
   "metadata": {
    "collapsed": true
   },
   "outputs": [],
   "source": []
  },
  {
   "cell_type": "code",
   "execution_count": 37,
   "metadata": {},
   "outputs": [
    {
     "name": "stdout",
     "output_type": "stream",
     "text": [
      "130\n",
      "918\n",
      "168\n"
     ]
    }
   ],
   "source": [
    "print len(df1)\n",
    "print len(df2)\n",
    "print len(df3)"
   ]
  },
  {
   "cell_type": "code",
   "execution_count": null,
   "metadata": {
    "collapsed": true
   },
   "outputs": [],
   "source": []
  }
 ],
 "metadata": {
  "kernelspec": {
   "display_name": "Python 2",
   "language": "python",
   "name": "python2"
  },
  "language_info": {
   "codemirror_mode": {
    "name": "ipython",
    "version": 2
   },
   "file_extension": ".py",
   "mimetype": "text/x-python",
   "name": "python",
   "nbconvert_exporter": "python",
   "pygments_lexer": "ipython2",
   "version": "2.7.13"
  }
 },
 "nbformat": 4,
 "nbformat_minor": 2
}
