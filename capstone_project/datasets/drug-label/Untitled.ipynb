{
 "cells": [
  {
   "cell_type": "code",
   "execution_count": 1,
   "metadata": {
    "collapsed": true
   },
   "outputs": [],
   "source": [
    "import pandas as pd"
   ]
  },
  {
   "cell_type": "code",
   "execution_count": 3,
   "metadata": {
    "collapsed": false
   },
   "outputs": [],
   "source": [
    "df=pd.read_csv('drug_labels.csv')"
   ]
  },
  {
   "cell_type": "code",
   "execution_count": 6,
   "metadata": {
    "collapsed": false
   },
   "outputs": [
    {
     "name": "stdout",
     "output_type": "stream",
     "text": [
      "<class 'pandas.core.frame.DataFrame'>\n",
      "RangeIndex: 105446 entries, 0 to 105445\n",
      "Data columns (total 56 columns):\n",
      "Unnamed: 0                                                    105446 non-null int64\n",
      "Unnamed: 0.1                                                  105446 non-null int64\n",
      "active_ingredient                                             61645 non-null object\n",
      "adverse_reactions                                             41742 non-null object\n",
      "adverse_reactions_table                                       18552 non-null object\n",
      "ask_doctor                                                    20735 non-null object\n",
      "ask_doctor_or_pharmacist                                      11258 non-null object\n",
      "boxed_warning                                                 14656 non-null object\n",
      "carcinogenesis_and_mutagenesis_and_impairment_of_fertility    27725 non-null object\n",
      "clinical_pharmacology                                         39806 non-null object\n",
      "clinical_pharmacology_table                                   12961 non-null object\n",
      "clinical_studies                                              18028 non-null object\n",
      "clinical_studies_table                                        10807 non-null object\n",
      "contraindications                                             40469 non-null object\n",
      "description                                                   43328 non-null object\n",
      "do_not_use                                                    25192 non-null object\n",
      "dosage_and_administration                                     99318 non-null object\n",
      "dosage_and_administration_table                               19681 non-null object\n",
      "dosage_forms_and_strengths                                    12502 non-null object\n",
      "drug_interactions                                             29223 non-null object\n",
      "general_precautions                                           16217 non-null object\n",
      "geriatric_use                                                 24675 non-null object\n",
      "how_supplied                                                  40538 non-null object\n",
      "id                                                            105446 non-null object\n",
      "inactive_ingredient                                           61791 non-null object\n",
      "indications_and_usage                                         99819 non-null object\n",
      "information_for_patients                                      28939 non-null object\n",
      "keep_out_of_reach_of_children                                 59189 non-null object\n",
      "mechanism_of_action                                           14489 non-null object\n",
      "nonclinical_toxicology                                        12230 non-null object\n",
      "nursing_mothers                                               29417 non-null object\n",
      "openfda                                                       105446 non-null object\n",
      "overdosage                                                    37686 non-null object\n",
      "package_label_principal_display_panel                         104818 non-null object\n",
      "pediatric_use                                                 30345 non-null object\n",
      "pharmacodynamics                                              11190 non-null object\n",
      "pharmacokinetics                                              19733 non-null object\n",
      "precautions                                                   28040 non-null object\n",
      "pregnancy                                                     30358 non-null object\n",
      "pregnancy_or_breast_feeding                                   18049 non-null object\n",
      "purpose                                                       59503 non-null object\n",
      "questions                                                     31622 non-null object\n",
      "set_id                                                        105446 non-null object\n",
      "spl_product_data_elements                                     104907 non-null object\n",
      "spl_unclassified_section                                      44675 non-null object\n",
      "stop_use                                                      33819 non-null object\n",
      "storage_and_handling                                          33090 non-null object\n",
      "teratogenic_effects                                           11255 non-null object\n",
      "use_in_specific_populations                                   13140 non-null object\n",
      "version                                                       105446 non-null int64\n",
      "warnings                                                      86546 non-null object\n",
      "warnings_and_cautions                                         14773 non-null object\n",
      "when_using                                                    27164 non-null object\n",
      "date                                                          105446 non-null int64\n",
      "month                                                         105446 non-null int64\n",
      "year                                                          105446 non-null int64\n",
      "dtypes: int64(6), object(50)\n",
      "memory usage: 45.1+ MB\n"
     ]
    }
   ],
   "source": [
    "df.info()"
   ]
  },
  {
   "cell_type": "code",
   "execution_count": 7,
   "metadata": {
    "collapsed": false
   },
   "outputs": [
    {
     "data": {
      "text/plain": [
       "0    8e3b29b0-d3a8-409a-b397-53dbbbcda094\n",
       "1    b677267d-45ce-4f08-ac90-2bb6dcde8978\n",
       "2    c6186507-f747-4c2e-950f-03472a27ea5d\n",
       "3    cd521887-2c6e-428f-8e86-08ab9338ce2b\n",
       "4    2e75d6fc-9c0c-4520-9e52-3f668ccd815a\n",
       "Name: set_id, dtype: object"
      ]
     },
     "execution_count": 7,
     "metadata": {},
     "output_type": "execute_result"
    }
   ],
   "source": [
    "df['set_id'].head()"
   ]
  },
  {
   "cell_type": "code",
   "execution_count": 9,
   "metadata": {
    "collapsed": false
   },
   "outputs": [
    {
     "data": {
      "text/plain": [
       "<bound method Series.value_counts of 0         2013\n",
       "1         2013\n",
       "2         2013\n",
       "3         2013\n",
       "4         2013\n",
       "5         2013\n",
       "6         2013\n",
       "7         2013\n",
       "8         2013\n",
       "9         2013\n",
       "10        2013\n",
       "11        2014\n",
       "12        2014\n",
       "13        2014\n",
       "14        2014\n",
       "15        2014\n",
       "16        2014\n",
       "17        2014\n",
       "18        2014\n",
       "19        2014\n",
       "20        2013\n",
       "21        2014\n",
       "22        2014\n",
       "23        2010\n",
       "24        2010\n",
       "25        2014\n",
       "26        2014\n",
       "27        2014\n",
       "28        2012\n",
       "29        2014\n",
       "          ... \n",
       "105416    2017\n",
       "105417    2017\n",
       "105418    2017\n",
       "105419    2017\n",
       "105420    2017\n",
       "105421    2017\n",
       "105422    2017\n",
       "105423    2017\n",
       "105424    2017\n",
       "105425    2016\n",
       "105426    2017\n",
       "105427    2017\n",
       "105428    2016\n",
       "105429    2017\n",
       "105430    2017\n",
       "105431    2017\n",
       "105432    2017\n",
       "105433    2017\n",
       "105434    2015\n",
       "105435    2016\n",
       "105436    2017\n",
       "105437    2017\n",
       "105438    2017\n",
       "105439    2017\n",
       "105440    2017\n",
       "105441    2017\n",
       "105442    2017\n",
       "105443    2017\n",
       "105444    2017\n",
       "105445    2017\n",
       "Name: year, dtype: int64>"
      ]
     },
     "execution_count": 9,
     "metadata": {},
     "output_type": "execute_result"
    }
   ],
   "source": [
    "df['year'].value_counts"
   ]
  },
  {
   "cell_type": "code",
   "execution_count": null,
   "metadata": {
    "collapsed": true
   },
   "outputs": [],
   "source": []
  }
 ],
 "metadata": {
  "kernelspec": {
   "display_name": "Python 2",
   "language": "python",
   "name": "python2"
  },
  "language_info": {
   "codemirror_mode": {
    "name": "ipython",
    "version": 2
   },
   "file_extension": ".py",
   "mimetype": "text/x-python",
   "name": "python",
   "nbconvert_exporter": "python",
   "pygments_lexer": "ipython2",
   "version": "2.7.13"
  }
 },
 "nbformat": 4,
 "nbformat_minor": 2
}
