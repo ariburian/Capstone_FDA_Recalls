{
 "cells": [
  {
   "cell_type": "code",
   "execution_count": 1,
   "metadata": {
    "collapsed": true
   },
   "outputs": [],
   "source": [
    "import pandas as pd\n",
    "import numpy as np"
   ]
  },
  {
   "cell_type": "code",
   "execution_count": 2,
   "metadata": {
    "collapsed": false
   },
   "outputs": [],
   "source": [
    "df=pd.read_csv('part1.csv',low_memory=False)"
   ]
  },
  {
   "cell_type": "code",
   "execution_count": 3,
   "metadata": {
    "collapsed": false
   },
   "outputs": [
    {
     "name": "stdout",
     "output_type": "stream",
     "text": [
      "(20000, 140)\n",
      "Unnamed: 0                                                              0\n",
      "abuse                                                               19603\n",
      "active_ingredient                                                    7119\n",
      "active_ingredient_table                                             19433\n",
      "adverse_reactions                                                   13230\n",
      "adverse_reactions_table                                             17245\n",
      "animal_pharmacology_and_or_toxicology                               19268\n",
      "animal_pharmacology_and_or_toxicology_table                         19998\n",
      "ask_doctor                                                          16517\n",
      "ask_doctor_or_pharmacist                                            18256\n",
      "ask_doctor_or_pharmacist_table                                      19999\n",
      "assembly_or_installation_instructions                               19999\n",
      "boxed_warning                                                       17762\n",
      "boxed_warning_table                                                 19995\n",
      "carcinogenesis_and_mutagenesis_and_impairment_of_fertility          15532\n",
      "carcinogenesis_and_mutagenesis_and_impairment_of_fertility_table    19986\n",
      "cleaning                                                            19999\n",
      "clinical_pharmacology                                               13675\n",
      "clinical_pharmacology_table                                         17954\n",
      "clinical_studies                                                    17361\n",
      "clinical_studies_table                                              18481\n",
      "components                                                          19998\n",
      "contraindications                                                   13564\n",
      "contraindications_table                                             19987\n",
      "controlled_substance                                                19503\n",
      "dependence                                                          19618\n",
      "description                                                         13083\n",
      "description_table                                                   19664\n",
      "disposal_and_waste_handling                                         19994\n",
      "do_not_use                                                          15139\n",
      "                                                                    ...  \n",
      "set_id                                                                  0\n",
      "spl_indexing_data_elements                                          19998\n",
      "spl_medguide                                                        18867\n",
      "spl_medguide_table                                                  19482\n",
      "spl_patient_package_insert                                          19267\n",
      "spl_patient_package_insert_table                                    19817\n",
      "spl_product_data_elements                                             362\n",
      "spl_unclassified_section                                            11723\n",
      "spl_unclassified_section_table                                      19487\n",
      "statement_of_identity                                               19984\n",
      "statement_of_identity_table                                         19999\n",
      "stop_use                                                            13499\n",
      "stop_use_table                                                      19989\n",
      "storage_and_handling                                                13924\n",
      "storage_and_handling_table                                          19984\n",
      "summary_of_safety_and_effectiveness                                 19997\n",
      "teratogenic_effects                                                 18042\n",
      "teratogenic_effects_table                                           19999\n",
      "troubleshooting                                                     19995\n",
      "use_in_specific_populations                                         18225\n",
      "use_in_specific_populations_table                                   19905\n",
      "user_safety_warnings                                                19976\n",
      "version                                                                 0\n",
      "veterinary_indications                                              19997\n",
      "warnings                                                             2915\n",
      "warnings_and_cautions                                               17842\n",
      "warnings_and_cautions_table                                         19621\n",
      "warnings_table                                                      19569\n",
      "when_using                                                          14779\n",
      "when_using_table                                                    19998\n",
      "dtype: int64\n"
     ]
    }
   ],
   "source": [
    "print df.shape\n",
    "print df.isnull().sum()"
   ]
  },
  {
   "cell_type": "code",
   "execution_count": 4,
   "metadata": {
    "collapsed": false
   },
   "outputs": [
    {
     "name": "stdout",
     "output_type": "stream",
     "text": [
      "0    64218455-e1e2-4e40-bd32-5002d2d1555d\n",
      "1    667d0cdd-ff0b-45fa-a089-d7f563bbbda8\n",
      "2    d7c4676c-f865-4bc5-89bd-358d53e65fd1\n",
      "3    927d3dc1-d4f8-41c6-95fe-5fa83588fcff\n",
      "4    f002a62a-bf93-4ec8-b88a-91683b3e19ce\n",
      "Name: id, dtype: object\n"
     ]
    }
   ],
   "source": [
    "print df['id'].head()"
   ]
  },
  {
   "cell_type": "code",
   "execution_count": null,
   "metadata": {
    "collapsed": true
   },
   "outputs": [],
   "source": []
  },
  {
   "cell_type": "code",
   "execution_count": null,
   "metadata": {
    "collapsed": true
   },
   "outputs": [],
   "source": []
  },
  {
   "cell_type": "code",
   "execution_count": 21,
   "metadata": {
    "collapsed": false
   },
   "outputs": [
    {
     "name": "stdout",
     "output_type": "stream",
     "text": [
      "[u'glycerin']\n",
      "<type 'str'>\n"
     ]
    }
   ],
   "source": [
    "print df['active_ingredient'][100]\n",
    "print type(df['active_ingredient'][100])"
   ]
  },
  {
   "cell_type": "code",
   "execution_count": 14,
   "metadata": {
    "collapsed": true
   },
   "outputs": [
    {
     "name": "stdout",
     "output_type": "stream",
     "text": [
      "Unnamed: 0                                                        0\n",
      "active_ingredient                                              7119\n",
      "adverse_reactions                                             13230\n",
      "adverse_reactions_table                                       17245\n",
      "ask_doctor                                                    16517\n",
      "boxed_warning                                                 17762\n",
      "carcinogenesis_and_mutagenesis_and_impairment_of_fertility    15532\n",
      "clinical_pharmacology                                         13675\n",
      "clinical_pharmacology_table                                   17954\n",
      "clinical_studies                                              17361\n",
      "contraindications                                             13564\n",
      "description                                                   13083\n",
      "do_not_use                                                    15139\n",
      "dosage_and_administration                                      1088\n",
      "dosage_and_administration_table                               16844\n",
      "drug_interactions                                             15419\n",
      "effective_time                                                    0\n",
      "general_precautions                                           17035\n",
      "geriatric_use                                                 16105\n",
      "how_supplied                                                  13570\n",
      "id                                                                0\n",
      "inactive_ingredient                                            7075\n",
      "indications_and_usage                                           981\n",
      "information_for_patients                                      15431\n",
      "keep_out_of_reach_of_children                                  7581\n",
      "mechanism_of_action                                           17996\n",
      "nursing_mothers                                               15124\n",
      "openfda                                                           0\n",
      "overdosage                                                    13986\n",
      "package_label_principal_display_panel                           404\n",
      "pediatric_use                                                 15109\n",
      "pharmacokinetics                                              17129\n",
      "precautions                                                   15235\n",
      "pregnancy                                                     15145\n",
      "pregnancy_or_breast_feeding                                   16564\n",
      "purpose                                                        7397\n",
      "questions                                                     13859\n",
      "set_id                                                            0\n",
      "spl_product_data_elements                                       362\n",
      "spl_unclassified_section                                      11723\n",
      "stop_use                                                      13499\n",
      "storage_and_handling                                          13924\n",
      "version                                                           0\n",
      "warnings                                                       2915\n",
      "warnings_and_cautions                                         17842\n",
      "when_using                                                    14779\n",
      "dtype: int64\n"
     ]
    }
   ],
   "source": [
    "for col in df.columns:\n",
    "    if df[col].isnull().sum()>=18000:\n",
    "        df=df.drop(col,axis=1)\n",
    "        \n",
    "print df.isnull().sum()"
   ]
  },
  {
   "cell_type": "code",
   "execution_count": 1,
   "metadata": {
    "collapsed": false
   },
   "outputs": [
    {
     "ename": "NameError",
     "evalue": "name 'df' is not defined",
     "output_type": "error",
     "traceback": [
      "\u001b[0;31m----------------------------------------------------------------------\u001b[0m",
      "\u001b[0;31mNameError\u001b[0m                            Traceback (most recent call last)",
      "\u001b[0;32m<ipython-input-1-0fe90f8063b0>\u001b[0m in \u001b[0;36m<module>\u001b[0;34m()\u001b[0m\n\u001b[0;32m----> 1\u001b[0;31m \u001b[0mdf\u001b[0m\u001b[0;34m.\u001b[0m\u001b[0mshape\u001b[0m\u001b[0;34m\u001b[0m\u001b[0m\n\u001b[0m",
      "\u001b[0;31mNameError\u001b[0m: name 'df' is not defined"
     ]
    }
   ],
   "source": [
    "df.shape"
   ]
  },
  {
   "cell_type": "code",
   "execution_count": 16,
   "metadata": {
    "collapsed": false
   },
   "outputs": [
    {
     "name": "stdout",
     "output_type": "stream",
     "text": [
      "<class 'pandas.core.frame.DataFrame'>\n",
      "RangeIndex: 20000 entries, 0 to 19999\n",
      "Data columns (total 46 columns):\n",
      "Unnamed: 0                                                    20000 non-null int64\n",
      "active_ingredient                                             12881 non-null object\n",
      "adverse_reactions                                             6770 non-null object\n",
      "adverse_reactions_table                                       2755 non-null object\n",
      "ask_doctor                                                    3483 non-null object\n",
      "boxed_warning                                                 2238 non-null object\n",
      "carcinogenesis_and_mutagenesis_and_impairment_of_fertility    4468 non-null object\n",
      "clinical_pharmacology                                         6325 non-null object\n",
      "clinical_pharmacology_table                                   2046 non-null object\n",
      "clinical_studies                                              2639 non-null object\n",
      "contraindications                                             6436 non-null object\n",
      "description                                                   6917 non-null object\n",
      "do_not_use                                                    4861 non-null object\n",
      "dosage_and_administration                                     18912 non-null object\n",
      "dosage_and_administration_table                               3156 non-null object\n",
      "drug_interactions                                             4581 non-null object\n",
      "effective_time                                                20000 non-null int64\n",
      "general_precautions                                           2965 non-null object\n",
      "geriatric_use                                                 3895 non-null object\n",
      "how_supplied                                                  6430 non-null object\n",
      "id                                                            20000 non-null object\n",
      "inactive_ingredient                                           12925 non-null object\n",
      "indications_and_usage                                         19019 non-null object\n",
      "information_for_patients                                      4569 non-null object\n",
      "keep_out_of_reach_of_children                                 12419 non-null object\n",
      "mechanism_of_action                                           2004 non-null object\n",
      "nursing_mothers                                               4876 non-null object\n",
      "openfda                                                       20000 non-null object\n",
      "overdosage                                                    6014 non-null object\n",
      "package_label_principal_display_panel                         19596 non-null object\n",
      "pediatric_use                                                 4891 non-null object\n",
      "pharmacokinetics                                              2871 non-null object\n",
      "precautions                                                   4765 non-null object\n",
      "pregnancy                                                     4855 non-null object\n",
      "pregnancy_or_breast_feeding                                   3436 non-null object\n",
      "purpose                                                       12603 non-null object\n",
      "questions                                                     6141 non-null object\n",
      "set_id                                                        20000 non-null object\n",
      "spl_product_data_elements                                     19638 non-null object\n",
      "spl_unclassified_section                                      8277 non-null object\n",
      "stop_use                                                      6501 non-null object\n",
      "storage_and_handling                                          6076 non-null object\n",
      "version                                                       20000 non-null int64\n",
      "warnings                                                      17085 non-null object\n",
      "warnings_and_cautions                                         2158 non-null object\n",
      "when_using                                                    5221 non-null object\n",
      "dtypes: int64(3), object(43)\n",
      "memory usage: 7.0+ MB\n"
     ]
    }
   ],
   "source": [
    "df.info()"
   ]
  },
  {
   "cell_type": "code",
   "execution_count": 20,
   "metadata": {
    "collapsed": false
   },
   "outputs": [
    {
     "data": {
      "text/plain": [
       "0    20130703\n",
       "1    20130702\n",
       "2    20130702\n",
       "3    20130711\n",
       "4    20130708\n",
       "Name: effective_time, dtype: int64"
      ]
     },
     "execution_count": 20,
     "metadata": {},
     "output_type": "execute_result"
    }
   ],
   "source": [
    "df['effective_time'].head()"
   ]
  },
  {
   "cell_type": "code",
   "execution_count": 21,
   "metadata": {
    "collapsed": true
   },
   "outputs": [],
   "source": [
    "def get_cal_date(value):\n",
    "    year=value[0:4]\n",
    "    month=value[4:6]\n",
    "    date=value[6:8]\n",
    "    return date,month,year"
   ]
  },
  {
   "cell_type": "code",
   "execution_count": 27,
   "metadata": {
    "collapsed": false
   },
   "outputs": [],
   "source": [
    "df['effective_time']=df['effective_time'].apply(lambda x: str(x))\n",
    "df['date']=df['effective_time'].apply(lambda x: int(x[6:8]))\n",
    "df['month']=df['effective_time'].apply(lambda x: int(x[4:6]))\n",
    "df['year']=df['effective_time'].apply(lambda x: int(x[0:4]))"
   ]
  },
  {
   "cell_type": "code",
   "execution_count": 28,
   "metadata": {
    "collapsed": false
   },
   "outputs": [
    {
     "data": {
      "text/html": [
       "<div>\n",
       "<table border=\"1\" class=\"dataframe\">\n",
       "  <thead>\n",
       "    <tr style=\"text-align: right;\">\n",
       "      <th></th>\n",
       "      <th>Unnamed: 0</th>\n",
       "      <th>active_ingredient</th>\n",
       "      <th>adverse_reactions</th>\n",
       "      <th>adverse_reactions_table</th>\n",
       "      <th>ask_doctor</th>\n",
       "      <th>boxed_warning</th>\n",
       "      <th>carcinogenesis_and_mutagenesis_and_impairment_of_fertility</th>\n",
       "      <th>clinical_pharmacology</th>\n",
       "      <th>clinical_pharmacology_table</th>\n",
       "      <th>clinical_studies</th>\n",
       "      <th>...</th>\n",
       "      <th>spl_unclassified_section</th>\n",
       "      <th>stop_use</th>\n",
       "      <th>storage_and_handling</th>\n",
       "      <th>version</th>\n",
       "      <th>warnings</th>\n",
       "      <th>warnings_and_cautions</th>\n",
       "      <th>when_using</th>\n",
       "      <th>date</th>\n",
       "      <th>month</th>\n",
       "      <th>year</th>\n",
       "    </tr>\n",
       "  </thead>\n",
       "  <tbody>\n",
       "    <tr>\n",
       "      <th>0</th>\n",
       "      <td>0</td>\n",
       "      <td>NaN</td>\n",
       "      <td>[u'6 ADVERSE REACTIONS Adults: Most common adv...</td>\n",
       "      <td>NaN</td>\n",
       "      <td>NaN</td>\n",
       "      <td>NaN</td>\n",
       "      <td>[u'13.1 Carcinogenesis, Mutagenesis, Impairmen...</td>\n",
       "      <td>[u'12 CLINICAL PHARMACOLOGY 12.1 Mechanism of ...</td>\n",
       "      <td>[u'&lt;table border=\"0\" width=\"805.000\" ID=\"id_22...</td>\n",
       "      <td>[u'14 CLINICAL STUDIES 14.1 Duodenal Ulcer Dis...</td>\n",
       "      <td>...</td>\n",
       "      <td>NaN</td>\n",
       "      <td>NaN</td>\n",
       "      <td>NaN</td>\n",
       "      <td>1</td>\n",
       "      <td>NaN</td>\n",
       "      <td>[u'5 WARNINGS AND PRECAUTIONS Symptomatic resp...</td>\n",
       "      <td>NaN</td>\n",
       "      <td>3</td>\n",
       "      <td>7</td>\n",
       "      <td>2013</td>\n",
       "    </tr>\n",
       "    <tr>\n",
       "      <th>1</th>\n",
       "      <td>1</td>\n",
       "      <td>NaN</td>\n",
       "      <td>[u'6 ADVERSE REACTIONS Most common adverse rea...</td>\n",
       "      <td>[u'&lt;table&gt; &lt;caption&gt;Table 1. Patients with Adv...</td>\n",
       "      <td>NaN</td>\n",
       "      <td>NaN</td>\n",
       "      <td>[u'13.1 Carcinogenesis, Mutagenesis, Impairmen...</td>\n",
       "      <td>[u'12 CLINICAL PHARMACOLOGY 12.1 Mechanism of ...</td>\n",
       "      <td>[u'&lt;table&gt; &lt;caption&gt;Table 2. Pharmacokinetic P...</td>\n",
       "      <td>[u'14 CLINICAL STUDIES The safety and efficacy...</td>\n",
       "      <td>...</td>\n",
       "      <td>NaN</td>\n",
       "      <td>NaN</td>\n",
       "      <td>[u'Storage: Store at 20\\xb0 to 25\\xb0C (68\\xb0...</td>\n",
       "      <td>1</td>\n",
       "      <td>NaN</td>\n",
       "      <td>[u'5 WARNINGS AND PRECAUTIONS Due to sedative ...</td>\n",
       "      <td>NaN</td>\n",
       "      <td>2</td>\n",
       "      <td>7</td>\n",
       "      <td>2013</td>\n",
       "    </tr>\n",
       "    <tr>\n",
       "      <th>2</th>\n",
       "      <td>2</td>\n",
       "      <td>NaN</td>\n",
       "      <td>[u'ADVERSE REACTIONS (listed alphabetically, u...</td>\n",
       "      <td>NaN</td>\n",
       "      <td>NaN</td>\n",
       "      <td>NaN</td>\n",
       "      <td>[u'Carcinogenesis, Mutagenesis, Impairment of ...</td>\n",
       "      <td>[u\"CLINICAL PHARMACOLOGY Glucocorticoids, natu...</td>\n",
       "      <td>NaN</td>\n",
       "      <td>NaN</td>\n",
       "      <td>...</td>\n",
       "      <td>[u'Rx only', u\"DOSAGE AND ADMINISTRATION For O...</td>\n",
       "      <td>NaN</td>\n",
       "      <td>NaN</td>\n",
       "      <td>1</td>\n",
       "      <td>[u\"WARNINGS General Rare instances of anaphyla...</td>\n",
       "      <td>NaN</td>\n",
       "      <td>NaN</td>\n",
       "      <td>2</td>\n",
       "      <td>7</td>\n",
       "      <td>2013</td>\n",
       "    </tr>\n",
       "    <tr>\n",
       "      <th>3</th>\n",
       "      <td>3</td>\n",
       "      <td>[u'adenosine']</td>\n",
       "      <td>NaN</td>\n",
       "      <td>NaN</td>\n",
       "      <td>NaN</td>\n",
       "      <td>NaN</td>\n",
       "      <td>NaN</td>\n",
       "      <td>NaN</td>\n",
       "      <td>NaN</td>\n",
       "      <td>NaN</td>\n",
       "      <td>...</td>\n",
       "      <td>NaN</td>\n",
       "      <td>NaN</td>\n",
       "      <td>NaN</td>\n",
       "      <td>1</td>\n",
       "      <td>[u'\\u25a0 discontinue use if the following abn...</td>\n",
       "      <td>NaN</td>\n",
       "      <td>NaN</td>\n",
       "      <td>11</td>\n",
       "      <td>7</td>\n",
       "      <td>2013</td>\n",
       "    </tr>\n",
       "    <tr>\n",
       "      <th>4</th>\n",
       "      <td>4</td>\n",
       "      <td>NaN</td>\n",
       "      <td>[u'ADVERSE REACTIONS: In general, the adverse ...</td>\n",
       "      <td>[u'&lt;table&gt; &lt;caption&gt;Table 4: Adverse Experienc...</td>\n",
       "      <td>NaN</td>\n",
       "      <td>NaN</td>\n",
       "      <td>NaN</td>\n",
       "      <td>[u'CLINICAL PHARMACOLOGY: Mechanism of Action:...</td>\n",
       "      <td>[u'&lt;table&gt; &lt;caption&gt;Table 1: Comparisons of th...</td>\n",
       "      <td>NaN</td>\n",
       "      <td>...</td>\n",
       "      <td>NaN</td>\n",
       "      <td>NaN</td>\n",
       "      <td>NaN</td>\n",
       "      <td>11</td>\n",
       "      <td>[u'WARNINGS: Sinus Node Disease and AV Block: ...</td>\n",
       "      <td>NaN</td>\n",
       "      <td>NaN</td>\n",
       "      <td>8</td>\n",
       "      <td>7</td>\n",
       "      <td>2013</td>\n",
       "    </tr>\n",
       "  </tbody>\n",
       "</table>\n",
       "<p>5 rows × 49 columns</p>\n",
       "</div>"
      ],
      "text/plain": [
       "   Unnamed: 0 active_ingredient  \\\n",
       "0           0               NaN   \n",
       "1           1               NaN   \n",
       "2           2               NaN   \n",
       "3           3    [u'adenosine']   \n",
       "4           4               NaN   \n",
       "\n",
       "                                   adverse_reactions  \\\n",
       "0  [u'6 ADVERSE REACTIONS Adults: Most common adv...   \n",
       "1  [u'6 ADVERSE REACTIONS Most common adverse rea...   \n",
       "2  [u'ADVERSE REACTIONS (listed alphabetically, u...   \n",
       "3                                                NaN   \n",
       "4  [u'ADVERSE REACTIONS: In general, the adverse ...   \n",
       "\n",
       "                             adverse_reactions_table ask_doctor boxed_warning  \\\n",
       "0                                                NaN        NaN           NaN   \n",
       "1  [u'<table> <caption>Table 1. Patients with Adv...        NaN           NaN   \n",
       "2                                                NaN        NaN           NaN   \n",
       "3                                                NaN        NaN           NaN   \n",
       "4  [u'<table> <caption>Table 4: Adverse Experienc...        NaN           NaN   \n",
       "\n",
       "  carcinogenesis_and_mutagenesis_and_impairment_of_fertility  \\\n",
       "0  [u'13.1 Carcinogenesis, Mutagenesis, Impairmen...           \n",
       "1  [u'13.1 Carcinogenesis, Mutagenesis, Impairmen...           \n",
       "2  [u'Carcinogenesis, Mutagenesis, Impairment of ...           \n",
       "3                                                NaN           \n",
       "4                                                NaN           \n",
       "\n",
       "                               clinical_pharmacology  \\\n",
       "0  [u'12 CLINICAL PHARMACOLOGY 12.1 Mechanism of ...   \n",
       "1  [u'12 CLINICAL PHARMACOLOGY 12.1 Mechanism of ...   \n",
       "2  [u\"CLINICAL PHARMACOLOGY Glucocorticoids, natu...   \n",
       "3                                                NaN   \n",
       "4  [u'CLINICAL PHARMACOLOGY: Mechanism of Action:...   \n",
       "\n",
       "                         clinical_pharmacology_table  \\\n",
       "0  [u'<table border=\"0\" width=\"805.000\" ID=\"id_22...   \n",
       "1  [u'<table> <caption>Table 2. Pharmacokinetic P...   \n",
       "2                                                NaN   \n",
       "3                                                NaN   \n",
       "4  [u'<table> <caption>Table 1: Comparisons of th...   \n",
       "\n",
       "                                    clinical_studies  ...   \\\n",
       "0  [u'14 CLINICAL STUDIES 14.1 Duodenal Ulcer Dis...  ...    \n",
       "1  [u'14 CLINICAL STUDIES The safety and efficacy...  ...    \n",
       "2                                                NaN  ...    \n",
       "3                                                NaN  ...    \n",
       "4                                                NaN  ...    \n",
       "\n",
       "                            spl_unclassified_section stop_use  \\\n",
       "0                                                NaN      NaN   \n",
       "1                                                NaN      NaN   \n",
       "2  [u'Rx only', u\"DOSAGE AND ADMINISTRATION For O...      NaN   \n",
       "3                                                NaN      NaN   \n",
       "4                                                NaN      NaN   \n",
       "\n",
       "                                storage_and_handling version  \\\n",
       "0                                                NaN       1   \n",
       "1  [u'Storage: Store at 20\\xb0 to 25\\xb0C (68\\xb0...       1   \n",
       "2                                                NaN       1   \n",
       "3                                                NaN       1   \n",
       "4                                                NaN      11   \n",
       "\n",
       "                                            warnings  \\\n",
       "0                                                NaN   \n",
       "1                                                NaN   \n",
       "2  [u\"WARNINGS General Rare instances of anaphyla...   \n",
       "3  [u'\\u25a0 discontinue use if the following abn...   \n",
       "4  [u'WARNINGS: Sinus Node Disease and AV Block: ...   \n",
       "\n",
       "                               warnings_and_cautions when_using date month  \\\n",
       "0  [u'5 WARNINGS AND PRECAUTIONS Symptomatic resp...        NaN    3     7   \n",
       "1  [u'5 WARNINGS AND PRECAUTIONS Due to sedative ...        NaN    2     7   \n",
       "2                                                NaN        NaN    2     7   \n",
       "3                                                NaN        NaN   11     7   \n",
       "4                                                NaN        NaN    8     7   \n",
       "\n",
       "   year  \n",
       "0  2013  \n",
       "1  2013  \n",
       "2  2013  \n",
       "3  2013  \n",
       "4  2013  \n",
       "\n",
       "[5 rows x 49 columns]"
      ]
     },
     "execution_count": 28,
     "metadata": {},
     "output_type": "execute_result"
    }
   ],
   "source": [
    "df.head()"
   ]
  },
  {
   "cell_type": "code",
   "execution_count": null,
   "metadata": {
    "collapsed": true
   },
   "outputs": [],
   "source": []
  }
 ],
 "metadata": {
  "kernelspec": {
   "display_name": "Python 2",
   "language": "python",
   "name": "python2"
  },
  "language_info": {
   "codemirror_mode": {
    "name": "ipython",
    "version": 2
   },
   "file_extension": ".py",
   "mimetype": "text/x-python",
   "name": "python",
   "nbconvert_exporter": "python",
   "pygments_lexer": "ipython2",
   "version": "2.7.13"
  }
 },
 "nbformat": 4,
 "nbformat_minor": 2
}
