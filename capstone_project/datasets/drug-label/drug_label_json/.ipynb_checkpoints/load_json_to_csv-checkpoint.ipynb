{
 "cells": [
  {
   "cell_type": "code",
   "execution_count": 1,
   "metadata": {
    "collapsed": true
   },
   "outputs": [],
   "source": [
    "import pandas as pd \n",
    "\n",
    "import json\n",
    "\n",
    "filename='drug-label-0001-of-0006.json'"
   ]
  },
  {
   "cell_type": "code",
   "execution_count": 2,
   "metadata": {
    "collapsed": false
   },
   "outputs": [],
   "source": [
    "#url='https://api.fda.gov/drug/label.json'"
   ]
  },
  {
   "cell_type": "code",
   "execution_count": 3,
   "metadata": {
    "collapsed": false
   },
   "outputs": [],
   "source": [
    "with open('drug-label-0001-of-0006.json') as json_data:\n",
    "    d = json.load(json_data)\n"
   ]
  },
  {
   "cell_type": "code",
   "execution_count": 4,
   "metadata": {
    "collapsed": false
   },
   "outputs": [
    {
     "data": {
      "text/plain": [
       "[u'meta', u'results']"
      ]
     },
     "execution_count": 4,
     "metadata": {},
     "output_type": "execute_result"
    }
   ],
   "source": [
    "d.keys()"
   ]
  },
  {
   "cell_type": "code",
   "execution_count": 5,
   "metadata": {
    "collapsed": false
   },
   "outputs": [],
   "source": [
    "meta=d['meta']"
   ]
  },
  {
   "cell_type": "code",
   "execution_count": 6,
   "metadata": {
    "collapsed": false
   },
   "outputs": [
    {
     "data": {
      "text/plain": [
       "{u'disclaimer': u'Do not rely on openFDA to make decisions regarding medical care. While we make every effort to ensure that data is accurate, you should assume all results are unvalidated. We may limit or otherwise restrict your access to the API in line with our Terms of Service.',\n",
       " u'last_updated': u'2017-04-03',\n",
       " u'license': u'https://open.fda.gov/license/',\n",
       " u'results': {u'limit': 20000, u'skip': 0, u'total': 105446},\n",
       " u'terms': u'https://open.fda.gov/terms/'}"
      ]
     },
     "execution_count": 6,
     "metadata": {},
     "output_type": "execute_result"
    }
   ],
   "source": [
    "meta"
   ]
  },
  {
   "cell_type": "code",
   "execution_count": 7,
   "metadata": {
    "collapsed": false
   },
   "outputs": [],
   "source": [
    "x = d['results'][0]"
   ]
  },
  {
   "cell_type": "code",
   "execution_count": 8,
   "metadata": {
    "collapsed": false
   },
   "outputs": [
    {
     "data": {
      "text/plain": [
       "[u'package_label_principal_display_panel',\n",
       " u'openfda',\n",
       " u'carcinogenesis_and_mutagenesis_and_impairment_of_fertility',\n",
       " u'references',\n",
       " u'pregnancy',\n",
       " u'pharmacokinetics',\n",
       " u'drug_interactions',\n",
       " u'id',\n",
       " u'indications_and_usage',\n",
       " u'pharmacokinetics_table',\n",
       " u'pharmacodynamics_table',\n",
       " u'microbiology',\n",
       " u'contraindications',\n",
       " u'version',\n",
       " u'spl_medguide',\n",
       " u'pediatric_use',\n",
       " u'information_for_patients',\n",
       " u'dosage_forms_and_strengths',\n",
       " u'microbiology_table',\n",
       " u'recent_major_changes',\n",
       " u'description',\n",
       " u'dosage_and_administration',\n",
       " u'clinical_pharmacology_table',\n",
       " u'effective_time',\n",
       " u'mechanism_of_action',\n",
       " u'geriatric_use',\n",
       " u'adverse_reactions',\n",
       " u'clinical_pharmacology',\n",
       " u'clinical_studies',\n",
       " u'use_in_specific_populations',\n",
       " u'nonclinical_toxicology',\n",
       " u'spl_product_data_elements',\n",
       " u'clinical_studies_table',\n",
       " u'overdosage',\n",
       " u'pharmacodynamics',\n",
       " u'warnings_and_cautions',\n",
       " u'dosage_and_administration_table',\n",
       " u'set_id',\n",
       " u'how_supplied',\n",
       " u'nursing_mothers',\n",
       " u'animal_pharmacology_and_or_toxicology']"
      ]
     },
     "execution_count": 8,
     "metadata": {},
     "output_type": "execute_result"
    }
   ],
   "source": [
    "x.keys()"
   ]
  },
  {
   "cell_type": "code",
   "execution_count": 9,
   "metadata": {
    "collapsed": false
   },
   "outputs": [
    {
     "name": "stdout",
     "output_type": "stream",
     "text": [
      "package_label_principal_display_panel <type 'list'>\n",
      "openfda <type 'dict'>\n",
      "carcinogenesis_and_mutagenesis_and_impairment_of_fertility <type 'list'>\n",
      "references <type 'list'>\n",
      "pregnancy <type 'list'>\n",
      "pharmacokinetics <type 'list'>\n",
      "drug_interactions <type 'list'>\n",
      "id <type 'unicode'>\n",
      "indications_and_usage <type 'list'>\n",
      "pharmacokinetics_table <type 'list'>\n",
      "pharmacodynamics_table <type 'list'>\n",
      "microbiology <type 'list'>\n",
      "contraindications <type 'list'>\n",
      "version <type 'unicode'>\n",
      "spl_medguide <type 'list'>\n",
      "pediatric_use <type 'list'>\n",
      "information_for_patients <type 'list'>\n",
      "dosage_forms_and_strengths <type 'list'>\n",
      "microbiology_table <type 'list'>\n",
      "recent_major_changes <type 'list'>\n",
      "description <type 'list'>\n",
      "dosage_and_administration <type 'list'>\n",
      "clinical_pharmacology_table <type 'list'>\n",
      "effective_time <type 'unicode'>\n",
      "mechanism_of_action <type 'list'>\n",
      "geriatric_use <type 'list'>\n",
      "adverse_reactions <type 'list'>\n",
      "clinical_pharmacology <type 'list'>\n",
      "clinical_studies <type 'list'>\n",
      "use_in_specific_populations <type 'list'>\n",
      "nonclinical_toxicology <type 'list'>\n",
      "spl_product_data_elements <type 'list'>\n",
      "clinical_studies_table <type 'list'>\n",
      "overdosage <type 'list'>\n",
      "pharmacodynamics <type 'list'>\n",
      "warnings_and_cautions <type 'list'>\n",
      "dosage_and_administration_table <type 'list'>\n",
      "set_id <type 'unicode'>\n",
      "how_supplied <type 'list'>\n",
      "nursing_mothers <type 'list'>\n",
      "animal_pharmacology_and_or_toxicology <type 'list'>\n"
     ]
    }
   ],
   "source": [
    "for key in x.keys():\n",
    "    print key, type(x[key])"
   ]
  },
  {
   "cell_type": "code",
   "execution_count": 10,
   "metadata": {
    "collapsed": false
   },
   "outputs": [
    {
     "data": {
      "text/plain": [
       "41"
      ]
     },
     "execution_count": 10,
     "metadata": {},
     "output_type": "execute_result"
    }
   ],
   "source": [
    "len(x.keys())"
   ]
  },
  {
   "cell_type": "code",
   "execution_count": 46,
   "metadata": {
    "collapsed": false
   },
   "outputs": [
    {
     "ename": "AttributeError",
     "evalue": "'str' object has no attribute 'itervalues'",
     "output_type": "error",
     "traceback": [
      "\u001b[0;31m----------------------------------------------------------------------\u001b[0m",
      "\u001b[0;31mAttributeError\u001b[0m                       Traceback (most recent call last)",
      "\u001b[0;32m<ipython-input-46-a07f8cc16545>\u001b[0m in \u001b[0;36m<module>\u001b[0;34m()\u001b[0m\n\u001b[0;32m----> 1\u001b[0;31m \u001b[0mpd\u001b[0m\u001b[0;34m.\u001b[0m\u001b[0mio\u001b[0m\u001b[0;34m.\u001b[0m\u001b[0mjson\u001b[0m\u001b[0;34m.\u001b[0m\u001b[0mjson_normalize\u001b[0m\u001b[0;34m(\u001b[0m\u001b[0mfilename\u001b[0m\u001b[0;34m)\u001b[0m\u001b[0;34m\u001b[0m\u001b[0m\n\u001b[0m",
      "\u001b[0;32m/Users/ariburian/anaconda2/lib/python2.7/site-packages/pandas/io/json.pyc\u001b[0m in \u001b[0;36mjson_normalize\u001b[0;34m(data, record_path, meta, meta_prefix, record_prefix)\u001b[0m\n\u001b[1;32m    791\u001b[0m \u001b[0;34m\u001b[0m\u001b[0m\n\u001b[1;32m    792\u001b[0m     \u001b[0;32mif\u001b[0m \u001b[0mrecord_path\u001b[0m \u001b[0;32mis\u001b[0m \u001b[0mNone\u001b[0m\u001b[0;34m:\u001b[0m\u001b[0;34m\u001b[0m\u001b[0m\n\u001b[0;32m--> 793\u001b[0;31m         \u001b[0;32mif\u001b[0m \u001b[0many\u001b[0m\u001b[0;34m(\u001b[0m\u001b[0;34m[\u001b[0m\u001b[0misinstance\u001b[0m\u001b[0;34m(\u001b[0m\u001b[0mx\u001b[0m\u001b[0;34m,\u001b[0m \u001b[0mdict\u001b[0m\u001b[0;34m)\u001b[0m \u001b[0;32mfor\u001b[0m \u001b[0mx\u001b[0m \u001b[0;32min\u001b[0m \u001b[0mcompat\u001b[0m\u001b[0;34m.\u001b[0m\u001b[0mitervalues\u001b[0m\u001b[0;34m(\u001b[0m\u001b[0mdata\u001b[0m\u001b[0;34m[\u001b[0m\u001b[0;36m0\u001b[0m\u001b[0;34m]\u001b[0m\u001b[0;34m)\u001b[0m\u001b[0;34m]\u001b[0m\u001b[0;34m)\u001b[0m\u001b[0;34m:\u001b[0m\u001b[0;34m\u001b[0m\u001b[0m\n\u001b[0m\u001b[1;32m    794\u001b[0m             \u001b[0;31m# naive normalization, this is idempotent for flat records\u001b[0m\u001b[0;34m\u001b[0m\u001b[0;34m\u001b[0m\u001b[0m\n\u001b[1;32m    795\u001b[0m             \u001b[0;31m# and potentially will inflate the data considerably for\u001b[0m\u001b[0;34m\u001b[0m\u001b[0;34m\u001b[0m\u001b[0m\n",
      "\u001b[0;32m/Users/ariburian/anaconda2/lib/python2.7/site-packages/pandas/compat/__init__.pyc\u001b[0m in \u001b[0;36mitervalues\u001b[0;34m(obj, **kw)\u001b[0m\n\u001b[1;32m    169\u001b[0m \u001b[0;34m\u001b[0m\u001b[0m\n\u001b[1;32m    170\u001b[0m     \u001b[0;32mdef\u001b[0m \u001b[0mitervalues\u001b[0m\u001b[0;34m(\u001b[0m\u001b[0mobj\u001b[0m\u001b[0;34m,\u001b[0m \u001b[0;34m**\u001b[0m\u001b[0mkw\u001b[0m\u001b[0;34m)\u001b[0m\u001b[0;34m:\u001b[0m\u001b[0;34m\u001b[0m\u001b[0m\n\u001b[0;32m--> 171\u001b[0;31m         \u001b[0;32mreturn\u001b[0m \u001b[0mobj\u001b[0m\u001b[0;34m.\u001b[0m\u001b[0mitervalues\u001b[0m\u001b[0;34m(\u001b[0m\u001b[0;34m**\u001b[0m\u001b[0mkw\u001b[0m\u001b[0;34m)\u001b[0m\u001b[0;34m\u001b[0m\u001b[0m\n\u001b[0m\u001b[1;32m    172\u001b[0m \u001b[0;34m\u001b[0m\u001b[0m\n\u001b[1;32m    173\u001b[0m     \u001b[0mnext\u001b[0m \u001b[0;34m=\u001b[0m \u001b[0;32mlambda\u001b[0m \u001b[0mit\u001b[0m \u001b[0;34m:\u001b[0m \u001b[0mit\u001b[0m\u001b[0;34m.\u001b[0m\u001b[0mnext\u001b[0m\u001b[0;34m(\u001b[0m\u001b[0;34m)\u001b[0m\u001b[0;34m\u001b[0m\u001b[0m\n",
      "\u001b[0;31mAttributeError\u001b[0m: 'str' object has no attribute 'itervalues'"
     ]
    }
   ],
   "source": [
    "x['c']"
   ]
  },
  {
   "cell_type": "code",
   "execution_count": 50,
   "metadata": {
    "collapsed": true
   },
   "outputs": [],
   "source": [
    "results=d['results']"
   ]
  },
  {
   "cell_type": "code",
   "execution_count": 51,
   "metadata": {
    "collapsed": true
   },
   "outputs": [],
   "source": [
    "df=pd.DataFrame(results)"
   ]
  },
  {
   "cell_type": "code",
   "execution_count": 63,
   "metadata": {
    "collapsed": false
   },
   "outputs": [
    {
     "data": {
      "text/html": [
       "<div>\n",
       "<table border=\"1\" class=\"dataframe\">\n",
       "  <thead>\n",
       "    <tr style=\"text-align: right;\">\n",
       "      <th></th>\n",
       "      <th>abuse</th>\n",
       "      <th>active_ingredient</th>\n",
       "      <th>active_ingredient_table</th>\n",
       "      <th>adverse_reactions</th>\n",
       "      <th>adverse_reactions_table</th>\n",
       "      <th>animal_pharmacology_and_or_toxicology</th>\n",
       "      <th>animal_pharmacology_and_or_toxicology_table</th>\n",
       "      <th>ask_doctor</th>\n",
       "      <th>ask_doctor_or_pharmacist</th>\n",
       "      <th>ask_doctor_or_pharmacist_table</th>\n",
       "      <th>...</th>\n",
       "      <th>use_in_specific_populations_table</th>\n",
       "      <th>user_safety_warnings</th>\n",
       "      <th>version</th>\n",
       "      <th>veterinary_indications</th>\n",
       "      <th>warnings</th>\n",
       "      <th>warnings_and_cautions</th>\n",
       "      <th>warnings_and_cautions_table</th>\n",
       "      <th>warnings_table</th>\n",
       "      <th>when_using</th>\n",
       "      <th>when_using_table</th>\n",
       "    </tr>\n",
       "  </thead>\n",
       "  <tbody>\n",
       "    <tr>\n",
       "      <th>0</th>\n",
       "      <td>NaN</td>\n",
       "      <td>NaN</td>\n",
       "      <td>NaN</td>\n",
       "      <td>[6 ADVERSE REACTIONS Adults: Most common adver...</td>\n",
       "      <td>NaN</td>\n",
       "      <td>[13.2 Animal Toxicology and/or Pharmacology Re...</td>\n",
       "      <td>NaN</td>\n",
       "      <td>NaN</td>\n",
       "      <td>NaN</td>\n",
       "      <td>NaN</td>\n",
       "      <td>...</td>\n",
       "      <td>NaN</td>\n",
       "      <td>NaN</td>\n",
       "      <td>1</td>\n",
       "      <td>NaN</td>\n",
       "      <td>NaN</td>\n",
       "      <td>[5 WARNINGS AND PRECAUTIONS Symptomatic respon...</td>\n",
       "      <td>NaN</td>\n",
       "      <td>NaN</td>\n",
       "      <td>NaN</td>\n",
       "      <td>NaN</td>\n",
       "    </tr>\n",
       "    <tr>\n",
       "      <th>1</th>\n",
       "      <td>NaN</td>\n",
       "      <td>NaN</td>\n",
       "      <td>NaN</td>\n",
       "      <td>[6 ADVERSE REACTIONS Most common adverse react...</td>\n",
       "      <td>[&lt;table&gt; &lt;caption&gt;Table 1. Patients with Adver...</td>\n",
       "      <td>NaN</td>\n",
       "      <td>NaN</td>\n",
       "      <td>NaN</td>\n",
       "      <td>NaN</td>\n",
       "      <td>NaN</td>\n",
       "      <td>...</td>\n",
       "      <td>NaN</td>\n",
       "      <td>NaN</td>\n",
       "      <td>1</td>\n",
       "      <td>NaN</td>\n",
       "      <td>NaN</td>\n",
       "      <td>[5 WARNINGS AND PRECAUTIONS Due to sedative pr...</td>\n",
       "      <td>NaN</td>\n",
       "      <td>NaN</td>\n",
       "      <td>NaN</td>\n",
       "      <td>NaN</td>\n",
       "    </tr>\n",
       "    <tr>\n",
       "      <th>2</th>\n",
       "      <td>NaN</td>\n",
       "      <td>NaN</td>\n",
       "      <td>NaN</td>\n",
       "      <td>[ADVERSE REACTIONS (listed alphabetically, und...</td>\n",
       "      <td>NaN</td>\n",
       "      <td>NaN</td>\n",
       "      <td>NaN</td>\n",
       "      <td>NaN</td>\n",
       "      <td>NaN</td>\n",
       "      <td>NaN</td>\n",
       "      <td>...</td>\n",
       "      <td>NaN</td>\n",
       "      <td>NaN</td>\n",
       "      <td>1</td>\n",
       "      <td>NaN</td>\n",
       "      <td>[WARNINGS General Rare instances of anaphylact...</td>\n",
       "      <td>NaN</td>\n",
       "      <td>NaN</td>\n",
       "      <td>NaN</td>\n",
       "      <td>NaN</td>\n",
       "      <td>NaN</td>\n",
       "    </tr>\n",
       "    <tr>\n",
       "      <th>3</th>\n",
       "      <td>NaN</td>\n",
       "      <td>[adenosine]</td>\n",
       "      <td>NaN</td>\n",
       "      <td>NaN</td>\n",
       "      <td>NaN</td>\n",
       "      <td>NaN</td>\n",
       "      <td>NaN</td>\n",
       "      <td>NaN</td>\n",
       "      <td>NaN</td>\n",
       "      <td>NaN</td>\n",
       "      <td>...</td>\n",
       "      <td>NaN</td>\n",
       "      <td>NaN</td>\n",
       "      <td>1</td>\n",
       "      <td>NaN</td>\n",
       "      <td>[■ discontinue use if the following abnormal s...</td>\n",
       "      <td>NaN</td>\n",
       "      <td>NaN</td>\n",
       "      <td>NaN</td>\n",
       "      <td>NaN</td>\n",
       "      <td>NaN</td>\n",
       "    </tr>\n",
       "    <tr>\n",
       "      <th>4</th>\n",
       "      <td>NaN</td>\n",
       "      <td>NaN</td>\n",
       "      <td>NaN</td>\n",
       "      <td>[ADVERSE REACTIONS: In general, the adverse re...</td>\n",
       "      <td>[&lt;table&gt; &lt;caption&gt;Table 4: Adverse Experiences...</td>\n",
       "      <td>NaN</td>\n",
       "      <td>NaN</td>\n",
       "      <td>NaN</td>\n",
       "      <td>NaN</td>\n",
       "      <td>NaN</td>\n",
       "      <td>...</td>\n",
       "      <td>NaN</td>\n",
       "      <td>NaN</td>\n",
       "      <td>11</td>\n",
       "      <td>NaN</td>\n",
       "      <td>[WARNINGS: Sinus Node Disease and AV Block: Be...</td>\n",
       "      <td>NaN</td>\n",
       "      <td>NaN</td>\n",
       "      <td>NaN</td>\n",
       "      <td>NaN</td>\n",
       "      <td>NaN</td>\n",
       "    </tr>\n",
       "  </tbody>\n",
       "</table>\n",
       "<p>5 rows × 139 columns</p>\n",
       "</div>"
      ],
      "text/plain": [
       "  abuse active_ingredient active_ingredient_table  \\\n",
       "0   NaN               NaN                     NaN   \n",
       "1   NaN               NaN                     NaN   \n",
       "2   NaN               NaN                     NaN   \n",
       "3   NaN       [adenosine]                     NaN   \n",
       "4   NaN               NaN                     NaN   \n",
       "\n",
       "                                   adverse_reactions  \\\n",
       "0  [6 ADVERSE REACTIONS Adults: Most common adver...   \n",
       "1  [6 ADVERSE REACTIONS Most common adverse react...   \n",
       "2  [ADVERSE REACTIONS (listed alphabetically, und...   \n",
       "3                                                NaN   \n",
       "4  [ADVERSE REACTIONS: In general, the adverse re...   \n",
       "\n",
       "                             adverse_reactions_table  \\\n",
       "0                                                NaN   \n",
       "1  [<table> <caption>Table 1. Patients with Adver...   \n",
       "2                                                NaN   \n",
       "3                                                NaN   \n",
       "4  [<table> <caption>Table 4: Adverse Experiences...   \n",
       "\n",
       "               animal_pharmacology_and_or_toxicology  \\\n",
       "0  [13.2 Animal Toxicology and/or Pharmacology Re...   \n",
       "1                                                NaN   \n",
       "2                                                NaN   \n",
       "3                                                NaN   \n",
       "4                                                NaN   \n",
       "\n",
       "  animal_pharmacology_and_or_toxicology_table ask_doctor  \\\n",
       "0                                         NaN        NaN   \n",
       "1                                         NaN        NaN   \n",
       "2                                         NaN        NaN   \n",
       "3                                         NaN        NaN   \n",
       "4                                         NaN        NaN   \n",
       "\n",
       "  ask_doctor_or_pharmacist ask_doctor_or_pharmacist_table       ...         \\\n",
       "0                      NaN                            NaN       ...          \n",
       "1                      NaN                            NaN       ...          \n",
       "2                      NaN                            NaN       ...          \n",
       "3                      NaN                            NaN       ...          \n",
       "4                      NaN                            NaN       ...          \n",
       "\n",
       "  use_in_specific_populations_table user_safety_warnings version  \\\n",
       "0                               NaN                  NaN       1   \n",
       "1                               NaN                  NaN       1   \n",
       "2                               NaN                  NaN       1   \n",
       "3                               NaN                  NaN       1   \n",
       "4                               NaN                  NaN      11   \n",
       "\n",
       "  veterinary_indications                                           warnings  \\\n",
       "0                    NaN                                                NaN   \n",
       "1                    NaN                                                NaN   \n",
       "2                    NaN  [WARNINGS General Rare instances of anaphylact...   \n",
       "3                    NaN  [■ discontinue use if the following abnormal s...   \n",
       "4                    NaN  [WARNINGS: Sinus Node Disease and AV Block: Be...   \n",
       "\n",
       "                               warnings_and_cautions  \\\n",
       "0  [5 WARNINGS AND PRECAUTIONS Symptomatic respon...   \n",
       "1  [5 WARNINGS AND PRECAUTIONS Due to sedative pr...   \n",
       "2                                                NaN   \n",
       "3                                                NaN   \n",
       "4                                                NaN   \n",
       "\n",
       "  warnings_and_cautions_table warnings_table when_using when_using_table  \n",
       "0                         NaN            NaN        NaN              NaN  \n",
       "1                         NaN            NaN        NaN              NaN  \n",
       "2                         NaN            NaN        NaN              NaN  \n",
       "3                         NaN            NaN        NaN              NaN  \n",
       "4                         NaN            NaN        NaN              NaN  \n",
       "\n",
       "[5 rows x 139 columns]"
      ]
     },
     "execution_count": 63,
     "metadata": {},
     "output_type": "execute_result"
    }
   ],
   "source": [
    "df.head()"
   ]
  },
  {
   "cell_type": "code",
   "execution_count": 65,
   "metadata": {
    "collapsed": false
   },
   "outputs": [
    {
     "data": {
      "text/plain": [
       "(20000, 139)"
      ]
     },
     "execution_count": 65,
     "metadata": {},
     "output_type": "execute_result"
    }
   ],
   "source": [
    "df.shape"
   ]
  },
  {
   "cell_type": "code",
   "execution_count": 66,
   "metadata": {
    "collapsed": false
   },
   "outputs": [
    {
     "data": {
      "text/plain": [
       "Index([u'abuse', u'active_ingredient', u'active_ingredient_table',\n",
       "       u'adverse_reactions', u'adverse_reactions_table',\n",
       "       u'animal_pharmacology_and_or_toxicology',\n",
       "       u'animal_pharmacology_and_or_toxicology_table', u'ask_doctor',\n",
       "       u'ask_doctor_or_pharmacist', u'ask_doctor_or_pharmacist_table',\n",
       "       ...\n",
       "       u'use_in_specific_populations_table', u'user_safety_warnings',\n",
       "       u'version', u'veterinary_indications', u'warnings',\n",
       "       u'warnings_and_cautions', u'warnings_and_cautions_table',\n",
       "       u'warnings_table', u'when_using', u'when_using_table'],\n",
       "      dtype='object', length=139)"
      ]
     },
     "execution_count": 66,
     "metadata": {},
     "output_type": "execute_result"
    }
   ],
   "source": [
    "df.columns"
   ]
  },
  {
   "cell_type": "code",
   "execution_count": 72,
   "metadata": {
    "collapsed": false
   },
   "outputs": [
    {
     "name": "stdout",
     "output_type": "stream",
     "text": [
      "0    64218455-e1e2-4e40-bd32-5002d2d1555d\n",
      "1    667d0cdd-ff0b-45fa-a089-d7f563bbbda8\n",
      "2    d7c4676c-f865-4bc5-89bd-358d53e65fd1\n",
      "3    927d3dc1-d4f8-41c6-95fe-5fa83588fcff\n",
      "4    f002a62a-bf93-4ec8-b88a-91683b3e19ce\n",
      "Name: id, dtype: object\n",
      "0    8e3b29b0-d3a8-409a-b397-53dbbbcda094\n",
      "1    b677267d-45ce-4f08-ac90-2bb6dcde8978\n",
      "2    c6186507-f747-4c2e-950f-03472a27ea5d\n",
      "3    cd521887-2c6e-428f-8e86-08ab9338ce2b\n",
      "4    2e75d6fc-9c0c-4520-9e52-3f668ccd815a\n",
      "Name: set_id, dtype: object\n",
      "19855\n"
     ]
    }
   ],
   "source": [
    "print df['id'].head()\n",
    "print df['set_id'].head()\n",
    "print df['pharmacodynamics_table'].isnull().sum()"
   ]
  },
  {
   "cell_type": "code",
   "execution_count": null,
   "metadata": {
    "collapsed": true
   },
   "outputs": [],
   "source": []
  },
  {
   "cell_type": "code",
   "execution_count": 73,
   "metadata": {
    "collapsed": true
   },
   "outputs": [],
   "source": [
    "df.to_csv('part1.csv')"
   ]
  },
  {
   "cell_type": "code",
   "execution_count": null,
   "metadata": {
    "collapsed": true
   },
   "outputs": [],
   "source": []
  }
 ],
 "metadata": {
  "kernelspec": {
   "display_name": "Python 2",
   "language": "python",
   "name": "python2"
  },
  "language_info": {
   "codemirror_mode": {
    "name": "ipython",
    "version": 2
   },
   "file_extension": ".py",
   "mimetype": "text/x-python",
   "name": "python",
   "nbconvert_exporter": "python",
   "pygments_lexer": "ipython2",
   "version": "2.7.13"
  }
 },
 "nbformat": 4,
 "nbformat_minor": 2
}
