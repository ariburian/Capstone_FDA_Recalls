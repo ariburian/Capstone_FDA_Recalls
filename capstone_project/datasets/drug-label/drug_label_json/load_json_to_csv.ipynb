{
 "cells": [
  {
   "cell_type": "code",
   "execution_count": 1,
   "metadata": {
    "collapsed": true
   },
   "outputs": [],
   "source": [
    "import pandas as pd \n",
    "\n",
    "import json\n",
    "\n",
    "filename='drug-label-0001-of-0006.json'"
   ]
  },
  {
   "cell_type": "code",
   "execution_count": 2,
   "metadata": {
    "collapsed": false
   },
   "outputs": [],
   "source": [
    "#url='https://api.fda.gov/drug/label.json'"
   ]
  },
  {
   "cell_type": "code",
   "execution_count": 3,
   "metadata": {
    "collapsed": false
   },
   "outputs": [],
   "source": [
    "with open('drug-label-0001-of-0006.json') as json_data:\n",
    "    d = json.load(json_data)\n"
   ]
  },
  {
   "cell_type": "code",
   "execution_count": 4,
   "metadata": {
    "collapsed": false
   },
   "outputs": [
    {
     "data": {
      "text/plain": [
       "[u'meta', u'results']"
      ]
     },
     "execution_count": 4,
     "metadata": {},
     "output_type": "execute_result"
    }
   ],
   "source": [
    "d.keys()"
   ]
  },
  {
   "cell_type": "code",
   "execution_count": 5,
   "metadata": {
    "collapsed": false
   },
   "outputs": [],
   "source": [
    "meta=d['meta']"
   ]
  },
  {
   "cell_type": "code",
   "execution_count": 6,
   "metadata": {
    "collapsed": false
   },
   "outputs": [
    {
     "data": {
      "text/plain": [
       "{u'disclaimer': u'Do not rely on openFDA to make decisions regarding medical care. While we make every effort to ensure that data is accurate, you should assume all results are unvalidated. We may limit or otherwise restrict your access to the API in line with our Terms of Service.',\n",
       " u'last_updated': u'2017-04-03',\n",
       " u'license': u'https://open.fda.gov/license/',\n",
       " u'results': {u'limit': 20000, u'skip': 0, u'total': 105446},\n",
       " u'terms': u'https://open.fda.gov/terms/'}"
      ]
     },
     "execution_count": 6,
     "metadata": {},
     "output_type": "execute_result"
    }
   ],
   "source": [
    "meta"
   ]
  },
  {
   "cell_type": "code",
   "execution_count": 7,
   "metadata": {
    "collapsed": false
   },
   "outputs": [],
   "source": [
    "x = d['results'][0]"
   ]
  },
  {
   "cell_type": "code",
   "execution_count": 8,
   "metadata": {
    "collapsed": false
   },
   "outputs": [
    {
     "data": {
      "text/plain": [
       "[u'package_label_principal_display_panel',\n",
       " u'openfda',\n",
       " u'carcinogenesis_and_mutagenesis_and_impairment_of_fertility',\n",
       " u'references',\n",
       " u'pregnancy',\n",
       " u'pharmacokinetics',\n",
       " u'drug_interactions',\n",
       " u'id',\n",
       " u'indications_and_usage',\n",
       " u'pharmacokinetics_table',\n",
       " u'pharmacodynamics_table',\n",
       " u'microbiology',\n",
       " u'contraindications',\n",
       " u'version',\n",
       " u'spl_medguide',\n",
       " u'pediatric_use',\n",
       " u'information_for_patients',\n",
       " u'dosage_forms_and_strengths',\n",
       " u'microbiology_table',\n",
       " u'recent_major_changes',\n",
       " u'description',\n",
       " u'dosage_and_administration',\n",
       " u'clinical_pharmacology_table',\n",
       " u'effective_time',\n",
       " u'mechanism_of_action',\n",
       " u'geriatric_use',\n",
       " u'adverse_reactions',\n",
       " u'clinical_pharmacology',\n",
       " u'clinical_studies',\n",
       " u'use_in_specific_populations',\n",
       " u'nonclinical_toxicology',\n",
       " u'spl_product_data_elements',\n",
       " u'clinical_studies_table',\n",
       " u'overdosage',\n",
       " u'pharmacodynamics',\n",
       " u'warnings_and_cautions',\n",
       " u'dosage_and_administration_table',\n",
       " u'set_id',\n",
       " u'how_supplied',\n",
       " u'nursing_mothers',\n",
       " u'animal_pharmacology_and_or_toxicology']"
      ]
     },
     "execution_count": 8,
     "metadata": {},
     "output_type": "execute_result"
    }
   ],
   "source": [
    "x.keys()"
   ]
  },
  {
   "cell_type": "code",
   "execution_count": 9,
   "metadata": {
    "collapsed": false
   },
   "outputs": [
    {
     "name": "stdout",
     "output_type": "stream",
     "text": [
      "package_label_principal_display_panel <type 'list'>\n",
      "openfda <type 'dict'>\n",
      "carcinogenesis_and_mutagenesis_and_impairment_of_fertility <type 'list'>\n",
      "references <type 'list'>\n",
      "pregnancy <type 'list'>\n",
      "pharmacokinetics <type 'list'>\n",
      "drug_interactions <type 'list'>\n",
      "id <type 'unicode'>\n",
      "indications_and_usage <type 'list'>\n",
      "pharmacokinetics_table <type 'list'>\n",
      "pharmacodynamics_table <type 'list'>\n",
      "microbiology <type 'list'>\n",
      "contraindications <type 'list'>\n",
      "version <type 'unicode'>\n",
      "spl_medguide <type 'list'>\n",
      "pediatric_use <type 'list'>\n",
      "information_for_patients <type 'list'>\n",
      "dosage_forms_and_strengths <type 'list'>\n",
      "microbiology_table <type 'list'>\n",
      "recent_major_changes <type 'list'>\n",
      "description <type 'list'>\n",
      "dosage_and_administration <type 'list'>\n",
      "clinical_pharmacology_table <type 'list'>\n",
      "effective_time <type 'unicode'>\n",
      "mechanism_of_action <type 'list'>\n",
      "geriatric_use <type 'list'>\n",
      "adverse_reactions <type 'list'>\n",
      "clinical_pharmacology <type 'list'>\n",
      "clinical_studies <type 'list'>\n",
      "use_in_specific_populations <type 'list'>\n",
      "nonclinical_toxicology <type 'list'>\n",
      "spl_product_data_elements <type 'list'>\n",
      "clinical_studies_table <type 'list'>\n",
      "overdosage <type 'list'>\n",
      "pharmacodynamics <type 'list'>\n",
      "warnings_and_cautions <type 'list'>\n",
      "dosage_and_administration_table <type 'list'>\n",
      "set_id <type 'unicode'>\n",
      "how_supplied <type 'list'>\n",
      "nursing_mothers <type 'list'>\n",
      "animal_pharmacology_and_or_toxicology <type 'list'>\n"
     ]
    }
   ],
   "source": [
    "for key in x.keys():\n",
    "    print key, type(x[key])"
   ]
  },
  {
   "cell_type": "code",
   "execution_count": 10,
   "metadata": {
    "collapsed": false
   },
   "outputs": [
    {
     "data": {
      "text/plain": [
       "41"
      ]
     },
     "execution_count": 10,
     "metadata": {},
     "output_type": "execute_result"
    }
   ],
   "source": [
    "len(x.keys())"
   ]
  },
  {
   "cell_type": "code",
   "execution_count": 16,
   "metadata": {
    "collapsed": false
   },
   "outputs": [
    {
     "data": {
      "text/plain": [
       "u'MEDICATION GUIDE OMEPRAZOLE DELAYED-RELEASE CAPSULES, USP (oh mep\\u2032 ra zole) Read this Medication Guide before you start taking omeprazole delayed-release capsules and each time you get a refill. There may be new information. This information does not take the place of talking with your doctor about your medical condition or your treatment. What is the most important information I should know about omeprazole delayed-release capsules? Omeprazole delayed-release capsules may help your acid-related symptoms, but you could still have serious stomach problems. Talk with your doctor. Omeprazole delayed-release capsules can cause serious side effects, including: Diarrhea. Omeprazole delayed-release capsules may increase your risk of getting severe diarrhea. This diarrhea may be caused by an infection (Clostridium difficile) in your intestines. Call your doctor right away if you have watery stool, stomach pain and fever that does not go away. Bone fractures. People who take multiple daily doses of proton pump inhibitor medicines for a long period of time (a year or longer) may have an increased risk of fractures of the hip, wrist or spine. You should take omeprazole delayed-release capsules exactly as prescribed, at the lowest dose possible for your treatment and for the shortest time needed. Talk to your doctor about your risk of bone fracture if you take omeprazole delayed-release capsules. Omeprazole delayed-release capsules can have other serious side effects. See \\u201cWhat are the possible side effects of omeprazole delayed-release capsules?\\u201d What are omeprazole delayed-release capsules? Omeprazole delayed-release capsules are a prescription medicine called a proton pump inhibitor (PPI). Omeprazole delayed-release capsules reduce the amount of acid in your stomach. Omeprazole delayed-release capsules are used in adults: for up to 8 weeks for the healing of duodenal ulcers. The duodenal area is the area where food passes when it leaves the stomach. with certain antibiotics to treat an infection caused by bacteria called H. pylori. Sometimes H. pylori bacteria can cause duodenal ulcers. The infection needs to be treated to prevent the ulcers from coming back. for up to 8 weeks for healing stomach ulcers. for up to 4 weeks to treat heartburn and other symptoms that happen with gastroesophageal reflux disease (GERD). GERD happens when acid in your stomach backs up into the tube (esophagus) that connects your mouth to your stomach. This may cause a burning feeling in your chest or throat, sour taste or burping. for up to 8 weeks to heal acid-related damage to the lining of the esophagus (called erosive esophagitis or EE). If needed, your doctor may decide to prescribe another 4 weeks of omeprazole delayed-release capsules. to maintain healing of the esophagus. It is not known if omeprazole delayed-release capsules are safe and effective when used for longer than 12 months (one year) for this purpose. for the long-term treatment of conditions where your stomach makes too much acid. This includes a rare condition called Zollinger-Ellison Syndrome. For children 2 to 16 years of age, omeprazole delayed-release capsules are used: for up to 4 weeks to treat heartburn and other symptoms that happen with gastroesophageal reflux disease (GERD). for up to 8 weeks to heal acid-related damage to the lining of the esophagus (called erosive esophagitis or EE). to maintain healing of the esophagus. It is not known if omeprazole delayed-release capsules are safe and effective when used longer than 12 months (one year) for this purpose. It is not known if omeprazole is safe and effective for the treatment of gastroesophageal reflux disease (GERD) in children under one year of age. Who should not take omeprazole delayed-release capsules? Do not take omeprazole delayed-release capsules if you: are allergic to omeprazole or any of the ingredients in omeprazole delayed-release capsules. See the end of this Medication Guide for a complete list of ingredients in omeprazole delayed-release capsules. are allergic to any other Proton Pump Inhibitor (PPI) medicine. What should I tell my doctor before taking omeprazole delayed-release capsules? Before you take omeprazole delayed-release capsules, tell your doctor if you: have been told that you have low magnesium levels in your blood. have liver problems. have any other medical conditions. are pregnant or plan to become pregnant. It is not known if omeprazole delayed-release capsules will harm your unborn baby. are breast-feeding or plan to breast-feed. Omeprazole can pass into your breast milk and may harm your baby. You and your doctor should decide if you will take omeprazole delayed-release capsules or breast-feed. You should not do both. Talk to your doctor about the best way to feed your baby if you breast-feed. Tell your doctor about all of the medicines you take including prescription and non-prescription drugs, anti-cancer drugs, vitamins and herbal supplements. Omeprazole delayed-release capsules may affect how other medicines work, and other medicines may affect how omeprazole delayed-release capsules work. Especially tell your doctor if you take: atazanavir (Reyataz*) nelfinavir (Viracept*) saquinavir (Fortovase*) cilostazol (Pletal*) ketoconazole (Nizoral*) voriconazole (Vfend*) an antibiotic that contains ampicillin, amoxicillin or clarithromycin products that contain iron warfarin (Coumadin*, Jantoven*) digoxin (Lanoxin*) tacrolimus (Prograf*) diazepam (Valium*) phenytoin (Dilantin*) disulfiram (Antabuse*) clopidogrel (Plavix*) St. John\\u2019s Wort (Hypericum perforatum) rifampin (Rimactane*, Rifater*, Rifamate*), erlotinib (Tarceva*) methotrexate Ask your doctor or pharmacist for a list of these medicines if you are not sure. Know the medicines that you take. Keep a list of them to show your doctor and pharmacist when you get a new medicine. How should I take omeprazole delayed-release capsules? Take omeprazole delayed-release capsules exactly as prescribed by your doctor. Do not change your dose or stop omeprazole delayed-release capsules without talking to your doctor. Take omeprazole delayed-release capsules at least one hour before a meal. Swallow omeprazole delayed-release capsules whole. Do not chew or crush omeprazole delayed-release capsules. If you have trouble swallowing omeprazole delayed-release capsules, you may take as follows: Place one tablespoon of applesauce into a clean bowl. Carefully open the capsule and empty the contents (pellets) onto the applesauce. Mix the pellets with the applesauce. Swallow the applesauce and pellet mixture right away with a glass of cool water. Do not chew or crush the pellets. Do not store the applesauce and pellet mixture for later use. If you forget to take a dose of omeprazole delayed-release capsules, take it as soon as you remember. If it is almost time for your next dose, do not take the missed dose. Take the next dose on time. Do not take a double-dose to make up for a missed dose. If you take too many omeprazole delayed-release capsules, tell your doctor right away. What are the possible side effects of omeprazole delayed-release capsules? Omeprazole delayed-release capsules can cause serious side effects, including: See \\u201cWhat is the most important information I should know about omeprazole delayed-release capsules?\\u201d Chronic (lasting a long time) inflammation of the stomach lining (Atrophic Gastritis). Using omeprazole delayed-release capsules for a long period of time may increase the risk of inflammation to your stomach lining. You may or may not have symptoms. Tell your doctor if you have stomach pain, nausea, vomiting or weight loss. Low magnesium levels in your body. This problem can be serious. Low magnesium can happen in some people who take a proton pump inhibitor medicine for at least 3 months. If low magnesium levels happen, it is usually after a year of treatment. You may or may not have symptoms of low magnesium. Tell your doctor right away if you develop any of these symptoms: seizures dizziness abnormal or fast heart beat jitteriness jerking movements or shaking (tremors) muscle weakness spasms of the hands and feet cramps or muscle aches spasm of the voice box Your doctor may check the level of magnesium in your body before you start taking omeprazole delayed-release capsules or during treatment if you will be taking omeprazole delayed-release capsules for a long period of time. The most common side effects with omeprazole delayed-release capsules in adults and children include: headache stomach pain nausea diarrhea vomiting gas In addition to the side effects listed above, the most common side effects in children 2 to 16 years of age include: respiratory system events fever Other side effects: Serious allergic reactions. Tell your doctor if you get any of the following symptoms with omeprazole delayed-release capsules: rash face swelling throat tightness difficulty breathing Your doctor may stop omeprazole delayed-release capsules if these symptoms happen. Tell your doctor if you have any side effect that bothers you or that do not go away. These are not all the possible side effects with omeprazole delayed-release capsules. Call your doctor for medical advice about side effects. You may report side effects to FDA at 1-800-FDA-1088. How should I store omeprazole delayed-release capsules? Store omeprazole delayed-release capsules at 20\\xb0 to 25\\xb0C (68\\xb0 to 77\\xb0F). Keep the container of omeprazole delayed-release capsules closed tightly. Protect from light and moisture. Keep omeprazole delayed-release capsules and all medicines out of the reach of children. General information about omeprazole delayed-release capsules Medicines are sometimes prescribed for purposes other than those listed in a Medication Guide. Do not use omeprazole delayed-release capsules for a condition for which it was not prescribed. Do not give omeprazole delayed-release capsules to other people, even if they have the same symptoms you have. It may harm them. This Medication Guide summarizes the most important information about omeprazole delayed-release capsules. For more information, ask your doctor. You can ask your doctor or pharmacist for information that is written for healthcare professionals. For more information go to Mylan.com or call Mylan Pharmaceuticals Inc. at 1-877-446-3679 (1-877-4-INFO-RX). Instructions for Use For instructions on taking omeprazole delayed-release capsules, please see \\u201cHow should I take omeprazole delayed-release capsules?\\u201d What are the ingredients in omeprazole delayed-release capsules, USP? Active ingredient in omeprazole delayed-release capsules: omeprazole, USP Inactive ingredients in omeprazole delayed-release capsules: ammonium hydroxide, dibutyl sebacate, ethylcellulose, fumed silica, hypromellose, methacrylic acid, oleic acid, sugar spheres, talc, titanium dioxide and triethyl citrate. The empty gelatin capsule shells contain D&C Yellow No. 10, FD&C Green No. 3, gelatin, sodium lauryl sulfate and titanium dioxide. The empty gelatin capsule shells may also contain silicon dioxide. The 40 mg empty gelatin capsule shell also contains FD&C Blue No. 1. In addition, the white imprinting ink contains ammonium hydroxide, propylene glycol, shellac glaze, simethicone and titanium dioxide. * The brand names mentioned in this Medication Guide are registered trademarks of their respective manufacturers. This Medication Guide and Instructions for Use has been approved by the U.S. Food and Drug Administration. Jointly manufactured by: Mylan Pharmaceuticals Inc. Morgantown, WV 26505 U.S.A. and Laboratorios Dr. Esteve, S.A. 08107 Martorelles (Barcelona), Spain REVISED NOVEMBER 2012 OMEP:R25mpbmt/MG:OMEP:R1'"
      ]
     },
     "execution_count": 16,
     "metadata": {},
     "output_type": "execute_result"
    }
   ],
   "source": [
    "x['spl_medguide'][0]"
   ]
  },
  {
   "cell_type": "code",
   "execution_count": 50,
   "metadata": {
    "collapsed": true
   },
   "outputs": [],
   "source": [
    "results=d['results']"
   ]
  },
  {
   "cell_type": "code",
   "execution_count": 51,
   "metadata": {
    "collapsed": true
   },
   "outputs": [],
   "source": [
    "df=pd.DataFrame(results)"
   ]
  },
  {
   "cell_type": "code",
   "execution_count": 63,
   "metadata": {
    "collapsed": false
   },
   "outputs": [
    {
     "data": {
      "text/html": [
       "<div>\n",
       "<table border=\"1\" class=\"dataframe\">\n",
       "  <thead>\n",
       "    <tr style=\"text-align: right;\">\n",
       "      <th></th>\n",
       "      <th>abuse</th>\n",
       "      <th>active_ingredient</th>\n",
       "      <th>active_ingredient_table</th>\n",
       "      <th>adverse_reactions</th>\n",
       "      <th>adverse_reactions_table</th>\n",
       "      <th>animal_pharmacology_and_or_toxicology</th>\n",
       "      <th>animal_pharmacology_and_or_toxicology_table</th>\n",
       "      <th>ask_doctor</th>\n",
       "      <th>ask_doctor_or_pharmacist</th>\n",
       "      <th>ask_doctor_or_pharmacist_table</th>\n",
       "      <th>...</th>\n",
       "      <th>use_in_specific_populations_table</th>\n",
       "      <th>user_safety_warnings</th>\n",
       "      <th>version</th>\n",
       "      <th>veterinary_indications</th>\n",
       "      <th>warnings</th>\n",
       "      <th>warnings_and_cautions</th>\n",
       "      <th>warnings_and_cautions_table</th>\n",
       "      <th>warnings_table</th>\n",
       "      <th>when_using</th>\n",
       "      <th>when_using_table</th>\n",
       "    </tr>\n",
       "  </thead>\n",
       "  <tbody>\n",
       "    <tr>\n",
       "      <th>0</th>\n",
       "      <td>NaN</td>\n",
       "      <td>NaN</td>\n",
       "      <td>NaN</td>\n",
       "      <td>[6 ADVERSE REACTIONS Adults: Most common adver...</td>\n",
       "      <td>NaN</td>\n",
       "      <td>[13.2 Animal Toxicology and/or Pharmacology Re...</td>\n",
       "      <td>NaN</td>\n",
       "      <td>NaN</td>\n",
       "      <td>NaN</td>\n",
       "      <td>NaN</td>\n",
       "      <td>...</td>\n",
       "      <td>NaN</td>\n",
       "      <td>NaN</td>\n",
       "      <td>1</td>\n",
       "      <td>NaN</td>\n",
       "      <td>NaN</td>\n",
       "      <td>[5 WARNINGS AND PRECAUTIONS Symptomatic respon...</td>\n",
       "      <td>NaN</td>\n",
       "      <td>NaN</td>\n",
       "      <td>NaN</td>\n",
       "      <td>NaN</td>\n",
       "    </tr>\n",
       "    <tr>\n",
       "      <th>1</th>\n",
       "      <td>NaN</td>\n",
       "      <td>NaN</td>\n",
       "      <td>NaN</td>\n",
       "      <td>[6 ADVERSE REACTIONS Most common adverse react...</td>\n",
       "      <td>[&lt;table&gt; &lt;caption&gt;Table 1. Patients with Adver...</td>\n",
       "      <td>NaN</td>\n",
       "      <td>NaN</td>\n",
       "      <td>NaN</td>\n",
       "      <td>NaN</td>\n",
       "      <td>NaN</td>\n",
       "      <td>...</td>\n",
       "      <td>NaN</td>\n",
       "      <td>NaN</td>\n",
       "      <td>1</td>\n",
       "      <td>NaN</td>\n",
       "      <td>NaN</td>\n",
       "      <td>[5 WARNINGS AND PRECAUTIONS Due to sedative pr...</td>\n",
       "      <td>NaN</td>\n",
       "      <td>NaN</td>\n",
       "      <td>NaN</td>\n",
       "      <td>NaN</td>\n",
       "    </tr>\n",
       "    <tr>\n",
       "      <th>2</th>\n",
       "      <td>NaN</td>\n",
       "      <td>NaN</td>\n",
       "      <td>NaN</td>\n",
       "      <td>[ADVERSE REACTIONS (listed alphabetically, und...</td>\n",
       "      <td>NaN</td>\n",
       "      <td>NaN</td>\n",
       "      <td>NaN</td>\n",
       "      <td>NaN</td>\n",
       "      <td>NaN</td>\n",
       "      <td>NaN</td>\n",
       "      <td>...</td>\n",
       "      <td>NaN</td>\n",
       "      <td>NaN</td>\n",
       "      <td>1</td>\n",
       "      <td>NaN</td>\n",
       "      <td>[WARNINGS General Rare instances of anaphylact...</td>\n",
       "      <td>NaN</td>\n",
       "      <td>NaN</td>\n",
       "      <td>NaN</td>\n",
       "      <td>NaN</td>\n",
       "      <td>NaN</td>\n",
       "    </tr>\n",
       "    <tr>\n",
       "      <th>3</th>\n",
       "      <td>NaN</td>\n",
       "      <td>[adenosine]</td>\n",
       "      <td>NaN</td>\n",
       "      <td>NaN</td>\n",
       "      <td>NaN</td>\n",
       "      <td>NaN</td>\n",
       "      <td>NaN</td>\n",
       "      <td>NaN</td>\n",
       "      <td>NaN</td>\n",
       "      <td>NaN</td>\n",
       "      <td>...</td>\n",
       "      <td>NaN</td>\n",
       "      <td>NaN</td>\n",
       "      <td>1</td>\n",
       "      <td>NaN</td>\n",
       "      <td>[■ discontinue use if the following abnormal s...</td>\n",
       "      <td>NaN</td>\n",
       "      <td>NaN</td>\n",
       "      <td>NaN</td>\n",
       "      <td>NaN</td>\n",
       "      <td>NaN</td>\n",
       "    </tr>\n",
       "    <tr>\n",
       "      <th>4</th>\n",
       "      <td>NaN</td>\n",
       "      <td>NaN</td>\n",
       "      <td>NaN</td>\n",
       "      <td>[ADVERSE REACTIONS: In general, the adverse re...</td>\n",
       "      <td>[&lt;table&gt; &lt;caption&gt;Table 4: Adverse Experiences...</td>\n",
       "      <td>NaN</td>\n",
       "      <td>NaN</td>\n",
       "      <td>NaN</td>\n",
       "      <td>NaN</td>\n",
       "      <td>NaN</td>\n",
       "      <td>...</td>\n",
       "      <td>NaN</td>\n",
       "      <td>NaN</td>\n",
       "      <td>11</td>\n",
       "      <td>NaN</td>\n",
       "      <td>[WARNINGS: Sinus Node Disease and AV Block: Be...</td>\n",
       "      <td>NaN</td>\n",
       "      <td>NaN</td>\n",
       "      <td>NaN</td>\n",
       "      <td>NaN</td>\n",
       "      <td>NaN</td>\n",
       "    </tr>\n",
       "  </tbody>\n",
       "</table>\n",
       "<p>5 rows × 139 columns</p>\n",
       "</div>"
      ],
      "text/plain": [
       "  abuse active_ingredient active_ingredient_table  \\\n",
       "0   NaN               NaN                     NaN   \n",
       "1   NaN               NaN                     NaN   \n",
       "2   NaN               NaN                     NaN   \n",
       "3   NaN       [adenosine]                     NaN   \n",
       "4   NaN               NaN                     NaN   \n",
       "\n",
       "                                   adverse_reactions  \\\n",
       "0  [6 ADVERSE REACTIONS Adults: Most common adver...   \n",
       "1  [6 ADVERSE REACTIONS Most common adverse react...   \n",
       "2  [ADVERSE REACTIONS (listed alphabetically, und...   \n",
       "3                                                NaN   \n",
       "4  [ADVERSE REACTIONS: In general, the adverse re...   \n",
       "\n",
       "                             adverse_reactions_table  \\\n",
       "0                                                NaN   \n",
       "1  [<table> <caption>Table 1. Patients with Adver...   \n",
       "2                                                NaN   \n",
       "3                                                NaN   \n",
       "4  [<table> <caption>Table 4: Adverse Experiences...   \n",
       "\n",
       "               animal_pharmacology_and_or_toxicology  \\\n",
       "0  [13.2 Animal Toxicology and/or Pharmacology Re...   \n",
       "1                                                NaN   \n",
       "2                                                NaN   \n",
       "3                                                NaN   \n",
       "4                                                NaN   \n",
       "\n",
       "  animal_pharmacology_and_or_toxicology_table ask_doctor  \\\n",
       "0                                         NaN        NaN   \n",
       "1                                         NaN        NaN   \n",
       "2                                         NaN        NaN   \n",
       "3                                         NaN        NaN   \n",
       "4                                         NaN        NaN   \n",
       "\n",
       "  ask_doctor_or_pharmacist ask_doctor_or_pharmacist_table       ...         \\\n",
       "0                      NaN                            NaN       ...          \n",
       "1                      NaN                            NaN       ...          \n",
       "2                      NaN                            NaN       ...          \n",
       "3                      NaN                            NaN       ...          \n",
       "4                      NaN                            NaN       ...          \n",
       "\n",
       "  use_in_specific_populations_table user_safety_warnings version  \\\n",
       "0                               NaN                  NaN       1   \n",
       "1                               NaN                  NaN       1   \n",
       "2                               NaN                  NaN       1   \n",
       "3                               NaN                  NaN       1   \n",
       "4                               NaN                  NaN      11   \n",
       "\n",
       "  veterinary_indications                                           warnings  \\\n",
       "0                    NaN                                                NaN   \n",
       "1                    NaN                                                NaN   \n",
       "2                    NaN  [WARNINGS General Rare instances of anaphylact...   \n",
       "3                    NaN  [■ discontinue use if the following abnormal s...   \n",
       "4                    NaN  [WARNINGS: Sinus Node Disease and AV Block: Be...   \n",
       "\n",
       "                               warnings_and_cautions  \\\n",
       "0  [5 WARNINGS AND PRECAUTIONS Symptomatic respon...   \n",
       "1  [5 WARNINGS AND PRECAUTIONS Due to sedative pr...   \n",
       "2                                                NaN   \n",
       "3                                                NaN   \n",
       "4                                                NaN   \n",
       "\n",
       "  warnings_and_cautions_table warnings_table when_using when_using_table  \n",
       "0                         NaN            NaN        NaN              NaN  \n",
       "1                         NaN            NaN        NaN              NaN  \n",
       "2                         NaN            NaN        NaN              NaN  \n",
       "3                         NaN            NaN        NaN              NaN  \n",
       "4                         NaN            NaN        NaN              NaN  \n",
       "\n",
       "[5 rows x 139 columns]"
      ]
     },
     "execution_count": 63,
     "metadata": {},
     "output_type": "execute_result"
    }
   ],
   "source": [
    "df.head()"
   ]
  },
  {
   "cell_type": "code",
   "execution_count": 65,
   "metadata": {
    "collapsed": false
   },
   "outputs": [
    {
     "data": {
      "text/plain": [
       "(20000, 139)"
      ]
     },
     "execution_count": 65,
     "metadata": {},
     "output_type": "execute_result"
    }
   ],
   "source": [
    "df.shape"
   ]
  },
  {
   "cell_type": "code",
   "execution_count": 66,
   "metadata": {
    "collapsed": false
   },
   "outputs": [
    {
     "data": {
      "text/plain": [
       "Index([u'abuse', u'active_ingredient', u'active_ingredient_table',\n",
       "       u'adverse_reactions', u'adverse_reactions_table',\n",
       "       u'animal_pharmacology_and_or_toxicology',\n",
       "       u'animal_pharmacology_and_or_toxicology_table', u'ask_doctor',\n",
       "       u'ask_doctor_or_pharmacist', u'ask_doctor_or_pharmacist_table',\n",
       "       ...\n",
       "       u'use_in_specific_populations_table', u'user_safety_warnings',\n",
       "       u'version', u'veterinary_indications', u'warnings',\n",
       "       u'warnings_and_cautions', u'warnings_and_cautions_table',\n",
       "       u'warnings_table', u'when_using', u'when_using_table'],\n",
       "      dtype='object', length=139)"
      ]
     },
     "execution_count": 66,
     "metadata": {},
     "output_type": "execute_result"
    }
   ],
   "source": [
    "df.columns"
   ]
  },
  {
   "cell_type": "code",
   "execution_count": 72,
   "metadata": {
    "collapsed": false
   },
   "outputs": [
    {
     "name": "stdout",
     "output_type": "stream",
     "text": [
      "0    64218455-e1e2-4e40-bd32-5002d2d1555d\n",
      "1    667d0cdd-ff0b-45fa-a089-d7f563bbbda8\n",
      "2    d7c4676c-f865-4bc5-89bd-358d53e65fd1\n",
      "3    927d3dc1-d4f8-41c6-95fe-5fa83588fcff\n",
      "4    f002a62a-bf93-4ec8-b88a-91683b3e19ce\n",
      "Name: id, dtype: object\n",
      "0    8e3b29b0-d3a8-409a-b397-53dbbbcda094\n",
      "1    b677267d-45ce-4f08-ac90-2bb6dcde8978\n",
      "2    c6186507-f747-4c2e-950f-03472a27ea5d\n",
      "3    cd521887-2c6e-428f-8e86-08ab9338ce2b\n",
      "4    2e75d6fc-9c0c-4520-9e52-3f668ccd815a\n",
      "Name: set_id, dtype: object\n",
      "19855\n"
     ]
    }
   ],
   "source": [
    "print df['id'].head()\n",
    "print df['set_id'].head()\n",
    "print df['pharmacodynamics_table'].isnull().sum()"
   ]
  },
  {
   "cell_type": "code",
   "execution_count": null,
   "metadata": {
    "collapsed": true
   },
   "outputs": [],
   "source": []
  },
  {
   "cell_type": "code",
   "execution_count": 73,
   "metadata": {
    "collapsed": true
   },
   "outputs": [],
   "source": [
    "df.to_csv('part1.csv')"
   ]
  },
  {
   "cell_type": "code",
   "execution_count": null,
   "metadata": {
    "collapsed": true
   },
   "outputs": [],
   "source": []
  }
 ],
 "metadata": {
  "kernelspec": {
   "display_name": "Python 2",
   "language": "python",
   "name": "python2"
  },
  "language_info": {
   "codemirror_mode": {
    "name": "ipython",
    "version": 2
   },
   "file_extension": ".py",
   "mimetype": "text/x-python",
   "name": "python",
   "nbconvert_exporter": "python",
   "pygments_lexer": "ipython2",
   "version": "2.7.13"
  }
 },
 "nbformat": 4,
 "nbformat_minor": 2
}
