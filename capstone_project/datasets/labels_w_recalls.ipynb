{
 "cells": [
  {
   "cell_type": "code",
   "execution_count": 1,
   "metadata": {
    "collapsed": true
   },
   "outputs": [],
   "source": [
    "import pandas as pd \n",
    "import numpy as np \n",
    "import matplotlib.pyplot as plt\n",
    "%matplotlib inline\n",
    "import time\n",
    "import datetime\n"
   ]
  },
  {
   "cell_type": "code",
   "execution_count": 2,
   "metadata": {
    "collapsed": true
   },
   "outputs": [],
   "source": [
    "\n",
    "df_labels=pd.read_csv('drug-label/drug_labels.csv')\n",
    "df_recalls=pd.read_csv('drug-enforcement/drug_recalls.csv')\n"
   ]
  },
  {
   "cell_type": "code",
   "execution_count": 95,
   "metadata": {},
   "outputs": [
    {
     "data": {
      "text/html": [
       "<div>\n",
       "<table border=\"1\" class=\"dataframe\">\n",
       "  <thead>\n",
       "    <tr style=\"text-align: right;\">\n",
       "      <th></th>\n",
       "      <th>Unnamed: 0</th>\n",
       "      <th>unix</th>\n",
       "      <th>unq_ndc</th>\n",
       "    </tr>\n",
       "  </thead>\n",
       "  <tbody>\n",
       "    <tr>\n",
       "      <th>0</th>\n",
       "      <td>0</td>\n",
       "      <td>1.140761e+09</td>\n",
       "      <td>23731-8100-8</td>\n",
       "    </tr>\n",
       "    <tr>\n",
       "      <th>1</th>\n",
       "      <td>1</td>\n",
       "      <td>1.322806e+09</td>\n",
       "      <td>NaN</td>\n",
       "    </tr>\n",
       "    <tr>\n",
       "      <th>2</th>\n",
       "      <td>2</td>\n",
       "      <td>1.289369e+09</td>\n",
       "      <td>54868-4033-00</td>\n",
       "    </tr>\n",
       "    <tr>\n",
       "      <th>3</th>\n",
       "      <td>3</td>\n",
       "      <td>1.289369e+09</td>\n",
       "      <td>54868-4973-00</td>\n",
       "    </tr>\n",
       "    <tr>\n",
       "      <th>4</th>\n",
       "      <td>4</td>\n",
       "      <td>1.329977e+09</td>\n",
       "      <td>NaN</td>\n",
       "    </tr>\n",
       "  </tbody>\n",
       "</table>\n",
       "</div>"
      ],
      "text/plain": [
       "   Unnamed: 0          unix        unq_ndc\n",
       "0           0  1.140761e+09   23731-8100-8\n",
       "1           1  1.322806e+09            NaN\n",
       "2           2  1.289369e+09  54868-4033-00\n",
       "3           3  1.289369e+09  54868-4973-00\n",
       "4           4  1.329977e+09            NaN"
      ]
     },
     "execution_count": 95,
     "metadata": {},
     "output_type": "execute_result"
    }
   ],
   "source": [
    "df_recalls.head()"
   ]
  },
  {
   "cell_type": "code",
   "execution_count": 8,
   "metadata": {},
   "outputs": [
    {
     "data": {
      "text/plain": [
       "\"[u'FAMOTIDINE FAMOTIDINE FAMOTIDINE FAMOTIDINE SILICON DIOXIDE magnesium stearate CELLULOSE, MICROCRYSTALLINE STARCH, CORN talc POLYETHYLENE GLYCOL 400 titanium dioxide C119 FAMOTIDINE FAMOTIDINE FAMOTIDINE FAMOTIDINE SILICON DIOXIDE magnesium stearate CELLULOSE, MICROCRYSTALLINE STARCH, CORN talc POLYETHYLENE GLYCOL 400 titanium dioxide C120']\""
      ]
     },
     "execution_count": 8,
     "metadata": {},
     "output_type": "execute_result"
    }
   ],
   "source": [
    "df_labels['spl_product_data_elements'][1234]"
   ]
  },
  {
   "cell_type": "code",
   "execution_count": 12,
   "metadata": {},
   "outputs": [
    {
     "name": "stdout",
     "output_type": "stream",
     "text": [
      "105446\n",
      "18304\n"
     ]
    }
   ],
   "source": [
    "print len(df_labels)\n",
    "print df_labels['unq_ndc'].isnull().sum()\n"
   ]
  },
  {
   "cell_type": "code",
   "execution_count": 13,
   "metadata": {
    "collapsed": true
   },
   "outputs": [],
   "source": [
    "df_labels_ndc=df_labels[df_labels['unq_ndc'].isnull()==False].copy()"
   ]
  },
  {
   "cell_type": "code",
   "execution_count": 14,
   "metadata": {},
   "outputs": [
    {
     "name": "stdout",
     "output_type": "stream",
     "text": [
      "87142\n",
      "0\n"
     ]
    }
   ],
   "source": [
    "print len(df_labels_ndc)\n",
    "print df_labels_ndc['unq_ndc'].isnull().sum()"
   ]
  },
  {
   "cell_type": "code",
   "execution_count": null,
   "metadata": {
    "collapsed": true
   },
   "outputs": [],
   "source": []
  },
  {
   "cell_type": "code",
   "execution_count": null,
   "metadata": {
    "collapsed": true
   },
   "outputs": [],
   "source": []
  },
  {
   "cell_type": "code",
   "execution_count": 15,
   "metadata": {
    "collapsed": true
   },
   "outputs": [],
   "source": [
    "def get_ndc_company(value):\n",
    "    #value=str(value)\n",
    "    value_split=value.split('-')\n",
    "    company=value_split[0]\n",
    "    return company\n",
    "\n",
    "def get_ndc_product(value):\n",
    "    #value=str(value)\n",
    "    value_split=value.split('-')\n",
    "    product=value_split[1]\n",
    "    return product"
   ]
  },
  {
   "cell_type": "code",
   "execution_count": 16,
   "metadata": {
    "collapsed": true
   },
   "outputs": [],
   "source": [
    "df_labels_ndc['company']=df_labels_ndc['unq_ndc'].apply(get_ndc_company)\n",
    "df_labels_ndc['product']=df_labels_ndc['unq_ndc'].apply(get_ndc_product)"
   ]
  },
  {
   "cell_type": "code",
   "execution_count": 96,
   "metadata": {},
   "outputs": [
    {
     "data": {
      "text/plain": [
       "0    66336\n",
       "1    55045\n",
       "2    54569\n",
       "3    59220\n",
       "4     0615\n",
       "Name: company, dtype: object"
      ]
     },
     "execution_count": 96,
     "metadata": {},
     "output_type": "execute_result"
    }
   ],
   "source": [
    "df_labels_ndc['company'].head()"
   ]
  },
  {
   "cell_type": "code",
   "execution_count": 18,
   "metadata": {},
   "outputs": [
    {
     "data": {
      "text/plain": [
       "0     706\n",
       "1    1433\n",
       "2    0322\n",
       "3    4001\n",
       "4    0547\n",
       "Name: product, dtype: object"
      ]
     },
     "execution_count": 18,
     "metadata": {},
     "output_type": "execute_result"
    }
   ],
   "source": [
    "df_labels_ndc['product'].head()"
   ]
  },
  {
   "cell_type": "code",
   "execution_count": 19,
   "metadata": {},
   "outputs": [
    {
     "name": "stdout",
     "output_type": "stream",
     "text": [
      "87142\n",
      "5183\n"
     ]
    }
   ],
   "source": [
    "print df_labels_ndc['company'].count()\n",
    "print df_labels_ndc['company'].nunique()"
   ]
  },
  {
   "cell_type": "code",
   "execution_count": 20,
   "metadata": {},
   "outputs": [
    {
     "name": "stdout",
     "output_type": "stream",
     "text": [
      "87142\n",
      "9422\n"
     ]
    }
   ],
   "source": [
    "print df_labels_ndc['product'].count()\n",
    "print df_labels_ndc['product'].nunique()"
   ]
  },
  {
   "cell_type": "code",
   "execution_count": 21,
   "metadata": {},
   "outputs": [
    {
     "name": "stdout",
     "output_type": "stream",
     "text": [
      "5964\n",
      "4304\n"
     ]
    }
   ],
   "source": [
    "print len(df_recalls)\n",
    "print df_recalls['unq_ndc'].isnull().sum()"
   ]
  },
  {
   "cell_type": "code",
   "execution_count": 22,
   "metadata": {
    "collapsed": true
   },
   "outputs": [],
   "source": [
    "df_recalls_ndc=df_recalls[df_recalls['unq_ndc'].isnull()==False].copy()"
   ]
  },
  {
   "cell_type": "code",
   "execution_count": 23,
   "metadata": {},
   "outputs": [
    {
     "name": "stdout",
     "output_type": "stream",
     "text": [
      "1660\n",
      "0\n"
     ]
    }
   ],
   "source": [
    "print len(df_recalls_ndc)\n",
    "print df_recalls_ndc['unq_ndc'].isnull().sum()"
   ]
  },
  {
   "cell_type": "code",
   "execution_count": 24,
   "metadata": {
    "collapsed": true
   },
   "outputs": [],
   "source": [
    "def bad_ndcs(value):\n",
    "    value_split=value.split('-')\n",
    "    if (len(value_split)>=2):\n",
    "        return 1\n",
    "    else:\n",
    "        return 0\n",
    "    "
   ]
  },
  {
   "cell_type": "code",
   "execution_count": 25,
   "metadata": {
    "collapsed": true
   },
   "outputs": [],
   "source": [
    "df_recalls_ndc['good_ndcs']=df_recalls_ndc['unq_ndc'].apply(bad_ndcs)"
   ]
  },
  {
   "cell_type": "code",
   "execution_count": 26,
   "metadata": {},
   "outputs": [
    {
     "name": "stdout",
     "output_type": "stream",
     "text": [
      "1660\n",
      "1110\n"
     ]
    }
   ],
   "source": [
    "print df_recalls_ndc['good_ndcs'].count()\n",
    "print df_recalls_ndc['good_ndcs'].sum()"
   ]
  },
  {
   "cell_type": "code",
   "execution_count": 27,
   "metadata": {
    "collapsed": true
   },
   "outputs": [],
   "source": [
    "df_recalls_good_ndcs=df_recalls_ndc[df_recalls_ndc['good_ndcs']==1].copy()"
   ]
  },
  {
   "cell_type": "code",
   "execution_count": 28,
   "metadata": {},
   "outputs": [
    {
     "data": {
      "text/plain": [
       "1110"
      ]
     },
     "execution_count": 28,
     "metadata": {},
     "output_type": "execute_result"
    }
   ],
   "source": [
    "len(df_recalls_good_ndcs)"
   ]
  },
  {
   "cell_type": "code",
   "execution_count": 29,
   "metadata": {},
   "outputs": [
    {
     "data": {
      "text/html": [
       "<div>\n",
       "<table border=\"1\" class=\"dataframe\">\n",
       "  <thead>\n",
       "    <tr style=\"text-align: right;\">\n",
       "      <th></th>\n",
       "      <th>Unnamed: 0</th>\n",
       "      <th>unix</th>\n",
       "      <th>unq_ndc</th>\n",
       "      <th>good_ndcs</th>\n",
       "    </tr>\n",
       "  </thead>\n",
       "  <tbody>\n",
       "    <tr>\n",
       "      <th>0</th>\n",
       "      <td>0</td>\n",
       "      <td>1.140761e+09</td>\n",
       "      <td>23731-8100-8</td>\n",
       "      <td>1</td>\n",
       "    </tr>\n",
       "    <tr>\n",
       "      <th>2</th>\n",
       "      <td>2</td>\n",
       "      <td>1.289369e+09</td>\n",
       "      <td>54868-4033-00</td>\n",
       "      <td>1</td>\n",
       "    </tr>\n",
       "    <tr>\n",
       "      <th>3</th>\n",
       "      <td>3</td>\n",
       "      <td>1.289369e+09</td>\n",
       "      <td>54868-4973-00</td>\n",
       "      <td>1</td>\n",
       "    </tr>\n",
       "    <tr>\n",
       "      <th>7</th>\n",
       "      <td>7</td>\n",
       "      <td>1.334639e+09</td>\n",
       "      <td>0409-1258-30</td>\n",
       "      <td>1</td>\n",
       "    </tr>\n",
       "    <tr>\n",
       "      <th>9</th>\n",
       "      <td>9</td>\n",
       "      <td>1.336799e+09</td>\n",
       "      <td>0409-1283-31</td>\n",
       "      <td>1</td>\n",
       "    </tr>\n",
       "  </tbody>\n",
       "</table>\n",
       "</div>"
      ],
      "text/plain": [
       "   Unnamed: 0          unix        unq_ndc  good_ndcs\n",
       "0           0  1.140761e+09   23731-8100-8          1\n",
       "2           2  1.289369e+09  54868-4033-00          1\n",
       "3           3  1.289369e+09  54868-4973-00          1\n",
       "7           7  1.334639e+09   0409-1258-30          1\n",
       "9           9  1.336799e+09   0409-1283-31          1"
      ]
     },
     "execution_count": 29,
     "metadata": {},
     "output_type": "execute_result"
    }
   ],
   "source": [
    "df_recalls_good_ndcs.head()"
   ]
  },
  {
   "cell_type": "code",
   "execution_count": 30,
   "metadata": {
    "collapsed": true
   },
   "outputs": [],
   "source": [
    "def get_ndc_match(value):\n",
    "    value_split=value.split('-')\n",
    "    ndc_match=value_split[0]+'-'+value_split[1]\n",
    "    return ndc_match"
   ]
  },
  {
   "cell_type": "code",
   "execution_count": 31,
   "metadata": {
    "collapsed": true
   },
   "outputs": [],
   "source": [
    "df_recalls_good_ndcs['unq_ndc']=df_recalls_good_ndcs['unq_ndc'].apply(get_ndc_match)"
   ]
  },
  {
   "cell_type": "code",
   "execution_count": 98,
   "metadata": {},
   "outputs": [
    {
     "data": {
      "text/html": [
       "<div>\n",
       "<table border=\"1\" class=\"dataframe\">\n",
       "  <thead>\n",
       "    <tr style=\"text-align: right;\">\n",
       "      <th></th>\n",
       "      <th>Unnamed: 0</th>\n",
       "      <th>unix</th>\n",
       "      <th>unq_ndc</th>\n",
       "      <th>good_ndcs</th>\n",
       "      <th>company</th>\n",
       "      <th>product</th>\n",
       "    </tr>\n",
       "  </thead>\n",
       "  <tbody>\n",
       "    <tr>\n",
       "      <th>0</th>\n",
       "      <td>0</td>\n",
       "      <td>1.140761e+09</td>\n",
       "      <td>23731-8100</td>\n",
       "      <td>1</td>\n",
       "      <td>23731</td>\n",
       "      <td>8100</td>\n",
       "    </tr>\n",
       "    <tr>\n",
       "      <th>2</th>\n",
       "      <td>2</td>\n",
       "      <td>1.289369e+09</td>\n",
       "      <td>54868-4033</td>\n",
       "      <td>1</td>\n",
       "      <td>54868</td>\n",
       "      <td>4033</td>\n",
       "    </tr>\n",
       "    <tr>\n",
       "      <th>3</th>\n",
       "      <td>3</td>\n",
       "      <td>1.289369e+09</td>\n",
       "      <td>54868-4973</td>\n",
       "      <td>1</td>\n",
       "      <td>54868</td>\n",
       "      <td>4973</td>\n",
       "    </tr>\n",
       "    <tr>\n",
       "      <th>7</th>\n",
       "      <td>7</td>\n",
       "      <td>1.334639e+09</td>\n",
       "      <td>0409-1258</td>\n",
       "      <td>1</td>\n",
       "      <td>0409</td>\n",
       "      <td>1258</td>\n",
       "    </tr>\n",
       "    <tr>\n",
       "      <th>9</th>\n",
       "      <td>9</td>\n",
       "      <td>1.336799e+09</td>\n",
       "      <td>0409-1283</td>\n",
       "      <td>1</td>\n",
       "      <td>0409</td>\n",
       "      <td>1283</td>\n",
       "    </tr>\n",
       "  </tbody>\n",
       "</table>\n",
       "</div>"
      ],
      "text/plain": [
       "   Unnamed: 0          unix     unq_ndc  good_ndcs company product\n",
       "0           0  1.140761e+09  23731-8100          1   23731    8100\n",
       "2           2  1.289369e+09  54868-4033          1   54868    4033\n",
       "3           3  1.289369e+09  54868-4973          1   54868    4973\n",
       "7           7  1.334639e+09   0409-1258          1    0409    1258\n",
       "9           9  1.336799e+09   0409-1283          1    0409    1283"
      ]
     },
     "execution_count": 98,
     "metadata": {},
     "output_type": "execute_result"
    }
   ],
   "source": [
    "df_recalls_good_ndcs.head()"
   ]
  },
  {
   "cell_type": "code",
   "execution_count": 99,
   "metadata": {
    "collapsed": true
   },
   "outputs": [],
   "source": [
    "df_recalls_good_ndcs.to_csv('all_ndcs_recalled.csv')"
   ]
  },
  {
   "cell_type": "code",
   "execution_count": 33,
   "metadata": {
    "collapsed": true
   },
   "outputs": [],
   "source": [
    "# for index in range(len(df_recalls_ndc)):\n",
    "#     print df_recalls_ndc.iloc[index][['unq_ndc','good_ndcs']]#,'good_ndcs']\n",
    "    "
   ]
  },
  {
   "cell_type": "code",
   "execution_count": null,
   "metadata": {
    "collapsed": true
   },
   "outputs": [],
   "source": []
  },
  {
   "cell_type": "code",
   "execution_count": 97,
   "metadata": {},
   "outputs": [
    {
     "data": {
      "text/plain": [
       "1110"
      ]
     },
     "execution_count": 97,
     "metadata": {},
     "output_type": "execute_result"
    }
   ],
   "source": [
    "len(df_recalls_good_ndcs)"
   ]
  },
  {
   "cell_type": "code",
   "execution_count": 34,
   "metadata": {},
   "outputs": [
    {
     "data": {
      "text/plain": [
       "0      23731-8100\n",
       "2      54868-4033\n",
       "3      54868-4973\n",
       "7       0409-1258\n",
       "9       0409-1283\n",
       "11      55390-039\n",
       "14      0409-1312\n",
       "16      0015-3012\n",
       "17      0603-3888\n",
       "18     00591-0540\n",
       "30      50242-903\n",
       "31      0409-7984\n",
       "32      0409-7929\n",
       "35      61703-339\n",
       "36      61703-339\n",
       "39      0270-1315\n",
       "40      0603-3888\n",
       "42      51079-254\n",
       "50      62750-005\n",
       "58      0409-7929\n",
       "59     61958-0101\n",
       "63     60505-0773\n",
       "64      0409-7983\n",
       "69     60505-0773\n",
       "70      66758-041\n",
       "71      63323-064\n",
       "72      68382-053\n",
       "76      0536-3086\n",
       "88      0409-1159\n",
       "89      0409-1165\n",
       "          ...    \n",
       "231    68084-0703\n",
       "232     62584-143\n",
       "234     0409-2066\n",
       "235     67919-011\n",
       "236     0941-0457\n",
       "241     0409-7620\n",
       "242     0409-7929\n",
       "243     0409-4279\n",
       "244     0409-4279\n",
       "245     0409-4699\n",
       "248     0338-0553\n",
       "286     0409-7983\n",
       "299     0409-6727\n",
       "301     0409-7828\n",
       "303     0409-7983\n",
       "304     0338-0049\n",
       "305     0338-0017\n",
       "306     0338-0023\n",
       "307     0338-0117\n",
       "308     0069-0146\n",
       "309     67457-493\n",
       "310     67457-464\n",
       "311     67457-463\n",
       "312     67457-462\n",
       "313     63824-015\n",
       "314     63824-500\n",
       "315     63824-016\n",
       "316     63824-526\n",
       "317     63824-014\n",
       "318     63824-528\n",
       "Name: unq_ndc, dtype: object"
      ]
     },
     "execution_count": 34,
     "metadata": {},
     "output_type": "execute_result"
    }
   ],
   "source": [
    "df_recalls_good_ndcs['unq_ndc'].head(100)"
   ]
  },
  {
   "cell_type": "code",
   "execution_count": 35,
   "metadata": {
    "collapsed": true
   },
   "outputs": [],
   "source": [
    "# def match_unq_ndc(value):\n",
    "#     value_split=value.split('-')\n",
    "#     if (len(value_split)>=2):\n",
    "#         ndc_num=value_split[0]+value_split[1]\n",
    "#     else:\n",
    "#         print value_split\n",
    "#     return 0"
   ]
  },
  {
   "cell_type": "code",
   "execution_count": 36,
   "metadata": {
    "collapsed": true
   },
   "outputs": [],
   "source": [
    "# df_recalls_ndc['unq_ndc_2']=df_recalls_ndc['unq_ndc'].apply(match_unq_ndc)"
   ]
  },
  {
   "cell_type": "code",
   "execution_count": null,
   "metadata": {
    "collapsed": true
   },
   "outputs": [],
   "source": []
  },
  {
   "cell_type": "code",
   "execution_count": null,
   "metadata": {
    "collapsed": true
   },
   "outputs": [],
   "source": []
  },
  {
   "cell_type": "code",
   "execution_count": 37,
   "metadata": {
    "collapsed": true
   },
   "outputs": [],
   "source": [
    "df_recalls_good_ndcs['company']=df_recalls_good_ndcs['unq_ndc'].apply(get_ndc_company)\n",
    "df_recalls_good_ndcs['product']=df_recalls_good_ndcs['unq_ndc'].apply(get_ndc_product)"
   ]
  },
  {
   "cell_type": "code",
   "execution_count": 38,
   "metadata": {},
   "outputs": [
    {
     "data": {
      "text/plain": [
       "0    23731\n",
       "2    54868\n",
       "3    54868\n",
       "7     0409\n",
       "9     0409\n",
       "Name: company, dtype: object"
      ]
     },
     "execution_count": 38,
     "metadata": {},
     "output_type": "execute_result"
    }
   ],
   "source": [
    "df_recalls_good_ndcs['company'].head()"
   ]
  },
  {
   "cell_type": "code",
   "execution_count": 39,
   "metadata": {},
   "outputs": [
    {
     "data": {
      "text/plain": [
       "0    8100\n",
       "2    4033\n",
       "3    4973\n",
       "7    1258\n",
       "9    1283\n",
       "Name: product, dtype: object"
      ]
     },
     "execution_count": 39,
     "metadata": {},
     "output_type": "execute_result"
    }
   ],
   "source": [
    "df_recalls_good_ndcs['product'].head()"
   ]
  },
  {
   "cell_type": "code",
   "execution_count": 40,
   "metadata": {
    "collapsed": true
   },
   "outputs": [],
   "source": [
    "df_merge=df_labels_ndc.merge(df_recalls_good_ndcs,how='left',on='unq_ndc',suffixes=('_label','_recall'))"
   ]
  },
  {
   "cell_type": "code",
   "execution_count": 41,
   "metadata": {},
   "outputs": [
    {
     "data": {
      "text/plain": [
       "Unnamed: 0_label                                                                                              0\n",
       "Unnamed: 0.1                                                                                                  0\n",
       "abuse                                                                                                         0\n",
       "accessories                                                                                                   0\n",
       "active_ingredient                                                                                           NaN\n",
       "adverse_reactions                                             [u'6 ADVERSE REACTIONS Adults: Most common adv...\n",
       "alarms                                                                                                        0\n",
       "animal_pharmacology_and_or_toxicology                                                                         1\n",
       "ask_doctor                                                                                                    0\n",
       "ask_doctor_or_pharmacist                                                                                      0\n",
       "assembly_or_installation_instructions                                                                         0\n",
       "boxed_warning                                                                                                 0\n",
       "calibration_instructions                                                                                      0\n",
       "carcinogenesis_and_mutagenesis_and_impairment_of_fertility                                                    1\n",
       "cleaning                                                                                                      0\n",
       "clinical_pharmacology                                         [u'12 CLINICAL PHARMACOLOGY 12.1 Mechanism of ...\n",
       "clinical_studies                                                                                              1\n",
       "components                                                                                                    0\n",
       "contraindications                                             [u'4 CONTRAINDICATIONS Omeprazole delayed-rele...\n",
       "controlled_substance                                                                                          0\n",
       "dependence                                                                                                    0\n",
       "description                                                   [u'11 DESCRIPTION The active ingredient in ome...\n",
       "diagram_of_device                                                                                             0\n",
       "disposal_and_waste_handling                                                                                   0\n",
       "do_not_use                                                                                                    0\n",
       "dosage_and_administration                                     [u'2 DOSAGE AND ADMINISTRATION Omeprazole dela...\n",
       "dosage_forms_and_strengths                                                                                    1\n",
       "drug_abuse_and_dependence                                                                                     0\n",
       "drug_and_or_laboratory_test_interactions                                                                      0\n",
       "drug_interactions                                                                                             1\n",
       "                                                                                    ...                        \n",
       "spl_indexing_data_elements                                                                                    0\n",
       "spl_medguide                                                                                                  1\n",
       "spl_patient_package_insert                                                                                    0\n",
       "spl_product_data_elements                                     [u'Omeprazole omeprazole OMEPRAZOLE OMEPRAZOLE...\n",
       "spl_unclassified_section                                                                                    NaN\n",
       "statement_of_identity                                                                                         0\n",
       "stop_use                                                                                                    NaN\n",
       "storage_and_handling                                                                                        NaN\n",
       "summary_of_safety_and_effectiveness                                                                           0\n",
       "teratogenic_effects                                                                                           0\n",
       "troubleshooting                                                                                               0\n",
       "use_in_specific_populations                                                                                   1\n",
       "user_safety_warnings                                                                                          0\n",
       "version                                                                                                       1\n",
       "veterinary_indications                                                                                        0\n",
       "warnings                                                                                                    NaN\n",
       "warnings_and_cautions                                                                                         1\n",
       "when_using                                                                                                    0\n",
       "date                                                                                                          3\n",
       "month                                                                                                         7\n",
       "year                                                                                                       2013\n",
       "NDCs                                                                        [663360722, 66336072230, 663360706]\n",
       "unq_ndc                                                                                               66336-706\n",
       "company_label                                                                                             66336\n",
       "product_label                                                                                               706\n",
       "Unnamed: 0_recall                                                                                           NaN\n",
       "unix                                                                                                        NaN\n",
       "good_ndcs                                                                                                   NaN\n",
       "company_recall                                                                                              NaN\n",
       "product_recall                                                                                              NaN\n",
       "Name: 0, dtype: object"
      ]
     },
     "execution_count": 41,
     "metadata": {},
     "output_type": "execute_result"
    }
   ],
   "source": [
    "df_merge.iloc[0,]"
   ]
  },
  {
   "cell_type": "code",
   "execution_count": 42,
   "metadata": {},
   "outputs": [
    {
     "data": {
      "text/plain": [
       "0"
      ]
     },
     "execution_count": 42,
     "metadata": {},
     "output_type": "execute_result"
    }
   ],
   "source": [
    "df_merge['unq_ndc'].isnull().sum()"
   ]
  },
  {
   "cell_type": "code",
   "execution_count": 43,
   "metadata": {},
   "outputs": [
    {
     "data": {
      "text/plain": [
       "87251"
      ]
     },
     "execution_count": 43,
     "metadata": {},
     "output_type": "execute_result"
    }
   ],
   "source": [
    "len(df_merge)"
   ]
  },
  {
   "cell_type": "code",
   "execution_count": 44,
   "metadata": {},
   "outputs": [
    {
     "name": "stdout",
     "output_type": "stream",
     "text": [
      "0\n",
      "0\n"
     ]
    }
   ],
   "source": [
    "print df_merge['company_label'].isnull().sum()\n",
    "print df_merge['product_label'].isnull().sum()"
   ]
  },
  {
   "cell_type": "code",
   "execution_count": 45,
   "metadata": {},
   "outputs": [
    {
     "name": "stdout",
     "output_type": "stream",
     "text": [
      "86743\n",
      "86743\n"
     ]
    }
   ],
   "source": [
    "print df_merge['company_recall'].isnull().sum()\n",
    "print df_merge['product_recall'].isnull().sum()"
   ]
  },
  {
   "cell_type": "code",
   "execution_count": 46,
   "metadata": {},
   "outputs": [
    {
     "data": {
      "text/html": [
       "<div>\n",
       "<table border=\"1\" class=\"dataframe\">\n",
       "  <thead>\n",
       "    <tr style=\"text-align: right;\">\n",
       "      <th></th>\n",
       "      <th>Unnamed: 0_label</th>\n",
       "      <th>Unnamed: 0.1</th>\n",
       "      <th>abuse</th>\n",
       "      <th>accessories</th>\n",
       "      <th>active_ingredient</th>\n",
       "      <th>adverse_reactions</th>\n",
       "      <th>alarms</th>\n",
       "      <th>animal_pharmacology_and_or_toxicology</th>\n",
       "      <th>ask_doctor</th>\n",
       "      <th>ask_doctor_or_pharmacist</th>\n",
       "      <th>...</th>\n",
       "      <th>year</th>\n",
       "      <th>NDCs</th>\n",
       "      <th>unq_ndc</th>\n",
       "      <th>company_label</th>\n",
       "      <th>product_label</th>\n",
       "      <th>Unnamed: 0_recall</th>\n",
       "      <th>unix</th>\n",
       "      <th>good_ndcs</th>\n",
       "      <th>company_recall</th>\n",
       "      <th>product_recall</th>\n",
       "    </tr>\n",
       "  </thead>\n",
       "  <tbody>\n",
       "  </tbody>\n",
       "</table>\n",
       "<p>0 rows × 99 columns</p>\n",
       "</div>"
      ],
      "text/plain": [
       "Empty DataFrame\n",
       "Columns: [Unnamed: 0_label, Unnamed: 0.1, abuse, accessories, active_ingredient, adverse_reactions, alarms, animal_pharmacology_and_or_toxicology, ask_doctor, ask_doctor_or_pharmacist, assembly_or_installation_instructions, boxed_warning, calibration_instructions, carcinogenesis_and_mutagenesis_and_impairment_of_fertility, cleaning, clinical_pharmacology, clinical_studies, components, contraindications, controlled_substance, dependence, description, diagram_of_device, disposal_and_waste_handling, do_not_use, dosage_and_administration, dosage_forms_and_strengths, drug_abuse_and_dependence, drug_and_or_laboratory_test_interactions, drug_interactions, environmental_warning, food_safety_warning, general_precautions, geriatric_use, guaranteed_analysis_of_feed, health_care_provider_letter, health_claim, how_supplied, inactive_ingredient, indications_and_usage, information_for_owners_or_caregivers, information_for_patients, instructions_for_use, intended_use_of_the_device, keep_out_of_reach_of_children, labor_and_delivery, laboratory_tests, mechanism_of_action, microbiology, nonclinical_toxicology, nonteratogenic_effects, nursing_mothers, other_safety_information, overdosage, patient_medication_information, pediatric_use, pharmacodynamics, pharmacogenomics, pharmacokinetics, precautions, pregnancy, pregnancy_or_breast_feeding, purpose, questions, recent_major_changes, residue_warning, risks, route, safe_handling_warning, spl_indexing_data_elements, spl_medguide, spl_patient_package_insert, spl_product_data_elements, spl_unclassified_section, statement_of_identity, stop_use, storage_and_handling, summary_of_safety_and_effectiveness, teratogenic_effects, troubleshooting, use_in_specific_populations, user_safety_warnings, version, veterinary_indications, warnings, warnings_and_cautions, when_using, date, month, year, NDCs, unq_ndc, company_label, product_label, Unnamed: 0_recall, unix, good_ndcs, company_recall, product_recall]\n",
       "Index: []\n",
       "\n",
       "[0 rows x 99 columns]"
      ]
     },
     "execution_count": 46,
     "metadata": {},
     "output_type": "execute_result"
    }
   ],
   "source": [
    "df_merge[df_merge['company_label'].isnull()]"
   ]
  },
  {
   "cell_type": "code",
   "execution_count": 47,
   "metadata": {
    "collapsed": true
   },
   "outputs": [],
   "source": [
    "# df_merge.to_csv('NDC-drugs-with-recalls.csv')"
   ]
  },
  {
   "cell_type": "code",
   "execution_count": 48,
   "metadata": {
    "collapsed": true
   },
   "outputs": [],
   "source": [
    "def time_to_unix(date):\n",
    "    unix_time=time.mktime(datetime.datetime.strptime(date, \"%m/%d/%Y\").timetuple())\n",
    "    return unix_time"
   ]
  },
  {
   "cell_type": "code",
   "execution_count": 49,
   "metadata": {
    "collapsed": true
   },
   "outputs": [],
   "source": [
    "def combine_date_to_unix(month,date,year):\n",
    "    full_date= datetime.datetime(month=month,day=date,year=year)\n",
    "#     print full_date\n",
    "    unix_time=time.mktime(full_date.timetuple())\n",
    "    return unix_time"
   ]
  },
  {
   "cell_type": "code",
   "execution_count": 50,
   "metadata": {},
   "outputs": [
    {
     "data": {
      "text/plain": [
       "947656800.0"
      ]
     },
     "execution_count": 50,
     "metadata": {},
     "output_type": "execute_result"
    }
   ],
   "source": [
    "a=1\n",
    "b=12\n",
    "c=2000\n",
    "combine_date_to_unix(a,b,c)"
   ]
  },
  {
   "cell_type": "code",
   "execution_count": null,
   "metadata": {
    "collapsed": true
   },
   "outputs": [],
   "source": []
  },
  {
   "cell_type": "code",
   "execution_count": 51,
   "metadata": {
    "collapsed": true
   },
   "outputs": [],
   "source": [
    "# df_merge['combo_date_label']=df_merge.apply(lambda x: combine_date(df_merge.iloc[x,'month'],df_merge.iloc[x,'date'],df_merge.iloc[x,'year']))"
   ]
  },
  {
   "cell_type": "code",
   "execution_count": 52,
   "metadata": {
    "collapsed": true
   },
   "outputs": [],
   "source": [
    "# df_merge['combo_date_label'].head()"
   ]
  },
  {
   "cell_type": "code",
   "execution_count": 53,
   "metadata": {
    "collapsed": true
   },
   "outputs": [],
   "source": [
    "df_merge['month']=df_merge['month'].apply(lambda x: 1 if x==0 else x)\n",
    "df_merge['date']=df_merge['date'].apply(lambda x: 1 if x==0 else x)"
   ]
  },
  {
   "cell_type": "code",
   "execution_count": null,
   "metadata": {
    "collapsed": true
   },
   "outputs": [],
   "source": []
  },
  {
   "cell_type": "code",
   "execution_count": 54,
   "metadata": {
    "collapsed": true
   },
   "outputs": [],
   "source": [
    "df_merge['unix_label']=df_merge.apply(lambda x: combine_date_to_unix(x['month'],x['date'],x['year']), axis=1)"
   ]
  },
  {
   "cell_type": "code",
   "execution_count": 55,
   "metadata": {
    "collapsed": true
   },
   "outputs": [],
   "source": [
    "#df_merge['month'][20484]"
   ]
  },
  {
   "cell_type": "code",
   "execution_count": 56,
   "metadata": {},
   "outputs": [
    {
     "data": {
      "text/plain": [
       "0   NaN\n",
       "1   NaN\n",
       "2   NaN\n",
       "3   NaN\n",
       "4   NaN\n",
       "Name: unix, dtype: float64"
      ]
     },
     "execution_count": 56,
     "metadata": {},
     "output_type": "execute_result"
    }
   ],
   "source": [
    "df_merge['unix'].head()"
   ]
  },
  {
   "cell_type": "code",
   "execution_count": 57,
   "metadata": {},
   "outputs": [
    {
     "data": {
      "text/plain": [
       "0    1.372828e+09\n",
       "1    1.372741e+09\n",
       "2    1.372741e+09\n",
       "3    1.373519e+09\n",
       "4    1.373260e+09\n",
       "Name: unix_label, dtype: float64"
      ]
     },
     "execution_count": 57,
     "metadata": {},
     "output_type": "execute_result"
    }
   ],
   "source": [
    "df_merge['unix_label'].head()"
   ]
  },
  {
   "cell_type": "code",
   "execution_count": 58,
   "metadata": {
    "collapsed": true
   },
   "outputs": [],
   "source": [
    "def find_diff(label, recall):\n",
    "    difference=abs(float(recall)-float(label))\n",
    "    return difference"
   ]
  },
  {
   "cell_type": "code",
   "execution_count": 59,
   "metadata": {
    "collapsed": true
   },
   "outputs": [],
   "source": [
    "df_merge['unix_diff']=df_merge.apply(lambda x: find_diff(x['unix_label'],x['unix']),axis=1)"
   ]
  },
  {
   "cell_type": "code",
   "execution_count": 60,
   "metadata": {},
   "outputs": [
    {
     "name": "stdout",
     "output_type": "stream",
     "text": [
      "604800.0\n",
      "196214400.0\n",
      "<type 'numpy.float64'>\n",
      "86743\n"
     ]
    }
   ],
   "source": [
    "print df_merge['unix_diff'].min()\n",
    "print df_merge['unix_diff'].max()\n",
    "print type(df_merge['unix_diff'][0])\n",
    "print df_merge['unix_diff'].isnull().sum()"
   ]
  },
  {
   "cell_type": "code",
   "execution_count": 61,
   "metadata": {},
   "outputs": [
    {
     "data": {
      "text/plain": [
       "<matplotlib.collections.PathCollection at 0x1099bf850>"
      ]
     },
     "execution_count": 61,
     "metadata": {},
     "output_type": "execute_result"
    },
    {
     "data": {
      "image/png": "[encoded data removed]",
      "text/plain": [
       "<matplotlib.figure.Figure at 0x10d801850>"
      ]
     },
     "metadata": {},
     "output_type": "display_data"
    }
   ],
   "source": [
    "plt.scatter(df_merge['unix_label'],df_merge['unix'])"
   ]
  },
  {
   "cell_type": "code",
   "execution_count": 62,
   "metadata": {},
   "outputs": [
    {
     "data": {
      "text/plain": [
       "<matplotlib.collections.PathCollection at 0x10d866d10>"
      ]
     },
     "execution_count": 62,
     "metadata": {},
     "output_type": "execute_result"
    },
    {
     "data": {
      "image/png": "[encoded data removed]",
      "text/plain": [
       "<matplotlib.figure.Figure at 0x10d403710>"
      ]
     },
     "metadata": {},
     "output_type": "display_data"
    }
   ],
   "source": [
    "fig=plt.figure()\n",
    "plt.scatter(df_merge['unix_label'],df_merge['unix_diff'])"
   ]
  },
  {
   "cell_type": "code",
   "execution_count": 63,
   "metadata": {},
   "outputs": [
    {
     "name": "stdout",
     "output_type": "stream",
     "text": [
      "86743\n",
      "0\n"
     ]
    }
   ],
   "source": [
    "list_of_diffs=pd.Series( df_merge['unix_diff'])\n",
    "new_list=list_of_diffs.dropna()\n",
    "print list_of_diffs.isnull().sum()\n",
    "print new_list.isnull().sum()"
   ]
  },
  {
   "cell_type": "code",
   "execution_count": 64,
   "metadata": {},
   "outputs": [
    {
     "name": "stdout",
     "output_type": "stream",
     "text": [
      "87011   1972-07-11 00:00:00\n",
      "87012   1973-03-12 23:00:00\n",
      "87026   1971-09-15 23:00:00\n",
      "87201   1971-11-08 00:00:00\n",
      "87204   1970-12-25 00:00:00\n",
      "Name: unix_diff, dtype: datetime64[ns]\n"
     ]
    },
    {
     "data": {
      "text/plain": [
       "<matplotlib.text.Text at 0x10d880790>"
      ]
     },
     "execution_count": 64,
     "metadata": {},
     "output_type": "execute_result"
    },
    {
     "data": {
      "image/png": "[encoded data removed]",
      "text/plain": [
       "<matplotlib.figure.Figure at 0x10d801050>"
      ]
     },
     "metadata": {},
     "output_type": "display_data"
    }
   ],
   "source": [
    "date_list=pd.to_datetime(new_list,unit='s')\n",
    "print date_list.tail()\n",
    "plt.hist(new_list,bins=20)\n",
    "plt.xlabel('Time')\n"
   ]
  },
  {
   "cell_type": "code",
   "execution_count": 65,
   "metadata": {},
   "outputs": [
    {
     "name": "stdout",
     "output_type": "stream",
     "text": [
      "1.95006292022\n",
      "0.0191780821918\n",
      "6.22191780822\n",
      "1.78904109589\n"
     ]
    }
   ],
   "source": [
    "print new_list.mean()/3600/24/365\n",
    "print new_list.min()/3600/24/365\n",
    "print new_list.max()/3600/24/365\n",
    "print new_list.median()/3600/24/365\n"
   ]
  },
  {
   "cell_type": "code",
   "execution_count": 66,
   "metadata": {
    "collapsed": true
   },
   "outputs": [],
   "source": [
    "df_merge['diff_years']=df_merge['unix_diff'].apply(lambda x: x/31543600.0)"
   ]
  },
  {
   "cell_type": "code",
   "execution_count": 67,
   "metadata": {},
   "outputs": [
    {
     "data": {
      "text/plain": [
       "1.949593079165614"
      ]
     },
     "execution_count": 67,
     "metadata": {},
     "output_type": "execute_result"
    }
   ],
   "source": [
    "df_merge['diff_years'].mean()"
   ]
  },
  {
   "cell_type": "code",
   "execution_count": 68,
   "metadata": {},
   "outputs": [
    {
     "name": "stdout",
     "output_type": "stream",
     "text": [
      "86743\n",
      "0\n"
     ]
    }
   ],
   "source": [
    "list_of_diffs_yrs=pd.Series( df_merge['diff_years'])\n",
    "new_list_yrs=list_of_diffs_yrs.dropna()\n",
    "print list_of_diffs_yrs.isnull().sum()\n",
    "print new_list_yrs.isnull().sum()"
   ]
  },
  {
   "cell_type": "code",
   "execution_count": 69,
   "metadata": {},
   "outputs": [
    {
     "name": "stdout",
     "output_type": "stream",
     "text": [
      "508\n",
      "410 under 3 years\n",
      "283 under 2 years\n",
      "140 under 1 year\n"
     ]
    }
   ],
   "source": [
    "under_1=[]\n",
    "under_2=[]\n",
    "under_3=[]\n",
    "for item in new_list_yrs:\n",
    "    if item<=3:\n",
    "        under_3.append(item)\n",
    "    if item<=2:\n",
    "        under_2.append(item)\n",
    "    if item<=1:\n",
    "        under_1.append(item)\n",
    "print len(new_list_yrs)\n",
    "print len(under_3), 'under 3 years'\n",
    "print len(under_2), 'under 2 years'\n",
    "print len(under_1), 'under 1 year'\n",
    "\n"
   ]
  },
  {
   "cell_type": "code",
   "execution_count": 148,
   "metadata": {},
   "outputs": [
    {
     "name": "stdout",
     "output_type": "stream",
     "text": [
      "87011   1972-07-11 00:00:00\n",
      "87012   1973-03-12 23:00:00\n",
      "87026   1971-09-15 23:00:00\n",
      "87201   1971-11-08 00:00:00\n",
      "87204   1970-12-25 00:00:00\n",
      "Name: unix_diff, dtype: datetime64[ns]\n"
     ]
    },
    {
     "data": {
      "image/png": "[encoded data removed]",
      "text/plain": [
       "<matplotlib.figure.Figure at 0x112258890>"
      ]
     },
     "metadata": {},
     "output_type": "display_data"
    }
   ],
   "source": [
    "date_list=pd.to_datetime(new_list,unit='s')\n",
    "print date_list.tail()\n",
    "plt.hist(new_list_yrs,bins=[0,1,2,3,4,5,6],color='violet',edgecolor='black')\n",
    "plt.xlabel('Time in Years from Release to Recall')\n",
    "plt.ylabel('Number of Drugs with a Recall')\n",
    "plt.title('Time Between Release and Recall',size=20)\n",
    "plt.savefig(\"hist_time_until_recall.png\")"
   ]
  },
  {
   "cell_type": "code",
   "execution_count": 75,
   "metadata": {
    "collapsed": true
   },
   "outputs": [],
   "source": [
    "df_merge['under_3']=df_merge['diff_years'].apply(lambda x: 1 if x<=3 else 0)\n",
    "df_merge['under_2']=df_merge['diff_years'].apply(lambda x: 1 if x<=2 else 0)\n",
    "df_merge['under_1']=df_merge['diff_years'].apply(lambda x: 1 if x<=1 else 0)"
   ]
  },
  {
   "cell_type": "code",
   "execution_count": 76,
   "metadata": {
    "collapsed": true
   },
   "outputs": [],
   "source": [
    "#df_merge['target'].sum()"
   ]
  },
  {
   "cell_type": "code",
   "execution_count": null,
   "metadata": {
    "collapsed": true
   },
   "outputs": [],
   "source": []
  },
  {
   "cell_type": "code",
   "execution_count": 69,
   "metadata": {
    "collapsed": true
   },
   "outputs": [],
   "source": [
    "df_merge.to_csv('NDC-drugs-with-recalls.csv')"
   ]
  },
  {
   "cell_type": "code",
   "execution_count": 77,
   "metadata": {},
   "outputs": [
    {
     "data": {
      "text/html": [
       "<div>\n",
       "<table border=\"1\" class=\"dataframe\">\n",
       "  <thead>\n",
       "    <tr style=\"text-align: right;\">\n",
       "      <th></th>\n",
       "      <th>Unnamed: 0_label</th>\n",
       "      <th>Unnamed: 0.1</th>\n",
       "      <th>abuse</th>\n",
       "      <th>accessories</th>\n",
       "      <th>active_ingredient</th>\n",
       "      <th>adverse_reactions</th>\n",
       "      <th>alarms</th>\n",
       "      <th>animal_pharmacology_and_or_toxicology</th>\n",
       "      <th>ask_doctor</th>\n",
       "      <th>ask_doctor_or_pharmacist</th>\n",
       "      <th>...</th>\n",
       "      <th>unix</th>\n",
       "      <th>good_ndcs</th>\n",
       "      <th>company_recall</th>\n",
       "      <th>product_recall</th>\n",
       "      <th>unix_label</th>\n",
       "      <th>unix_diff</th>\n",
       "      <th>diff_years</th>\n",
       "      <th>under_3</th>\n",
       "      <th>under_2</th>\n",
       "      <th>under_1</th>\n",
       "    </tr>\n",
       "  </thead>\n",
       "  <tbody>\n",
       "    <tr>\n",
       "      <th>0</th>\n",
       "      <td>0</td>\n",
       "      <td>0</td>\n",
       "      <td>0</td>\n",
       "      <td>0</td>\n",
       "      <td>NaN</td>\n",
       "      <td>[u'6 ADVERSE REACTIONS Adults: Most common adv...</td>\n",
       "      <td>0</td>\n",
       "      <td>1</td>\n",
       "      <td>0</td>\n",
       "      <td>0</td>\n",
       "      <td>...</td>\n",
       "      <td>NaN</td>\n",
       "      <td>NaN</td>\n",
       "      <td>NaN</td>\n",
       "      <td>NaN</td>\n",
       "      <td>1.372828e+09</td>\n",
       "      <td>NaN</td>\n",
       "      <td>NaN</td>\n",
       "      <td>0</td>\n",
       "      <td>0</td>\n",
       "      <td>0</td>\n",
       "    </tr>\n",
       "    <tr>\n",
       "      <th>1</th>\n",
       "      <td>1</td>\n",
       "      <td>1</td>\n",
       "      <td>0</td>\n",
       "      <td>0</td>\n",
       "      <td>NaN</td>\n",
       "      <td>[u'6 ADVERSE REACTIONS Most common adverse rea...</td>\n",
       "      <td>0</td>\n",
       "      <td>0</td>\n",
       "      <td>0</td>\n",
       "      <td>0</td>\n",
       "      <td>...</td>\n",
       "      <td>NaN</td>\n",
       "      <td>NaN</td>\n",
       "      <td>NaN</td>\n",
       "      <td>NaN</td>\n",
       "      <td>1.372741e+09</td>\n",
       "      <td>NaN</td>\n",
       "      <td>NaN</td>\n",
       "      <td>0</td>\n",
       "      <td>0</td>\n",
       "      <td>0</td>\n",
       "    </tr>\n",
       "    <tr>\n",
       "      <th>2</th>\n",
       "      <td>2</td>\n",
       "      <td>2</td>\n",
       "      <td>0</td>\n",
       "      <td>0</td>\n",
       "      <td>NaN</td>\n",
       "      <td>[u'ADVERSE REACTIONS (listed alphabetically, u...</td>\n",
       "      <td>0</td>\n",
       "      <td>0</td>\n",
       "      <td>0</td>\n",
       "      <td>0</td>\n",
       "      <td>...</td>\n",
       "      <td>NaN</td>\n",
       "      <td>NaN</td>\n",
       "      <td>NaN</td>\n",
       "      <td>NaN</td>\n",
       "      <td>1.372741e+09</td>\n",
       "      <td>NaN</td>\n",
       "      <td>NaN</td>\n",
       "      <td>0</td>\n",
       "      <td>0</td>\n",
       "      <td>0</td>\n",
       "    </tr>\n",
       "    <tr>\n",
       "      <th>3</th>\n",
       "      <td>3</td>\n",
       "      <td>3</td>\n",
       "      <td>0</td>\n",
       "      <td>0</td>\n",
       "      <td>[u'adenosine']</td>\n",
       "      <td>NaN</td>\n",
       "      <td>0</td>\n",
       "      <td>0</td>\n",
       "      <td>0</td>\n",
       "      <td>0</td>\n",
       "      <td>...</td>\n",
       "      <td>NaN</td>\n",
       "      <td>NaN</td>\n",
       "      <td>NaN</td>\n",
       "      <td>NaN</td>\n",
       "      <td>1.373519e+09</td>\n",
       "      <td>NaN</td>\n",
       "      <td>NaN</td>\n",
       "      <td>0</td>\n",
       "      <td>0</td>\n",
       "      <td>0</td>\n",
       "    </tr>\n",
       "    <tr>\n",
       "      <th>4</th>\n",
       "      <td>4</td>\n",
       "      <td>4</td>\n",
       "      <td>0</td>\n",
       "      <td>0</td>\n",
       "      <td>NaN</td>\n",
       "      <td>[u'ADVERSE REACTIONS: In general, the adverse ...</td>\n",
       "      <td>0</td>\n",
       "      <td>0</td>\n",
       "      <td>0</td>\n",
       "      <td>0</td>\n",
       "      <td>...</td>\n",
       "      <td>NaN</td>\n",
       "      <td>NaN</td>\n",
       "      <td>NaN</td>\n",
       "      <td>NaN</td>\n",
       "      <td>1.373260e+09</td>\n",
       "      <td>NaN</td>\n",
       "      <td>NaN</td>\n",
       "      <td>0</td>\n",
       "      <td>0</td>\n",
       "      <td>0</td>\n",
       "    </tr>\n",
       "  </tbody>\n",
       "</table>\n",
       "<p>5 rows × 105 columns</p>\n",
       "</div>"
      ],
      "text/plain": [
       "   Unnamed: 0_label  Unnamed: 0.1  abuse  accessories active_ingredient  \\\n",
       "0                 0             0      0            0               NaN   \n",
       "1                 1             1      0            0               NaN   \n",
       "2                 2             2      0            0               NaN   \n",
       "3                 3             3      0            0    [u'adenosine']   \n",
       "4                 4             4      0            0               NaN   \n",
       "\n",
       "                                   adverse_reactions  alarms  \\\n",
       "0  [u'6 ADVERSE REACTIONS Adults: Most common adv...       0   \n",
       "1  [u'6 ADVERSE REACTIONS Most common adverse rea...       0   \n",
       "2  [u'ADVERSE REACTIONS (listed alphabetically, u...       0   \n",
       "3                                                NaN       0   \n",
       "4  [u'ADVERSE REACTIONS: In general, the adverse ...       0   \n",
       "\n",
       "   animal_pharmacology_and_or_toxicology  ask_doctor  \\\n",
       "0                                      1           0   \n",
       "1                                      0           0   \n",
       "2                                      0           0   \n",
       "3                                      0           0   \n",
       "4                                      0           0   \n",
       "\n",
       "   ask_doctor_or_pharmacist   ...     unix  good_ndcs  company_recall  \\\n",
       "0                         0   ...      NaN        NaN             NaN   \n",
       "1                         0   ...      NaN        NaN             NaN   \n",
       "2                         0   ...      NaN        NaN             NaN   \n",
       "3                         0   ...      NaN        NaN             NaN   \n",
       "4                         0   ...      NaN        NaN             NaN   \n",
       "\n",
       "   product_recall    unix_label unix_diff  diff_years  under_3 under_2  \\\n",
       "0             NaN  1.372828e+09       NaN         NaN        0       0   \n",
       "1             NaN  1.372741e+09       NaN         NaN        0       0   \n",
       "2             NaN  1.372741e+09       NaN         NaN        0       0   \n",
       "3             NaN  1.373519e+09       NaN         NaN        0       0   \n",
       "4             NaN  1.373260e+09       NaN         NaN        0       0   \n",
       "\n",
       "   under_1  \n",
       "0        0  \n",
       "1        0  \n",
       "2        0  \n",
       "3        0  \n",
       "4        0  \n",
       "\n",
       "[5 rows x 105 columns]"
      ]
     },
     "execution_count": 77,
     "metadata": {},
     "output_type": "execute_result"
    }
   ],
   "source": [
    "df_merge.head()"
   ]
  },
  {
   "cell_type": "code",
   "execution_count": 91,
   "metadata": {},
   "outputs": [
    {
     "name": "stdout",
     "output_type": "stream",
     "text": [
      "      Unnamed: 0_label  Unnamed: 0.1  abuse  accessories active_ingredient  \\\n",
      "4344              5929          5929      0            0               NaN   \n",
      "\n",
      "                                      adverse_reactions  alarms  \\\n",
      "4344  [u'ADVERSE REACTIONS Virtually all patients ex...       0   \n",
      "\n",
      "      animal_pharmacology_and_or_toxicology  ask_doctor  \\\n",
      "4344                                      0           0   \n",
      "\n",
      "      ask_doctor_or_pharmacist   ...     unix  good_ndcs  company_recall  \\\n",
      "4344                         0   ...      NaN        NaN             NaN   \n",
      "\n",
      "      product_recall    unix_label unix_diff  diff_years  under_3 under_2  \\\n",
      "4344             NaN  1.484633e+09       NaN         NaN        0       0   \n",
      "\n",
      "      under_1  \n",
      "4344        0  \n",
      "\n",
      "[1 rows x 105 columns]\n"
     ]
    }
   ],
   "source": [
    "print df_merge[df_merge['unq_ndc']=='68462-792']"
   ]
  },
  {
   "cell_type": "code",
   "execution_count": 92,
   "metadata": {},
   "outputs": [
    {
     "name": "stdout",
     "output_type": "stream",
     "text": [
      "Unnamed: 0_label                                                                                           5929\n",
      "Unnamed: 0.1                                                                                               5929\n",
      "abuse                                                                                                         0\n",
      "accessories                                                                                                   0\n",
      "active_ingredient                                                                                           NaN\n",
      "adverse_reactions                                             [u'ADVERSE REACTIONS Virtually all patients ex...\n",
      "alarms                                                                                                        0\n",
      "animal_pharmacology_and_or_toxicology                                                                         0\n",
      "ask_doctor                                                                                                    0\n",
      "ask_doctor_or_pharmacist                                                                                      0\n",
      "assembly_or_installation_instructions                                                                         0\n",
      "boxed_warning                                                                                                 0\n",
      "calibration_instructions                                                                                      0\n",
      "carcinogenesis_and_mutagenesis_and_impairment_of_fertility                                                    1\n",
      "cleaning                                                                                                      0\n",
      "clinical_pharmacology                                         [u'CLINICAL PHARMACOLOGY Mechanism of Action T...\n",
      "clinical_studies                                                                                              1\n",
      "components                                                                                                    0\n",
      "contraindications                                             [u'CONTRAINDICATIONS Tretinoin is contraindica...\n",
      "controlled_substance                                                                                          0\n",
      "dependence                                                                                                    0\n",
      "description                                                   [u'DESCRIPTION Tretinoin, USP is a retinoid th...\n",
      "diagram_of_device                                                                                             0\n",
      "disposal_and_waste_handling                                                                                   0\n",
      "do_not_use                                                                                                    0\n",
      "dosage_and_administration                                     [u'DOSAGE AND ADMINISTRATION The recommended d...\n",
      "dosage_forms_and_strengths                                                                                    0\n",
      "drug_abuse_and_dependence                                                                                     0\n",
      "drug_and_or_laboratory_test_interactions                                                                      0\n",
      "drug_interactions                                                                                             1\n",
      "                                                                                    ...                        \n",
      "stop_use                                                                                                    NaN\n",
      "storage_and_handling                                                                                        NaN\n",
      "summary_of_safety_and_effectiveness                                                                           0\n",
      "teratogenic_effects                                                                                           0\n",
      "troubleshooting                                                                                               0\n",
      "use_in_specific_populations                                                                                   0\n",
      "user_safety_warnings                                                                                          0\n",
      "version                                                                                                       1\n",
      "veterinary_indications                                                                                        0\n",
      "warnings                                                      [u'WARNINGS Pregnancy Category D \\u2013 See Bo...\n",
      "warnings_and_cautions                                                                                         0\n",
      "when_using                                                                                                    0\n",
      "date                                                                                                         17\n",
      "month                                                                                                         1\n",
      "year                                                                                                       2017\n",
      "NDCs                                                                                                         []\n",
      "unq_ndc                                                                                               68462-792\n",
      "company_label                                                                                             68462\n",
      "product_label                                                                                               792\n",
      "Unnamed: 0_recall                                                                                           NaN\n",
      "unix                                                                                                        NaN\n",
      "good_ndcs                                                                                                   NaN\n",
      "company_recall                                                                                              NaN\n",
      "product_recall                                                                                              NaN\n",
      "unix_label                                                                                          1.48463e+09\n",
      "unix_diff                                                                                                   NaN\n",
      "diff_years                                                                                                  NaN\n",
      "under_3                                                                                                       0\n",
      "under_2                                                                                                       0\n",
      "under_1                                                                                                       0\n",
      "Name: 4344, dtype: object\n"
     ]
    }
   ],
   "source": [
    "print df_merge.iloc[4344,]"
   ]
  },
  {
   "cell_type": "code",
   "execution_count": 143,
   "metadata": {},
   "outputs": [
    {
     "data": {
      "image/png": "[encoded data removed]",
      "text/plain": [
       "<matplotlib.figure.Figure at 0x1120c0710>"
      ]
     },
     "metadata": {},
     "output_type": "display_data"
    }
   ],
   "source": [
    "plt.hist(df_merge['year'], bins=[2008,2009,2010,2011,2012,2013,2014,2015,2016,2017],color='orange',edgecolor='black')\n",
    "plt.xlim(2008,2017)\n",
    "plt.xlabel('Year')\n",
    "plt.ylabel('Number of Drug Labels Released')\n",
    "x=[2015,2015]\n",
    "y=[0,35000]\n",
    "plt.plot(x,y,color='black')\n",
    "plt.title('Number of Drug Labels Released per Year',size=20)\n",
    "plt.savefig('drug_releases_per_year.png')"
   ]
  },
  {
   "cell_type": "code",
   "execution_count": null,
   "metadata": {
    "collapsed": true
   },
   "outputs": [],
   "source": []
  }
 ],
 "metadata": {
  "kernelspec": {
   "display_name": "Python 2",
   "language": "python",
   "name": "python2"
  },
  "language_info": {
   "codemirror_mode": {
    "name": "ipython",
    "version": 2
   },
   "file_extension": ".py",
   "mimetype": "text/x-python",
   "name": "python",
   "nbconvert_exporter": "python",
   "pygments_lexer": "ipython2",
   "version": "2.7.13"
  }
 },
 "nbformat": 4,
 "nbformat_minor": 2
}
