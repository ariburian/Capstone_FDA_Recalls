{
 "cells": [
  {
   "cell_type": "code",
   "execution_count": 1,
   "metadata": {
    "collapsed": false
   },
   "outputs": [
    {
     "name": "stdout",
     "output_type": "stream",
     "text": [
      "                            address_1 address_2 center_classification_date  \\\n",
      "0                   7050 Camp Hill Rd                             20120702   \n",
      "1             600 N Field Dr Bldg J45                             20120620   \n",
      "2             12515 E 55th St Ste 100                             20120618   \n",
      "3                    150 Signet Drive                             20120802   \n",
      "4  200 Somerset Corporate Blvd Fl 7th                             20120731   \n",
      "\n",
      "              city classification  \\\n",
      "0  Fort Washington      Class III   \n",
      "1      Lake Forest      Class III   \n",
      "2            Tulsa        Class I   \n",
      "3          Toronto       Class II   \n",
      "4      Bridgewater       Class II   \n",
      "\n",
      "                                           code_info        country  \\\n",
      "0                     Lot #CMF023, Expiration 07/13.  United States   \n",
      "1   Lot #: 04510KL*, Exp 01OCT2012; *lot number m...  United States   \n",
      "2   PTC Drug Number: 4033.  PTC Batch Number: 65I...  United States   \n",
      "3          Lot #s: JN1060, JN1061, JN1062, Exp 06/12         Canada   \n",
      "4                          C201293  Exp Date 08/2013  United States   \n",
      "\n",
      "         distribution_pattern event_id initial_firm_notification  \\\n",
      "0                  Nationwide    61872                    Letter   \n",
      "1                  Nationwide    62053                    Letter   \n",
      "2                          FL    61233                       FAX   \n",
      "3  Nationwide and Puerto Rico    62574                    Letter   \n",
      "4  Nationwide and Puerto Rico    62591                    Letter   \n",
      "\n",
      "             ...             product_type  \\\n",
      "0            ...                    Drugs   \n",
      "1            ...                    Drugs   \n",
      "2            ...                    Drugs   \n",
      "3            ...                    Drugs   \n",
      "4            ...                    Drugs   \n",
      "\n",
      "                                   reason_for_recall recall_initiation_date  \\\n",
      "0        Defective Container; damaged blister units                20120517   \n",
      "1  Superpotent (Single Ingredient) Drug: Above sp...               20120405   \n",
      "2  Labeling: Label mix-up; Bottles labeled to con...               20101110   \n",
      "3  Presence of Particulate Matter:  Lots identifi...               20120430   \n",
      "4  Adulterated Presence of Foreign Tablets: Dr. R...               20120409   \n",
      "\n",
      "  recall_number                                     recalling_firm  \\\n",
      "0   D-1404-2012  Mcneil Consumer Healthcare, Div Of Mcneil-ppc,...   \n",
      "1   D-1390-2012                                      Hospira, Inc.   \n",
      "2   D-1385-2012                         Physicians Total Care, Inc   \n",
      "3   D-1439-2012                                        Apotex Inc.   \n",
      "4   D-1434-2012                     Dr. Reddy's Laboratories, Inc.   \n",
      "\n",
      "  report_date state      status termination_date         voluntary_mandated  \n",
      "0    20120711    PA  Terminated         20130411  Voluntary: Firm Initiated  \n",
      "1    20120627    IL  Terminated         20130808  Voluntary: Firm Initiated  \n",
      "2    20120627    OK  Terminated         20120724  Voluntary: Firm Initiated  \n",
      "3    20120808        Terminated         20130919  Voluntary: Firm Initiated  \n",
      "4    20120808    NJ  Terminated         20130124  Voluntary: Firm Initiated  \n",
      "\n",
      "[5 rows x 25 columns]\n"
     ]
    }
   ],
   "source": [
    "import pandas as pd \n",
    "import json\n",
    "\n",
    "\n",
    "\n",
    "\n",
    "filename='drug-enforcement-0001-of-0001.json'\n",
    "with open(filename) as json_data:\n",
    "\td=json.load(json_data)\n",
    "\n",
    "\n",
    "df=pd.DataFrame(d['results'])\n",
    "print df.head()"
   ]
  },
  {
   "cell_type": "code",
   "execution_count": 6,
   "metadata": {
    "collapsed": false
   },
   "outputs": [
    {
     "name": "stdout",
     "output_type": "stream",
     "text": [
      "(7002, 25)\n",
      "Index([u'address_1', u'address_2', u'center_classification_date', u'city',\n",
      "       u'classification', u'code_info', u'country', u'distribution_pattern',\n",
      "       u'event_id', u'initial_firm_notification', u'more_code_info',\n",
      "       u'openfda', u'postal_code', u'product_description', u'product_quantity',\n",
      "       u'product_type', u'reason_for_recall', u'recall_initiation_date',\n",
      "       u'recall_number', u'recalling_firm', u'report_date', u'state',\n",
      "       u'status', u'termination_date', u'voluntary_mandated'],\n",
      "      dtype='object')\n",
      "<class 'pandas.core.frame.DataFrame'>\n",
      "RangeIndex: 7002 entries, 0 to 7001\n",
      "Data columns (total 25 columns):\n",
      "address_1                     7002 non-null object\n",
      "address_2                     7002 non-null object\n",
      "center_classification_date    7002 non-null object\n",
      "city                          7002 non-null object\n",
      "classification                7002 non-null object\n",
      "code_info                     7002 non-null object\n",
      "country                       7002 non-null object\n",
      "distribution_pattern          7002 non-null object\n",
      "event_id                      7002 non-null object\n",
      "initial_firm_notification     7002 non-null object\n",
      "more_code_info                2 non-null object\n",
      "openfda                       7002 non-null object\n",
      "postal_code                   7002 non-null object\n",
      "product_description           7002 non-null object\n",
      "product_quantity              7002 non-null object\n",
      "product_type                  7002 non-null object\n",
      "reason_for_recall             7002 non-null object\n",
      "recall_initiation_date        7002 non-null object\n",
      "recall_number                 7002 non-null object\n",
      "recalling_firm                7002 non-null object\n",
      "report_date                   7002 non-null object\n",
      "state                         7002 non-null object\n",
      "status                        7002 non-null object\n",
      "termination_date              3849 non-null object\n",
      "voluntary_mandated            7002 non-null object\n",
      "dtypes: object(25)\n",
      "memory usage: 1.3+ MB\n",
      "None\n",
      "address_1                     object\n",
      "address_2                     object\n",
      "center_classification_date    object\n",
      "city                          object\n",
      "classification                object\n",
      "code_info                     object\n",
      "country                       object\n",
      "distribution_pattern          object\n",
      "event_id                      object\n",
      "initial_firm_notification     object\n",
      "more_code_info                object\n",
      "openfda                       object\n",
      "postal_code                   object\n",
      "product_description           object\n",
      "product_quantity              object\n",
      "product_type                  object\n",
      "reason_for_recall             object\n",
      "recall_initiation_date        object\n",
      "recall_number                 object\n",
      "recalling_firm                object\n",
      "report_date                   object\n",
      "state                         object\n",
      "status                        object\n",
      "termination_date              object\n",
      "voluntary_mandated            object\n",
      "dtype: object\n"
     ]
    }
   ],
   "source": [
    "print df.shape\n",
    "print df.columns\n",
    "# print df.describe()\n",
    "print df.info()\n",
    "print df.dtypes"
   ]
  },
  {
   "cell_type": "code",
   "execution_count": 10,
   "metadata": {
    "collapsed": false
   },
   "outputs": [
    {
     "name": "stdout",
     "output_type": "stream",
     "text": [
      "Voluntary: Firm Initiated    6989\n",
      "Voluntary: FDA Requested       13\n",
      "Name: voluntary_mandated, dtype: int64\n"
     ]
    }
   ],
   "source": [
    "print df['voluntary_mandated'].value_counts()"
   ]
  },
  {
   "cell_type": "code",
   "execution_count": null,
   "metadata": {
    "collapsed": true
   },
   "outputs": [],
   "source": []
  }
 ],
 "metadata": {
  "kernelspec": {
   "display_name": "Python 2",
   "language": "python",
   "name": "python2"
  },
  "language_info": {
   "codemirror_mode": {
    "name": "ipython",
    "version": 2
   },
   "file_extension": ".py",
   "mimetype": "text/x-python",
   "name": "python",
   "nbconvert_exporter": "python",
   "pygments_lexer": "ipython2",
   "version": "2.7.13"
  }
 },
 "nbformat": 4,
 "nbformat_minor": 2
}
