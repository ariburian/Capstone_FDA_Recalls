{
 "cells": [
  {
   "cell_type": "code",
   "execution_count": 1,
   "metadata": {
    "collapsed": true
   },
   "outputs": [],
   "source": [
    "import pandas as pd\n",
    "import numpy as np\n",
    "import matplotlib.pyplot as plt\n",
    "from sklearn.model_selection import train_test_split\n",
    "from sklearn.linear_model import LogisticRegression\n",
    "from sklearn.metrics import recall_score\n",
    "from sklearn.decomposition import PCA, TruncatedSVD\n",
    "from sklearn.feature_extraction.text import TfidfVectorizer\n",
    "from sklearn.manifold import TSNE\n",
    "from sklearn.cluster import AgglomerativeClustering\n",
    "from sklearn.preprocessing import StandardScaler"
   ]
  },
  {
   "cell_type": "code",
   "execution_count": null,
   "metadata": {
    "collapsed": true
   },
   "outputs": [],
   "source": []
  },
  {
   "cell_type": "code",
   "execution_count": null,
   "metadata": {
    "collapsed": true
   },
   "outputs": [],
   "source": []
  },
  {
   "cell_type": "code",
   "execution_count": 2,
   "metadata": {
    "collapsed": true
   },
   "outputs": [],
   "source": [
    "df=pd.read_csv('training_data_cleansed.csv')"
   ]
  },
  {
   "cell_type": "code",
   "execution_count": 3,
   "metadata": {
    "collapsed": true
   },
   "outputs": [],
   "source": [
    "nlp_features=[u'adverse_reactions', u'clinical_pharmacology',\n",
    "       u'contraindications', u'description', u'dosage_and_administration',\n",
    "       u'how_supplied', u'indications_and_usage', u'overdosage',\n",
    "       u'spl_product_data_elements']"
   ]
  },
  {
   "cell_type": "code",
   "execution_count": 4,
   "metadata": {},
   "outputs": [
    {
     "data": {
      "text/html": [
       "<div>\n",
       "<table border=\"1\" class=\"dataframe\">\n",
       "  <thead>\n",
       "    <tr style=\"text-align: right;\">\n",
       "      <th></th>\n",
       "      <th>adverse_reactions</th>\n",
       "      <th>clinical_pharmacology</th>\n",
       "      <th>contraindications</th>\n",
       "      <th>description</th>\n",
       "      <th>dosage_and_administration</th>\n",
       "      <th>how_supplied</th>\n",
       "      <th>indications_and_usage</th>\n",
       "      <th>overdosage</th>\n",
       "      <th>spl_product_data_elements</th>\n",
       "    </tr>\n",
       "  </thead>\n",
       "  <tbody>\n",
       "    <tr>\n",
       "      <th>0</th>\n",
       "      <td>u 6 advers reaction adult common advers reacti...</td>\n",
       "      <td>u 12 clinic pharmacolog 12 1 mechan action ome...</td>\n",
       "      <td>u 4 contraind omeprazol delay releas capsul co...</td>\n",
       "      <td>u 11 descript activ ingredi omeprazol delay re...</td>\n",
       "      <td>u 2 dosag administr omeprazol delay releas cap...</td>\n",
       "      <td>u 16 suppli storag handl omeprazol delay relea...</td>\n",
       "      <td>u 1 indic usag omeprazol proton pump inhibitor...</td>\n",
       "      <td>u 10 overdosag report receiv overdosag omepraz...</td>\n",
       "      <td>u omeprazol omeprazol omeprazol omeprazol ammo...</td>\n",
       "    </tr>\n",
       "    <tr>\n",
       "      <th>1</th>\n",
       "      <td>u 6 advers reaction common advers reaction inc...</td>\n",
       "      <td>u 12 clinic pharmacolog 12 1 mechan action mec...</td>\n",
       "      <td>u 4 contraind carisoprodol tablet contraind pa...</td>\n",
       "      <td>u 11 descript carisoprodol tablet usp avail 35...</td>\n",
       "      <td>u 2 dosag administr recommend dose carisoprodo...</td>\n",
       "      <td>u 16 suppli storag handl 350 mg tablet white r...</td>\n",
       "      <td>u 1 indic usag carisoprodol tablet indic relie...</td>\n",
       "      <td>u 10 overdosag overdosag carisoprodol commonli...</td>\n",
       "      <td>u carisoprodol carisoprodol carisoprodol caris...</td>\n",
       "    </tr>\n",
       "    <tr>\n",
       "      <th>2</th>\n",
       "      <td>u advers reaction list alphabet subsect follow...</td>\n",
       "      <td>u clinic pharmacolog glucocorticoid natur occu...</td>\n",
       "      <td>u contraind contraind system fungal infect see...</td>\n",
       "      <td>u descript dexamethason tablet 0 5 0 75 1 1 5 ...</td>\n",
       "      <td>NaN</td>\n",
       "      <td>u suppli dexamethason tablet usp 0 5 mg yellow...</td>\n",
       "      <td>u indic usag allerg state control sever incapa...</td>\n",
       "      <td>u overdosag treatment overdosag support sympto...</td>\n",
       "      <td>u dexamethason dexamethason dexamethason dexam...</td>\n",
       "    </tr>\n",
       "    <tr>\n",
       "      <th>3</th>\n",
       "      <td>NaN</td>\n",
       "      <td>NaN</td>\n",
       "      <td>NaN</td>\n",
       "      <td>NaN</td>\n",
       "      <td>u topic use</td>\n",
       "      <td>NaN</td>\n",
       "      <td>u appli evenli face pat gentli absorpt</td>\n",
       "      <td>NaN</td>\n",
       "      <td>u nmc staypot doubl program cream adenosin ade...</td>\n",
       "    </tr>\n",
       "    <tr>\n",
       "      <th>4</th>\n",
       "      <td>u advers reaction gener advers reaction digoxi...</td>\n",
       "      <td>u clinic pharmacolog mechan action digoxin inh...</td>\n",
       "      <td>u contraind digitali glycosid contraind patien...</td>\n",
       "      <td>u descript digoxin one cardiac digitali glycos...</td>\n",
       "      <td>u dosag administr gener recommend dosag digoxi...</td>\n",
       "      <td>u suppli digoxin tablet usp 0 125 mg yellow ro...</td>\n",
       "      <td>u indic usag heart failur digoxin tablet indic...</td>\n",
       "      <td>u overdosag sign symptom sign symptom toxic ge...</td>\n",
       "      <td>u digoxin digoxin digoxin digoxin anhydr lacto...</td>\n",
       "    </tr>\n",
       "    <tr>\n",
       "      <th>5</th>\n",
       "      <td>u advers reaction advers reaction report contr...</td>\n",
       "      <td>u clinic pharmacolog pharmacodynam naproxen no...</td>\n",
       "      <td>u contraind naproxen tablet contraind patient ...</td>\n",
       "      <td>u descript naproxen proprion acid deriv relat ...</td>\n",
       "      <td>u dosag administr care consid potenti benefit ...</td>\n",
       "      <td>u suppli naproxen tablet 500 mg white white ca...</td>\n",
       "      <td>u indic usag care consid potenti benefit risk ...</td>\n",
       "      <td>u overdosag symptom sign signific naproxen ove...</td>\n",
       "      <td>u naproxen naproxen naproxen naproxen croscarm...</td>\n",
       "    </tr>\n",
       "    <tr>\n",
       "      <th>6</th>\n",
       "      <td>NaN</td>\n",
       "      <td>NaN</td>\n",
       "      <td>NaN</td>\n",
       "      <td>NaN</td>\n",
       "      <td>u direct appli cream liber often need</td>\n",
       "      <td>NaN</td>\n",
       "      <td>u use temporarili protect help reliev chap cra...</td>\n",
       "      <td>NaN</td>\n",
       "      <td>u goodstuff skin protect dimethicon dimethicon...</td>\n",
       "    </tr>\n",
       "    <tr>\n",
       "      <th>7</th>\n",
       "      <td>u advers reaction sever itch erythema rash obs...</td>\n",
       "      <td>u clinic pharmacolog carrier free gallium citr...</td>\n",
       "      <td>u contraind none known</td>\n",
       "      <td>u descript gallium citrat ga 67 inject suppli ...</td>\n",
       "      <td>u dosag administr recommend adult 70 kg dose g...</td>\n",
       "      <td>u suppli gallium citrat ga 67 inject suppli st...</td>\n",
       "      <td>u indic usag gallium citrat ga 67 inject may u...</td>\n",
       "      <td>NaN</td>\n",
       "      <td>u gallium gallium citrat ga 67 gallium citrat ...</td>\n",
       "    </tr>\n",
       "    <tr>\n",
       "      <th>8</th>\n",
       "      <td>NaN</td>\n",
       "      <td>NaN</td>\n",
       "      <td>NaN</td>\n",
       "      <td>NaN</td>\n",
       "      <td>u direct use twice daili morn even massag smal...</td>\n",
       "      <td>NaN</td>\n",
       "      <td>u indic usag gradual bleach hyperpig skin cond...</td>\n",
       "      <td>NaN</td>\n",
       "      <td>u obagi c rx system normal dri skin intervent ...</td>\n",
       "    </tr>\n",
       "    <tr>\n",
       "      <th>9</th>\n",
       "      <td>NaN</td>\n",
       "      <td>NaN</td>\n",
       "      <td>NaN</td>\n",
       "      <td>u gram obagi c rx c clarifi serum normal oili ...</td>\n",
       "      <td>u direct use twice daili morn even massag smal...</td>\n",
       "      <td>NaN</td>\n",
       "      <td>u indic usag gradual bleach hyperpig skin cond...</td>\n",
       "      <td>NaN</td>\n",
       "      <td>u obagi c rx system normal oili skin intervent...</td>\n",
       "    </tr>\n",
       "    <tr>\n",
       "      <th>10</th>\n",
       "      <td>NaN</td>\n",
       "      <td>NaN</td>\n",
       "      <td>NaN</td>\n",
       "      <td>NaN</td>\n",
       "      <td>u direct clean skin thoroughli appli product c...</td>\n",
       "      <td>NaN</td>\n",
       "      <td>u use treatment acn</td>\n",
       "      <td>NaN</td>\n",
       "      <td>u benzoyl peroxid benzoyl peroxid benzoyl pero...</td>\n",
       "    </tr>\n",
       "    <tr>\n",
       "      <th>11</th>\n",
       "      <td>NaN</td>\n",
       "      <td>NaN</td>\n",
       "      <td>NaN</td>\n",
       "      <td>NaN</td>\n",
       "      <td>u distribut famili dollar servic inc 10401 mon...</td>\n",
       "      <td>NaN</td>\n",
       "      <td>u direct wash affect area dri thoroughli appli...</td>\n",
       "      <td>NaN</td>\n",
       "      <td>u famili well antifung clotrimazol clotrimazol...</td>\n",
       "    </tr>\n",
       "    <tr>\n",
       "      <th>12</th>\n",
       "      <td>u 6 advers reaction hypercalcemia discuss else...</td>\n",
       "      <td>u 12 clinic pharmacolog patient esrd retain ph...</td>\n",
       "      <td>u 4 contraind patient hypercalcemia u2022 hype...</td>\n",
       "      <td>u 11 descript calcium acet act phosphat binder...</td>\n",
       "      <td>u 2 dosag administr recommend initi dose calci...</td>\n",
       "      <td>u 16 suppli storag handl calcium acet tablet u...</td>\n",
       "      <td>u 1 indic usag calcium acet phosphat binder in...</td>\n",
       "      <td>u 10 overdosag administr calcium acet excess a...</td>\n",
       "      <td>u calcium acet calcium acet calcium acet calci...</td>\n",
       "    </tr>\n",
       "    <tr>\n",
       "      <th>13</th>\n",
       "      <td>NaN</td>\n",
       "      <td>NaN</td>\n",
       "      <td>NaN</td>\n",
       "      <td>NaN</td>\n",
       "      <td>u direct appli thin layer arnica gel affect ar...</td>\n",
       "      <td>NaN</td>\n",
       "      <td>u use relief muscl pain stiff due minor injuri...</td>\n",
       "      <td>NaN</td>\n",
       "      <td>u arnica arnica montana arnica montana arnica ...</td>\n",
       "    </tr>\n",
       "    <tr>\n",
       "      <th>14</th>\n",
       "      <td>u advers reaction advers reaction report speci...</td>\n",
       "      <td>NaN</td>\n",
       "      <td>u contraind c nate dha use patient known histo...</td>\n",
       "      <td>u descript u softgel contain omega 3 fatti aci...</td>\n",
       "      <td>u dosag administr usual adult dose one softgel...</td>\n",
       "      <td>u suppli c nate dha avail annato color softgel...</td>\n",
       "      <td>u indic usag c nate dha prescript multivitamin...</td>\n",
       "      <td>NaN</td>\n",
       "      <td>u c nate dha omega 3 fatti acid icosap doconex...</td>\n",
       "    </tr>\n",
       "    <tr>\n",
       "      <th>15</th>\n",
       "      <td>u advers reaction commonli encount side effect...</td>\n",
       "      <td>u clinic pharmacolog alcohol produc injuri tis...</td>\n",
       "      <td>u contraind subarachnoid inject dehydr alcohol...</td>\n",
       "      <td>u descript dehydr alcohol inject usp consist l...</td>\n",
       "      <td>u dosag administr dosag dehydr alcohol inject ...</td>\n",
       "      <td>NaN</td>\n",
       "      <td>u indic usag dehydr alcohol inject usp indic t...</td>\n",
       "      <td>u overdosag excess faulti local inject may res...</td>\n",
       "      <td>u dehydr alcohol alcohol alcohol alcohol</td>\n",
       "    </tr>\n",
       "    <tr>\n",
       "      <th>16</th>\n",
       "      <td>NaN</td>\n",
       "      <td>NaN</td>\n",
       "      <td>NaN</td>\n",
       "      <td>NaN</td>\n",
       "      <td>u direct sunscreen use appli gener evenli 15 m...</td>\n",
       "      <td>NaN</td>\n",
       "      <td>u use help prevent sunburn use direct sun prot...</td>\n",
       "      <td>NaN</td>\n",
       "      <td>u dr andrew weil origin mega bright spf 30 ski...</td>\n",
       "    </tr>\n",
       "    <tr>\n",
       "      <th>17</th>\n",
       "      <td>u advers reaction advers reaction sucralf clin...</td>\n",
       "      <td>u clinic pharmacolog sucralf minim absorb gast...</td>\n",
       "      <td>u contraind sucralf tablet contraind patient k...</td>\n",
       "      <td>u descript sucralf usp u03b1 glucopyranosid u0...</td>\n",
       "      <td>u dosag administr activ duoden ulcer recommend...</td>\n",
       "      <td>u suppli sucralf tablet usp avail white capsul...</td>\n",
       "      <td>u indic usag sucralf tablet usp indic short te...</td>\n",
       "      <td>u overdosag due limit experi human overdosag s...</td>\n",
       "      <td>u sucralf sucralf sucralf sucralf starch corn ...</td>\n",
       "    </tr>\n",
       "    <tr>\n",
       "      <th>18</th>\n",
       "      <td>u advers reaction lisinopril found gener well ...</td>\n",
       "      <td>u clinic pharmacolog mechan action lisinopril ...</td>\n",
       "      <td>u contraind lisinopril tablet contraind patien...</td>\n",
       "      <td>u descript lisinopril oral long act angiotensi...</td>\n",
       "      <td>u dosag administr hypertens initi therapi pati...</td>\n",
       "      <td>u suppli lisinopril tablet usp avail 10 mg tab...</td>\n",
       "      <td>u indic usag hypertens lisinopril tablet usp i...</td>\n",
       "      <td>u overdosag follow singl oral dose 20 g kg let...</td>\n",
       "      <td>u lisinopril lisinopril lisinopril lisinopril ...</td>\n",
       "    </tr>\n",
       "    <tr>\n",
       "      <th>19</th>\n",
       "      <td>NaN</td>\n",
       "      <td>NaN</td>\n",
       "      <td>NaN</td>\n",
       "      <td>NaN</td>\n",
       "      <td>u direct u25a0 pump hand wet need u25a0 lather...</td>\n",
       "      <td>NaN</td>\n",
       "      <td>u use u25a0 handwash decreas bacteria skin</td>\n",
       "      <td>NaN</td>\n",
       "      <td>u famili dollar foam antibacteri hand wash tri...</td>\n",
       "    </tr>\n",
       "    <tr>\n",
       "      <th>20</th>\n",
       "      <td>u advers reaction advers reaction data deriv p...</td>\n",
       "      <td>u clinic pharmacolog pharmacodynam oxaprozin n...</td>\n",
       "      <td>u contraind oxaprozin contraind patient known ...</td>\n",
       "      <td>u descript oxaprozin usp nonsteroid anti infla...</td>\n",
       "      <td>u dosag administr care consid potenti benefit ...</td>\n",
       "      <td>u suppli ndc 68151 0523 0 packag 1 tablet</td>\n",
       "      <td>u indic usag care consid potenti benefit risk ...</td>\n",
       "      <td>u overdosag patient experienc either accident ...</td>\n",
       "      <td>u oxaprozin oxaprozin oxaprozin oxaprozin sili...</td>\n",
       "    </tr>\n",
       "    <tr>\n",
       "      <th>21</th>\n",
       "      <td>NaN</td>\n",
       "      <td>NaN</td>\n",
       "      <td>NaN</td>\n",
       "      <td>NaN</td>\n",
       "      <td>u exceed recommend dosag use pain accident swa...</td>\n",
       "      <td>NaN</td>\n",
       "      <td>u use oral mucos use use direct dentist tempor...</td>\n",
       "      <td>NaN</td>\n",
       "      <td>u bencocain topic anesthet benzocain benzocain...</td>\n",
       "    </tr>\n",
       "    <tr>\n",
       "      <th>22</th>\n",
       "      <td>u advers reaction frequent side effect oral er...</td>\n",
       "      <td>u clinic pharmacolog oral administ erythromyci...</td>\n",
       "      <td>u contraind erythromycin contraind patient kno...</td>\n",
       "      <td>u descript eri tab erythromycin delay releas t...</td>\n",
       "      <td>u dosag administr patient eri tab erythromycin...</td>\n",
       "      <td>u suppli ndc 68151 1170 1 packag 1 tablet dela...</td>\n",
       "      <td>u indic usag reduc develop drug resist bacteri...</td>\n",
       "      <td>u overdosag case overdosag erythromycin discon...</td>\n",
       "      <td>u eri tab erythromycin erythromycin erythromyc...</td>\n",
       "    </tr>\n",
       "    <tr>\n",
       "      <th>23</th>\n",
       "      <td>u advers reaction hypervitaminosi character ef...</td>\n",
       "      <td>u clinic pharmacolog synthesi major biolog act...</td>\n",
       "      <td>u contraind ergocalciferol capsul contraind pa...</td>\n",
       "      <td>u descript ergocalciferol capsul usp synthet c...</td>\n",
       "      <td>u dosag administr rang therapeut toxic dose na...</td>\n",
       "      <td>u suppli ndc 68151 0490 0 packag 1 capsul liqu...</td>\n",
       "      <td>u indic usag ergocalciferol capsul indic use t...</td>\n",
       "      <td>u overdosag effect administ vitamin persist tw...</td>\n",
       "      <td>u ergocalciferol ergocalciferol ergocalciferol...</td>\n",
       "    </tr>\n",
       "    <tr>\n",
       "      <th>24</th>\n",
       "      <td>u advers reaction advers reaction list report ...</td>\n",
       "      <td>u clinic pharmacolog adult gi effect famotidin...</td>\n",
       "      <td>u contraind hypersensit compon product cross s...</td>\n",
       "      <td>u descript activ ingredi famotidin tablet usp ...</td>\n",
       "      <td>u dosag administr duoden ulcer acut therapi re...</td>\n",
       "      <td>u suppli ndc 68151 0184 0 packag 1 tablet film...</td>\n",
       "      <td>u indic usag famotidin indic 1 adult patient h...</td>\n",
       "      <td>u overdosag advers reaction overdos case simil...</td>\n",
       "      <td>u famotidin famotidin famotidin famotidin sili...</td>\n",
       "    </tr>\n",
       "    <tr>\n",
       "      <th>25</th>\n",
       "      <td>NaN</td>\n",
       "      <td>NaN</td>\n",
       "      <td>NaN</td>\n",
       "      <td>NaN</td>\n",
       "      <td>u exceed recommend dosag use pain accident swa...</td>\n",
       "      <td>NaN</td>\n",
       "      <td>u use oral mucos use use direct dentist tempor...</td>\n",
       "      <td>NaN</td>\n",
       "      <td>u bencocain topic anesthet benzocain benzocain...</td>\n",
       "    </tr>\n",
       "    <tr>\n",
       "      <th>26</th>\n",
       "      <td>NaN</td>\n",
       "      <td>NaN</td>\n",
       "      <td>NaN</td>\n",
       "      <td>NaN</td>\n",
       "      <td>u direct take glass water adult children 12 ye...</td>\n",
       "      <td>NaN</td>\n",
       "      <td>u use reliev occasion constip irregular produc...</td>\n",
       "      <td>NaN</td>\n",
       "      <td>u bisacodylenter coat bisacodyl bisacodyl bisa...</td>\n",
       "    </tr>\n",
       "    <tr>\n",
       "      <th>27</th>\n",
       "      <td>NaN</td>\n",
       "      <td>NaN</td>\n",
       "      <td>NaN</td>\n",
       "      <td>NaN</td>\n",
       "      <td>u direct u2022tak direct see liver warn u2022t...</td>\n",
       "      <td>NaN</td>\n",
       "      <td>u use temporarili reliev common cold flu sympt...</td>\n",
       "      <td>NaN</td>\n",
       "      <td>u daytim nitetim cold flu acetaminophen dextro...</td>\n",
       "    </tr>\n",
       "    <tr>\n",
       "      <th>28</th>\n",
       "      <td>u advers reaction except headach clearli drug ...</td>\n",
       "      <td>u clinic pharmacolog mechan action isradipin d...</td>\n",
       "      <td>u contraind isradipin contraind individu shown...</td>\n",
       "      <td>u descript isradipin calcium antagonist avail ...</td>\n",
       "      <td>u dosag administr dosag isradipin individu rec...</td>\n",
       "      <td>u suppli ndc 68151 1333 0 packag 1 capsul</td>\n",
       "      <td>u indic usag hypertens isradipin indic manag h...</td>\n",
       "      <td>u overdosag minim empir data avail isradipin o...</td>\n",
       "      <td>u isradipin isradipin isradipin isradipin sili...</td>\n",
       "    </tr>\n",
       "    <tr>\n",
       "      <th>29</th>\n",
       "      <td>u advers reaction follow advers reaction repor...</td>\n",
       "      <td>u clinic pharmacolog mechan antihypertens effe...</td>\n",
       "      <td>u contraind anuria hypersensit product sulfona...</td>\n",
       "      <td>u descript hydrochlorothiazid diuret antihyper...</td>\n",
       "      <td>u dosag administr therapi individu accord pati...</td>\n",
       "      <td>NaN</td>\n",
       "      <td>u indic usag hydrochlorothiazid tablet indic a...</td>\n",
       "      <td>u overdosag common sign symptom observ caus el...</td>\n",
       "      <td>u hydrochlorothiazid hydrochlorothiazid hydroc...</td>\n",
       "    </tr>\n",
       "    <tr>\n",
       "      <th>...</th>\n",
       "      <td>...</td>\n",
       "      <td>...</td>\n",
       "      <td>...</td>\n",
       "      <td>...</td>\n",
       "      <td>...</td>\n",
       "      <td>...</td>\n",
       "      <td>...</td>\n",
       "      <td>...</td>\n",
       "      <td>...</td>\n",
       "    </tr>\n",
       "    <tr>\n",
       "      <th>43076</th>\n",
       "      <td>NaN</td>\n",
       "      <td>NaN</td>\n",
       "      <td>NaN</td>\n",
       "      <td>NaN</td>\n",
       "      <td>u direct appli liber 15 min sun exposur reappl...</td>\n",
       "      <td>NaN</td>\n",
       "      <td>u use help prevent sunburn</td>\n",
       "      <td>NaN</td>\n",
       "      <td>u burberri fresh glow foundat lumin fluid came...</td>\n",
       "    </tr>\n",
       "    <tr>\n",
       "      <th>43077</th>\n",
       "      <td>NaN</td>\n",
       "      <td>NaN</td>\n",
       "      <td>NaN</td>\n",
       "      <td>NaN</td>\n",
       "      <td>u direct appli liber 15 min sun exposur reappl...</td>\n",
       "      <td>NaN</td>\n",
       "      <td>u use help prevent sunburn</td>\n",
       "      <td>NaN</td>\n",
       "      <td>u burberri fresh glow foundat lumin fluid moch...</td>\n",
       "    </tr>\n",
       "    <tr>\n",
       "      <th>43078</th>\n",
       "      <td>NaN</td>\n",
       "      <td>NaN</td>\n",
       "      <td>NaN</td>\n",
       "      <td>NaN</td>\n",
       "      <td>u direct u2022if 18 year age ask doctor use u2...</td>\n",
       "      <td>NaN</td>\n",
       "      <td>u use u2022reduc withdraw symptom includ nicot...</td>\n",
       "      <td>NaN</td>\n",
       "      <td>u good sens nicotin nicotin polacrilex nicotin...</td>\n",
       "    </tr>\n",
       "    <tr>\n",
       "      <th>43079</th>\n",
       "      <td>NaN</td>\n",
       "      <td>NaN</td>\n",
       "      <td>NaN</td>\n",
       "      <td>NaN</td>\n",
       "      <td>u direct u2022adult children 12 year u2022do s...</td>\n",
       "      <td>NaN</td>\n",
       "      <td>u use reliev heartburn associ acid indigest so...</td>\n",
       "      <td>NaN</td>\n",
       "      <td>u complet famotidin calcium carbon magnesium h...</td>\n",
       "    </tr>\n",
       "    <tr>\n",
       "      <th>43080</th>\n",
       "      <td>NaN</td>\n",
       "      <td>NaN</td>\n",
       "      <td>NaN</td>\n",
       "      <td>NaN</td>\n",
       "      <td>NaN</td>\n",
       "      <td>NaN</td>\n",
       "      <td>NaN</td>\n",
       "      <td>NaN</td>\n",
       "      <td>u blue lizard sport octinox octocrylen oxybenz...</td>\n",
       "    </tr>\n",
       "    <tr>\n",
       "      <th>43081</th>\n",
       "      <td>NaN</td>\n",
       "      <td>NaN</td>\n",
       "      <td>NaN</td>\n",
       "      <td>NaN</td>\n",
       "      <td>NaN</td>\n",
       "      <td>NaN</td>\n",
       "      <td>NaN</td>\n",
       "      <td>NaN</td>\n",
       "      <td>u heparin sodium heparin sodium heparin sodium...</td>\n",
       "    </tr>\n",
       "    <tr>\n",
       "      <th>43082</th>\n",
       "      <td>NaN</td>\n",
       "      <td>NaN</td>\n",
       "      <td>NaN</td>\n",
       "      <td>NaN</td>\n",
       "      <td>u direct appli skin directli clean gauz cotton...</td>\n",
       "      <td>NaN</td>\n",
       "      <td>u use decreas germ minor cut scrape help relie...</td>\n",
       "      <td>NaN</td>\n",
       "      <td>u rub alcohol50 percent wintergreen isopropyl ...</td>\n",
       "    </tr>\n",
       "    <tr>\n",
       "      <th>43083</th>\n",
       "      <td>NaN</td>\n",
       "      <td>NaN</td>\n",
       "      <td>NaN</td>\n",
       "      <td>NaN</td>\n",
       "      <td>u use product avoid contact eye case contact f...</td>\n",
       "      <td>NaN</td>\n",
       "      <td>u direct wet hand thoroughli product allow dri...</td>\n",
       "      <td>NaN</td>\n",
       "      <td>u vida mia hand sanit alo vera 62 alcohol alco...</td>\n",
       "    </tr>\n",
       "    <tr>\n",
       "      <th>43084</th>\n",
       "      <td>u advers reaction due oral doxycyclin virtual ...</td>\n",
       "      <td>u clinic pharmacolog tetracyclin readili absor...</td>\n",
       "      <td>u contraind drug contraind person shown hypers...</td>\n",
       "      <td>u descript doxycyclin antibacteri drug synthet...</td>\n",
       "      <td>u dosag administr usual dosag frequenc adminis...</td>\n",
       "      <td>u suppli doxycyclin hyclat capsul usp 50 mg av...</td>\n",
       "      <td>u indic usag reduc develop drug resist bacteri...</td>\n",
       "      <td>u overdosag case overdosag discontinu medic tr...</td>\n",
       "      <td>u doxycyclin hyclat doxycyclin hyclat doxycycl...</td>\n",
       "    </tr>\n",
       "    <tr>\n",
       "      <th>43085</th>\n",
       "      <td>u 6 advers reaction common advers reaction mot...</td>\n",
       "      <td>u 12 clinic pharmacolog 12 1 mechan action sco...</td>\n",
       "      <td>u 4 contraind transderm sc u014dp contraind fo...</td>\n",
       "      <td>u 11 descript transderm sc u014dp xae scopolam...</td>\n",
       "      <td>u 2 dosag administr transderm sc u014dp xae pa...</td>\n",
       "      <td>u 16 suppli storag handl transderm sc u014dp x...</td>\n",
       "      <td>u 1 indic usag transderm sc u014dp anticholine...</td>\n",
       "      <td>u 10 overdosag strategi manag drug overdos con...</td>\n",
       "      <td>u transderm scop scopolamin scopolamin scopola...</td>\n",
       "    </tr>\n",
       "    <tr>\n",
       "      <th>43086</th>\n",
       "      <td>NaN</td>\n",
       "      <td>NaN</td>\n",
       "      <td>NaN</td>\n",
       "      <td>NaN</td>\n",
       "      <td>u direct u2022dissolv 1 3 packet pint 16 oz co...</td>\n",
       "      <td>NaN</td>\n",
       "      <td>u use temporarili reliev minor skin irrit due ...</td>\n",
       "      <td>NaN</td>\n",
       "      <td>u pedi boro soak pak aluminum sulfat tetradeca...</td>\n",
       "    </tr>\n",
       "    <tr>\n",
       "      <th>43087</th>\n",
       "      <td>NaN</td>\n",
       "      <td>NaN</td>\n",
       "      <td>NaN</td>\n",
       "      <td>NaN</td>\n",
       "      <td>u direct pump small amount foam palm hand rub ...</td>\n",
       "      <td>NaN</td>\n",
       "      <td>u use hand sanit decreas bacteria skin recomme...</td>\n",
       "      <td>NaN</td>\n",
       "      <td>u lite nfoami lemon blossom hand sanit benzalk...</td>\n",
       "    </tr>\n",
       "    <tr>\n",
       "      <th>43088</th>\n",
       "      <td>NaN</td>\n",
       "      <td>NaN</td>\n",
       "      <td>NaN</td>\n",
       "      <td>NaN</td>\n",
       "      <td>u direct clean affect area appli small amount ...</td>\n",
       "      <td>NaN</td>\n",
       "      <td>u use first aid help risk infect minor cut scrape</td>\n",
       "      <td>NaN</td>\n",
       "      <td>u rub alcohol70 percent isopropyl alcohol isop...</td>\n",
       "    </tr>\n",
       "    <tr>\n",
       "      <th>43089</th>\n",
       "      <td>u 6 advers reaction small cell lung cancer com...</td>\n",
       "      <td>u 12 clinic pharmacolog 12 1 mechan action top...</td>\n",
       "      <td>u 4 contraind topotecan hydrochlorid contraind...</td>\n",
       "      <td>u 11 descript topotecan hydrochlorid semi synt...</td>\n",
       "      <td>u 2 dosag administr verifi dose use bodi surfa...</td>\n",
       "      <td>u 16 suppli topotecan hydrochlorid inject supp...</td>\n",
       "      <td>u 1 indic usag topotecan hydrochlorid indic tr...</td>\n",
       "      <td>u 10 overdosag overdos 10 fold prescrib dose o...</td>\n",
       "      <td>u topotecan hydrochlorid topotecan hydrochlori...</td>\n",
       "    </tr>\n",
       "    <tr>\n",
       "      <th>43090</th>\n",
       "      <td>NaN</td>\n",
       "      <td>NaN</td>\n",
       "      <td>NaN</td>\n",
       "      <td>NaN</td>\n",
       "      <td>u distribut geiss destin dunn inc peachtre cit...</td>\n",
       "      <td>NaN</td>\n",
       "      <td>u direct open bottl push cap twist countercloc...</td>\n",
       "      <td>NaN</td>\n",
       "      <td>u goodsens irrit relief eye tetrahydrozolin hy...</td>\n",
       "    </tr>\n",
       "    <tr>\n",
       "      <th>43091</th>\n",
       "      <td>NaN</td>\n",
       "      <td>NaN</td>\n",
       "      <td>NaN</td>\n",
       "      <td>NaN</td>\n",
       "      <td>u direct u2022do take direct see overdos warn ...</td>\n",
       "      <td>NaN</td>\n",
       "      <td>u use temporari relief occasion headach minor ...</td>\n",
       "      <td>NaN</td>\n",
       "      <td>u dg health pain relief pm acetaminophen diphe...</td>\n",
       "    </tr>\n",
       "    <tr>\n",
       "      <th>43092</th>\n",
       "      <td>NaN</td>\n",
       "      <td>NaN</td>\n",
       "      <td>NaN</td>\n",
       "      <td>NaN</td>\n",
       "      <td>u direct clean affect area appli small amount ...</td>\n",
       "      <td>NaN</td>\n",
       "      <td>u use first aid help prevent risk infect minor...</td>\n",
       "      <td>NaN</td>\n",
       "      <td>u isopropyl rub alcohol isopropyl alcohol isop...</td>\n",
       "    </tr>\n",
       "    <tr>\n",
       "      <th>43093</th>\n",
       "      <td>NaN</td>\n",
       "      <td>NaN</td>\n",
       "      <td>NaN</td>\n",
       "      <td>NaN</td>\n",
       "      <td>u direct 10 drop oral 3 time day direct health...</td>\n",
       "      <td>NaN</td>\n",
       "      <td>u use provid homeopath aid temporari relief an...</td>\n",
       "      <td>NaN</td>\n",
       "      <td>u male energi dehydroepiandrosteron sabal serr...</td>\n",
       "    </tr>\n",
       "    <tr>\n",
       "      <th>43094</th>\n",
       "      <td>NaN</td>\n",
       "      <td>NaN</td>\n",
       "      <td>NaN</td>\n",
       "      <td>NaN</td>\n",
       "      <td>u direct place enough product palm thoroughli ...</td>\n",
       "      <td>NaN</td>\n",
       "      <td>u use hand sanit help reduc bacteria skin coul...</td>\n",
       "      <td>NaN</td>\n",
       "      <td>u purel advanc instant hand sanit alcohol alco...</td>\n",
       "    </tr>\n",
       "    <tr>\n",
       "      <th>43095</th>\n",
       "      <td>NaN</td>\n",
       "      <td>NaN</td>\n",
       "      <td>NaN</td>\n",
       "      <td>NaN</td>\n",
       "      <td>u ointment direct appli directli affect area e...</td>\n",
       "      <td>NaN</td>\n",
       "      <td>u use reliev dryness soften crust scab associ ...</td>\n",
       "      <td>NaN</td>\n",
       "      <td>u zim advanc cold sore fever blister moistur p...</td>\n",
       "    </tr>\n",
       "    <tr>\n",
       "      <th>43096</th>\n",
       "      <td>u advers reaction penicillin may expect untowa...</td>\n",
       "      <td>u clinic pharmacolog amoxicillin stabl presenc...</td>\n",
       "      <td>u contraind histori allerg reaction penicillin...</td>\n",
       "      <td>u descript formul amoxicillin capsul usp conta...</td>\n",
       "      <td>u dosag administr amoxicillin capsul may given...</td>\n",
       "      <td>u suppli capsul contain amoxicillin trihydr eq...</td>\n",
       "      <td>u indic usag amoxicillin indic treatment infec...</td>\n",
       "      <td>u overdosag case overdosag discontinu medic tr...</td>\n",
       "      <td>u amoxicillin amoxicillin amoxicillin amoxicil...</td>\n",
       "    </tr>\n",
       "    <tr>\n",
       "      <th>43097</th>\n",
       "      <td>u 6 advers reaction follow advers reaction des...</td>\n",
       "      <td>u 12 clinic pharmacolog 12 1 mechan action ang...</td>\n",
       "      <td>u 4 contraind micardi contraind patient known ...</td>\n",
       "      <td>u 11 descript micardi non peptid angiotensin i...</td>\n",
       "      <td>u 2 dosag administr may administ without food ...</td>\n",
       "      <td>u 16 suppli storag handl micardi avail white w...</td>\n",
       "      <td>u 1 indic usag micardi angiotensin ii receptor...</td>\n",
       "      <td>u 10 overdosag limit data avail regard overdos...</td>\n",
       "      <td>u micardi telmisartan telmisartan telmisartan ...</td>\n",
       "    </tr>\n",
       "    <tr>\n",
       "      <th>43098</th>\n",
       "      <td>NaN</td>\n",
       "      <td>NaN</td>\n",
       "      <td>NaN</td>\n",
       "      <td>NaN</td>\n",
       "      <td>u direct adult children 6 year 1 tablet daili ...</td>\n",
       "      <td>NaN</td>\n",
       "      <td>u use temporarili reliev symptom due hay fever...</td>\n",
       "      <td>NaN</td>\n",
       "      <td>u 7 select allergi relief loratadin loratadin ...</td>\n",
       "    </tr>\n",
       "    <tr>\n",
       "      <th>43099</th>\n",
       "      <td>u advers reaction occasion temporari sting bur...</td>\n",
       "      <td>u clinic pharmacolog product combin disclos ag...</td>\n",
       "      <td>u contraind known hypersensit compon product</td>\n",
       "      <td>u descript fluorescein sodium proparacain hydr...</td>\n",
       "      <td>u dosag administr usual dosag remov foreign bo...</td>\n",
       "      <td>u suppli fluorescein sodium proparacain hydroc...</td>\n",
       "      <td>NaN</td>\n",
       "      <td>NaN</td>\n",
       "      <td>u fluorescein sodium proparacain hydrochlorid ...</td>\n",
       "    </tr>\n",
       "    <tr>\n",
       "      <th>43100</th>\n",
       "      <td>u advers reaction although incid reaction oral...</td>\n",
       "      <td>u clinic pharmacolog penicillin v exert bacter...</td>\n",
       "      <td>u contraind previou hypersensit reaction penic...</td>\n",
       "      <td>u descript penicillin v phenoxymethyl analog p...</td>\n",
       "      <td>u dosag administr dosag penicillin v determin ...</td>\n",
       "      <td>u suppli penicillin v potassium tablet usp 250...</td>\n",
       "      <td>u indic usag reduc develop drug resist bacteri...</td>\n",
       "      <td>NaN</td>\n",
       "      <td>u penicillin v potassium penicillin v potassiu...</td>\n",
       "    </tr>\n",
       "    <tr>\n",
       "      <th>43101</th>\n",
       "      <td>u advers reaction follow advers reaction repor...</td>\n",
       "      <td>u clinic pharmacolog mechan antihypertens effe...</td>\n",
       "      <td>u contraind anuria hypersensit product sulfona...</td>\n",
       "      <td>u descript hydrochlorothiazid diuret antihyper...</td>\n",
       "      <td>u dosag administr therapi individu accord pati...</td>\n",
       "      <td>u suppli hydrochlorothiazid tablet usp 25 mg a...</td>\n",
       "      <td>u indic usag hydrochlorothiazid tablet indic a...</td>\n",
       "      <td>u overdosag common sign symptom observ caus el...</td>\n",
       "      <td>u hydrochlorothiazid hydrochlorothiazid hydroc...</td>\n",
       "    </tr>\n",
       "    <tr>\n",
       "      <th>43102</th>\n",
       "      <td>u advers reaction potenti advers reaction benz...</td>\n",
       "      <td>u clinic pharmacolog benzonat act peripher ane...</td>\n",
       "      <td>u contraind hypersensit benzonat relat compound</td>\n",
       "      <td>u descript benzonat non narcot antituss agent ...</td>\n",
       "      <td>u dosag administr adult children 10 year age u...</td>\n",
       "      <td>u suppli benzonat capsul usp avail 100 mg oval...</td>\n",
       "      <td>u indic usag benzonat indic symptomat relief c...</td>\n",
       "      <td>u overdosag intent unintent overdos may result...</td>\n",
       "      <td>u benzonat benzonat benzonat benzonat soft gel...</td>\n",
       "    </tr>\n",
       "    <tr>\n",
       "      <th>43103</th>\n",
       "      <td>NaN</td>\n",
       "      <td>NaN</td>\n",
       "      <td>NaN</td>\n",
       "      <td>NaN</td>\n",
       "      <td>u direct product contain direct complet warn a...</td>\n",
       "      <td>NaN</td>\n",
       "      <td>u use temporarili u2022 reduc fever u2022 reli...</td>\n",
       "      <td>NaN</td>\n",
       "      <td>u acephen acetaminophen acetaminophen acetamin...</td>\n",
       "    </tr>\n",
       "    <tr>\n",
       "      <th>43104</th>\n",
       "      <td>NaN</td>\n",
       "      <td>NaN</td>\n",
       "      <td>NaN</td>\n",
       "      <td>NaN</td>\n",
       "      <td>u direct wet skin appli small amount hand fore...</td>\n",
       "      <td>NaN</td>\n",
       "      <td>u use healthcar personnel handwash</td>\n",
       "      <td>NaN</td>\n",
       "      <td>u endur 250 triclosan triclosan triclosan wate...</td>\n",
       "    </tr>\n",
       "    <tr>\n",
       "      <th>43105</th>\n",
       "      <td>u advers reaction rapid infus hyperton dextros...</td>\n",
       "      <td>u clinic pharmacolog dextros inject usp valu s...</td>\n",
       "      <td>u contraind infus hyperton dextros inject cont...</td>\n",
       "      <td>u descript dextros inject usp steril nonpyroge...</td>\n",
       "      <td>u dosag administr follow suitabl admixtur pres...</td>\n",
       "      <td>u suppli see tabl 1 exposur pharmaceut product...</td>\n",
       "      <td>u indic usag dextros inject usp indic calor co...</td>\n",
       "      <td>NaN</td>\n",
       "      <td>u dextros dextros monohydr dextros monohydr an...</td>\n",
       "    </tr>\n",
       "  </tbody>\n",
       "</table>\n",
       "<p>43106 rows × 9 columns</p>\n",
       "</div>"
      ],
      "text/plain": [
       "                                       adverse_reactions  \\\n",
       "0      u 6 advers reaction adult common advers reacti...   \n",
       "1      u 6 advers reaction common advers reaction inc...   \n",
       "2      u advers reaction list alphabet subsect follow...   \n",
       "3                                                    NaN   \n",
       "4      u advers reaction gener advers reaction digoxi...   \n",
       "5      u advers reaction advers reaction report contr...   \n",
       "6                                                    NaN   \n",
       "7      u advers reaction sever itch erythema rash obs...   \n",
       "8                                                    NaN   \n",
       "9                                                    NaN   \n",
       "10                                                   NaN   \n",
       "11                                                   NaN   \n",
       "12     u 6 advers reaction hypercalcemia discuss else...   \n",
       "13                                                   NaN   \n",
       "14     u advers reaction advers reaction report speci...   \n",
       "15     u advers reaction commonli encount side effect...   \n",
       "16                                                   NaN   \n",
       "17     u advers reaction advers reaction sucralf clin...   \n",
       "18     u advers reaction lisinopril found gener well ...   \n",
       "19                                                   NaN   \n",
       "20     u advers reaction advers reaction data deriv p...   \n",
       "21                                                   NaN   \n",
       "22     u advers reaction frequent side effect oral er...   \n",
       "23     u advers reaction hypervitaminosi character ef...   \n",
       "24     u advers reaction advers reaction list report ...   \n",
       "25                                                   NaN   \n",
       "26                                                   NaN   \n",
       "27                                                   NaN   \n",
       "28     u advers reaction except headach clearli drug ...   \n",
       "29     u advers reaction follow advers reaction repor...   \n",
       "...                                                  ...   \n",
       "43076                                                NaN   \n",
       "43077                                                NaN   \n",
       "43078                                                NaN   \n",
       "43079                                                NaN   \n",
       "43080                                                NaN   \n",
       "43081                                                NaN   \n",
       "43082                                                NaN   \n",
       "43083                                                NaN   \n",
       "43084  u advers reaction due oral doxycyclin virtual ...   \n",
       "43085  u 6 advers reaction common advers reaction mot...   \n",
       "43086                                                NaN   \n",
       "43087                                                NaN   \n",
       "43088                                                NaN   \n",
       "43089  u 6 advers reaction small cell lung cancer com...   \n",
       "43090                                                NaN   \n",
       "43091                                                NaN   \n",
       "43092                                                NaN   \n",
       "43093                                                NaN   \n",
       "43094                                                NaN   \n",
       "43095                                                NaN   \n",
       "43096  u advers reaction penicillin may expect untowa...   \n",
       "43097  u 6 advers reaction follow advers reaction des...   \n",
       "43098                                                NaN   \n",
       "43099  u advers reaction occasion temporari sting bur...   \n",
       "43100  u advers reaction although incid reaction oral...   \n",
       "43101  u advers reaction follow advers reaction repor...   \n",
       "43102  u advers reaction potenti advers reaction benz...   \n",
       "43103                                                NaN   \n",
       "43104                                                NaN   \n",
       "43105  u advers reaction rapid infus hyperton dextros...   \n",
       "\n",
       "                                   clinical_pharmacology  \\\n",
       "0      u 12 clinic pharmacolog 12 1 mechan action ome...   \n",
       "1      u 12 clinic pharmacolog 12 1 mechan action mec...   \n",
       "2      u clinic pharmacolog glucocorticoid natur occu...   \n",
       "3                                                    NaN   \n",
       "4      u clinic pharmacolog mechan action digoxin inh...   \n",
       "5      u clinic pharmacolog pharmacodynam naproxen no...   \n",
       "6                                                    NaN   \n",
       "7      u clinic pharmacolog carrier free gallium citr...   \n",
       "8                                                    NaN   \n",
       "9                                                    NaN   \n",
       "10                                                   NaN   \n",
       "11                                                   NaN   \n",
       "12     u 12 clinic pharmacolog patient esrd retain ph...   \n",
       "13                                                   NaN   \n",
       "14                                                   NaN   \n",
       "15     u clinic pharmacolog alcohol produc injuri tis...   \n",
       "16                                                   NaN   \n",
       "17     u clinic pharmacolog sucralf minim absorb gast...   \n",
       "18     u clinic pharmacolog mechan action lisinopril ...   \n",
       "19                                                   NaN   \n",
       "20     u clinic pharmacolog pharmacodynam oxaprozin n...   \n",
       "21                                                   NaN   \n",
       "22     u clinic pharmacolog oral administ erythromyci...   \n",
       "23     u clinic pharmacolog synthesi major biolog act...   \n",
       "24     u clinic pharmacolog adult gi effect famotidin...   \n",
       "25                                                   NaN   \n",
       "26                                                   NaN   \n",
       "27                                                   NaN   \n",
       "28     u clinic pharmacolog mechan action isradipin d...   \n",
       "29     u clinic pharmacolog mechan antihypertens effe...   \n",
       "...                                                  ...   \n",
       "43076                                                NaN   \n",
       "43077                                                NaN   \n",
       "43078                                                NaN   \n",
       "43079                                                NaN   \n",
       "43080                                                NaN   \n",
       "43081                                                NaN   \n",
       "43082                                                NaN   \n",
       "43083                                                NaN   \n",
       "43084  u clinic pharmacolog tetracyclin readili absor...   \n",
       "43085  u 12 clinic pharmacolog 12 1 mechan action sco...   \n",
       "43086                                                NaN   \n",
       "43087                                                NaN   \n",
       "43088                                                NaN   \n",
       "43089  u 12 clinic pharmacolog 12 1 mechan action top...   \n",
       "43090                                                NaN   \n",
       "43091                                                NaN   \n",
       "43092                                                NaN   \n",
       "43093                                                NaN   \n",
       "43094                                                NaN   \n",
       "43095                                                NaN   \n",
       "43096  u clinic pharmacolog amoxicillin stabl presenc...   \n",
       "43097  u 12 clinic pharmacolog 12 1 mechan action ang...   \n",
       "43098                                                NaN   \n",
       "43099  u clinic pharmacolog product combin disclos ag...   \n",
       "43100  u clinic pharmacolog penicillin v exert bacter...   \n",
       "43101  u clinic pharmacolog mechan antihypertens effe...   \n",
       "43102  u clinic pharmacolog benzonat act peripher ane...   \n",
       "43103                                                NaN   \n",
       "43104                                                NaN   \n",
       "43105  u clinic pharmacolog dextros inject usp valu s...   \n",
       "\n",
       "                                       contraindications  \\\n",
       "0      u 4 contraind omeprazol delay releas capsul co...   \n",
       "1      u 4 contraind carisoprodol tablet contraind pa...   \n",
       "2      u contraind contraind system fungal infect see...   \n",
       "3                                                    NaN   \n",
       "4      u contraind digitali glycosid contraind patien...   \n",
       "5      u contraind naproxen tablet contraind patient ...   \n",
       "6                                                    NaN   \n",
       "7                                 u contraind none known   \n",
       "8                                                    NaN   \n",
       "9                                                    NaN   \n",
       "10                                                   NaN   \n",
       "11                                                   NaN   \n",
       "12     u 4 contraind patient hypercalcemia u2022 hype...   \n",
       "13                                                   NaN   \n",
       "14     u contraind c nate dha use patient known histo...   \n",
       "15     u contraind subarachnoid inject dehydr alcohol...   \n",
       "16                                                   NaN   \n",
       "17     u contraind sucralf tablet contraind patient k...   \n",
       "18     u contraind lisinopril tablet contraind patien...   \n",
       "19                                                   NaN   \n",
       "20     u contraind oxaprozin contraind patient known ...   \n",
       "21                                                   NaN   \n",
       "22     u contraind erythromycin contraind patient kno...   \n",
       "23     u contraind ergocalciferol capsul contraind pa...   \n",
       "24     u contraind hypersensit compon product cross s...   \n",
       "25                                                   NaN   \n",
       "26                                                   NaN   \n",
       "27                                                   NaN   \n",
       "28     u contraind isradipin contraind individu shown...   \n",
       "29     u contraind anuria hypersensit product sulfona...   \n",
       "...                                                  ...   \n",
       "43076                                                NaN   \n",
       "43077                                                NaN   \n",
       "43078                                                NaN   \n",
       "43079                                                NaN   \n",
       "43080                                                NaN   \n",
       "43081                                                NaN   \n",
       "43082                                                NaN   \n",
       "43083                                                NaN   \n",
       "43084  u contraind drug contraind person shown hypers...   \n",
       "43085  u 4 contraind transderm sc u014dp contraind fo...   \n",
       "43086                                                NaN   \n",
       "43087                                                NaN   \n",
       "43088                                                NaN   \n",
       "43089  u 4 contraind topotecan hydrochlorid contraind...   \n",
       "43090                                                NaN   \n",
       "43091                                                NaN   \n",
       "43092                                                NaN   \n",
       "43093                                                NaN   \n",
       "43094                                                NaN   \n",
       "43095                                                NaN   \n",
       "43096  u contraind histori allerg reaction penicillin...   \n",
       "43097  u 4 contraind micardi contraind patient known ...   \n",
       "43098                                                NaN   \n",
       "43099       u contraind known hypersensit compon product   \n",
       "43100  u contraind previou hypersensit reaction penic...   \n",
       "43101  u contraind anuria hypersensit product sulfona...   \n",
       "43102    u contraind hypersensit benzonat relat compound   \n",
       "43103                                                NaN   \n",
       "43104                                                NaN   \n",
       "43105  u contraind infus hyperton dextros inject cont...   \n",
       "\n",
       "                                             description  \\\n",
       "0      u 11 descript activ ingredi omeprazol delay re...   \n",
       "1      u 11 descript carisoprodol tablet usp avail 35...   \n",
       "2      u descript dexamethason tablet 0 5 0 75 1 1 5 ...   \n",
       "3                                                    NaN   \n",
       "4      u descript digoxin one cardiac digitali glycos...   \n",
       "5      u descript naproxen proprion acid deriv relat ...   \n",
       "6                                                    NaN   \n",
       "7      u descript gallium citrat ga 67 inject suppli ...   \n",
       "8                                                    NaN   \n",
       "9      u gram obagi c rx c clarifi serum normal oili ...   \n",
       "10                                                   NaN   \n",
       "11                                                   NaN   \n",
       "12     u 11 descript calcium acet act phosphat binder...   \n",
       "13                                                   NaN   \n",
       "14     u descript u softgel contain omega 3 fatti aci...   \n",
       "15     u descript dehydr alcohol inject usp consist l...   \n",
       "16                                                   NaN   \n",
       "17     u descript sucralf usp u03b1 glucopyranosid u0...   \n",
       "18     u descript lisinopril oral long act angiotensi...   \n",
       "19                                                   NaN   \n",
       "20     u descript oxaprozin usp nonsteroid anti infla...   \n",
       "21                                                   NaN   \n",
       "22     u descript eri tab erythromycin delay releas t...   \n",
       "23     u descript ergocalciferol capsul usp synthet c...   \n",
       "24     u descript activ ingredi famotidin tablet usp ...   \n",
       "25                                                   NaN   \n",
       "26                                                   NaN   \n",
       "27                                                   NaN   \n",
       "28     u descript isradipin calcium antagonist avail ...   \n",
       "29     u descript hydrochlorothiazid diuret antihyper...   \n",
       "...                                                  ...   \n",
       "43076                                                NaN   \n",
       "43077                                                NaN   \n",
       "43078                                                NaN   \n",
       "43079                                                NaN   \n",
       "43080                                                NaN   \n",
       "43081                                                NaN   \n",
       "43082                                                NaN   \n",
       "43083                                                NaN   \n",
       "43084  u descript doxycyclin antibacteri drug synthet...   \n",
       "43085  u 11 descript transderm sc u014dp xae scopolam...   \n",
       "43086                                                NaN   \n",
       "43087                                                NaN   \n",
       "43088                                                NaN   \n",
       "43089  u 11 descript topotecan hydrochlorid semi synt...   \n",
       "43090                                                NaN   \n",
       "43091                                                NaN   \n",
       "43092                                                NaN   \n",
       "43093                                                NaN   \n",
       "43094                                                NaN   \n",
       "43095                                                NaN   \n",
       "43096  u descript formul amoxicillin capsul usp conta...   \n",
       "43097  u 11 descript micardi non peptid angiotensin i...   \n",
       "43098                                                NaN   \n",
       "43099  u descript fluorescein sodium proparacain hydr...   \n",
       "43100  u descript penicillin v phenoxymethyl analog p...   \n",
       "43101  u descript hydrochlorothiazid diuret antihyper...   \n",
       "43102  u descript benzonat non narcot antituss agent ...   \n",
       "43103                                                NaN   \n",
       "43104                                                NaN   \n",
       "43105  u descript dextros inject usp steril nonpyroge...   \n",
       "\n",
       "                               dosage_and_administration  \\\n",
       "0      u 2 dosag administr omeprazol delay releas cap...   \n",
       "1      u 2 dosag administr recommend dose carisoprodo...   \n",
       "2                                                    NaN   \n",
       "3                                            u topic use   \n",
       "4      u dosag administr gener recommend dosag digoxi...   \n",
       "5      u dosag administr care consid potenti benefit ...   \n",
       "6                  u direct appli cream liber often need   \n",
       "7      u dosag administr recommend adult 70 kg dose g...   \n",
       "8      u direct use twice daili morn even massag smal...   \n",
       "9      u direct use twice daili morn even massag smal...   \n",
       "10     u direct clean skin thoroughli appli product c...   \n",
       "11     u distribut famili dollar servic inc 10401 mon...   \n",
       "12     u 2 dosag administr recommend initi dose calci...   \n",
       "13     u direct appli thin layer arnica gel affect ar...   \n",
       "14     u dosag administr usual adult dose one softgel...   \n",
       "15     u dosag administr dosag dehydr alcohol inject ...   \n",
       "16     u direct sunscreen use appli gener evenli 15 m...   \n",
       "17     u dosag administr activ duoden ulcer recommend...   \n",
       "18     u dosag administr hypertens initi therapi pati...   \n",
       "19     u direct u25a0 pump hand wet need u25a0 lather...   \n",
       "20     u dosag administr care consid potenti benefit ...   \n",
       "21     u exceed recommend dosag use pain accident swa...   \n",
       "22     u dosag administr patient eri tab erythromycin...   \n",
       "23     u dosag administr rang therapeut toxic dose na...   \n",
       "24     u dosag administr duoden ulcer acut therapi re...   \n",
       "25     u exceed recommend dosag use pain accident swa...   \n",
       "26     u direct take glass water adult children 12 ye...   \n",
       "27     u direct u2022tak direct see liver warn u2022t...   \n",
       "28     u dosag administr dosag isradipin individu rec...   \n",
       "29     u dosag administr therapi individu accord pati...   \n",
       "...                                                  ...   \n",
       "43076  u direct appli liber 15 min sun exposur reappl...   \n",
       "43077  u direct appli liber 15 min sun exposur reappl...   \n",
       "43078  u direct u2022if 18 year age ask doctor use u2...   \n",
       "43079  u direct u2022adult children 12 year u2022do s...   \n",
       "43080                                                NaN   \n",
       "43081                                                NaN   \n",
       "43082  u direct appli skin directli clean gauz cotton...   \n",
       "43083  u use product avoid contact eye case contact f...   \n",
       "43084  u dosag administr usual dosag frequenc adminis...   \n",
       "43085  u 2 dosag administr transderm sc u014dp xae pa...   \n",
       "43086  u direct u2022dissolv 1 3 packet pint 16 oz co...   \n",
       "43087  u direct pump small amount foam palm hand rub ...   \n",
       "43088  u direct clean affect area appli small amount ...   \n",
       "43089  u 2 dosag administr verifi dose use bodi surfa...   \n",
       "43090  u distribut geiss destin dunn inc peachtre cit...   \n",
       "43091  u direct u2022do take direct see overdos warn ...   \n",
       "43092  u direct clean affect area appli small amount ...   \n",
       "43093  u direct 10 drop oral 3 time day direct health...   \n",
       "43094  u direct place enough product palm thoroughli ...   \n",
       "43095  u ointment direct appli directli affect area e...   \n",
       "43096  u dosag administr amoxicillin capsul may given...   \n",
       "43097  u 2 dosag administr may administ without food ...   \n",
       "43098  u direct adult children 6 year 1 tablet daili ...   \n",
       "43099  u dosag administr usual dosag remov foreign bo...   \n",
       "43100  u dosag administr dosag penicillin v determin ...   \n",
       "43101  u dosag administr therapi individu accord pati...   \n",
       "43102  u dosag administr adult children 10 year age u...   \n",
       "43103  u direct product contain direct complet warn a...   \n",
       "43104  u direct wet skin appli small amount hand fore...   \n",
       "43105  u dosag administr follow suitabl admixtur pres...   \n",
       "\n",
       "                                            how_supplied  \\\n",
       "0      u 16 suppli storag handl omeprazol delay relea...   \n",
       "1      u 16 suppli storag handl 350 mg tablet white r...   \n",
       "2      u suppli dexamethason tablet usp 0 5 mg yellow...   \n",
       "3                                                    NaN   \n",
       "4      u suppli digoxin tablet usp 0 125 mg yellow ro...   \n",
       "5      u suppli naproxen tablet 500 mg white white ca...   \n",
       "6                                                    NaN   \n",
       "7      u suppli gallium citrat ga 67 inject suppli st...   \n",
       "8                                                    NaN   \n",
       "9                                                    NaN   \n",
       "10                                                   NaN   \n",
       "11                                                   NaN   \n",
       "12     u 16 suppli storag handl calcium acet tablet u...   \n",
       "13                                                   NaN   \n",
       "14     u suppli c nate dha avail annato color softgel...   \n",
       "15                                                   NaN   \n",
       "16                                                   NaN   \n",
       "17     u suppli sucralf tablet usp avail white capsul...   \n",
       "18     u suppli lisinopril tablet usp avail 10 mg tab...   \n",
       "19                                                   NaN   \n",
       "20             u suppli ndc 68151 0523 0 packag 1 tablet   \n",
       "21                                                   NaN   \n",
       "22     u suppli ndc 68151 1170 1 packag 1 tablet dela...   \n",
       "23     u suppli ndc 68151 0490 0 packag 1 capsul liqu...   \n",
       "24     u suppli ndc 68151 0184 0 packag 1 tablet film...   \n",
       "25                                                   NaN   \n",
       "26                                                   NaN   \n",
       "27                                                   NaN   \n",
       "28             u suppli ndc 68151 1333 0 packag 1 capsul   \n",
       "29                                                   NaN   \n",
       "...                                                  ...   \n",
       "43076                                                NaN   \n",
       "43077                                                NaN   \n",
       "43078                                                NaN   \n",
       "43079                                                NaN   \n",
       "43080                                                NaN   \n",
       "43081                                                NaN   \n",
       "43082                                                NaN   \n",
       "43083                                                NaN   \n",
       "43084  u suppli doxycyclin hyclat capsul usp 50 mg av...   \n",
       "43085  u 16 suppli storag handl transderm sc u014dp x...   \n",
       "43086                                                NaN   \n",
       "43087                                                NaN   \n",
       "43088                                                NaN   \n",
       "43089  u 16 suppli topotecan hydrochlorid inject supp...   \n",
       "43090                                                NaN   \n",
       "43091                                                NaN   \n",
       "43092                                                NaN   \n",
       "43093                                                NaN   \n",
       "43094                                                NaN   \n",
       "43095                                                NaN   \n",
       "43096  u suppli capsul contain amoxicillin trihydr eq...   \n",
       "43097  u 16 suppli storag handl micardi avail white w...   \n",
       "43098                                                NaN   \n",
       "43099  u suppli fluorescein sodium proparacain hydroc...   \n",
       "43100  u suppli penicillin v potassium tablet usp 250...   \n",
       "43101  u suppli hydrochlorothiazid tablet usp 25 mg a...   \n",
       "43102  u suppli benzonat capsul usp avail 100 mg oval...   \n",
       "43103                                                NaN   \n",
       "43104                                                NaN   \n",
       "43105  u suppli see tabl 1 exposur pharmaceut product...   \n",
       "\n",
       "                                   indications_and_usage  \\\n",
       "0      u 1 indic usag omeprazol proton pump inhibitor...   \n",
       "1      u 1 indic usag carisoprodol tablet indic relie...   \n",
       "2      u indic usag allerg state control sever incapa...   \n",
       "3                 u appli evenli face pat gentli absorpt   \n",
       "4      u indic usag heart failur digoxin tablet indic...   \n",
       "5      u indic usag care consid potenti benefit risk ...   \n",
       "6      u use temporarili protect help reliev chap cra...   \n",
       "7      u indic usag gallium citrat ga 67 inject may u...   \n",
       "8      u indic usag gradual bleach hyperpig skin cond...   \n",
       "9      u indic usag gradual bleach hyperpig skin cond...   \n",
       "10                                   u use treatment acn   \n",
       "11     u direct wash affect area dri thoroughli appli...   \n",
       "12     u 1 indic usag calcium acet phosphat binder in...   \n",
       "13     u use relief muscl pain stiff due minor injuri...   \n",
       "14     u indic usag c nate dha prescript multivitamin...   \n",
       "15     u indic usag dehydr alcohol inject usp indic t...   \n",
       "16     u use help prevent sunburn use direct sun prot...   \n",
       "17     u indic usag sucralf tablet usp indic short te...   \n",
       "18     u indic usag hypertens lisinopril tablet usp i...   \n",
       "19            u use u25a0 handwash decreas bacteria skin   \n",
       "20     u indic usag care consid potenti benefit risk ...   \n",
       "21     u use oral mucos use use direct dentist tempor...   \n",
       "22     u indic usag reduc develop drug resist bacteri...   \n",
       "23     u indic usag ergocalciferol capsul indic use t...   \n",
       "24     u indic usag famotidin indic 1 adult patient h...   \n",
       "25     u use oral mucos use use direct dentist tempor...   \n",
       "26     u use reliev occasion constip irregular produc...   \n",
       "27     u use temporarili reliev common cold flu sympt...   \n",
       "28     u indic usag hypertens isradipin indic manag h...   \n",
       "29     u indic usag hydrochlorothiazid tablet indic a...   \n",
       "...                                                  ...   \n",
       "43076                         u use help prevent sunburn   \n",
       "43077                         u use help prevent sunburn   \n",
       "43078  u use u2022reduc withdraw symptom includ nicot...   \n",
       "43079  u use reliev heartburn associ acid indigest so...   \n",
       "43080                                                NaN   \n",
       "43081                                                NaN   \n",
       "43082  u use decreas germ minor cut scrape help relie...   \n",
       "43083  u direct wet hand thoroughli product allow dri...   \n",
       "43084  u indic usag reduc develop drug resist bacteri...   \n",
       "43085  u 1 indic usag transderm sc u014dp anticholine...   \n",
       "43086  u use temporarili reliev minor skin irrit due ...   \n",
       "43087  u use hand sanit decreas bacteria skin recomme...   \n",
       "43088  u use first aid help risk infect minor cut scrape   \n",
       "43089  u 1 indic usag topotecan hydrochlorid indic tr...   \n",
       "43090  u direct open bottl push cap twist countercloc...   \n",
       "43091  u use temporari relief occasion headach minor ...   \n",
       "43092  u use first aid help prevent risk infect minor...   \n",
       "43093  u use provid homeopath aid temporari relief an...   \n",
       "43094  u use hand sanit help reduc bacteria skin coul...   \n",
       "43095  u use reliev dryness soften crust scab associ ...   \n",
       "43096  u indic usag amoxicillin indic treatment infec...   \n",
       "43097  u 1 indic usag micardi angiotensin ii receptor...   \n",
       "43098  u use temporarili reliev symptom due hay fever...   \n",
       "43099                                                NaN   \n",
       "43100  u indic usag reduc develop drug resist bacteri...   \n",
       "43101  u indic usag hydrochlorothiazid tablet indic a...   \n",
       "43102  u indic usag benzonat indic symptomat relief c...   \n",
       "43103  u use temporarili u2022 reduc fever u2022 reli...   \n",
       "43104                 u use healthcar personnel handwash   \n",
       "43105  u indic usag dextros inject usp indic calor co...   \n",
       "\n",
       "                                              overdosage  \\\n",
       "0      u 10 overdosag report receiv overdosag omepraz...   \n",
       "1      u 10 overdosag overdosag carisoprodol commonli...   \n",
       "2      u overdosag treatment overdosag support sympto...   \n",
       "3                                                    NaN   \n",
       "4      u overdosag sign symptom sign symptom toxic ge...   \n",
       "5      u overdosag symptom sign signific naproxen ove...   \n",
       "6                                                    NaN   \n",
       "7                                                    NaN   \n",
       "8                                                    NaN   \n",
       "9                                                    NaN   \n",
       "10                                                   NaN   \n",
       "11                                                   NaN   \n",
       "12     u 10 overdosag administr calcium acet excess a...   \n",
       "13                                                   NaN   \n",
       "14                                                   NaN   \n",
       "15     u overdosag excess faulti local inject may res...   \n",
       "16                                                   NaN   \n",
       "17     u overdosag due limit experi human overdosag s...   \n",
       "18     u overdosag follow singl oral dose 20 g kg let...   \n",
       "19                                                   NaN   \n",
       "20     u overdosag patient experienc either accident ...   \n",
       "21                                                   NaN   \n",
       "22     u overdosag case overdosag erythromycin discon...   \n",
       "23     u overdosag effect administ vitamin persist tw...   \n",
       "24     u overdosag advers reaction overdos case simil...   \n",
       "25                                                   NaN   \n",
       "26                                                   NaN   \n",
       "27                                                   NaN   \n",
       "28     u overdosag minim empir data avail isradipin o...   \n",
       "29     u overdosag common sign symptom observ caus el...   \n",
       "...                                                  ...   \n",
       "43076                                                NaN   \n",
       "43077                                                NaN   \n",
       "43078                                                NaN   \n",
       "43079                                                NaN   \n",
       "43080                                                NaN   \n",
       "43081                                                NaN   \n",
       "43082                                                NaN   \n",
       "43083                                                NaN   \n",
       "43084  u overdosag case overdosag discontinu medic tr...   \n",
       "43085  u 10 overdosag strategi manag drug overdos con...   \n",
       "43086                                                NaN   \n",
       "43087                                                NaN   \n",
       "43088                                                NaN   \n",
       "43089  u 10 overdosag overdos 10 fold prescrib dose o...   \n",
       "43090                                                NaN   \n",
       "43091                                                NaN   \n",
       "43092                                                NaN   \n",
       "43093                                                NaN   \n",
       "43094                                                NaN   \n",
       "43095                                                NaN   \n",
       "43096  u overdosag case overdosag discontinu medic tr...   \n",
       "43097  u 10 overdosag limit data avail regard overdos...   \n",
       "43098                                                NaN   \n",
       "43099                                                NaN   \n",
       "43100                                                NaN   \n",
       "43101  u overdosag common sign symptom observ caus el...   \n",
       "43102  u overdosag intent unintent overdos may result...   \n",
       "43103                                                NaN   \n",
       "43104                                                NaN   \n",
       "43105                                                NaN   \n",
       "\n",
       "                               spl_product_data_elements  \n",
       "0      u omeprazol omeprazol omeprazol omeprazol ammo...  \n",
       "1      u carisoprodol carisoprodol carisoprodol caris...  \n",
       "2      u dexamethason dexamethason dexamethason dexam...  \n",
       "3      u nmc staypot doubl program cream adenosin ade...  \n",
       "4      u digoxin digoxin digoxin digoxin anhydr lacto...  \n",
       "5      u naproxen naproxen naproxen naproxen croscarm...  \n",
       "6      u goodstuff skin protect dimethicon dimethicon...  \n",
       "7      u gallium gallium citrat ga 67 gallium citrat ...  \n",
       "8      u obagi c rx system normal dri skin intervent ...  \n",
       "9      u obagi c rx system normal oili skin intervent...  \n",
       "10     u benzoyl peroxid benzoyl peroxid benzoyl pero...  \n",
       "11     u famili well antifung clotrimazol clotrimazol...  \n",
       "12     u calcium acet calcium acet calcium acet calci...  \n",
       "13     u arnica arnica montana arnica montana arnica ...  \n",
       "14     u c nate dha omega 3 fatti acid icosap doconex...  \n",
       "15              u dehydr alcohol alcohol alcohol alcohol  \n",
       "16     u dr andrew weil origin mega bright spf 30 ski...  \n",
       "17     u sucralf sucralf sucralf sucralf starch corn ...  \n",
       "18     u lisinopril lisinopril lisinopril lisinopril ...  \n",
       "19     u famili dollar foam antibacteri hand wash tri...  \n",
       "20     u oxaprozin oxaprozin oxaprozin oxaprozin sili...  \n",
       "21     u bencocain topic anesthet benzocain benzocain...  \n",
       "22     u eri tab erythromycin erythromycin erythromyc...  \n",
       "23     u ergocalciferol ergocalciferol ergocalciferol...  \n",
       "24     u famotidin famotidin famotidin famotidin sili...  \n",
       "25     u bencocain topic anesthet benzocain benzocain...  \n",
       "26     u bisacodylenter coat bisacodyl bisacodyl bisa...  \n",
       "27     u daytim nitetim cold flu acetaminophen dextro...  \n",
       "28     u isradipin isradipin isradipin isradipin sili...  \n",
       "29     u hydrochlorothiazid hydrochlorothiazid hydroc...  \n",
       "...                                                  ...  \n",
       "43076  u burberri fresh glow foundat lumin fluid came...  \n",
       "43077  u burberri fresh glow foundat lumin fluid moch...  \n",
       "43078  u good sens nicotin nicotin polacrilex nicotin...  \n",
       "43079  u complet famotidin calcium carbon magnesium h...  \n",
       "43080  u blue lizard sport octinox octocrylen oxybenz...  \n",
       "43081  u heparin sodium heparin sodium heparin sodium...  \n",
       "43082  u rub alcohol50 percent wintergreen isopropyl ...  \n",
       "43083  u vida mia hand sanit alo vera 62 alcohol alco...  \n",
       "43084  u doxycyclin hyclat doxycyclin hyclat doxycycl...  \n",
       "43085  u transderm scop scopolamin scopolamin scopola...  \n",
       "43086  u pedi boro soak pak aluminum sulfat tetradeca...  \n",
       "43087  u lite nfoami lemon blossom hand sanit benzalk...  \n",
       "43088  u rub alcohol70 percent isopropyl alcohol isop...  \n",
       "43089  u topotecan hydrochlorid topotecan hydrochlori...  \n",
       "43090  u goodsens irrit relief eye tetrahydrozolin hy...  \n",
       "43091  u dg health pain relief pm acetaminophen diphe...  \n",
       "43092  u isopropyl rub alcohol isopropyl alcohol isop...  \n",
       "43093  u male energi dehydroepiandrosteron sabal serr...  \n",
       "43094  u purel advanc instant hand sanit alcohol alco...  \n",
       "43095  u zim advanc cold sore fever blister moistur p...  \n",
       "43096  u amoxicillin amoxicillin amoxicillin amoxicil...  \n",
       "43097  u micardi telmisartan telmisartan telmisartan ...  \n",
       "43098  u 7 select allergi relief loratadin loratadin ...  \n",
       "43099  u fluorescein sodium proparacain hydrochlorid ...  \n",
       "43100  u penicillin v potassium penicillin v potassiu...  \n",
       "43101  u hydrochlorothiazid hydrochlorothiazid hydroc...  \n",
       "43102  u benzonat benzonat benzonat benzonat soft gel...  \n",
       "43103  u acephen acetaminophen acetaminophen acetamin...  \n",
       "43104  u endur 250 triclosan triclosan triclosan wate...  \n",
       "43105  u dextros dextros monohydr dextros monohydr an...  \n",
       "\n",
       "[43106 rows x 9 columns]"
      ]
     },
     "execution_count": 4,
     "metadata": {},
     "output_type": "execute_result"
    }
   ],
   "source": [
    "df[nlp_features]"
   ]
  },
  {
   "cell_type": "code",
   "execution_count": 5,
   "metadata": {
    "collapsed": true
   },
   "outputs": [],
   "source": [
    "# def turn_list_into_string(list_of_items):\n",
    "#     new_string=''\n",
    "#     for item in list_of_items:\n",
    "#         new_string += item\n",
    "#         #print new_string,'\\n'\n",
    "#     return new_string\n",
    "\n",
    "# def stringify_me(list_of_items):\n",
    "#     return ' '.join(list_of_items)\n",
    "        "
   ]
  },
  {
   "cell_type": "code",
   "execution_count": 6,
   "metadata": {
    "scrolled": true
   },
   "outputs": [
    {
     "data": {
      "text/plain": [
       "'u 4 contraind omeprazol delay releas capsul contraind patient known hypersensit substitut benzimidazol compon formul hypersensit reaction may includ anaphylaxi anaphylact shock angioedema bronchospasm interstiti nephriti urticaria see advers reaction 6 inform contraind antibacteri agent clarithromycin amoxicillin indic combin omeprazol refer contraind section packag insert known hypersensit compon formul substitut benzimidazol angioedema anaphylaxi occur 4'"
      ]
     },
     "execution_count": 6,
     "metadata": {},
     "output_type": "execute_result"
    }
   ],
   "source": [
    "df['contraindications'][0]"
   ]
  },
  {
   "cell_type": "code",
   "execution_count": 7,
   "metadata": {
    "collapsed": true
   },
   "outputs": [],
   "source": [
    "#df['contraindications'][0]==turn_list_into_string(df['contraindications'][0])"
   ]
  },
  {
   "cell_type": "code",
   "execution_count": 8,
   "metadata": {},
   "outputs": [
    {
     "data": {
      "text/plain": [
       "'u 4 contraind omeprazol delay releas capsul contraind patient known hypersensit substitut benzimidazol compon formul hypersensit reaction may includ anaphylaxi anaphylact shock angioedema bronchospasm interstiti nephriti urticaria see advers reaction 6 inform contraind antibacteri agent clarithromycin amoxicillin indic combin omeprazol refer contraind section packag insert known hypersensit compon formul substitut benzimidazol angioedema anaphylaxi occur 4'"
      ]
     },
     "execution_count": 8,
     "metadata": {},
     "output_type": "execute_result"
    }
   ],
   "source": [
    "df['contraindications'][0]"
   ]
  },
  {
   "cell_type": "code",
   "execution_count": null,
   "metadata": {
    "collapsed": true
   },
   "outputs": [],
   "source": []
  },
  {
   "cell_type": "code",
   "execution_count": null,
   "metadata": {
    "collapsed": true
   },
   "outputs": [],
   "source": []
  },
  {
   "cell_type": "code",
   "execution_count": null,
   "metadata": {
    "collapsed": true
   },
   "outputs": [],
   "source": []
  },
  {
   "cell_type": "code",
   "execution_count": null,
   "metadata": {
    "collapsed": true
   },
   "outputs": [],
   "source": []
  },
  {
   "cell_type": "code",
   "execution_count": 9,
   "metadata": {
    "collapsed": true
   },
   "outputs": [],
   "source": [
    "test1=df['adverse_reactions'].fillna('none')"
   ]
  },
  {
   "cell_type": "code",
   "execution_count": 10,
   "metadata": {},
   "outputs": [
    {
     "data": {
      "text/plain": [
       "'none'"
      ]
     },
     "execution_count": 10,
     "metadata": {},
     "output_type": "execute_result"
    }
   ],
   "source": [
    "test1[3]"
   ]
  },
  {
   "cell_type": "code",
   "execution_count": 11,
   "metadata": {
    "collapsed": true
   },
   "outputs": [],
   "source": [
    "for col in nlp_features:\n",
    "    df[col]=df[col].fillna('none')"
   ]
  },
  {
   "cell_type": "code",
   "execution_count": 12,
   "metadata": {
    "collapsed": true
   },
   "outputs": [],
   "source": [
    "# def clean_nulls(text):\n",
    "#     if text == 'NaN':\n",
    "#         text='no value'\n",
    "#     return text"
   ]
  },
  {
   "cell_type": "code",
   "execution_count": 13,
   "metadata": {
    "collapsed": true
   },
   "outputs": [],
   "source": [
    "#df['test1']=df['adverse_reactions'].apply(clean_nulls)"
   ]
  },
  {
   "cell_type": "code",
   "execution_count": 14,
   "metadata": {},
   "outputs": [
    {
     "data": {
      "text/plain": [
       "0"
      ]
     },
     "execution_count": 14,
     "metadata": {},
     "output_type": "execute_result"
    }
   ],
   "source": [
    "df['adverse_reactions'].isnull().sum()"
   ]
  },
  {
   "cell_type": "code",
   "execution_count": 15,
   "metadata": {
    "collapsed": true
   },
   "outputs": [],
   "source": [
    "tfidf_vectorizer=TfidfVectorizer()#ngram_range=(1,3))"
   ]
  },
  {
   "cell_type": "code",
   "execution_count": 16,
   "metadata": {
    "collapsed": true
   },
   "outputs": [],
   "source": [
    "test1=tfidf_vectorizer.fit_transform(df['adverse_reactions'])"
   ]
  },
  {
   "cell_type": "code",
   "execution_count": 17,
   "metadata": {},
   "outputs": [
    {
     "data": {
      "text/plain": [
       "(43106, 18507)"
      ]
     },
     "execution_count": 17,
     "metadata": {},
     "output_type": "execute_result"
    }
   ],
   "source": [
    "test1.todense().shape"
   ]
  },
  {
   "cell_type": "code",
   "execution_count": 18,
   "metadata": {
    "collapsed": true
   },
   "outputs": [],
   "source": [
    "test1_dense=test1.todense()"
   ]
  },
  {
   "cell_type": "code",
   "execution_count": 19,
   "metadata": {},
   "outputs": [
    {
     "data": {
      "text/plain": [
       "13.667557477774622"
      ]
     },
     "execution_count": 19,
     "metadata": {},
     "output_type": "execute_result"
    }
   ],
   "source": [
    "test1_dense[2].sum()"
   ]
  },
  {
   "cell_type": "code",
   "execution_count": null,
   "metadata": {
    "collapsed": true
   },
   "outputs": [],
   "source": []
  },
  {
   "cell_type": "code",
   "execution_count": 20,
   "metadata": {
    "collapsed": true
   },
   "outputs": [],
   "source": [
    "tfidf_vectorizer=TfidfVectorizer()\n",
    "new_tfidf=pd.DataFrame(tfidf_vectorizer.fit_transform(df['adverse_reactions']).todense())"
   ]
  },
  {
   "cell_type": "code",
   "execution_count": 21,
   "metadata": {},
   "outputs": [
    {
     "data": {
      "text/html": [
       "<div>\n",
       "<table border=\"1\" class=\"dataframe\">\n",
       "  <thead>\n",
       "    <tr style=\"text-align: right;\">\n",
       "      <th></th>\n",
       "      <th>0</th>\n",
       "      <th>1</th>\n",
       "      <th>2</th>\n",
       "      <th>3</th>\n",
       "      <th>4</th>\n",
       "      <th>5</th>\n",
       "      <th>6</th>\n",
       "      <th>7</th>\n",
       "      <th>8</th>\n",
       "      <th>9</th>\n",
       "      <th>...</th>\n",
       "      <th>18497</th>\n",
       "      <th>18498</th>\n",
       "      <th>18499</th>\n",
       "      <th>18500</th>\n",
       "      <th>18501</th>\n",
       "      <th>18502</th>\n",
       "      <th>18503</th>\n",
       "      <th>18504</th>\n",
       "      <th>18505</th>\n",
       "      <th>18506</th>\n",
       "    </tr>\n",
       "  </thead>\n",
       "  <tbody>\n",
       "    <tr>\n",
       "      <th>0</th>\n",
       "      <td>0.0</td>\n",
       "      <td>0.0</td>\n",
       "      <td>0.0</td>\n",
       "      <td>0.0</td>\n",
       "      <td>0.0</td>\n",
       "      <td>0.0</td>\n",
       "      <td>0.0</td>\n",
       "      <td>0.0</td>\n",
       "      <td>0.0</td>\n",
       "      <td>0.0</td>\n",
       "      <td>...</td>\n",
       "      <td>0.0</td>\n",
       "      <td>0.0</td>\n",
       "      <td>0.0</td>\n",
       "      <td>0.0</td>\n",
       "      <td>0.0</td>\n",
       "      <td>0.0</td>\n",
       "      <td>0.0</td>\n",
       "      <td>0.0</td>\n",
       "      <td>0.0</td>\n",
       "      <td>0.0</td>\n",
       "    </tr>\n",
       "    <tr>\n",
       "      <th>1</th>\n",
       "      <td>0.0</td>\n",
       "      <td>0.0</td>\n",
       "      <td>0.0</td>\n",
       "      <td>0.0</td>\n",
       "      <td>0.0</td>\n",
       "      <td>0.0</td>\n",
       "      <td>0.0</td>\n",
       "      <td>0.0</td>\n",
       "      <td>0.0</td>\n",
       "      <td>0.0</td>\n",
       "      <td>...</td>\n",
       "      <td>0.0</td>\n",
       "      <td>0.0</td>\n",
       "      <td>0.0</td>\n",
       "      <td>0.0</td>\n",
       "      <td>0.0</td>\n",
       "      <td>0.0</td>\n",
       "      <td>0.0</td>\n",
       "      <td>0.0</td>\n",
       "      <td>0.0</td>\n",
       "      <td>0.0</td>\n",
       "    </tr>\n",
       "    <tr>\n",
       "      <th>2</th>\n",
       "      <td>0.0</td>\n",
       "      <td>0.0</td>\n",
       "      <td>0.0</td>\n",
       "      <td>0.0</td>\n",
       "      <td>0.0</td>\n",
       "      <td>0.0</td>\n",
       "      <td>0.0</td>\n",
       "      <td>0.0</td>\n",
       "      <td>0.0</td>\n",
       "      <td>0.0</td>\n",
       "      <td>...</td>\n",
       "      <td>0.0</td>\n",
       "      <td>0.0</td>\n",
       "      <td>0.0</td>\n",
       "      <td>0.0</td>\n",
       "      <td>0.0</td>\n",
       "      <td>0.0</td>\n",
       "      <td>0.0</td>\n",
       "      <td>0.0</td>\n",
       "      <td>0.0</td>\n",
       "      <td>0.0</td>\n",
       "    </tr>\n",
       "    <tr>\n",
       "      <th>3</th>\n",
       "      <td>0.0</td>\n",
       "      <td>0.0</td>\n",
       "      <td>0.0</td>\n",
       "      <td>0.0</td>\n",
       "      <td>0.0</td>\n",
       "      <td>0.0</td>\n",
       "      <td>0.0</td>\n",
       "      <td>0.0</td>\n",
       "      <td>0.0</td>\n",
       "      <td>0.0</td>\n",
       "      <td>...</td>\n",
       "      <td>0.0</td>\n",
       "      <td>0.0</td>\n",
       "      <td>0.0</td>\n",
       "      <td>0.0</td>\n",
       "      <td>0.0</td>\n",
       "      <td>0.0</td>\n",
       "      <td>0.0</td>\n",
       "      <td>0.0</td>\n",
       "      <td>0.0</td>\n",
       "      <td>0.0</td>\n",
       "    </tr>\n",
       "    <tr>\n",
       "      <th>4</th>\n",
       "      <td>0.0</td>\n",
       "      <td>0.0</td>\n",
       "      <td>0.0</td>\n",
       "      <td>0.0</td>\n",
       "      <td>0.0</td>\n",
       "      <td>0.0</td>\n",
       "      <td>0.0</td>\n",
       "      <td>0.0</td>\n",
       "      <td>0.0</td>\n",
       "      <td>0.0</td>\n",
       "      <td>...</td>\n",
       "      <td>0.0</td>\n",
       "      <td>0.0</td>\n",
       "      <td>0.0</td>\n",
       "      <td>0.0</td>\n",
       "      <td>0.0</td>\n",
       "      <td>0.0</td>\n",
       "      <td>0.0</td>\n",
       "      <td>0.0</td>\n",
       "      <td>0.0</td>\n",
       "      <td>0.0</td>\n",
       "    </tr>\n",
       "  </tbody>\n",
       "</table>\n",
       "<p>5 rows × 18507 columns</p>\n",
       "</div>"
      ],
      "text/plain": [
       "   0      1      2      3      4      5      6      7      8      9      \\\n",
       "0    0.0    0.0    0.0    0.0    0.0    0.0    0.0    0.0    0.0    0.0   \n",
       "1    0.0    0.0    0.0    0.0    0.0    0.0    0.0    0.0    0.0    0.0   \n",
       "2    0.0    0.0    0.0    0.0    0.0    0.0    0.0    0.0    0.0    0.0   \n",
       "3    0.0    0.0    0.0    0.0    0.0    0.0    0.0    0.0    0.0    0.0   \n",
       "4    0.0    0.0    0.0    0.0    0.0    0.0    0.0    0.0    0.0    0.0   \n",
       "\n",
       "   ...    18497  18498  18499  18500  18501  18502  18503  18504  18505  18506  \n",
       "0  ...      0.0    0.0    0.0    0.0    0.0    0.0    0.0    0.0    0.0    0.0  \n",
       "1  ...      0.0    0.0    0.0    0.0    0.0    0.0    0.0    0.0    0.0    0.0  \n",
       "2  ...      0.0    0.0    0.0    0.0    0.0    0.0    0.0    0.0    0.0    0.0  \n",
       "3  ...      0.0    0.0    0.0    0.0    0.0    0.0    0.0    0.0    0.0    0.0  \n",
       "4  ...      0.0    0.0    0.0    0.0    0.0    0.0    0.0    0.0    0.0    0.0  \n",
       "\n",
       "[5 rows x 18507 columns]"
      ]
     },
     "execution_count": 21,
     "metadata": {},
     "output_type": "execute_result"
    }
   ],
   "source": [
    "new_tfidf.head()"
   ]
  },
  {
   "cell_type": "code",
   "execution_count": 22,
   "metadata": {},
   "outputs": [
    {
     "name": "stdout",
     "output_type": "stream",
     "text": [
      "43106\n",
      "43106\n",
      "43106\n",
      "43106\n",
      "43106\n",
      "43106\n",
      "43106\n",
      "43106\n",
      "43106\n"
     ]
    }
   ],
   "source": [
    "tfidf_matrix=[]\n",
    "for col in nlp_features:\n",
    "    tfidf_vectorizer=TfidfVectorizer()\n",
    "    new_tfidf=pd.DataFrame(tfidf_vectorizer.fit_transform(df[col]).todense())\n",
    "    print len(new_tfidf)\n",
    "    tfidf_matrix.append(new_tfidf)\n",
    "\n",
    "    \n",
    "    "
   ]
  },
  {
   "cell_type": "code",
   "execution_count": 23,
   "metadata": {},
   "outputs": [
    {
     "name": "stdout",
     "output_type": "stream",
     "text": [
      "(43106, 18507)\n",
      "(43106, 22360)\n",
      "(43106, 6163)\n",
      "(43106, 18445)\n",
      "(43106, 17929)\n",
      "(43106, 23210)\n",
      "(43106, 15119)\n",
      "(43106, 6766)\n",
      "(43106, 23465)\n"
     ]
    }
   ],
   "source": [
    "for matrix in tfidf_matrix:\n",
    "    print matrix.shape"
   ]
  },
  {
   "cell_type": "code",
   "execution_count": 24,
   "metadata": {
    "collapsed": true
   },
   "outputs": [],
   "source": [
    "# df_matrices=tfidf_matrices[0].join(tfidf_matrices[1],rsuffix='_1')\n",
    "# df_matrices=df_matrices.join(tfidf_matrices[2],rsuffix='_2')\n",
    "# df_matrices=df_matrices.join(tfidf_matrices[3],rsuffix='_3')\n",
    "# df_matrices=df_matrices.join(tfidf_matrices[4],rsuffix='_4')\n",
    "# df_matrices=df_matrices.join(tfidf_matrices[5],rsuffix='_5')\n",
    "# df_matrices=df_matrices.join(tfidf_matrices[6],rsuffix='_6')\n",
    "# df_matrices=df_matrices.join(tfidf_matrices[7],rsuffix='_7')\n",
    "# df_matrices=df_matrices.join(tfidf_matrices[8],rsuffix='_8')"
   ]
  },
  {
   "cell_type": "markdown",
   "metadata": {},
   "source": [
    "''' option 1: do PCA separately on each NLP col before joining, and then only join the required cols, based on checking the explained_variance_ratio_'''"
   ]
  },
  {
   "cell_type": "code",
   "execution_count": 25,
   "metadata": {},
   "outputs": [
    {
     "data": {
      "text/plain": [
       "9"
      ]
     },
     "execution_count": 25,
     "metadata": {},
     "output_type": "execute_result"
    }
   ],
   "source": [
    "len(tfidf_matrix)"
   ]
  },
  {
   "cell_type": "code",
   "execution_count": 26,
   "metadata": {
    "collapsed": true
   },
   "outputs": [],
   "source": [
    "# X_std=[]\n",
    "# for i in range(len(tfidf_matrix)):\n",
    "#     X_std.append(StandardScaler().fit_transform(tfidf_matrix[i]))"
   ]
  },
  {
   "cell_type": "code",
   "execution_count": 27,
   "metadata": {
    "collapsed": true
   },
   "outputs": [],
   "source": [
    "# pca=PCA()\n",
    "# pca.fit_transform(tfidf_matrix[0])\n",
    "# exp_var=pca.explained_variance_ratio_\n",
    "# print np.cumsum(exp_var)"
   ]
  },
  {
   "cell_type": "code",
   "execution_count": 31,
   "metadata": {
    "collapsed": true
   },
   "outputs": [],
   "source": [
    "tsvd=TruncatedSVD(n_components=100)\n",
    "\n",
    "\n"
   ]
  },
  {
   "cell_type": "code",
   "execution_count": 32,
   "metadata": {
    "collapsed": true
   },
   "outputs": [],
   "source": [
    "feature_1=tsvd.fit_transform(tfidf_matrix[0])"
   ]
  },
  {
   "cell_type": "code",
   "execution_count": null,
   "metadata": {},
   "outputs": [],
   "source": []
  },
  {
   "cell_type": "code",
   "execution_count": 37,
   "metadata": {},
   "outputs": [],
   "source": [
    "pd.DataFrame(feature_1).to_csv('feature_1.csv')"
   ]
  },
  {
   "cell_type": "code",
   "execution_count": 38,
   "metadata": {
    "collapsed": true
   },
   "outputs": [],
   "source": [
    "feature_2=tsvd.fit_transform(tfidf_matrix[1])\n"
   ]
  },
  {
   "cell_type": "code",
   "execution_count": 39,
   "metadata": {
    "collapsed": true
   },
   "outputs": [],
   "source": [
    "pd.DataFrame(feature_2).to_csv('feature_2.csv')"
   ]
  },
  {
   "cell_type": "code",
   "execution_count": 40,
   "metadata": {
    "collapsed": true
   },
   "outputs": [],
   "source": [
    "feature_3=tsvd.fit_transform(tfidf_matrix[2])\n"
   ]
  },
  {
   "cell_type": "code",
   "execution_count": 41,
   "metadata": {
    "collapsed": true
   },
   "outputs": [],
   "source": [
    "pd.DataFrame(feature_3).to_csv('feature_3.csv')"
   ]
  },
  {
   "cell_type": "code",
   "execution_count": 42,
   "metadata": {
    "collapsed": true
   },
   "outputs": [],
   "source": [
    "feature_4=tsvd.fit_transform(tfidf_matrix[3])\n"
   ]
  },
  {
   "cell_type": "code",
   "execution_count": 43,
   "metadata": {
    "collapsed": true
   },
   "outputs": [],
   "source": [
    "pd.DataFrame(feature_4).to_csv('feature_4.csv')"
   ]
  },
  {
   "cell_type": "code",
   "execution_count": 44,
   "metadata": {
    "collapsed": true
   },
   "outputs": [],
   "source": [
    "feature_5=tsvd.fit_transform(tfidf_matrix[4])\n"
   ]
  },
  {
   "cell_type": "code",
   "execution_count": 45,
   "metadata": {
    "collapsed": true
   },
   "outputs": [],
   "source": [
    "pd.DataFrame(feature_5).to_csv('feature_5.csv')"
   ]
  },
  {
   "cell_type": "code",
   "execution_count": null,
   "metadata": {
    "collapsed": true
   },
   "outputs": [],
   "source": [
    "feature_6=tsvd.fit_transform(tfidf_matrix[5])\n"
   ]
  },
  {
   "cell_type": "code",
   "execution_count": null,
   "metadata": {
    "collapsed": true
   },
   "outputs": [],
   "source": [
    "pd.DataFrame(feature_6).to_csv('feature_6.csv')"
   ]
  },
  {
   "cell_type": "code",
   "execution_count": null,
   "metadata": {
    "collapsed": true
   },
   "outputs": [],
   "source": [
    "feature_7=tsvd.fit_transform(tfidf_matrix[6])\n"
   ]
  },
  {
   "cell_type": "code",
   "execution_count": null,
   "metadata": {
    "collapsed": true
   },
   "outputs": [],
   "source": [
    "pd.DataFrame(feature_7).to_csv('feature_7.csv')"
   ]
  },
  {
   "cell_type": "code",
   "execution_count": null,
   "metadata": {
    "collapsed": true
   },
   "outputs": [],
   "source": [
    "feature_8=tsvd.fit_transform(tfidf_matrix[7])\n"
   ]
  },
  {
   "cell_type": "code",
   "execution_count": null,
   "metadata": {
    "collapsed": true
   },
   "outputs": [],
   "source": [
    "pd.DataFrame(feature_8).to_csv('feature_8.csv')"
   ]
  },
  {
   "cell_type": "code",
   "execution_count": null,
   "metadata": {
    "collapsed": true
   },
   "outputs": [],
   "source": [
    "feature_9=tsvd.fit_transform(tfidf_matrix[8])"
   ]
  },
  {
   "cell_type": "code",
   "execution_count": null,
   "metadata": {
    "collapsed": true
   },
   "outputs": [],
   "source": [
    "pd.DataFrame(feature_9).to_csv('feature_9.csv')"
   ]
  },
  {
   "cell_type": "code",
   "execution_count": 1,
   "metadata": {},
   "outputs": [
    {
     "data": {
      "text/plain": [
       "0"
      ]
     },
     "execution_count": 1,
     "metadata": {},
     "output_type": "execute_result"
    }
   ],
   "source": [
    "1/2"
   ]
  },
  {
   "cell_type": "code",
   "execution_count": 4,
   "metadata": {},
   "outputs": [
    {
     "ename": "NameError",
     "evalue": "name 'tsvd' is not defined",
     "output_type": "error",
     "traceback": [
      "\u001b[0;31m----------------------------------------------------------------------\u001b[0m",
      "\u001b[0;31mNameError\u001b[0m                            Traceback (most recent call last)",
      "\u001b[0;32m<ipython-input-4-5651f035f6db>\u001b[0m in \u001b[0;36m<module>\u001b[0;34m()\u001b[0m\n\u001b[0;32m----> 1\u001b[0;31m \u001b[0mtsvd\u001b[0m\u001b[0;34m\u001b[0m\u001b[0m\n\u001b[0m",
      "\u001b[0;31mNameError\u001b[0m: name 'tsvd' is not defined"
     ]
    }
   ],
   "source": [
    "tsvd"
   ]
  },
  {
   "cell_type": "code",
   "execution_count": null,
   "metadata": {
    "collapsed": true
   },
   "outputs": [],
   "source": []
  },
  {
   "cell_type": "code",
   "execution_count": null,
   "metadata": {
    "collapsed": true
   },
   "outputs": [],
   "source": [
    "exp_var=tsvd.explained_variance_ratio_\n",
    "print np.cumsum(exp_var)"
   ]
  },
  {
   "cell_type": "code",
   "execution_count": null,
   "metadata": {
    "collapsed": true
   },
   "outputs": [],
   "source": [
    "'''\n",
    "for item in X_std:\n",
    "\n",
    "\n",
    "\n",
    "\n",
    "'''"
   ]
  },
  {
   "cell_type": "code",
   "execution_count": null,
   "metadata": {
    "collapsed": true
   },
   "outputs": [],
   "source": [
    "pca=PCA(n_components=2)"
   ]
  },
  {
   "cell_type": "code",
   "execution_count": null,
   "metadata": {
    "collapsed": true
   },
   "outputs": [],
   "source": []
  },
  {
   "cell_type": "code",
   "execution_count": null,
   "metadata": {
    "collapsed": true
   },
   "outputs": [],
   "source": []
  },
  {
   "cell_type": "code",
   "execution_count": null,
   "metadata": {
    "collapsed": true
   },
   "outputs": [],
   "source": []
  },
  {
   "cell_type": "code",
   "execution_count": null,
   "metadata": {
    "collapsed": true
   },
   "outputs": [],
   "source": []
  },
  {
   "cell_type": "code",
   "execution_count": null,
   "metadata": {
    "collapsed": true
   },
   "outputs": [],
   "source": []
  },
  {
   "cell_type": "code",
   "execution_count": null,
   "metadata": {
    "collapsed": true
   },
   "outputs": [],
   "source": []
  },
  {
   "cell_type": "code",
   "execution_count": null,
   "metadata": {
    "collapsed": true
   },
   "outputs": [],
   "source": []
  },
  {
   "cell_type": "code",
   "execution_count": null,
   "metadata": {
    "collapsed": true
   },
   "outputs": [],
   "source": []
  },
  {
   "cell_type": "code",
   "execution_count": null,
   "metadata": {
    "collapsed": true
   },
   "outputs": [],
   "source": [
    "tfidf_nlp_cols=tfidf_vectorizer.fit_transform(df[nlp_features])"
   ]
  },
  {
   "cell_type": "code",
   "execution_count": null,
   "metadata": {
    "collapsed": true
   },
   "outputs": [],
   "source": [
    "tfidf_nlp_cols.shape"
   ]
  },
  {
   "cell_type": "code",
   "execution_count": null,
   "metadata": {
    "collapsed": true
   },
   "outputs": [],
   "source": [
    "type(tfidf_nlp_cols)"
   ]
  },
  {
   "cell_type": "code",
   "execution_count": null,
   "metadata": {
    "collapsed": true
   },
   "outputs": [],
   "source": [
    "tfidf_nlp_cols.todense().shape"
   ]
  },
  {
   "cell_type": "code",
   "execution_count": null,
   "metadata": {
    "collapsed": true
   },
   "outputs": [],
   "source": [
    "tsvd=TruncatedSVD()"
   ]
  },
  {
   "cell_type": "code",
   "execution_count": null,
   "metadata": {
    "collapsed": true
   },
   "outputs": [],
   "source": [
    "tsvd_transformed=tsvd.fit_transform(tfidf_nlp_cols)"
   ]
  },
  {
   "cell_type": "code",
   "execution_count": null,
   "metadata": {
    "collapsed": true
   },
   "outputs": [],
   "source": []
  },
  {
   "cell_type": "code",
   "execution_count": null,
   "metadata": {
    "collapsed": true
   },
   "outputs": [],
   "source": []
  },
  {
   "cell_type": "code",
   "execution_count": null,
   "metadata": {
    "collapsed": true
   },
   "outputs": [],
   "source": []
  },
  {
   "cell_type": "code",
   "execution_count": null,
   "metadata": {
    "collapsed": true
   },
   "outputs": [],
   "source": [
    "tsne=TSNE(verbose=10)"
   ]
  },
  {
   "cell_type": "code",
   "execution_count": null,
   "metadata": {
    "collapsed": true
   },
   "outputs": [],
   "source": [
    "tsne_2_comp=tsne.fit_transform(tsvd_transformed)"
   ]
  },
  {
   "cell_type": "code",
   "execution_count": null,
   "metadata": {
    "collapsed": true
   },
   "outputs": [],
   "source": [
    "plt.scatter(tsne_2_comp[:,0],tsne_2_comp[:,1])"
   ]
  },
  {
   "cell_type": "code",
   "execution_count": null,
   "metadata": {
    "collapsed": true
   },
   "outputs": [],
   "source": []
  },
  {
   "cell_type": "code",
   "execution_count": null,
   "metadata": {
    "collapsed": true
   },
   "outputs": [],
   "source": []
  },
  {
   "cell_type": "code",
   "execution_count": null,
   "metadata": {
    "collapsed": true
   },
   "outputs": [],
   "source": []
  },
  {
   "cell_type": "code",
   "execution_count": null,
   "metadata": {
    "collapsed": true
   },
   "outputs": [],
   "source": [
    "num_features=[ u'abuse', u'accessories', u'alarms',\n",
    "       u'animal_pharmacology_and_or_toxicology', u'ask_doctor',\n",
    "       u'ask_doctor_or_pharmacist', u'assembly_or_installation_instructions',\n",
    "       u'boxed_warning', u'calibration_instructions',\n",
    "       u'carcinogenesis_and_mutagenesis_and_impairment_of_fertility',\n",
    "       u'cleaning', u'clinical_studies', u'components',\n",
    "       u'controlled_substance', u'dependence', u'diagram_of_device',\n",
    "       u'disposal_and_waste_handling', u'do_not_use',\n",
    "       u'dosage_forms_and_strengths', u'drug_abuse_and_dependence',\n",
    "       u'drug_and_or_laboratory_test_interactions', u'drug_interactions',\n",
    "       u'environmental_warning', u'food_safety_warning',\n",
    "       u'general_precautions', u'geriatric_use',\n",
    "       u'guaranteed_analysis_of_feed', u'health_care_provider_letter',\n",
    "       u'health_claim', u'information_for_owners_or_caregivers',\n",
    "       u'information_for_patients', u'instructions_for_use',\n",
    "       u'intended_use_of_the_device', u'labor_and_delivery',\n",
    "       u'laboratory_tests', u'mechanism_of_action', u'microbiology',\n",
    "       u'nonclinical_toxicology', u'nonteratogenic_effects',\n",
    "       u'nursing_mothers', u'other_safety_information',\n",
    "       u'patient_medication_information', u'pediatric_use',\n",
    "       u'pharmacodynamics', u'pharmacogenomics', u'pharmacokinetics',\n",
    "       u'precautions', u'pregnancy', u'pregnancy_or_breast_feeding',\n",
    "       u'questions', u'recent_major_changes', u'residue_warning', u'risks',\n",
    "       u'route', u'safe_handling_warning', u'spl_indexing_data_elements',\n",
    "       u'spl_medguide', u'spl_patient_package_insert',\n",
    "       u'statement_of_identity', u'summary_of_safety_and_effectiveness',\n",
    "       u'teratogenic_effects', u'troubleshooting',\n",
    "       u'use_in_specific_populations', u'user_safety_warnings', u'version',\n",
    "       u'veterinary_indications', u'warnings_and_cautions', u'when_using',\n",
    "       u'date', u'month', u'year']"
   ]
  },
  {
   "cell_type": "code",
   "execution_count": null,
   "metadata": {
    "collapsed": true
   },
   "outputs": [],
   "source": [
    "features=[u'adverse_reactions', u'clinical_pharmacology',\n",
    "       u'contraindications', u'description', u'dosage_and_administration',\n",
    "       u'how_supplied', u'indications_and_usage', u'overdosage',\n",
    "       u'spl_product_data_elements', u'abuse', u'accessories', u'alarms',\n",
    "       u'animal_pharmacology_and_or_toxicology', u'ask_doctor',\n",
    "       u'ask_doctor_or_pharmacist', u'assembly_or_installation_instructions',\n",
    "       u'boxed_warning', u'calibration_instructions',\n",
    "       u'carcinogenesis_and_mutagenesis_and_impairment_of_fertility',\n",
    "       u'cleaning', u'clinical_studies', u'components',\n",
    "       u'controlled_substance', u'dependence', u'diagram_of_device',\n",
    "       u'disposal_and_waste_handling', u'do_not_use',\n",
    "       u'dosage_forms_and_strengths', u'drug_abuse_and_dependence',\n",
    "       u'drug_and_or_laboratory_test_interactions', u'drug_interactions',\n",
    "       u'environmental_warning', u'food_safety_warning',\n",
    "       u'general_precautions', u'geriatric_use',\n",
    "       u'guaranteed_analysis_of_feed', u'health_care_provider_letter',\n",
    "       u'health_claim', u'information_for_owners_or_caregivers',\n",
    "       u'information_for_patients', u'instructions_for_use',\n",
    "       u'intended_use_of_the_device', u'labor_and_delivery',\n",
    "       u'laboratory_tests', u'mechanism_of_action', u'microbiology',\n",
    "       u'nonclinical_toxicology', u'nonteratogenic_effects',\n",
    "       u'nursing_mothers', u'other_safety_information',\n",
    "       u'patient_medication_information', u'pediatric_use',\n",
    "       u'pharmacodynamics', u'pharmacogenomics', u'pharmacokinetics',\n",
    "       u'precautions', u'pregnancy', u'pregnancy_or_breast_feeding',\n",
    "       u'questions', u'recent_major_changes', u'residue_warning', u'risks',\n",
    "       u'route', u'safe_handling_warning', u'spl_indexing_data_elements',\n",
    "       u'spl_medguide', u'spl_patient_package_insert',\n",
    "       u'statement_of_identity', u'summary_of_safety_and_effectiveness',\n",
    "       u'teratogenic_effects', u'troubleshooting',\n",
    "       u'use_in_specific_populations', u'user_safety_warnings', u'version',\n",
    "       u'veterinary_indications', u'warnings_and_cautions', u'when_using',\n",
    "       u'date', u'month', u'year']"
   ]
  },
  {
   "cell_type": "code",
   "execution_count": null,
   "metadata": {
    "collapsed": true
   },
   "outputs": [],
   "source": [
    "len(features)"
   ]
  },
  {
   "cell_type": "code",
   "execution_count": null,
   "metadata": {
    "collapsed": true
   },
   "outputs": [],
   "source": [
    "X_train,X_test,y_train,y_test=train_test_split(df[features],df['target'],test_size=0.3, random_state=100)"
   ]
  },
  {
   "cell_type": "code",
   "execution_count": null,
   "metadata": {
    "collapsed": true
   },
   "outputs": [],
   "source": [
    "lr=LogisticRegression(n_jobs=-1)"
   ]
  },
  {
   "cell_type": "code",
   "execution_count": null,
   "metadata": {
    "collapsed": true
   },
   "outputs": [],
   "source": [
    "lr.fit(X_train,y_train)"
   ]
  },
  {
   "cell_type": "code",
   "execution_count": null,
   "metadata": {
    "collapsed": true
   },
   "outputs": [],
   "source": [
    "lr.score(X_train,y_train)"
   ]
  },
  {
   "cell_type": "code",
   "execution_count": null,
   "metadata": {
    "collapsed": true
   },
   "outputs": [],
   "source": [
    "predictions=lr.predict(X_train)"
   ]
  },
  {
   "cell_type": "code",
   "execution_count": null,
   "metadata": {
    "collapsed": true
   },
   "outputs": [],
   "source": [
    "predictions.sum()"
   ]
  },
  {
   "cell_type": "code",
   "execution_count": null,
   "metadata": {
    "collapsed": true
   },
   "outputs": [],
   "source": []
  }
 ],
 "metadata": {
  "kernelspec": {
   "display_name": "Python 2",
   "language": "python",
   "name": "python2"
  },
  "language_info": {
   "codemirror_mode": {
    "name": "ipython",
    "version": 2
   },
   "file_extension": ".py",
   "mimetype": "text/x-python",
   "name": "python",
   "nbconvert_exporter": "python",
   "pygments_lexer": "ipython2",
   "version": "2.7.13"
  }
 },
 "nbformat": 4,
 "nbformat_minor": 2
}
