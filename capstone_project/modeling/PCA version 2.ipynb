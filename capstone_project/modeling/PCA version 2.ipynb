{
 "cells": [
  {
   "cell_type": "code",
   "execution_count": 242,
   "metadata": {
    "collapsed": true
   },
   "outputs": [],
   "source": [
    "import pandas as pd\n",
    "import numpy as np\n",
    "import matplotlib.pyplot as plt\n",
    "from sklearn.model_selection import train_test_split\n",
    "from sklearn.linear_model import LogisticRegression\n",
    "from sklearn.metrics import recall_score, precision_score, precision_recall_curve, confusion_matrix, classification_report\n",
    "from sklearn.decomposition import PCA, TruncatedSVD\n",
    "from sklearn.feature_extraction.text import TfidfVectorizer, CountVectorizer, TfidfTransformer\n",
    "from sklearn.manifold import TSNE\n",
    "from sklearn.cluster import AgglomerativeClustering\n",
    "from sklearn.preprocessing import StandardScaler\n",
    "from sklearn.ensemble import RandomForestClassifier"
   ]
  },
  {
   "cell_type": "code",
   "execution_count": 2,
   "metadata": {
    "collapsed": true
   },
   "outputs": [],
   "source": [
    "df=pd.read_csv('training_data_cleansed.csv')\n"
   ]
  },
  {
   "cell_type": "code",
   "execution_count": 3,
   "metadata": {
    "collapsed": true
   },
   "outputs": [],
   "source": [
    "df_to_predict=pd.read_csv('predicting_data_cleansed.csv')"
   ]
  },
  {
   "cell_type": "code",
   "execution_count": 4,
   "metadata": {
    "collapsed": true
   },
   "outputs": [],
   "source": [
    "nlp_features=[u'adverse_reactions', u'clinical_pharmacology',\n",
    "       u'contraindications', u'description', u'dosage_and_administration',\n",
    "       u'how_supplied', u'indications_and_usage', u'overdosage',\n",
    "       u'spl_product_data_elements']"
   ]
  },
  {
   "cell_type": "code",
   "execution_count": 5,
   "metadata": {
    "collapsed": true
   },
   "outputs": [],
   "source": [
    "for col in nlp_features:\n",
    "    df[col]=df[col].fillna('none')"
   ]
  },
  {
   "cell_type": "code",
   "execution_count": 6,
   "metadata": {
    "collapsed": true
   },
   "outputs": [],
   "source": [
    "for col in nlp_features:\n",
    "    df_to_predict[col]=df_to_predict[col].fillna('none')"
   ]
  },
  {
   "cell_type": "code",
   "execution_count": 7,
   "metadata": {
    "collapsed": true
   },
   "outputs": [],
   "source": [
    "cv=CountVectorizer(max_features=1000)"
   ]
  },
  {
   "cell_type": "code",
   "execution_count": 8,
   "metadata": {
    "collapsed": true
   },
   "outputs": [],
   "source": [
    "count_1=cv.fit_transform(df['adverse_reactions'])"
   ]
  },
  {
   "cell_type": "code",
   "execution_count": 9,
   "metadata": {
    "collapsed": true
   },
   "outputs": [],
   "source": [
    "count_1_predict=cv.transform(df_to_predict['adverse_reactions'])"
   ]
  },
  {
   "cell_type": "code",
   "execution_count": 10,
   "metadata": {
    "collapsed": true
   },
   "outputs": [],
   "source": [
    "tfidfTrans=TfidfTransformer()"
   ]
  },
  {
   "cell_type": "code",
   "execution_count": null,
   "metadata": {
    "collapsed": true
   },
   "outputs": [],
   "source": []
  },
  {
   "cell_type": "code",
   "execution_count": 11,
   "metadata": {
    "collapsed": true
   },
   "outputs": [],
   "source": [
    "col_1=tfidfTrans.fit_transform(count_1)"
   ]
  },
  {
   "cell_type": "code",
   "execution_count": 12,
   "metadata": {
    "collapsed": true
   },
   "outputs": [],
   "source": [
    "col_1_predict=tfidfTrans.transform(count_1_predict)"
   ]
  },
  {
   "cell_type": "code",
   "execution_count": 13,
   "metadata": {
    "collapsed": true
   },
   "outputs": [],
   "source": [
    "col_2=tfidfTrans.fit_transform(cv.fit_transform(df['clinical_pharmacology']))\n"
   ]
  },
  {
   "cell_type": "code",
   "execution_count": 14,
   "metadata": {
    "collapsed": true
   },
   "outputs": [],
   "source": [
    "col_2_predict=tfidfTrans.transform(cv.fit_transform(df_to_predict['clinical_pharmacology']))\n"
   ]
  },
  {
   "cell_type": "code",
   "execution_count": 15,
   "metadata": {
    "collapsed": true
   },
   "outputs": [],
   "source": [
    "col_3=tfidfTrans.fit_transform(cv.fit_transform(df['contraindications']))\n",
    "col_3_predict=tfidfTrans.transform(cv.fit_transform(df_to_predict['contraindications']))\n",
    "col_4=tfidfTrans.fit_transform(cv.fit_transform(df['description']))\n",
    "col_4_predict=tfidfTrans.transform(cv.fit_transform(df_to_predict['description']))\n",
    "col_5=tfidfTrans.fit_transform(cv.fit_transform(df['dosage_and_administration']))\n",
    "col_5_predict=tfidfTrans.transform(cv.fit_transform(df_to_predict['dosage_and_administration']))\n",
    "\n",
    "col_6=tfidfTrans.fit_transform(cv.fit_transform(df['how_supplied']))\n",
    "col_6_predict=tfidfTrans.transform(cv.fit_transform(df_to_predict['how_supplied']))\n",
    "\n",
    "col_7=tfidfTrans.fit_transform(cv.fit_transform(df['indications_and_usage']))\n",
    "col_7_predict=tfidfTrans.transform(cv.fit_transform(df_to_predict['indications_and_usage']))\n",
    "\n",
    "col_8=tfidfTrans.fit_transform(cv.fit_transform(df['overdosage']))\n",
    "col_8_predict=tfidfTrans.transform(cv.fit_transform(df_to_predict['overdosage']))\n",
    "\n",
    "col_9=tfidfTrans.fit_transform(cv.fit_transform(df['spl_product_data_elements']))\n",
    "col_9_predict=tfidfTrans.transform(cv.fit_transform(df_to_predict['spl_product_data_elements']))\n"
   ]
  },
  {
   "cell_type": "code",
   "execution_count": null,
   "metadata": {
    "collapsed": true
   },
   "outputs": [],
   "source": [
    "\n",
    "\n"
   ]
  },
  {
   "cell_type": "code",
   "execution_count": 16,
   "metadata": {
    "collapsed": true
   },
   "outputs": [],
   "source": [
    "df_1=pd.DataFrame(col_1.todense())\n",
    "df_2=pd.DataFrame(col_2.todense())\n",
    "df_3=pd.DataFrame(col_3.todense())\n",
    "df_4=pd.DataFrame(col_4.todense())\n",
    "df_5=pd.DataFrame(col_5.todense())\n",
    "df_6=pd.DataFrame(col_6.todense())\n",
    "df_7=pd.DataFrame(col_7.todense())\n",
    "df_8=pd.DataFrame(col_8.todense())\n",
    "df_9=pd.DataFrame(col_9.todense())"
   ]
  },
  {
   "cell_type": "code",
   "execution_count": 17,
   "metadata": {
    "collapsed": true
   },
   "outputs": [],
   "source": [
    "df_1_predict=pd.DataFrame(col_1_predict.todense())\n",
    "df_2_predict=pd.DataFrame(col_2_predict.todense())\n",
    "df_3_predict=pd.DataFrame(col_3_predict.todense())\n",
    "df_4_predict=pd.DataFrame(col_4_predict.todense())\n",
    "df_5_predict=pd.DataFrame(col_5_predict.todense())\n",
    "df_6_predict=pd.DataFrame(col_6_predict.todense())\n",
    "df_7_predict=pd.DataFrame(col_7_predict.todense())\n",
    "df_8_predict=pd.DataFrame(col_8_predict.todense())\n",
    "df_9_predict=pd.DataFrame(col_9_predict.todense())"
   ]
  },
  {
   "cell_type": "code",
   "execution_count": 18,
   "metadata": {
    "collapsed": true
   },
   "outputs": [],
   "source": [
    "tfidf_df=df_1.join(df_2,lsuffix='2_')"
   ]
  },
  {
   "cell_type": "code",
   "execution_count": 19,
   "metadata": {
    "collapsed": true
   },
   "outputs": [],
   "source": [
    "tfidf_df_predict=df_1_predict.join(df_2_predict,lsuffix='2_')"
   ]
  },
  {
   "cell_type": "code",
   "execution_count": 20,
   "metadata": {
    "collapsed": true
   },
   "outputs": [],
   "source": [
    "tfidf_df=tfidf_df.join(df_3,lsuffix='3_')\n",
    "tfidf_df=tfidf_df.join(df_4,lsuffix='4_')\n",
    "tfidf_df=tfidf_df.join(df_5,lsuffix='5_')\n",
    "tfidf_df=tfidf_df.join(df_6,lsuffix='6_')\n",
    "tfidf_df=tfidf_df.join(df_7,lsuffix='7_')\n",
    "tfidf_df=tfidf_df.join(df_8,lsuffix='8_')\n",
    "tfidf_df=tfidf_df.join(df_9,lsuffix='9_')"
   ]
  },
  {
   "cell_type": "code",
   "execution_count": 21,
   "metadata": {
    "collapsed": true
   },
   "outputs": [],
   "source": [
    "tfidf_df_predict=tfidf_df_predict.join(df_3_predict,lsuffix='3_')\n",
    "tfidf_df_predict=tfidf_df_predict.join(df_4_predict,lsuffix='4_')\n",
    "tfidf_df_predict=tfidf_df_predict.join(df_5_predict,lsuffix='5_')\n",
    "tfidf_df_predict=tfidf_df_predict.join(df_6_predict,lsuffix='6_')\n",
    "tfidf_df_predict=tfidf_df_predict.join(df_7_predict,lsuffix='7_')\n",
    "tfidf_df_predict=tfidf_df_predict.join(df_8_predict,lsuffix='8_')\n",
    "tfidf_df_predict=tfidf_df_predict.join(df_9_predict,lsuffix='9_')"
   ]
  },
  {
   "cell_type": "code",
   "execution_count": 22,
   "metadata": {},
   "outputs": [
    {
     "data": {
      "text/html": [
       "<div>\n",
       "<table border=\"1\" class=\"dataframe\">\n",
       "  <thead>\n",
       "    <tr style=\"text-align: right;\">\n",
       "      <th></th>\n",
       "      <th>02_</th>\n",
       "      <th>12_</th>\n",
       "      <th>22_</th>\n",
       "      <th>32_</th>\n",
       "      <th>42_</th>\n",
       "      <th>52_</th>\n",
       "      <th>62_</th>\n",
       "      <th>72_</th>\n",
       "      <th>82_</th>\n",
       "      <th>92_</th>\n",
       "      <th>...</th>\n",
       "      <th>990</th>\n",
       "      <th>991</th>\n",
       "      <th>992</th>\n",
       "      <th>993</th>\n",
       "      <th>994</th>\n",
       "      <th>995</th>\n",
       "      <th>996</th>\n",
       "      <th>997</th>\n",
       "      <th>998</th>\n",
       "      <th>999</th>\n",
       "    </tr>\n",
       "  </thead>\n",
       "  <tbody>\n",
       "    <tr>\n",
       "      <th>0</th>\n",
       "      <td>0.0</td>\n",
       "      <td>0.019871</td>\n",
       "      <td>0.0</td>\n",
       "      <td>0.0</td>\n",
       "      <td>0.022865</td>\n",
       "      <td>0.000000</td>\n",
       "      <td>0.0</td>\n",
       "      <td>0.000000</td>\n",
       "      <td>0.023243</td>\n",
       "      <td>0.023384</td>\n",
       "      <td>...</td>\n",
       "      <td>0.0</td>\n",
       "      <td>0.0</td>\n",
       "      <td>0.0</td>\n",
       "      <td>0.0</td>\n",
       "      <td>0.0</td>\n",
       "      <td>0.0</td>\n",
       "      <td>0.064338</td>\n",
       "      <td>0.0</td>\n",
       "      <td>0.0</td>\n",
       "      <td>0.0</td>\n",
       "    </tr>\n",
       "    <tr>\n",
       "      <th>1</th>\n",
       "      <td>0.0</td>\n",
       "      <td>0.078438</td>\n",
       "      <td>0.0</td>\n",
       "      <td>0.0</td>\n",
       "      <td>0.045127</td>\n",
       "      <td>0.087175</td>\n",
       "      <td>0.0</td>\n",
       "      <td>0.047113</td>\n",
       "      <td>0.045874</td>\n",
       "      <td>0.000000</td>\n",
       "      <td>...</td>\n",
       "      <td>0.0</td>\n",
       "      <td>0.0</td>\n",
       "      <td>0.0</td>\n",
       "      <td>0.0</td>\n",
       "      <td>0.0</td>\n",
       "      <td>0.0</td>\n",
       "      <td>0.000000</td>\n",
       "      <td>0.0</td>\n",
       "      <td>0.0</td>\n",
       "      <td>0.0</td>\n",
       "    </tr>\n",
       "    <tr>\n",
       "      <th>2</th>\n",
       "      <td>0.0</td>\n",
       "      <td>0.000000</td>\n",
       "      <td>0.0</td>\n",
       "      <td>0.0</td>\n",
       "      <td>0.000000</td>\n",
       "      <td>0.000000</td>\n",
       "      <td>0.0</td>\n",
       "      <td>0.000000</td>\n",
       "      <td>0.000000</td>\n",
       "      <td>0.000000</td>\n",
       "      <td>...</td>\n",
       "      <td>0.0</td>\n",
       "      <td>0.0</td>\n",
       "      <td>0.0</td>\n",
       "      <td>0.0</td>\n",
       "      <td>0.0</td>\n",
       "      <td>0.0</td>\n",
       "      <td>0.055711</td>\n",
       "      <td>0.0</td>\n",
       "      <td>0.0</td>\n",
       "      <td>0.0</td>\n",
       "    </tr>\n",
       "    <tr>\n",
       "      <th>3</th>\n",
       "      <td>0.0</td>\n",
       "      <td>0.000000</td>\n",
       "      <td>0.0</td>\n",
       "      <td>0.0</td>\n",
       "      <td>0.000000</td>\n",
       "      <td>0.000000</td>\n",
       "      <td>0.0</td>\n",
       "      <td>0.000000</td>\n",
       "      <td>0.000000</td>\n",
       "      <td>0.000000</td>\n",
       "      <td>...</td>\n",
       "      <td>0.0</td>\n",
       "      <td>0.0</td>\n",
       "      <td>0.0</td>\n",
       "      <td>0.0</td>\n",
       "      <td>0.0</td>\n",
       "      <td>0.0</td>\n",
       "      <td>0.000000</td>\n",
       "      <td>0.0</td>\n",
       "      <td>0.0</td>\n",
       "      <td>0.0</td>\n",
       "    </tr>\n",
       "    <tr>\n",
       "      <th>4</th>\n",
       "      <td>0.0</td>\n",
       "      <td>0.000000</td>\n",
       "      <td>0.0</td>\n",
       "      <td>0.0</td>\n",
       "      <td>0.012360</td>\n",
       "      <td>0.000000</td>\n",
       "      <td>0.0</td>\n",
       "      <td>0.000000</td>\n",
       "      <td>0.000000</td>\n",
       "      <td>0.000000</td>\n",
       "      <td>...</td>\n",
       "      <td>0.0</td>\n",
       "      <td>0.0</td>\n",
       "      <td>0.0</td>\n",
       "      <td>0.0</td>\n",
       "      <td>0.0</td>\n",
       "      <td>0.0</td>\n",
       "      <td>0.000000</td>\n",
       "      <td>0.0</td>\n",
       "      <td>0.0</td>\n",
       "      <td>0.0</td>\n",
       "    </tr>\n",
       "  </tbody>\n",
       "</table>\n",
       "<p>5 rows × 9000 columns</p>\n",
       "</div>"
      ],
      "text/plain": [
       "   02_       12_  22_  32_       42_       52_  62_       72_       82_  \\\n",
       "0  0.0  0.019871  0.0  0.0  0.022865  0.000000  0.0  0.000000  0.023243   \n",
       "1  0.0  0.078438  0.0  0.0  0.045127  0.087175  0.0  0.047113  0.045874   \n",
       "2  0.0  0.000000  0.0  0.0  0.000000  0.000000  0.0  0.000000  0.000000   \n",
       "3  0.0  0.000000  0.0  0.0  0.000000  0.000000  0.0  0.000000  0.000000   \n",
       "4  0.0  0.000000  0.0  0.0  0.012360  0.000000  0.0  0.000000  0.000000   \n",
       "\n",
       "        92_ ...   990  991  992  993  994  995       996  997  998  999  \n",
       "0  0.023384 ...   0.0  0.0  0.0  0.0  0.0  0.0  0.064338  0.0  0.0  0.0  \n",
       "1  0.000000 ...   0.0  0.0  0.0  0.0  0.0  0.0  0.000000  0.0  0.0  0.0  \n",
       "2  0.000000 ...   0.0  0.0  0.0  0.0  0.0  0.0  0.055711  0.0  0.0  0.0  \n",
       "3  0.000000 ...   0.0  0.0  0.0  0.0  0.0  0.0  0.000000  0.0  0.0  0.0  \n",
       "4  0.000000 ...   0.0  0.0  0.0  0.0  0.0  0.0  0.000000  0.0  0.0  0.0  \n",
       "\n",
       "[5 rows x 9000 columns]"
      ]
     },
     "execution_count": 22,
     "metadata": {},
     "output_type": "execute_result"
    }
   ],
   "source": [
    "tfidf_df.head()"
   ]
  },
  {
   "cell_type": "code",
   "execution_count": 44,
   "metadata": {},
   "outputs": [],
   "source": [
    "tsvd=TruncatedSVD(n_components=657)\n",
    "tsvd_cols=tsvd.fit_transform(tfidf_df.values)"
   ]
  },
  {
   "cell_type": "code",
   "execution_count": 114,
   "metadata": {
    "collapsed": true
   },
   "outputs": [],
   "source": [
    "tsvd1=TruncatedSVD(n_components=100)\n",
    "tsvd2=TruncatedSVD(n_components=100)\n",
    "tsvd3=TruncatedSVD(n_components=100)\n",
    "tsvd4=TruncatedSVD(n_components=100)\n",
    "tsvd5=TruncatedSVD(n_components=100)\n",
    "tsvd6=TruncatedSVD(n_components=100)\n",
    "tsvd7=TruncatedSVD(n_components=100)\n",
    "tsvd8=TruncatedSVD(n_components=100)\n",
    "tsvd9=TruncatedSVD(n_components=100)"
   ]
  },
  {
   "cell_type": "code",
   "execution_count": 115,
   "metadata": {
    "collapsed": true
   },
   "outputs": [],
   "source": [
    "tsvd_col_1=tsvd1.fit_transform(col_1)\n",
    "tsvd_col_2=tsvd2.fit_transform(col_2)\n",
    "tsvd_col_3=tsvd3.fit_transform(col_3)\n",
    "tsvd_col_4=tsvd4.fit_transform(col_4)\n",
    "tsvd_col_5=tsvd5.fit_transform(col_5)\n",
    "tsvd_col_6=tsvd6.fit_transform(col_6)\n",
    "tsvd_col_7=tsvd7.fit_transform(col_7)\n",
    "tsvd_col_8=tsvd8.fit_transform(col_8)\n",
    "tsvd_col_9=tsvd9.fit_transform(col_9)"
   ]
  },
  {
   "cell_type": "code",
   "execution_count": 116,
   "metadata": {},
   "outputs": [],
   "source": [
    "# print df_1.head()\n",
    "# print df_1_predict.head()"
   ]
  },
  {
   "cell_type": "code",
   "execution_count": 117,
   "metadata": {
    "collapsed": true
   },
   "outputs": [],
   "source": [
    "tsvd_col_1_predict=tsvd1.transform(col_1_predict)"
   ]
  },
  {
   "cell_type": "code",
   "execution_count": 118,
   "metadata": {},
   "outputs": [],
   "source": [
    "tsvd_col_2_predict=tsvd2.transform(col_2_predict)"
   ]
  },
  {
   "cell_type": "code",
   "execution_count": 119,
   "metadata": {},
   "outputs": [
    {
     "data": {
      "text/plain": [
       "scipy.sparse.csr.csr_matrix"
      ]
     },
     "execution_count": 119,
     "metadata": {},
     "output_type": "execute_result"
    }
   ],
   "source": [
    "type(col_2_predict)"
   ]
  },
  {
   "cell_type": "code",
   "execution_count": null,
   "metadata": {},
   "outputs": [],
   "source": []
  },
  {
   "cell_type": "code",
   "execution_count": null,
   "metadata": {
    "collapsed": true
   },
   "outputs": [],
   "source": []
  },
  {
   "cell_type": "code",
   "execution_count": null,
   "metadata": {
    "collapsed": true
   },
   "outputs": [],
   "source": []
  },
  {
   "cell_type": "code",
   "execution_count": 120,
   "metadata": {},
   "outputs": [],
   "source": [
    "\n",
    "\n",
    "tsvd_col_3_predict=tsvd3.transform(col_3_predict)\n",
    "tsvd_col_4_predict=tsvd4.transform(col_4_predict)\n",
    "tsvd_col_5_predict=tsvd5.transform(col_5_predict)\n",
    "tsvd_col_6_predict=tsvd6.transform(col_6_predict)\n",
    "tsvd_col_7_predict=tsvd7.transform(col_7_predict)\n",
    "tsvd_col_8_predict=tsvd8.transform(col_8_predict)\n",
    "tsvd_col_9_predict=tsvd9.transform(col_9_predict)"
   ]
  },
  {
   "cell_type": "code",
   "execution_count": null,
   "metadata": {
    "collapsed": true
   },
   "outputs": [],
   "source": []
  },
  {
   "cell_type": "code",
   "execution_count": 45,
   "metadata": {
    "collapsed": true
   },
   "outputs": [],
   "source": [
    "tsvd_cols_predict=tsvd.transform(tfidf_df_predict.values)"
   ]
  },
  {
   "cell_type": "code",
   "execution_count": 46,
   "metadata": {},
   "outputs": [
    {
     "name": "stdout",
     "output_type": "stream",
     "text": [
      "[ 0.19797507  0.24719956  0.26895451  0.28427521  0.2961807   0.30618999\n",
      "  0.31458869  0.32156183  0.32825695  0.33473127  0.34055494  0.34633384\n",
      "  0.35190073  0.35727218  0.36245704  0.36731147  0.37205641  0.37669422\n",
      "  0.38120692  0.38550167  0.38973716  0.39387712  0.39786322  0.40180242\n",
      "  0.40565699  0.40942496  0.4130574   0.41666006  0.42013766  0.42351005\n",
      "  0.42676869  0.42999693  0.43311889  0.43617333  0.43920859  0.44219692\n",
      "  0.44514053  0.44801637  0.45083389  0.45361652  0.45634065  0.45898838\n",
      "  0.46158993  0.46414731  0.46665756  0.46910949  0.47154349  0.47395889\n",
      "  0.47634522  0.47871082  0.48103215  0.48331021  0.48557753  0.48782\n",
      "  0.49004325  0.49220485  0.49433668  0.49645991  0.49854618  0.50061116\n",
      "  0.50265785  0.50468744  0.50668155  0.50864631  0.51059582  0.51251899\n",
      "  0.51442126  0.51631755  0.51817564  0.52002206  0.52186399  0.5236862\n",
      "  0.52548188  0.52726998  0.52902593  0.53077113  0.53250757  0.53421594\n",
      "  0.53591065  0.53759383  0.53925887  0.54088724  0.54250454  0.54409922\n",
      "  0.54568461  0.54725814  0.54881656  0.55036233  0.5518984   0.55341086\n",
      "  0.55491763  0.55641382  0.55790076  0.55937135  0.56083174  0.56228512\n",
      "  0.5637292   0.56515967  0.56657642  0.56798737  0.56938127  0.5707596\n",
      "  0.57213029  0.57348834  0.57484095  0.57618899  0.57750821  0.57882282\n",
      "  0.58012803  0.58142124  0.5827026   0.58398035  0.58525265  0.58651281\n",
      "  0.58776338  0.58899457  0.59022     0.59143428  0.59263863  0.59383575\n",
      "  0.59502777  0.59621097  0.5973922   0.59856036  0.59971883  0.60087127\n",
      "  0.60201564  0.60315718  0.60428011  0.60539341  0.60649496  0.607591\n",
      "  0.60868157  0.60976839  0.61084814  0.61192564  0.61299534  0.61405843\n",
      "  0.61511627  0.61617022  0.61721517  0.61825673  0.61929534  0.62032245\n",
      "  0.62134604  0.62236313  0.62336445  0.62436434  0.6253594   0.62634687\n",
      "  0.6273317   0.62830925  0.62928146  0.63024364  0.63120456  0.63215966\n",
      "  0.63311229  0.63406204  0.63500759  0.63595136  0.63688726  0.63782007\n",
      "  0.63874595  0.63966844  0.64058772  0.64149175  0.64239353  0.64329214\n",
      "  0.64418059  0.64506633  0.64594835  0.64682495  0.64769555  0.64856116\n",
      "  0.64942605  0.65028098  0.65113171  0.65197867  0.65282233  0.65366067\n",
      "  0.65449801  0.65532469  0.65614448  0.65695941  0.65777355  0.6585853\n",
      "  0.65939092  0.66019149  0.66098683  0.66178109  0.66257339  0.66336423\n",
      "  0.66414755  0.66492714  0.66570453  0.66647855  0.66724732  0.66801335\n",
      "  0.66877641  0.66953766  0.67029573  0.67104999  0.6718019   0.67255225\n",
      "  0.67329999  0.67404392  0.67478168  0.67551578  0.67624722  0.67697329\n",
      "  0.67769665  0.6784192   0.67913884  0.67985183  0.68056243  0.68126854\n",
      "  0.68197332  0.6826743   0.68337269  0.68406923  0.68476267  0.68545292\n",
      "  0.68614264  0.68682781  0.68750976  0.68818791  0.68886413  0.68953653\n",
      "  0.69020636  0.69087338  0.69153766  0.69219592  0.69285144  0.69350338\n",
      "  0.69415408  0.69480296  0.69544934  0.696094    0.69673626  0.69737587\n",
      "  0.69801336  0.69864652  0.69927689  0.69990386  0.70052894  0.70115116\n",
      "  0.7017711   0.70239093  0.70300934  0.7036231   0.70423526  0.70484408\n",
      "  0.70545181  0.70605571  0.70665631  0.70725376  0.7078466   0.70843785\n",
      "  0.70902826  0.70961642  0.71020074  0.71078395  0.71136666  0.71194651\n",
      "  0.71252202  0.71309535  0.71366683  0.7142379   0.71480568  0.71537088\n",
      "  0.71593218  0.71649169  0.71704985  0.71760386  0.71815724  0.71870664\n",
      "  0.71925571  0.71980177  0.72034588  0.72088743  0.72142715  0.72196543\n",
      "  0.72250121  0.72303549  0.72356705  0.72409682  0.72462504  0.7251516\n",
      "  0.72567678  0.72619724  0.72671735  0.72723549  0.72775165  0.72826549\n",
      "  0.72877784  0.7292857   0.72979256  0.73029705  0.7308012   0.73130296\n",
      "  0.73180198  0.73230004  0.73279668  0.7332911   0.73378291  0.73427444\n",
      "  0.73476435  0.73525138  0.73573748  0.73622072  0.73670242  0.73718094\n",
      "  0.73765891  0.7381356   0.73861138  0.73908601  0.73955807  0.74002807\n",
      "  0.74049584  0.740962    0.7414274   0.74188998  0.74235209  0.74281061\n",
      "  0.74326766  0.74372216  0.74417492  0.74462699  0.7450785   0.74552753\n",
      "  0.74597593  0.74642099  0.74686474  0.74730812  0.74775059  0.74819239\n",
      "  0.74863344  0.74907159  0.74950861  0.74994269  0.75037578  0.75080723\n",
      "  0.75123685  0.75166584  0.75209277  0.75251925  0.75294358  0.75336692\n",
      "  0.75378917  0.75420998  0.75462828  0.75504621  0.75546219  0.75587668\n",
      "  0.75628964  0.75670178  0.75711318  0.7575221   0.7579306   0.75833781\n",
      "  0.75874193  0.75914551  0.75954769  0.75994846  0.76034724  0.76074352\n",
      "  0.76113954  0.76153498  0.76192874  0.76232069  0.76271212  0.76310231\n",
      "  0.76349202  0.76387965  0.76426623  0.76465125  0.76503561  0.76541881\n",
      "  0.76580012  0.76618076  0.76656104  0.76694008  0.76731729  0.76769345\n",
      "  0.76806838  0.76844276  0.76881635  0.7691885   0.76955935  0.76992903\n",
      "  0.77029765  0.77066455  0.77103049  0.77139486  0.77175851  0.77212172\n",
      "  0.77248372  0.77284454  0.7732052   0.7735649   0.77392338  0.7742802\n",
      "  0.77463617  0.77499119  0.7753458   0.77569938  0.77605163  0.77640342\n",
      "  0.7767533   0.77710198  0.77744933  0.77779573  0.77814135  0.77848614\n",
      "  0.77883007  0.77917309  0.77951548  0.77985609  0.78019638  0.78053537\n",
      "  0.78087346  0.78121135  0.78154796  0.78188294  0.78221763  0.78255114\n",
      "  0.78288305  0.78321466  0.7835447   0.78387443  0.78420353  0.78453099\n",
      "  0.78485715  0.78518256  0.78550701  0.78583128  0.78615487  0.78647712\n",
      "  0.78679798  0.78711766  0.78743731  0.78775637  0.78807471  0.78839226\n",
      "  0.78870859  0.78902457  0.7893399   0.78965328  0.789966    0.79027727\n",
      "  0.79058738  0.79089736  0.7912064   0.79151453  0.79182178  0.79212856\n",
      "  0.79243418  0.79273894  0.79304336  0.79334669  0.79364893  0.79395085\n",
      "  0.79425151  0.79455178  0.79485125  0.79514941  0.79544714  0.79574387\n",
      "  0.79603998  0.79633558  0.79663076  0.79692429  0.79721764  0.79750992\n",
      "  0.79780117  0.79809181  0.79838071  0.7986694   0.79895772  0.79924507\n",
      "  0.79953228  0.79981826  0.80010378  0.80038785  0.80067167  0.80095459\n",
      "  0.80123654  0.80151793  0.80179857  0.80207902  0.80235887  0.8026378\n",
      "  0.80291664  0.80319483  0.80347125  0.8037472   0.80402295  0.80429792\n",
      "  0.80457151  0.80484459  0.80511745  0.80539007  0.80566159  0.805932\n",
      "  0.80620166  0.80647098  0.80673844  0.8070054   0.80727199  0.80753811\n",
      "  0.80780366  0.80806862  0.80833298  0.80859681  0.80885937  0.80912118\n",
      "  0.80938278  0.809644    0.80990453  0.81016415  0.81042307  0.81068112\n",
      "  0.81093847  0.8111954   0.8114519   0.81170737  0.81196191  0.8122157\n",
      "  0.81246918  0.81272188  0.81297427  0.81322589  0.81347679  0.81372707\n",
      "  0.81397704  0.81422636  0.81447524  0.81472302  0.81497015  0.81521608\n",
      "  0.81546154  0.81570651  0.81595032  0.81619411  0.81643727  0.81667993\n",
      "  0.81692241  0.81716429  0.81740508  0.81764532  0.81788529  0.81812427\n",
      "  0.81836261  0.81860046  0.81883767  0.81907437  0.81931074  0.81954685\n",
      "  0.81978276  0.82001828  0.82025204  0.82048511  0.82071793  0.82094967\n",
      "  0.8211812   0.8214126   0.82164345  0.82187372  0.82210343  0.82233235\n",
      "  0.82256049  0.8227883   0.82301586  0.82324306  0.82346969  0.82369513\n",
      "  0.82391991  0.82414416  0.82436725  0.82459     0.82481268  0.8250347\n",
      "  0.82525636  0.82547718  0.82569752  0.82591739  0.82613674  0.82635541\n",
      "  0.82657386  0.8267909   0.82700765  0.82722385  0.82743947  0.82765449\n",
      "  0.82786876  0.82808259  0.82829606  0.82850918  0.82872127  0.82893299\n",
      "  0.82914407  0.82935438  0.82956448  0.82977424  0.82998298  0.83019118\n",
      "  0.8303987   0.83060606  0.83081249  0.83101867  0.83122398  0.83142894\n",
      "  0.83163323  0.83183738  0.83204085  0.83224386  0.83244597  0.83264771\n",
      "  0.83284917  0.83305005  0.83324968  0.83344911  0.83364778  0.83384561\n",
      "  0.8340428   0.83423925  0.83443478  0.83463002  0.83482513  0.83501924\n",
      "  0.83521303  0.83540592  0.8355985   0.83579087  0.83598271  0.83617347\n",
      "  0.83636373  0.83655316  0.83674244  0.83693095  0.83711891  0.83730608\n",
      "  0.83749315  0.83767866  0.83786392  0.83804888  0.83823321  0.83841673\n",
      "  0.83859987  0.83878184  0.83896371  0.83914497  0.83932489  0.83950386\n",
      "  0.83968255  0.83986035  0.8400379 ]\n"
     ]
    }
   ],
   "source": [
    "exp_var=tsvd.explained_variance_ratio_\n",
    "print np.cumsum(exp_var)"
   ]
  },
  {
   "cell_type": "code",
   "execution_count": 47,
   "metadata": {},
   "outputs": [
    {
     "data": {
      "text/plain": [
       "(43106, 657)"
      ]
     },
     "execution_count": 47,
     "metadata": {},
     "output_type": "execute_result"
    }
   ],
   "source": [
    "tsvd_cols.shape"
   ]
  },
  {
   "cell_type": "code",
   "execution_count": 48,
   "metadata": {},
   "outputs": [
    {
     "data": {
      "text/plain": [
       "Index([u'Unnamed: 0', u'adverse_reactions', u'clinical_pharmacology',\n",
       "       u'contraindications', u'description', u'dosage_and_administration',\n",
       "       u'how_supplied', u'indications_and_usage', u'overdosage',\n",
       "       u'spl_product_data_elements', u'abuse', u'accessories', u'alarms',\n",
       "       u'animal_pharmacology_and_or_toxicology', u'ask_doctor',\n",
       "       u'ask_doctor_or_pharmacist', u'assembly_or_installation_instructions',\n",
       "       u'boxed_warning', u'calibration_instructions',\n",
       "       u'carcinogenesis_and_mutagenesis_and_impairment_of_fertility',\n",
       "       u'cleaning', u'clinical_studies', u'components',\n",
       "       u'controlled_substance', u'dependence', u'diagram_of_device',\n",
       "       u'disposal_and_waste_handling', u'do_not_use',\n",
       "       u'dosage_forms_and_strengths', u'drug_abuse_and_dependence',\n",
       "       u'drug_and_or_laboratory_test_interactions', u'drug_interactions',\n",
       "       u'environmental_warning', u'food_safety_warning',\n",
       "       u'general_precautions', u'geriatric_use',\n",
       "       u'guaranteed_analysis_of_feed', u'health_care_provider_letter',\n",
       "       u'health_claim', u'information_for_owners_or_caregivers',\n",
       "       u'information_for_patients', u'instructions_for_use',\n",
       "       u'intended_use_of_the_device', u'labor_and_delivery',\n",
       "       u'laboratory_tests', u'mechanism_of_action', u'microbiology',\n",
       "       u'nonclinical_toxicology', u'nonteratogenic_effects',\n",
       "       u'nursing_mothers', u'other_safety_information',\n",
       "       u'patient_medication_information', u'pediatric_use',\n",
       "       u'pharmacodynamics', u'pharmacogenomics', u'pharmacokinetics',\n",
       "       u'precautions', u'pregnancy', u'pregnancy_or_breast_feeding',\n",
       "       u'questions', u'recent_major_changes', u'residue_warning', u'risks',\n",
       "       u'route', u'safe_handling_warning', u'spl_indexing_data_elements',\n",
       "       u'spl_medguide', u'spl_patient_package_insert',\n",
       "       u'statement_of_identity', u'summary_of_safety_and_effectiveness',\n",
       "       u'teratogenic_effects', u'troubleshooting',\n",
       "       u'use_in_specific_populations', u'user_safety_warnings', u'version',\n",
       "       u'veterinary_indications', u'warnings_and_cautions', u'when_using',\n",
       "       u'date', u'month', u'year', u'unq_ndc', u'target'],\n",
       "      dtype='object')"
      ]
     },
     "execution_count": 48,
     "metadata": {},
     "output_type": "execute_result"
    }
   ],
   "source": [
    "df.columns"
   ]
  },
  {
   "cell_type": "code",
   "execution_count": 49,
   "metadata": {
    "collapsed": true
   },
   "outputs": [],
   "source": [
    "X=df[[u'abuse', u'accessories', u'alarms',\n",
    "       u'animal_pharmacology_and_or_toxicology', u'ask_doctor',\n",
    "       u'ask_doctor_or_pharmacist', u'assembly_or_installation_instructions',\n",
    "       u'boxed_warning', u'calibration_instructions',\n",
    "       u'carcinogenesis_and_mutagenesis_and_impairment_of_fertility',\n",
    "       u'cleaning', u'clinical_studies', u'components',\n",
    "       u'controlled_substance', u'dependence', u'diagram_of_device',\n",
    "       u'disposal_and_waste_handling', u'do_not_use',\n",
    "       u'dosage_forms_and_strengths', u'drug_abuse_and_dependence',\n",
    "       u'drug_and_or_laboratory_test_interactions', u'drug_interactions',\n",
    "       u'environmental_warning', u'food_safety_warning',\n",
    "       u'general_precautions', u'geriatric_use',\n",
    "       u'guaranteed_analysis_of_feed', u'health_care_provider_letter',\n",
    "       u'health_claim', u'information_for_owners_or_caregivers',\n",
    "       u'information_for_patients', u'instructions_for_use',\n",
    "       u'intended_use_of_the_device', u'labor_and_delivery',\n",
    "       u'laboratory_tests', u'mechanism_of_action', u'microbiology',\n",
    "       u'nonclinical_toxicology', u'nonteratogenic_effects',\n",
    "       u'nursing_mothers', u'other_safety_information',\n",
    "       u'patient_medication_information', u'pediatric_use',\n",
    "       u'pharmacodynamics', u'pharmacogenomics', u'pharmacokinetics',\n",
    "       u'precautions', u'pregnancy', u'pregnancy_or_breast_feeding',\n",
    "       u'questions', u'recent_major_changes', u'residue_warning', u'risks',\n",
    "       u'route', u'safe_handling_warning', u'spl_indexing_data_elements',\n",
    "       u'spl_medguide', u'spl_patient_package_insert',\n",
    "       u'statement_of_identity', u'summary_of_safety_and_effectiveness',\n",
    "       u'teratogenic_effects', u'troubleshooting',\n",
    "       u'use_in_specific_populations', u'user_safety_warnings', u'version',\n",
    "       u'veterinary_indications', u'warnings_and_cautions', u'when_using',\n",
    "       u'date', u'month', u'year']]"
   ]
  },
  {
   "cell_type": "code",
   "execution_count": 50,
   "metadata": {
    "collapsed": true
   },
   "outputs": [],
   "source": [
    "X_predict=df_to_predict[[u'abuse', u'accessories', u'alarms',\n",
    "       u'animal_pharmacology_and_or_toxicology', u'ask_doctor',\n",
    "       u'ask_doctor_or_pharmacist', u'assembly_or_installation_instructions',\n",
    "       u'boxed_warning', u'calibration_instructions',\n",
    "       u'carcinogenesis_and_mutagenesis_and_impairment_of_fertility',\n",
    "       u'cleaning', u'clinical_studies', u'components',\n",
    "       u'controlled_substance', u'dependence', u'diagram_of_device',\n",
    "       u'disposal_and_waste_handling', u'do_not_use',\n",
    "       u'dosage_forms_and_strengths', u'drug_abuse_and_dependence',\n",
    "       u'drug_and_or_laboratory_test_interactions', u'drug_interactions',\n",
    "       u'environmental_warning', u'food_safety_warning',\n",
    "       u'general_precautions', u'geriatric_use',\n",
    "       u'guaranteed_analysis_of_feed', u'health_care_provider_letter',\n",
    "       u'health_claim', u'information_for_owners_or_caregivers',\n",
    "       u'information_for_patients', u'instructions_for_use',\n",
    "       u'intended_use_of_the_device', u'labor_and_delivery',\n",
    "       u'laboratory_tests', u'mechanism_of_action', u'microbiology',\n",
    "       u'nonclinical_toxicology', u'nonteratogenic_effects',\n",
    "       u'nursing_mothers', u'other_safety_information',\n",
    "       u'patient_medication_information', u'pediatric_use',\n",
    "       u'pharmacodynamics', u'pharmacogenomics', u'pharmacokinetics',\n",
    "       u'precautions', u'pregnancy', u'pregnancy_or_breast_feeding',\n",
    "       u'questions', u'recent_major_changes', u'residue_warning', u'risks',\n",
    "       u'route', u'safe_handling_warning', u'spl_indexing_data_elements',\n",
    "       u'spl_medguide', u'spl_patient_package_insert',\n",
    "       u'statement_of_identity', u'summary_of_safety_and_effectiveness',\n",
    "       u'teratogenic_effects', u'troubleshooting',\n",
    "       u'use_in_specific_populations', u'user_safety_warnings', u'version',\n",
    "       u'veterinary_indications', u'warnings_and_cautions', u'when_using',\n",
    "       u'date', u'month', u'year']]"
   ]
  },
  {
   "cell_type": "code",
   "execution_count": 202,
   "metadata": {
    "collapsed": true
   },
   "outputs": [],
   "source": [
    "X_bool_only=df[[u'abuse', u'accessories', u'alarms',\n",
    "       u'animal_pharmacology_and_or_toxicology', u'ask_doctor',\n",
    "       u'ask_doctor_or_pharmacist', u'assembly_or_installation_instructions',\n",
    "       u'boxed_warning', u'calibration_instructions',\n",
    "       u'carcinogenesis_and_mutagenesis_and_impairment_of_fertility',\n",
    "       u'cleaning', u'clinical_studies', u'components',\n",
    "       u'controlled_substance', u'dependence', u'diagram_of_device',\n",
    "       u'disposal_and_waste_handling', u'do_not_use',\n",
    "       u'dosage_forms_and_strengths', u'drug_abuse_and_dependence',\n",
    "       u'drug_and_or_laboratory_test_interactions', u'drug_interactions',\n",
    "       u'environmental_warning', u'food_safety_warning',\n",
    "       u'general_precautions', u'geriatric_use',\n",
    "       u'guaranteed_analysis_of_feed', u'health_care_provider_letter',\n",
    "       u'health_claim', u'information_for_owners_or_caregivers',\n",
    "       u'information_for_patients', u'instructions_for_use',\n",
    "       u'intended_use_of_the_device', u'labor_and_delivery',\n",
    "       u'laboratory_tests', u'mechanism_of_action', u'microbiology',\n",
    "       u'nonclinical_toxicology', u'nonteratogenic_effects',\n",
    "       u'nursing_mothers', u'other_safety_information',\n",
    "       u'patient_medication_information', u'pediatric_use',\n",
    "       u'pharmacodynamics', u'pharmacogenomics', u'pharmacokinetics',\n",
    "       u'precautions', u'pregnancy', u'pregnancy_or_breast_feeding',\n",
    "       u'questions', u'recent_major_changes', u'residue_warning', u'risks',\n",
    "       u'route', u'safe_handling_warning', u'spl_indexing_data_elements',\n",
    "       u'spl_medguide', u'spl_patient_package_insert',\n",
    "       u'statement_of_identity', u'summary_of_safety_and_effectiveness',\n",
    "       u'teratogenic_effects', u'troubleshooting',\n",
    "       u'use_in_specific_populations', u'user_safety_warnings', u'version',\n",
    "       u'veterinary_indications', u'warnings_and_cautions', u'when_using']]"
   ]
  },
  {
   "cell_type": "code",
   "execution_count": 203,
   "metadata": {
    "collapsed": true
   },
   "outputs": [],
   "source": [
    "X_bool_only_predict=df_to_predict[[u'abuse', u'accessories', u'alarms',\n",
    "       u'animal_pharmacology_and_or_toxicology', u'ask_doctor',\n",
    "       u'ask_doctor_or_pharmacist', u'assembly_or_installation_instructions',\n",
    "       u'boxed_warning', u'calibration_instructions',\n",
    "       u'carcinogenesis_and_mutagenesis_and_impairment_of_fertility',\n",
    "       u'cleaning', u'clinical_studies', u'components',\n",
    "       u'controlled_substance', u'dependence', u'diagram_of_device',\n",
    "       u'disposal_and_waste_handling', u'do_not_use',\n",
    "       u'dosage_forms_and_strengths', u'drug_abuse_and_dependence',\n",
    "       u'drug_and_or_laboratory_test_interactions', u'drug_interactions',\n",
    "       u'environmental_warning', u'food_safety_warning',\n",
    "       u'general_precautions', u'geriatric_use',\n",
    "       u'guaranteed_analysis_of_feed', u'health_care_provider_letter',\n",
    "       u'health_claim', u'information_for_owners_or_caregivers',\n",
    "       u'information_for_patients', u'instructions_for_use',\n",
    "       u'intended_use_of_the_device', u'labor_and_delivery',\n",
    "       u'laboratory_tests', u'mechanism_of_action', u'microbiology',\n",
    "       u'nonclinical_toxicology', u'nonteratogenic_effects',\n",
    "       u'nursing_mothers', u'other_safety_information',\n",
    "       u'patient_medication_information', u'pediatric_use',\n",
    "       u'pharmacodynamics', u'pharmacogenomics', u'pharmacokinetics',\n",
    "       u'precautions', u'pregnancy', u'pregnancy_or_breast_feeding',\n",
    "       u'questions', u'recent_major_changes', u'residue_warning', u'risks',\n",
    "       u'route', u'safe_handling_warning', u'spl_indexing_data_elements',\n",
    "       u'spl_medguide', u'spl_patient_package_insert',\n",
    "       u'statement_of_identity', u'summary_of_safety_and_effectiveness',\n",
    "       u'teratogenic_effects', u'troubleshooting',\n",
    "       u'use_in_specific_populations', u'user_safety_warnings', u'version',\n",
    "       u'veterinary_indications', u'warnings_and_cautions', u'when_using']]"
   ]
  },
  {
   "cell_type": "code",
   "execution_count": 121,
   "metadata": {
    "collapsed": true
   },
   "outputs": [],
   "source": [
    "X_tsvd_1=tsvd_col_1\n",
    "X_tsvd_2=tsvd_col_2\n",
    "X_tsvd_3=tsvd_col_3\n",
    "X_tsvd_4=tsvd_col_4\n",
    "X_tsvd_5=tsvd_col_5\n",
    "X_tsvd_6=tsvd_col_6\n",
    "X_tsvd_7=tsvd_col_7\n",
    "X_tsvd_8=tsvd_col_8\n",
    "X_tsvd_9=tsvd_col_9"
   ]
  },
  {
   "cell_type": "code",
   "execution_count": 204,
   "metadata": {},
   "outputs": [],
   "source": [
    "X_tsvd_1_plus_bool=pd.DataFrame(X_tsvd_1)\n",
    "X_tsvd_1_plus_bool=X_tsvd_1_plus_bool.join(X_bool_only)"
   ]
  },
  {
   "cell_type": "code",
   "execution_count": 150,
   "metadata": {
    "collapsed": true
   },
   "outputs": [],
   "source": [
    "X_tsvd_9_plus_bool=pd.DataFrame(X_tsvd_9)\n",
    "X_tsvd_9_plus_bool=X_tsvd_9_plus_bool.join(X_bool_only)"
   ]
  },
  {
   "cell_type": "code",
   "execution_count": 205,
   "metadata": {
    "collapsed": true
   },
   "outputs": [],
   "source": [
    "X_tsvd_1_plus_bool_predict=pd.DataFrame(X_tsvd_1_predict)\n",
    "X_tsvd_1_plus_bool_predict=X_tsvd_1_plus_bool_predict.join(X_bool_only_predict)"
   ]
  },
  {
   "cell_type": "code",
   "execution_count": 152,
   "metadata": {
    "collapsed": true
   },
   "outputs": [],
   "source": [
    "X_tsvd_9_plus_bool_predict=pd.DataFrame(X_tsvd_9_predict)\n",
    "X_tsvd_9_plus_bool_predict=X_tsvd_9_plus_bool_predict.join(X_bool_only_predict)"
   ]
  },
  {
   "cell_type": "code",
   "execution_count": 146,
   "metadata": {},
   "outputs": [],
   "source": [
    "X_tsvd_1_and_9=pd.DataFrame(tsvd_col_1)\n",
    "X_tsvd_1_and_9=X_tsvd_1_and_9.join(pd.DataFrame(tsvd_col_9),rsuffix='_9')"
   ]
  },
  {
   "cell_type": "code",
   "execution_count": 147,
   "metadata": {
    "collapsed": true
   },
   "outputs": [],
   "source": [
    "X_tsvd_1_and_9_predict=pd.DataFrame(tsvd_col_1_predict)\n",
    "X_tsvd_1_and_9_predict=X_tsvd_1_and_9_predict.join(pd.DataFrame(tsvd_col_9_predict),rsuffix='_9')"
   ]
  },
  {
   "cell_type": "code",
   "execution_count": 122,
   "metadata": {
    "collapsed": true
   },
   "outputs": [],
   "source": [
    "X_tsvd_1_predict=tsvd_col_1_predict\n",
    "X_tsvd_2_predict=tsvd_col_2_predict\n",
    "X_tsvd_3_predict=tsvd_col_3_predict\n",
    "X_tsvd_4_predict=tsvd_col_4_predict\n",
    "X_tsvd_5_predict=tsvd_col_5_predict\n",
    "X_tsvd_6_predict=tsvd_col_6_predict\n",
    "X_tsvd_7_predict=tsvd_col_7_predict\n",
    "X_tsvd_8_predict=tsvd_col_8_predict\n",
    "X_tsvd_9_predict=tsvd_col_9_predict"
   ]
  },
  {
   "cell_type": "code",
   "execution_count": 53,
   "metadata": {
    "collapsed": true
   },
   "outputs": [],
   "source": [
    "X=X.join(pd.DataFrame(tsvd_cols))"
   ]
  },
  {
   "cell_type": "code",
   "execution_count": 54,
   "metadata": {},
   "outputs": [],
   "source": [
    "X_nlp=tsvd_cols"
   ]
  },
  {
   "cell_type": "code",
   "execution_count": 55,
   "metadata": {
    "collapsed": true
   },
   "outputs": [],
   "source": [
    "X_predict=X_predict.join(pd.DataFrame(tsvd_cols_predict))"
   ]
  },
  {
   "cell_type": "code",
   "execution_count": 56,
   "metadata": {
    "collapsed": true
   },
   "outputs": [],
   "source": [
    "X_nlp_predict=tsvd_cols_predict"
   ]
  },
  {
   "cell_type": "code",
   "execution_count": 57,
   "metadata": {},
   "outputs": [
    {
     "data": {
      "text/plain": [
       "(43106, 728)"
      ]
     },
     "execution_count": 57,
     "metadata": {},
     "output_type": "execute_result"
    }
   ],
   "source": [
    "X.shape"
   ]
  },
  {
   "cell_type": "code",
   "execution_count": 58,
   "metadata": {
    "collapsed": true
   },
   "outputs": [],
   "source": [
    "y=df['target']"
   ]
  },
  {
   "cell_type": "code",
   "execution_count": 59,
   "metadata": {
    "collapsed": true
   },
   "outputs": [],
   "source": [
    "y_predict=df_to_predict['target']"
   ]
  },
  {
   "cell_type": "code",
   "execution_count": 308,
   "metadata": {
    "collapsed": true
   },
   "outputs": [],
   "source": [
    "# lr=LogisticRegression()"
   ]
  },
  {
   "cell_type": "code",
   "execution_count": 309,
   "metadata": {},
   "outputs": [
    {
     "data": {
      "text/plain": [
       "LogisticRegression(C=1.0, class_weight=None, dual=False, fit_intercept=True,\n",
       "          intercept_scaling=1, max_iter=100, multi_class='ovr', n_jobs=1,\n",
       "          penalty='l2', random_state=None, solver='liblinear', tol=0.0001,\n",
       "          verbose=0, warm_start=False)"
      ]
     },
     "execution_count": 309,
     "metadata": {},
     "output_type": "execute_result"
    }
   ],
   "source": [
    "# lr.fit(X,y)"
   ]
  },
  {
   "cell_type": "code",
   "execution_count": 310,
   "metadata": {},
   "outputs": [
    {
     "data": {
      "text/plain": [
       "0.99716976754976105"
      ]
     },
     "execution_count": 310,
     "metadata": {},
     "output_type": "execute_result"
    }
   ],
   "source": [
    "# lr.score(X,y)"
   ]
  },
  {
   "cell_type": "code",
   "execution_count": 28,
   "metadata": {},
   "outputs": [
    {
     "data": {
      "text/plain": [
       "0.99691458265670674"
      ]
     },
     "execution_count": 28,
     "metadata": {},
     "output_type": "execute_result"
    }
   ],
   "source": [
    "# lr_bool=LogisticRegression()\n",
    "# lr_bool.fit(X_bool_only,y)\n",
    "# lr_bool.score(X_bool_only,y)"
   ]
  },
  {
   "cell_type": "code",
   "execution_count": 311,
   "metadata": {},
   "outputs": [
    {
     "data": {
      "text/plain": [
       "0.99658718602111396"
      ]
     },
     "execution_count": 311,
     "metadata": {},
     "output_type": "execute_result"
    }
   ],
   "source": [
    "# lr.score(X_predict,y_predict)"
   ]
  },
  {
   "cell_type": "code",
   "execution_count": 29,
   "metadata": {},
   "outputs": [
    {
     "data": {
      "text/plain": [
       "0.99658718602111396"
      ]
     },
     "execution_count": 29,
     "metadata": {},
     "output_type": "execute_result"
    }
   ],
   "source": [
    "# lr_bool.score(X_bool_only_predict,y_predict)"
   ]
  },
  {
   "cell_type": "code",
   "execution_count": 312,
   "metadata": {
    "collapsed": true
   },
   "outputs": [],
   "source": [
    "# prediction=lr.predict(X)"
   ]
  },
  {
   "cell_type": "code",
   "execution_count": 313,
   "metadata": {
    "collapsed": true
   },
   "outputs": [],
   "source": [
    "# prediction_predict=lr.predict(X_predict)"
   ]
  },
  {
   "cell_type": "code",
   "execution_count": 30,
   "metadata": {},
   "outputs": [
    {
     "name": "stdout",
     "output_type": "stream",
     "text": [
      "0.0\n",
      "0.0\n",
      "0.0\n",
      "0.0\n"
     ]
    },
    {
     "name": "stderr",
     "output_type": "stream",
     "text": [
      "/Users/ariburian/anaconda2/lib/python2.7/site-packages/sklearn/metrics/classification.py:1113: UndefinedMetricWarning: Precision is ill-defined and being set to 0.0 due to no predicted samples.\n",
      "  'precision', 'predicted', average, warn_for)\n"
     ]
    }
   ],
   "source": [
    "# prediction_bool=lr_bool.predict(X_bool_only)\n",
    "# prediction_bool_predict=lr_bool.predict(X_bool_only_predict)\n",
    "# print recall_score(y,prediction_bool)\n",
    "# print recall_score(y_predict, prediction_bool_predict)\n",
    "# print precision_score(y,prediction_bool)\n",
    "# print precision_score(y_predict,prediction_bool_predict)"
   ]
  },
  {
   "cell_type": "code",
   "execution_count": 314,
   "metadata": {},
   "outputs": [
    {
     "name": "stdout",
     "output_type": "stream",
     "text": [
      "0.105263157895\n"
     ]
    }
   ],
   "source": [
    "# print recall_score(y,prediction)"
   ]
  },
  {
   "cell_type": "code",
   "execution_count": 315,
   "metadata": {},
   "outputs": [
    {
     "name": "stdout",
     "output_type": "stream",
     "text": [
      "0.0\n"
     ]
    }
   ],
   "source": [
    "# print recall_score(y_predict,prediction_predict)"
   ]
  },
  {
   "cell_type": "code",
   "execution_count": 316,
   "metadata": {},
   "outputs": [
    {
     "name": "stdout",
     "output_type": "stream",
     "text": [
      "0.823529411765\n"
     ]
    }
   ],
   "source": [
    "# print precision_score(y,prediction)"
   ]
  },
  {
   "cell_type": "code",
   "execution_count": 317,
   "metadata": {},
   "outputs": [
    {
     "name": "stdout",
     "output_type": "stream",
     "text": [
      "0.0\n"
     ]
    }
   ],
   "source": [
    "#print recall_score(y_predict,prediction_predict)"
   ]
  },
  {
   "cell_type": "code",
   "execution_count": 318,
   "metadata": {},
   "outputs": [
    {
     "data": {
      "text/plain": [
       "150"
      ]
     },
     "execution_count": 318,
     "metadata": {},
     "output_type": "execute_result"
    }
   ],
   "source": [
    "#y_predict.sum()"
   ]
  },
  {
   "cell_type": "code",
   "execution_count": null,
   "metadata": {
    "collapsed": true
   },
   "outputs": [],
   "source": []
  },
  {
   "cell_type": "code",
   "execution_count": null,
   "metadata": {
    "collapsed": true
   },
   "outputs": [],
   "source": []
  },
  {
   "cell_type": "code",
   "execution_count": 319,
   "metadata": {},
   "outputs": [
    {
     "data": {
      "text/plain": [
       "(43106,)"
      ]
     },
     "execution_count": 319,
     "metadata": {},
     "output_type": "execute_result"
    }
   ],
   "source": [
    "#prediction.shape"
   ]
  },
  {
   "cell_type": "code",
   "execution_count": 320,
   "metadata": {},
   "outputs": [
    {
     "data": {
      "text/plain": [
       "17"
      ]
     },
     "execution_count": 320,
     "metadata": {},
     "output_type": "execute_result"
    }
   ],
   "source": [
    "#prediction.sum()"
   ]
  },
  {
   "cell_type": "code",
   "execution_count": 321,
   "metadata": {},
   "outputs": [
    {
     "data": {
      "text/plain": [
       "0.0004871711594673595"
      ]
     },
     "execution_count": 321,
     "metadata": {},
     "output_type": "execute_result"
    }
   ],
   "source": [
    "21/43106.0"
   ]
  },
  {
   "cell_type": "code",
   "execution_count": 322,
   "metadata": {
    "collapsed": true
   },
   "outputs": [],
   "source": [
    "#random_guess=[]"
   ]
  },
  {
   "cell_type": "code",
   "execution_count": 323,
   "metadata": {
    "collapsed": true
   },
   "outputs": [],
   "source": [
    "# for num in range (len(prediction)):\n",
    "#     random_guess.append(0)"
   ]
  },
  {
   "cell_type": "code",
   "execution_count": 324,
   "metadata": {
    "collapsed": true
   },
   "outputs": [],
   "source": [
    "# for num in range(prediction.sum()):\n",
    "#     random_guess[num*100]=1"
   ]
  },
  {
   "cell_type": "code",
   "execution_count": 325,
   "metadata": {
    "collapsed": true
   },
   "outputs": [],
   "source": [
    "# random_recall=recall_score(y,random_guess)"
   ]
  },
  {
   "cell_type": "code",
   "execution_count": 326,
   "metadata": {},
   "outputs": [
    {
     "data": {
      "text/plain": [
       "0.0"
      ]
     },
     "execution_count": 326,
     "metadata": {},
     "output_type": "execute_result"
    }
   ],
   "source": [
    "# random_recall"
   ]
  },
  {
   "cell_type": "code",
   "execution_count": 327,
   "metadata": {
    "collapsed": true
   },
   "outputs": [],
   "source": [
    "df_final=X.join(y)\n",
    "df_final=df_final.join(df['unq_ndc'])"
   ]
  },
  {
   "cell_type": "code",
   "execution_count": 328,
   "metadata": {
    "collapsed": true
   },
   "outputs": [],
   "source": [
    "df_final_predict=X_predict.join(y_predict)\n",
    "df_final_predict=df_final_predict.join(df_to_predict['unq_ndc'])"
   ]
  },
  {
   "cell_type": "code",
   "execution_count": 329,
   "metadata": {
    "collapsed": true
   },
   "outputs": [],
   "source": [
    "df_final.to_csv('pca_v_2.csv')"
   ]
  },
  {
   "cell_type": "code",
   "execution_count": 330,
   "metadata": {
    "collapsed": true
   },
   "outputs": [],
   "source": [
    "df_final_predict.to_csv('pca_v_2_predicting_set.csv')"
   ]
  },
  {
   "cell_type": "code",
   "execution_count": 206,
   "metadata": {
    "collapsed": true
   },
   "outputs": [],
   "source": [
    "rfc=RandomForestClassifier(n_estimators=300,n_jobs=-1,class_weight='balanced')"
   ]
  },
  {
   "cell_type": "code",
   "execution_count": 243,
   "metadata": {},
   "outputs": [
    {
     "name": "stdout",
     "output_type": "stream",
     "text": [
      "0.639097744361\n",
      "0.0266666666667\n",
      "0.314814814815\n",
      "0.1\n"
     ]
    }
   ],
   "source": [
    "rfc.fit(X_tsvd_1,y)\n",
    "prediction= rfc.predict(X_tsvd_1)\n",
    "prediction_predict=rfc.predict(X_tsvd_1_predict)\n",
    "print recall_score(y,prediction)\n",
    "print recall_score(y_predict,prediction_predict)\n",
    "print precision_score(y,prediction)\n",
    "print precision_score(y_predict,prediction_predict)"
   ]
  },
  {
   "cell_type": "code",
   "execution_count": 244,
   "metadata": {},
   "outputs": [
    {
     "name": "stdout",
     "output_type": "stream",
     "text": [
      "133\n",
      "270\n",
      "150\n",
      "40\n"
     ]
    }
   ],
   "source": [
    "print y.sum()\n",
    "print prediction.sum()\n",
    "print y_predict.sum()\n",
    "print prediction_predict.sum()"
   ]
  },
  {
   "cell_type": "code",
   "execution_count": 245,
   "metadata": {
    "collapsed": true
   },
   "outputs": [],
   "source": [
    "cm=confusion_matrix(y_predict,prediction_predict)"
   ]
  },
  {
   "cell_type": "code",
   "execution_count": 246,
   "metadata": {},
   "outputs": [
    {
     "name": "stdout",
     "output_type": "stream",
     "text": [
      "[[43766    36]\n",
      " [  146     4]]\n"
     ]
    }
   ],
   "source": [
    "print cm"
   ]
  },
  {
   "cell_type": "code",
   "execution_count": 248,
   "metadata": {},
   "outputs": [
    {
     "name": "stdout",
     "output_type": "stream",
     "text": [
      "             precision    recall  f1-score   support\n",
      "\n",
      "          0       1.00      1.00      1.00     43802\n",
      "          1       0.10      0.03      0.04       150\n",
      "\n",
      "avg / total       0.99      1.00      0.99     43952\n",
      "\n"
     ]
    }
   ],
   "source": [
    "print classification_report(y_predict,prediction_predict)"
   ]
  },
  {
   "cell_type": "code",
   "execution_count": null,
   "metadata": {
    "collapsed": true
   },
   "outputs": [],
   "source": []
  },
  {
   "cell_type": "code",
   "execution_count": 230,
   "metadata": {},
   "outputs": [
    {
     "data": {
      "text/html": [
       "<div>\n",
       "<table border=\"1\" class=\"dataframe\">\n",
       "  <thead>\n",
       "    <tr style=\"text-align: right;\">\n",
       "      <th></th>\n",
       "      <th>Unnamed: 0</th>\n",
       "      <th>adverse_reactions</th>\n",
       "      <th>clinical_pharmacology</th>\n",
       "      <th>contraindications</th>\n",
       "      <th>description</th>\n",
       "      <th>dosage_and_administration</th>\n",
       "      <th>how_supplied</th>\n",
       "      <th>indications_and_usage</th>\n",
       "      <th>overdosage</th>\n",
       "      <th>spl_product_data_elements</th>\n",
       "      <th>...</th>\n",
       "      <th>version</th>\n",
       "      <th>veterinary_indications</th>\n",
       "      <th>warnings_and_cautions</th>\n",
       "      <th>when_using</th>\n",
       "      <th>date</th>\n",
       "      <th>month</th>\n",
       "      <th>year</th>\n",
       "      <th>unq_ndc</th>\n",
       "      <th>target</th>\n",
       "      <th>prediction</th>\n",
       "    </tr>\n",
       "  </thead>\n",
       "  <tbody>\n",
       "    <tr>\n",
       "      <th>29779</th>\n",
       "      <td>69205</td>\n",
       "      <td>u advers reaction advers effect parenter admin...</td>\n",
       "      <td>u clinic pharmacolog magnesium import cofactor...</td>\n",
       "      <td>u contraind parenter administr drug contraind ...</td>\n",
       "      <td>u descript magnesium sulfat inject usp 50 ster...</td>\n",
       "      <td>u dosag administr dosag magnesium sulfat must ...</td>\n",
       "      <td>u suppli magnesium sulfat inject usp suppli si...</td>\n",
       "      <td>u indic usag magnesium sulfat inject usp suita...</td>\n",
       "      <td>u overdosag magnesium intox manifest sharp dro...</td>\n",
       "      <td>u magnesium sulfat magnesium sulfat heptahydr ...</td>\n",
       "      <td>...</td>\n",
       "      <td>4</td>\n",
       "      <td>0</td>\n",
       "      <td>0</td>\n",
       "      <td>0</td>\n",
       "      <td>10</td>\n",
       "      <td>11</td>\n",
       "      <td>2016</td>\n",
       "      <td>0409-2168</td>\n",
       "      <td>1</td>\n",
       "      <td>1</td>\n",
       "    </tr>\n",
       "    <tr>\n",
       "      <th>36526</th>\n",
       "      <td>77396</td>\n",
       "      <td>u advers reaction aminoglycosid potenti induc ...</td>\n",
       "      <td>u clinic pharmacolog intramuscular administr a...</td>\n",
       "      <td>u contraind histori hypersensit amikacin contr...</td>\n",
       "      <td>u descript amikacin usp sulfat semi synthet am...</td>\n",
       "      <td>u dosag administr patient u2019 pretreat bodi ...</td>\n",
       "      <td>u suppli amikacin sulfat inject usp suppli col...</td>\n",
       "      <td>u indic usag amikacin sulfat inject indic shor...</td>\n",
       "      <td>u overdosag event overdosag toxic reaction per...</td>\n",
       "      <td>u amikacin sulfat amikacin sulfat amikacin sul...</td>\n",
       "      <td>...</td>\n",
       "      <td>9</td>\n",
       "      <td>0</td>\n",
       "      <td>0</td>\n",
       "      <td>0</td>\n",
       "      <td>28</td>\n",
       "      <td>4</td>\n",
       "      <td>2016</td>\n",
       "      <td>0703-9032</td>\n",
       "      <td>1</td>\n",
       "      <td>1</td>\n",
       "    </tr>\n",
       "    <tr>\n",
       "      <th>37593</th>\n",
       "      <td>78662</td>\n",
       "      <td>u advers reaction import advers clinic event c...</td>\n",
       "      <td>u clinic pharmacolog introduct follow parenter...</td>\n",
       "      <td>u contraind fosphenytoin sodium inject contrai...</td>\n",
       "      <td>u descript fosphenytoin sodium inject usp prod...</td>\n",
       "      <td>u dosag administr dose concentr infus rate fos...</td>\n",
       "      <td>u suppli fosphenytoin sodium inject usp suppli...</td>\n",
       "      <td>u indic usag fosphenytoin sodium inject indic ...</td>\n",
       "      <td>u overdosag nausea vomit lethargi tachycardia ...</td>\n",
       "      <td>u fosphenytoin fosphenytoin sodium fosphenytoi...</td>\n",
       "      <td>...</td>\n",
       "      <td>7</td>\n",
       "      <td>0</td>\n",
       "      <td>0</td>\n",
       "      <td>0</td>\n",
       "      <td>8</td>\n",
       "      <td>12</td>\n",
       "      <td>2015</td>\n",
       "      <td>63323-403</td>\n",
       "      <td>1</td>\n",
       "      <td>1</td>\n",
       "    </tr>\n",
       "    <tr>\n",
       "      <th>37594</th>\n",
       "      <td>78663</td>\n",
       "      <td>u advers reaction import advers clinic event c...</td>\n",
       "      <td>u clinic pharmacolog introduct follow parenter...</td>\n",
       "      <td>u contraind fosphenytoin sodium inject contrai...</td>\n",
       "      <td>u descript fosphenytoin sodium inject usp prod...</td>\n",
       "      <td>u dosag administr dose concentr infus rate fos...</td>\n",
       "      <td>u suppli fosphenytoin sodium inject usp suppli...</td>\n",
       "      <td>u indic usag fosphenytoin sodium inject indic ...</td>\n",
       "      <td>u overdosag nausea vomit lethargi tachycardia ...</td>\n",
       "      <td>u fosphenytoin fosphenytoin sodium fosphenytoi...</td>\n",
       "      <td>...</td>\n",
       "      <td>7</td>\n",
       "      <td>0</td>\n",
       "      <td>0</td>\n",
       "      <td>0</td>\n",
       "      <td>8</td>\n",
       "      <td>12</td>\n",
       "      <td>2015</td>\n",
       "      <td>63323-403</td>\n",
       "      <td>1</td>\n",
       "      <td>1</td>\n",
       "    </tr>\n",
       "  </tbody>\n",
       "</table>\n",
       "<p>4 rows × 84 columns</p>\n",
       "</div>"
      ],
      "text/plain": [
       "       Unnamed: 0                                  adverse_reactions  \\\n",
       "29779       69205  u advers reaction advers effect parenter admin...   \n",
       "36526       77396  u advers reaction aminoglycosid potenti induc ...   \n",
       "37593       78662  u advers reaction import advers clinic event c...   \n",
       "37594       78663  u advers reaction import advers clinic event c...   \n",
       "\n",
       "                                   clinical_pharmacology  \\\n",
       "29779  u clinic pharmacolog magnesium import cofactor...   \n",
       "36526  u clinic pharmacolog intramuscular administr a...   \n",
       "37593  u clinic pharmacolog introduct follow parenter...   \n",
       "37594  u clinic pharmacolog introduct follow parenter...   \n",
       "\n",
       "                                       contraindications  \\\n",
       "29779  u contraind parenter administr drug contraind ...   \n",
       "36526  u contraind histori hypersensit amikacin contr...   \n",
       "37593  u contraind fosphenytoin sodium inject contrai...   \n",
       "37594  u contraind fosphenytoin sodium inject contrai...   \n",
       "\n",
       "                                             description  \\\n",
       "29779  u descript magnesium sulfat inject usp 50 ster...   \n",
       "36526  u descript amikacin usp sulfat semi synthet am...   \n",
       "37593  u descript fosphenytoin sodium inject usp prod...   \n",
       "37594  u descript fosphenytoin sodium inject usp prod...   \n",
       "\n",
       "                               dosage_and_administration  \\\n",
       "29779  u dosag administr dosag magnesium sulfat must ...   \n",
       "36526  u dosag administr patient u2019 pretreat bodi ...   \n",
       "37593  u dosag administr dose concentr infus rate fos...   \n",
       "37594  u dosag administr dose concentr infus rate fos...   \n",
       "\n",
       "                                            how_supplied  \\\n",
       "29779  u suppli magnesium sulfat inject usp suppli si...   \n",
       "36526  u suppli amikacin sulfat inject usp suppli col...   \n",
       "37593  u suppli fosphenytoin sodium inject usp suppli...   \n",
       "37594  u suppli fosphenytoin sodium inject usp suppli...   \n",
       "\n",
       "                                   indications_and_usage  \\\n",
       "29779  u indic usag magnesium sulfat inject usp suita...   \n",
       "36526  u indic usag amikacin sulfat inject indic shor...   \n",
       "37593  u indic usag fosphenytoin sodium inject indic ...   \n",
       "37594  u indic usag fosphenytoin sodium inject indic ...   \n",
       "\n",
       "                                              overdosage  \\\n",
       "29779  u overdosag magnesium intox manifest sharp dro...   \n",
       "36526  u overdosag event overdosag toxic reaction per...   \n",
       "37593  u overdosag nausea vomit lethargi tachycardia ...   \n",
       "37594  u overdosag nausea vomit lethargi tachycardia ...   \n",
       "\n",
       "                               spl_product_data_elements     ...      version  \\\n",
       "29779  u magnesium sulfat magnesium sulfat heptahydr ...     ...            4   \n",
       "36526  u amikacin sulfat amikacin sulfat amikacin sul...     ...            9   \n",
       "37593  u fosphenytoin fosphenytoin sodium fosphenytoi...     ...            7   \n",
       "37594  u fosphenytoin fosphenytoin sodium fosphenytoi...     ...            7   \n",
       "\n",
       "       veterinary_indications  warnings_and_cautions  when_using  date  month  \\\n",
       "29779                       0                      0           0    10     11   \n",
       "36526                       0                      0           0    28      4   \n",
       "37593                       0                      0           0     8     12   \n",
       "37594                       0                      0           0     8     12   \n",
       "\n",
       "       year    unq_ndc  target  prediction  \n",
       "29779  2016  0409-2168       1           1  \n",
       "36526  2016  0703-9032       1           1  \n",
       "37593  2015  63323-403       1           1  \n",
       "37594  2015  63323-403       1           1  \n",
       "\n",
       "[4 rows x 84 columns]"
      ]
     },
     "execution_count": 230,
     "metadata": {},
     "output_type": "execute_result"
    }
   ],
   "source": [
    "findings_tsvd_1=df_to_predict.join(pd.DataFrame(prediction_predict,columns=['prediction']))\n",
    "findings_tsvd_1[(findings_tsvd_1['prediction']==1)&(findings_tsvd_1['target']==1)]\n",
    "#print findings_tsvd_1.head()"
   ]
  },
  {
   "cell_type": "code",
   "execution_count": 192,
   "metadata": {},
   "outputs": [
    {
     "data": {
      "text/html": [
       "<div>\n",
       "<table border=\"1\" class=\"dataframe\">\n",
       "  <thead>\n",
       "    <tr style=\"text-align: right;\">\n",
       "      <th></th>\n",
       "      <th>Unnamed: 0</th>\n",
       "      <th>adverse_reactions</th>\n",
       "      <th>clinical_pharmacology</th>\n",
       "      <th>contraindications</th>\n",
       "      <th>description</th>\n",
       "      <th>dosage_and_administration</th>\n",
       "      <th>how_supplied</th>\n",
       "      <th>indications_and_usage</th>\n",
       "      <th>overdosage</th>\n",
       "      <th>spl_product_data_elements</th>\n",
       "      <th>...</th>\n",
       "      <th>version</th>\n",
       "      <th>veterinary_indications</th>\n",
       "      <th>warnings_and_cautions</th>\n",
       "      <th>when_using</th>\n",
       "      <th>date</th>\n",
       "      <th>month</th>\n",
       "      <th>year</th>\n",
       "      <th>unq_ndc</th>\n",
       "      <th>target</th>\n",
       "      <th>0</th>\n",
       "    </tr>\n",
       "  </thead>\n",
       "  <tbody>\n",
       "  </tbody>\n",
       "</table>\n",
       "<p>0 rows × 84 columns</p>\n",
       "</div>"
      ],
      "text/plain": [
       "Empty DataFrame\n",
       "Columns: [Unnamed: 0, adverse_reactions, clinical_pharmacology, contraindications, description, dosage_and_administration, how_supplied, indications_and_usage, overdosage, spl_product_data_elements, abuse, accessories, alarms, animal_pharmacology_and_or_toxicology, ask_doctor, ask_doctor_or_pharmacist, assembly_or_installation_instructions, boxed_warning, calibration_instructions, carcinogenesis_and_mutagenesis_and_impairment_of_fertility, cleaning, clinical_studies, components, controlled_substance, dependence, diagram_of_device, disposal_and_waste_handling, do_not_use, dosage_forms_and_strengths, drug_abuse_and_dependence, drug_and_or_laboratory_test_interactions, drug_interactions, environmental_warning, food_safety_warning, general_precautions, geriatric_use, guaranteed_analysis_of_feed, health_care_provider_letter, health_claim, information_for_owners_or_caregivers, information_for_patients, instructions_for_use, intended_use_of_the_device, labor_and_delivery, laboratory_tests, mechanism_of_action, microbiology, nonclinical_toxicology, nonteratogenic_effects, nursing_mothers, other_safety_information, patient_medication_information, pediatric_use, pharmacodynamics, pharmacogenomics, pharmacokinetics, precautions, pregnancy, pregnancy_or_breast_feeding, questions, recent_major_changes, residue_warning, risks, route, safe_handling_warning, spl_indexing_data_elements, spl_medguide, spl_patient_package_insert, statement_of_identity, summary_of_safety_and_effectiveness, teratogenic_effects, troubleshooting, use_in_specific_populations, user_safety_warnings, version, veterinary_indications, warnings_and_cautions, when_using, date, month, year, unq_ndc, target, 0]\n",
       "Index: []\n",
       "\n",
       "[0 rows x 84 columns]"
      ]
     },
     "execution_count": 192,
     "metadata": {},
     "output_type": "execute_result"
    }
   ],
   "source": []
  },
  {
   "cell_type": "code",
   "execution_count": null,
   "metadata": {
    "collapsed": true
   },
   "outputs": [],
   "source": []
  },
  {
   "cell_type": "code",
   "execution_count": null,
   "metadata": {
    "collapsed": true
   },
   "outputs": [],
   "source": []
  },
  {
   "cell_type": "code",
   "execution_count": 127,
   "metadata": {},
   "outputs": [
    {
     "name": "stdout",
     "output_type": "stream",
     "text": [
      "0.639097744361\n",
      "0.0\n",
      "0.388127853881\n",
      "0.0\n"
     ]
    }
   ],
   "source": [
    "rfc.fit(X_tsvd_2,y)\n",
    "prediction= rfc.predict(X_tsvd_2)\n",
    "prediction_predict=rfc.predict(X_tsvd_2_predict)\n",
    "print recall_score(y,prediction)\n",
    "print recall_score(y_predict,prediction_predict)\n",
    "print precision_score(y,prediction)\n",
    "print precision_score(y_predict,prediction_predict)"
   ]
  },
  {
   "cell_type": "code",
   "execution_count": 128,
   "metadata": {},
   "outputs": [
    {
     "name": "stdout",
     "output_type": "stream",
     "text": [
      "0.639097744361\n",
      "0.0\n",
      "0.184381778742\n",
      "0.0\n"
     ]
    }
   ],
   "source": [
    "rfc.fit(X_tsvd_3,y)\n",
    "prediction= rfc.predict(X_tsvd_3)\n",
    "prediction_predict=rfc.predict(X_tsvd_3_predict)\n",
    "print recall_score(y,prediction)\n",
    "print recall_score(y_predict,prediction_predict)\n",
    "print precision_score(y,prediction)\n",
    "print precision_score(y_predict,prediction_predict)"
   ]
  },
  {
   "cell_type": "code",
   "execution_count": 129,
   "metadata": {},
   "outputs": [
    {
     "name": "stdout",
     "output_type": "stream",
     "text": [
      "0.661654135338\n",
      "0.0\n",
      "0.758620689655\n",
      "0.0\n"
     ]
    }
   ],
   "source": [
    "rfc.fit(X_tsvd_4,y)\n",
    "prediction= rfc.predict(X_tsvd_4)\n",
    "prediction_predict=rfc.predict(X_tsvd_4_predict)\n",
    "print recall_score(y,prediction)\n",
    "print recall_score(y_predict,prediction_predict)\n",
    "print precision_score(y,prediction)\n",
    "print precision_score(y_predict,prediction_predict)"
   ]
  },
  {
   "cell_type": "code",
   "execution_count": 130,
   "metadata": {},
   "outputs": [
    {
     "name": "stdout",
     "output_type": "stream",
     "text": [
      "1.0\n",
      "0.0\n",
      "0.0364084314262\n",
      "0.0\n"
     ]
    }
   ],
   "source": [
    "rfc.fit(X_tsvd_5,y)\n",
    "prediction= rfc.predict(X_tsvd_5)\n",
    "prediction_predict=rfc.predict(X_tsvd_5_predict)\n",
    "print recall_score(y,prediction)\n",
    "print recall_score(y_predict,prediction_predict)\n",
    "print precision_score(y,prediction)\n",
    "print precision_score(y_predict,prediction_predict)"
   ]
  },
  {
   "cell_type": "code",
   "execution_count": 131,
   "metadata": {},
   "outputs": [
    {
     "name": "stdout",
     "output_type": "stream",
     "text": [
      "0.661654135338\n",
      "0.0\n",
      "0.854368932039\n",
      "0.0\n"
     ]
    }
   ],
   "source": [
    "rfc.fit(X_tsvd_6,y)\n",
    "prediction= rfc.predict(X_tsvd_6)\n",
    "prediction_predict=rfc.predict(X_tsvd_6_predict)\n",
    "print recall_score(y,prediction)\n",
    "print recall_score(y_predict,prediction_predict)\n",
    "print precision_score(y,prediction)\n",
    "print precision_score(y_predict,prediction_predict)"
   ]
  },
  {
   "cell_type": "code",
   "execution_count": 132,
   "metadata": {},
   "outputs": [
    {
     "name": "stdout",
     "output_type": "stream",
     "text": [
      "1.0\n",
      "0.0\n",
      "0.0377840909091\n",
      "0.0\n"
     ]
    }
   ],
   "source": [
    "rfc.fit(X_tsvd_7,y)\n",
    "prediction= rfc.predict(X_tsvd_7)\n",
    "prediction_predict=rfc.predict(X_tsvd_7_predict)\n",
    "print recall_score(y,prediction)\n",
    "print recall_score(y_predict,prediction_predict)\n",
    "print precision_score(y,prediction)\n",
    "print precision_score(y_predict,prediction_predict)"
   ]
  },
  {
   "cell_type": "code",
   "execution_count": 133,
   "metadata": {},
   "outputs": [
    {
     "name": "stdout",
     "output_type": "stream",
     "text": [
      "0.548872180451\n",
      "0.0\n",
      "0.178484107579\n",
      "0.0\n"
     ]
    }
   ],
   "source": [
    "rfc.fit(X_tsvd_8,y)\n",
    "prediction= rfc.predict(X_tsvd_8)\n",
    "prediction_predict=rfc.predict(X_tsvd_8_predict)\n",
    "print recall_score(y,prediction)\n",
    "print recall_score(y_predict,prediction_predict)\n",
    "print precision_score(y,prediction)\n",
    "print precision_score(y_predict,prediction_predict)"
   ]
  },
  {
   "cell_type": "code",
   "execution_count": 134,
   "metadata": {},
   "outputs": [
    {
     "name": "stdout",
     "output_type": "stream",
     "text": [
      "1.0\n",
      "0.00666666666667\n",
      "0.276507276507\n",
      "0.0120481927711\n"
     ]
    }
   ],
   "source": [
    "rfc.fit(X_tsvd_9,y)\n",
    "prediction= rfc.predict(X_tsvd_9)\n",
    "prediction_predict=rfc.predict(X_tsvd_9_predict)\n",
    "print recall_score(y,prediction)\n",
    "print recall_score(y_predict,prediction_predict)\n",
    "print precision_score(y,prediction)\n",
    "print precision_score(y_predict,prediction_predict)"
   ]
  },
  {
   "cell_type": "code",
   "execution_count": 135,
   "metadata": {},
   "outputs": [
    {
     "name": "stdout",
     "output_type": "stream",
     "text": [
      "133\n",
      "481\n",
      "150\n",
      "83\n"
     ]
    }
   ],
   "source": [
    "print y.sum()\n",
    "print prediction.sum()\n",
    "print y_predict.sum()\n",
    "print prediction_predict.sum()"
   ]
  },
  {
   "cell_type": "code",
   "execution_count": 148,
   "metadata": {},
   "outputs": [
    {
     "name": "stdout",
     "output_type": "stream",
     "text": [
      "1.0\n",
      "0.0\n",
      "0.492592592593\n",
      "0.0\n"
     ]
    }
   ],
   "source": [
    "rfc.fit(X_tsvd_1_and_9,y)\n",
    "prediction= rfc.predict(X_tsvd_1_and_9)\n",
    "prediction_predict=rfc.predict(X_tsvd_1_and_9_predict)\n",
    "print recall_score(y,prediction)\n",
    "print recall_score(y_predict,prediction_predict)\n",
    "print precision_score(y,prediction)\n",
    "print precision_score(y_predict,prediction_predict)"
   ]
  },
  {
   "cell_type": "code",
   "execution_count": null,
   "metadata": {
    "collapsed": true
   },
   "outputs": [],
   "source": [
    "print y.sum()\n",
    "print prediction.sum()\n",
    "print y_predict.sum()\n",
    "print prediction_predict.sum()"
   ]
  },
  {
   "cell_type": "code",
   "execution_count": 249,
   "metadata": {},
   "outputs": [
    {
     "name": "stdout",
     "output_type": "stream",
     "text": [
      "0.924812030075\n",
      "0.08\n",
      "0.0486935866983\n",
      "0.00410818212941\n"
     ]
    }
   ],
   "source": [
    "rfc.fit(X_tsvd_1_plus_bool,y)\n",
    "prediction= rfc.predict(X_tsvd_1_plus_bool)\n",
    "prediction_predict=rfc.predict(X_tsvd_1_plus_bool_predict)\n",
    "print recall_score(y,prediction)\n",
    "print recall_score(y_predict,prediction_predict)\n",
    "print precision_score(y,prediction)\n",
    "print precision_score(y_predict,prediction_predict)"
   ]
  },
  {
   "cell_type": "code",
   "execution_count": 250,
   "metadata": {},
   "outputs": [
    {
     "name": "stdout",
     "output_type": "stream",
     "text": [
      "133\n",
      "2526\n",
      "150\n",
      "2921\n"
     ]
    }
   ],
   "source": [
    "print y.sum()\n",
    "print prediction.sum()\n",
    "print y_predict.sum()\n",
    "print prediction_predict.sum()"
   ]
  },
  {
   "cell_type": "code",
   "execution_count": 251,
   "metadata": {
    "collapsed": true
   },
   "outputs": [],
   "source": [
    "cm=confusion_matrix(y_predict,prediction_predict)"
   ]
  },
  {
   "cell_type": "code",
   "execution_count": 252,
   "metadata": {},
   "outputs": [
    {
     "name": "stdout",
     "output_type": "stream",
     "text": [
      "[[40893  2909]\n",
      " [  138    12]]\n"
     ]
    }
   ],
   "source": [
    "print cm"
   ]
  },
  {
   "cell_type": "code",
   "execution_count": 253,
   "metadata": {},
   "outputs": [
    {
     "name": "stdout",
     "output_type": "stream",
     "text": [
      "             precision    recall  f1-score   support\n",
      "\n",
      "          0       1.00      0.93      0.96     43802\n",
      "          1       0.00      0.08      0.01       150\n",
      "\n",
      "avg / total       0.99      0.93      0.96     43952\n",
      "\n"
     ]
    }
   ],
   "source": [
    "print classification_report(y_predict,prediction_predict)"
   ]
  },
  {
   "cell_type": "code",
   "execution_count": 227,
   "metadata": {},
   "outputs": [
    {
     "data": {
      "text/html": [
       "<div>\n",
       "<table border=\"1\" class=\"dataframe\">\n",
       "  <thead>\n",
       "    <tr style=\"text-align: right;\">\n",
       "      <th></th>\n",
       "      <th>Unnamed: 0</th>\n",
       "      <th>adverse_reactions</th>\n",
       "      <th>clinical_pharmacology</th>\n",
       "      <th>contraindications</th>\n",
       "      <th>description</th>\n",
       "      <th>dosage_and_administration</th>\n",
       "      <th>how_supplied</th>\n",
       "      <th>indications_and_usage</th>\n",
       "      <th>overdosage</th>\n",
       "      <th>spl_product_data_elements</th>\n",
       "      <th>...</th>\n",
       "      <th>version</th>\n",
       "      <th>veterinary_indications</th>\n",
       "      <th>warnings_and_cautions</th>\n",
       "      <th>when_using</th>\n",
       "      <th>date</th>\n",
       "      <th>month</th>\n",
       "      <th>year</th>\n",
       "      <th>unq_ndc</th>\n",
       "      <th>target</th>\n",
       "      <th>prediction</th>\n",
       "    </tr>\n",
       "  </thead>\n",
       "  <tbody>\n",
       "    <tr>\n",
       "      <th>21328</th>\n",
       "      <td>54421</td>\n",
       "      <td>none</td>\n",
       "      <td>none</td>\n",
       "      <td>none</td>\n",
       "      <td>none</td>\n",
       "      <td>none</td>\n",
       "      <td>none</td>\n",
       "      <td>none</td>\n",
       "      <td>none</td>\n",
       "      <td>u midazolam hcl midazolam hcl midazolam hydroc...</td>\n",
       "      <td>...</td>\n",
       "      <td>2</td>\n",
       "      <td>0</td>\n",
       "      <td>0</td>\n",
       "      <td>0</td>\n",
       "      <td>12</td>\n",
       "      <td>1</td>\n",
       "      <td>2015</td>\n",
       "      <td>52533-157</td>\n",
       "      <td>1</td>\n",
       "      <td>1</td>\n",
       "    </tr>\n",
       "    <tr>\n",
       "      <th>25549</th>\n",
       "      <td>64750</td>\n",
       "      <td>none</td>\n",
       "      <td>none</td>\n",
       "      <td>none</td>\n",
       "      <td>none</td>\n",
       "      <td>u direct u2022 adult children 12 year age olde...</td>\n",
       "      <td>none</td>\n",
       "      <td>u use u2022aid prevent dental caviti u2022help...</td>\n",
       "      <td>none</td>\n",
       "      <td>u sensodyn complet protect stannou fluorid sta...</td>\n",
       "      <td>...</td>\n",
       "      <td>3</td>\n",
       "      <td>0</td>\n",
       "      <td>0</td>\n",
       "      <td>1</td>\n",
       "      <td>26</td>\n",
       "      <td>1</td>\n",
       "      <td>2017</td>\n",
       "      <td>0135-0573</td>\n",
       "      <td>1</td>\n",
       "      <td>1</td>\n",
       "    </tr>\n",
       "    <tr>\n",
       "      <th>33947</th>\n",
       "      <td>74465</td>\n",
       "      <td>none</td>\n",
       "      <td>none</td>\n",
       "      <td>none</td>\n",
       "      <td>none</td>\n",
       "      <td>none</td>\n",
       "      <td>none</td>\n",
       "      <td>none</td>\n",
       "      <td>none</td>\n",
       "      <td>u midazolam hcl midazolam hcl midazolam hydroc...</td>\n",
       "      <td>...</td>\n",
       "      <td>5</td>\n",
       "      <td>0</td>\n",
       "      <td>0</td>\n",
       "      <td>0</td>\n",
       "      <td>14</td>\n",
       "      <td>1</td>\n",
       "      <td>2016</td>\n",
       "      <td>52533-001</td>\n",
       "      <td>1</td>\n",
       "      <td>1</td>\n",
       "    </tr>\n",
       "    <tr>\n",
       "      <th>33948</th>\n",
       "      <td>74466</td>\n",
       "      <td>none</td>\n",
       "      <td>none</td>\n",
       "      <td>none</td>\n",
       "      <td>none</td>\n",
       "      <td>none</td>\n",
       "      <td>none</td>\n",
       "      <td>none</td>\n",
       "      <td>none</td>\n",
       "      <td>u midazolam hcl midazolam hcl midazolam hydroc...</td>\n",
       "      <td>...</td>\n",
       "      <td>5</td>\n",
       "      <td>0</td>\n",
       "      <td>0</td>\n",
       "      <td>0</td>\n",
       "      <td>14</td>\n",
       "      <td>1</td>\n",
       "      <td>2016</td>\n",
       "      <td>52533-001</td>\n",
       "      <td>1</td>\n",
       "      <td>1</td>\n",
       "    </tr>\n",
       "    <tr>\n",
       "      <th>34413</th>\n",
       "      <td>74986</td>\n",
       "      <td>none</td>\n",
       "      <td>none</td>\n",
       "      <td>none</td>\n",
       "      <td>none</td>\n",
       "      <td>none</td>\n",
       "      <td>none</td>\n",
       "      <td>none</td>\n",
       "      <td>none</td>\n",
       "      <td>u oxygen oxygen oxygen oxygen</td>\n",
       "      <td>...</td>\n",
       "      <td>6</td>\n",
       "      <td>0</td>\n",
       "      <td>0</td>\n",
       "      <td>0</td>\n",
       "      <td>6</td>\n",
       "      <td>6</td>\n",
       "      <td>2016</td>\n",
       "      <td>33237-001</td>\n",
       "      <td>1</td>\n",
       "      <td>1</td>\n",
       "    </tr>\n",
       "    <tr>\n",
       "      <th>39235</th>\n",
       "      <td>80650</td>\n",
       "      <td>none</td>\n",
       "      <td>none</td>\n",
       "      <td>none</td>\n",
       "      <td>none</td>\n",
       "      <td>none</td>\n",
       "      <td>none</td>\n",
       "      <td>none</td>\n",
       "      <td>none</td>\n",
       "      <td>u fentanyl citrat bupivacain hcl fentanyl citr...</td>\n",
       "      <td>...</td>\n",
       "      <td>5</td>\n",
       "      <td>0</td>\n",
       "      <td>0</td>\n",
       "      <td>0</td>\n",
       "      <td>12</td>\n",
       "      <td>1</td>\n",
       "      <td>2015</td>\n",
       "      <td>52533-080</td>\n",
       "      <td>1</td>\n",
       "      <td>1</td>\n",
       "    </tr>\n",
       "    <tr>\n",
       "      <th>40045</th>\n",
       "      <td>81565</td>\n",
       "      <td>none</td>\n",
       "      <td>none</td>\n",
       "      <td>none</td>\n",
       "      <td>none</td>\n",
       "      <td>none</td>\n",
       "      <td>none</td>\n",
       "      <td>none</td>\n",
       "      <td>none</td>\n",
       "      <td>u heparin sodium heparin sodium heparin sodium...</td>\n",
       "      <td>...</td>\n",
       "      <td>5</td>\n",
       "      <td>0</td>\n",
       "      <td>0</td>\n",
       "      <td>0</td>\n",
       "      <td>12</td>\n",
       "      <td>1</td>\n",
       "      <td>2015</td>\n",
       "      <td>52533-097</td>\n",
       "      <td>1</td>\n",
       "      <td>1</td>\n",
       "    </tr>\n",
       "    <tr>\n",
       "      <th>41197</th>\n",
       "      <td>82899</td>\n",
       "      <td>none</td>\n",
       "      <td>none</td>\n",
       "      <td>none</td>\n",
       "      <td>none</td>\n",
       "      <td>none</td>\n",
       "      <td>none</td>\n",
       "      <td>none</td>\n",
       "      <td>none</td>\n",
       "      <td>u glycopyrrol glycopyrrol glycopyrrol glycopyr...</td>\n",
       "      <td>...</td>\n",
       "      <td>2</td>\n",
       "      <td>0</td>\n",
       "      <td>0</td>\n",
       "      <td>0</td>\n",
       "      <td>18</td>\n",
       "      <td>6</td>\n",
       "      <td>2015</td>\n",
       "      <td>52533-028</td>\n",
       "      <td>1</td>\n",
       "      <td>1</td>\n",
       "    </tr>\n",
       "    <tr>\n",
       "      <th>42711</th>\n",
       "      <td>85686</td>\n",
       "      <td>none</td>\n",
       "      <td>none</td>\n",
       "      <td>none</td>\n",
       "      <td>none</td>\n",
       "      <td>none</td>\n",
       "      <td>none</td>\n",
       "      <td>none</td>\n",
       "      <td>none</td>\n",
       "      <td>u midazolam hcl midazolam hcl midazolam hydroc...</td>\n",
       "      <td>...</td>\n",
       "      <td>2</td>\n",
       "      <td>0</td>\n",
       "      <td>0</td>\n",
       "      <td>0</td>\n",
       "      <td>12</td>\n",
       "      <td>1</td>\n",
       "      <td>2015</td>\n",
       "      <td>52533-001</td>\n",
       "      <td>1</td>\n",
       "      <td>1</td>\n",
       "    </tr>\n",
       "    <tr>\n",
       "      <th>42712</th>\n",
       "      <td>85687</td>\n",
       "      <td>none</td>\n",
       "      <td>none</td>\n",
       "      <td>none</td>\n",
       "      <td>none</td>\n",
       "      <td>none</td>\n",
       "      <td>none</td>\n",
       "      <td>none</td>\n",
       "      <td>none</td>\n",
       "      <td>u midazolam hcl midazolam hcl midazolam hydroc...</td>\n",
       "      <td>...</td>\n",
       "      <td>2</td>\n",
       "      <td>0</td>\n",
       "      <td>0</td>\n",
       "      <td>0</td>\n",
       "      <td>12</td>\n",
       "      <td>1</td>\n",
       "      <td>2015</td>\n",
       "      <td>52533-001</td>\n",
       "      <td>1</td>\n",
       "      <td>1</td>\n",
       "    </tr>\n",
       "    <tr>\n",
       "      <th>43904</th>\n",
       "      <td>87201</td>\n",
       "      <td>none</td>\n",
       "      <td>none</td>\n",
       "      <td>none</td>\n",
       "      <td>none</td>\n",
       "      <td>none</td>\n",
       "      <td>none</td>\n",
       "      <td>none</td>\n",
       "      <td>none</td>\n",
       "      <td>u fentanyl citrat bupivacain hcl fentanyl citr...</td>\n",
       "      <td>...</td>\n",
       "      <td>2</td>\n",
       "      <td>0</td>\n",
       "      <td>0</td>\n",
       "      <td>0</td>\n",
       "      <td>12</td>\n",
       "      <td>1</td>\n",
       "      <td>2015</td>\n",
       "      <td>52533-080</td>\n",
       "      <td>1</td>\n",
       "      <td>1</td>\n",
       "    </tr>\n",
       "  </tbody>\n",
       "</table>\n",
       "<p>11 rows × 84 columns</p>\n",
       "</div>"
      ],
      "text/plain": [
       "       Unnamed: 0 adverse_reactions clinical_pharmacology contraindications  \\\n",
       "21328       54421              none                  none              none   \n",
       "25549       64750              none                  none              none   \n",
       "33947       74465              none                  none              none   \n",
       "33948       74466              none                  none              none   \n",
       "34413       74986              none                  none              none   \n",
       "39235       80650              none                  none              none   \n",
       "40045       81565              none                  none              none   \n",
       "41197       82899              none                  none              none   \n",
       "42711       85686              none                  none              none   \n",
       "42712       85687              none                  none              none   \n",
       "43904       87201              none                  none              none   \n",
       "\n",
       "      description                          dosage_and_administration  \\\n",
       "21328        none                                               none   \n",
       "25549        none  u direct u2022 adult children 12 year age olde...   \n",
       "33947        none                                               none   \n",
       "33948        none                                               none   \n",
       "34413        none                                               none   \n",
       "39235        none                                               none   \n",
       "40045        none                                               none   \n",
       "41197        none                                               none   \n",
       "42711        none                                               none   \n",
       "42712        none                                               none   \n",
       "43904        none                                               none   \n",
       "\n",
       "      how_supplied                              indications_and_usage  \\\n",
       "21328         none                                               none   \n",
       "25549         none  u use u2022aid prevent dental caviti u2022help...   \n",
       "33947         none                                               none   \n",
       "33948         none                                               none   \n",
       "34413         none                                               none   \n",
       "39235         none                                               none   \n",
       "40045         none                                               none   \n",
       "41197         none                                               none   \n",
       "42711         none                                               none   \n",
       "42712         none                                               none   \n",
       "43904         none                                               none   \n",
       "\n",
       "      overdosage                          spl_product_data_elements  \\\n",
       "21328       none  u midazolam hcl midazolam hcl midazolam hydroc...   \n",
       "25549       none  u sensodyn complet protect stannou fluorid sta...   \n",
       "33947       none  u midazolam hcl midazolam hcl midazolam hydroc...   \n",
       "33948       none  u midazolam hcl midazolam hcl midazolam hydroc...   \n",
       "34413       none                      u oxygen oxygen oxygen oxygen   \n",
       "39235       none  u fentanyl citrat bupivacain hcl fentanyl citr...   \n",
       "40045       none  u heparin sodium heparin sodium heparin sodium...   \n",
       "41197       none  u glycopyrrol glycopyrrol glycopyrrol glycopyr...   \n",
       "42711       none  u midazolam hcl midazolam hcl midazolam hydroc...   \n",
       "42712       none  u midazolam hcl midazolam hcl midazolam hydroc...   \n",
       "43904       none  u fentanyl citrat bupivacain hcl fentanyl citr...   \n",
       "\n",
       "          ...      version  veterinary_indications  warnings_and_cautions  \\\n",
       "21328     ...            2                       0                      0   \n",
       "25549     ...            3                       0                      0   \n",
       "33947     ...            5                       0                      0   \n",
       "33948     ...            5                       0                      0   \n",
       "34413     ...            6                       0                      0   \n",
       "39235     ...            5                       0                      0   \n",
       "40045     ...            5                       0                      0   \n",
       "41197     ...            2                       0                      0   \n",
       "42711     ...            2                       0                      0   \n",
       "42712     ...            2                       0                      0   \n",
       "43904     ...            2                       0                      0   \n",
       "\n",
       "       when_using  date  month  year    unq_ndc  target  prediction  \n",
       "21328           0    12      1  2015  52533-157       1           1  \n",
       "25549           1    26      1  2017  0135-0573       1           1  \n",
       "33947           0    14      1  2016  52533-001       1           1  \n",
       "33948           0    14      1  2016  52533-001       1           1  \n",
       "34413           0     6      6  2016  33237-001       1           1  \n",
       "39235           0    12      1  2015  52533-080       1           1  \n",
       "40045           0    12      1  2015  52533-097       1           1  \n",
       "41197           0    18      6  2015  52533-028       1           1  \n",
       "42711           0    12      1  2015  52533-001       1           1  \n",
       "42712           0    12      1  2015  52533-001       1           1  \n",
       "43904           0    12      1  2015  52533-080       1           1  \n",
       "\n",
       "[11 rows x 84 columns]"
      ]
     },
     "execution_count": 227,
     "metadata": {},
     "output_type": "execute_result"
    }
   ],
   "source": [
    "findings_tsvd_bool=df_to_predict.join(pd.DataFrame(prediction_predict,columns=['prediction']))\n",
    "findings_tsvd_bool[(findings_tsvd_bool['prediction']==1)&(findings_tsvd_1['target']==1)]\n",
    "#print findings_tsvd_1.head()"
   ]
  },
  {
   "cell_type": "code",
   "execution_count": 158,
   "metadata": {},
   "outputs": [
    {
     "name": "stdout",
     "output_type": "stream",
     "text": [
      "1.0\n",
      "0.0\n",
      "0.777777777778\n",
      "0.0\n"
     ]
    }
   ],
   "source": [
    "rfc.fit(X_tsvd_9_plus_bool,y)\n",
    "prediction= rfc.predict(X_tsvd_9_plus_bool)\n",
    "prediction_predict=rfc.predict(X_tsvd_9_plus_bool_predict)\n",
    "print recall_score(y,prediction)\n",
    "print recall_score(y_predict,prediction_predict)\n",
    "print precision_score(y,prediction)\n",
    "print precision_score(y_predict,prediction_predict)"
   ]
  },
  {
   "cell_type": "code",
   "execution_count": 159,
   "metadata": {},
   "outputs": [
    {
     "name": "stdout",
     "output_type": "stream",
     "text": [
      "133\n",
      "171\n",
      "150\n",
      "0\n"
     ]
    }
   ],
   "source": [
    "print y.sum()\n",
    "print prediction.sum()\n",
    "print y_predict.sum()\n",
    "print prediction_predict.sum()"
   ]
  },
  {
   "cell_type": "code",
   "execution_count": 160,
   "metadata": {},
   "outputs": [
    {
     "data": {
      "text/plain": [
       "0    u 6 advers reaction adult common advers reacti...\n",
       "1    u 6 advers reaction common advers reaction inc...\n",
       "2    u advers reaction list alphabet subsect follow...\n",
       "3                                                 none\n",
       "4    u advers reaction gener advers reaction digoxi...\n",
       "Name: adverse_reactions, dtype: object"
      ]
     },
     "execution_count": 160,
     "metadata": {},
     "output_type": "execute_result"
    }
   ],
   "source": []
  },
  {
   "cell_type": "code",
   "execution_count": null,
   "metadata": {
    "collapsed": true
   },
   "outputs": [],
   "source": [
    "findings_tsvd_1"
   ]
  },
  {
   "cell_type": "code",
   "execution_count": null,
   "metadata": {
    "collapsed": true
   },
   "outputs": [],
   "source": []
  },
  {
   "cell_type": "code",
   "execution_count": 231,
   "metadata": {},
   "outputs": [
    {
     "data": {
      "text/plain": [
       "0.09523809523809523"
      ]
     },
     "execution_count": 231,
     "metadata": {},
     "output_type": "execute_result"
    }
   ],
   "source": [
    "4/42.0"
   ]
  },
  {
   "cell_type": "code",
   "execution_count": 232,
   "metadata": {},
   "outputs": [
    {
     "data": {
      "text/plain": [
       "0.004103967168262654"
      ]
     },
     "execution_count": 232,
     "metadata": {},
     "output_type": "execute_result"
    }
   ],
   "source": [
    "12/2924.0"
   ]
  },
  {
   "cell_type": "code",
   "execution_count": null,
   "metadata": {
    "collapsed": true
   },
   "outputs": [],
   "source": []
  }
 ],
 "metadata": {
  "kernelspec": {
   "display_name": "Python 2",
   "language": "python",
   "name": "python2"
  },
  "language_info": {
   "codemirror_mode": {
    "name": "ipython",
    "version": 2
   },
   "file_extension": ".py",
   "mimetype": "text/x-python",
   "name": "python",
   "nbconvert_exporter": "python",
   "pygments_lexer": "ipython2",
   "version": "2.7.13"
  }
 },
 "nbformat": 4,
 "nbformat_minor": 2
}
