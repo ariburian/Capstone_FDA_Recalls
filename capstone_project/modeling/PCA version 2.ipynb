{
 "cells": [
  {
   "cell_type": "code",
   "execution_count": 1,
   "metadata": {
    "collapsed": true
   },
   "outputs": [],
   "source": [
    "import pandas as pd\n",
    "import numpy as np\n",
    "import matplotlib.pyplot as plt\n",
    "from sklearn.model_selection import train_test_split\n",
    "from sklearn.linear_model import LogisticRegression\n",
    "from sklearn.metrics import roc_curve,recall_score, precision_score, precision_recall_curve, confusion_matrix, classification_report\n",
    "from sklearn.decomposition import PCA, TruncatedSVD\n",
    "from sklearn.feature_extraction.text import TfidfVectorizer, CountVectorizer, TfidfTransformer\n",
    "from sklearn.manifold import TSNE\n",
    "from sklearn.cluster import AgglomerativeClustering\n",
    "from sklearn.preprocessing import StandardScaler\n",
    "from sklearn.ensemble import RandomForestClassifier"
   ]
  },
  {
   "cell_type": "code",
   "execution_count": 6,
   "metadata": {
    "collapsed": true
   },
   "outputs": [],
   "source": [
    "df=pd.read_csv('training_data_cleansed.csv')\n",
    "#df=pd.read_csv('training_data_cleansed_no_2009.csv')"
   ]
  },
  {
   "cell_type": "code",
   "execution_count": 9,
   "metadata": {},
   "outputs": [
    {
     "name": "stdout",
     "output_type": "stream",
     "text": [
      "43106\n",
      "40876\n"
     ]
    }
   ],
   "source": [
    "print len (df)\n",
    "df=df[df['year']!=2009]\n",
    "print len(df)"
   ]
  },
  {
   "cell_type": "code",
   "execution_count": 10,
   "metadata": {
    "collapsed": true
   },
   "outputs": [],
   "source": [
    "df_to_predict=pd.read_csv('predicting_data_cleansed.csv')"
   ]
  },
  {
   "cell_type": "code",
   "execution_count": null,
   "metadata": {},
   "outputs": [],
   "source": []
  },
  {
   "cell_type": "code",
   "execution_count": 11,
   "metadata": {
    "collapsed": true
   },
   "outputs": [],
   "source": [
    "nlp_features=[u'adverse_reactions', u'clinical_pharmacology',\n",
    "       u'contraindications', u'description', u'dosage_and_administration',\n",
    "       u'how_supplied', u'indications_and_usage', u'overdosage',\n",
    "       u'spl_product_data_elements']"
   ]
  },
  {
   "cell_type": "code",
   "execution_count": 12,
   "metadata": {
    "collapsed": true
   },
   "outputs": [],
   "source": [
    "for col in nlp_features:\n",
    "    df[col]=df[col].fillna('none')"
   ]
  },
  {
   "cell_type": "code",
   "execution_count": 13,
   "metadata": {
    "collapsed": true
   },
   "outputs": [],
   "source": [
    "for col in nlp_features:\n",
    "    df_to_predict[col]=df_to_predict[col].fillna('none')"
   ]
  },
  {
   "cell_type": "code",
   "execution_count": 14,
   "metadata": {
    "collapsed": true
   },
   "outputs": [],
   "source": [
    "cv=CountVectorizer(max_features=1000)"
   ]
  },
  {
   "cell_type": "code",
   "execution_count": 15,
   "metadata": {
    "collapsed": true
   },
   "outputs": [],
   "source": [
    "count_1=cv.fit_transform(df['adverse_reactions'])"
   ]
  },
  {
   "cell_type": "code",
   "execution_count": 16,
   "metadata": {
    "collapsed": true
   },
   "outputs": [],
   "source": [
    "count_1_predict=cv.transform(df_to_predict['adverse_reactions'])"
   ]
  },
  {
   "cell_type": "code",
   "execution_count": 17,
   "metadata": {
    "collapsed": true
   },
   "outputs": [],
   "source": [
    "tfidfTrans=TfidfTransformer()"
   ]
  },
  {
   "cell_type": "code",
   "execution_count": null,
   "metadata": {
    "collapsed": true
   },
   "outputs": [],
   "source": []
  },
  {
   "cell_type": "code",
   "execution_count": 18,
   "metadata": {
    "collapsed": true
   },
   "outputs": [],
   "source": [
    "col_1=tfidfTrans.fit_transform(count_1)"
   ]
  },
  {
   "cell_type": "code",
   "execution_count": 19,
   "metadata": {
    "collapsed": true
   },
   "outputs": [],
   "source": [
    "col_1_predict=tfidfTrans.transform(count_1_predict)"
   ]
  },
  {
   "cell_type": "code",
   "execution_count": 20,
   "metadata": {
    "collapsed": true
   },
   "outputs": [],
   "source": [
    "col_2=tfidfTrans.fit_transform(cv.fit_transform(df['clinical_pharmacology']))\n"
   ]
  },
  {
   "cell_type": "code",
   "execution_count": 21,
   "metadata": {
    "collapsed": true
   },
   "outputs": [],
   "source": [
    "col_2_predict=tfidfTrans.transform(cv.fit_transform(df_to_predict['clinical_pharmacology']))\n"
   ]
  },
  {
   "cell_type": "code",
   "execution_count": 22,
   "metadata": {
    "collapsed": true
   },
   "outputs": [],
   "source": [
    "col_3=tfidfTrans.fit_transform(cv.fit_transform(df['contraindications']))\n",
    "col_3_predict=tfidfTrans.transform(cv.fit_transform(df_to_predict['contraindications']))\n",
    "col_4=tfidfTrans.fit_transform(cv.fit_transform(df['description']))\n",
    "col_4_predict=tfidfTrans.transform(cv.fit_transform(df_to_predict['description']))\n",
    "col_5=tfidfTrans.fit_transform(cv.fit_transform(df['dosage_and_administration']))\n",
    "col_5_predict=tfidfTrans.transform(cv.fit_transform(df_to_predict['dosage_and_administration']))\n",
    "\n",
    "col_6=tfidfTrans.fit_transform(cv.fit_transform(df['how_supplied']))\n",
    "col_6_predict=tfidfTrans.transform(cv.fit_transform(df_to_predict['how_supplied']))\n",
    "\n",
    "col_7=tfidfTrans.fit_transform(cv.fit_transform(df['indications_and_usage']))\n",
    "col_7_predict=tfidfTrans.transform(cv.fit_transform(df_to_predict['indications_and_usage']))\n",
    "\n",
    "col_8=tfidfTrans.fit_transform(cv.fit_transform(df['overdosage']))\n",
    "col_8_predict=tfidfTrans.transform(cv.fit_transform(df_to_predict['overdosage']))\n",
    "\n",
    "col_9=tfidfTrans.fit_transform(cv.fit_transform(df['spl_product_data_elements']))\n",
    "col_9_predict=tfidfTrans.transform(cv.fit_transform(df_to_predict['spl_product_data_elements']))\n"
   ]
  },
  {
   "cell_type": "code",
   "execution_count": null,
   "metadata": {
    "collapsed": true
   },
   "outputs": [],
   "source": [
    "\n",
    "\n"
   ]
  },
  {
   "cell_type": "code",
   "execution_count": 23,
   "metadata": {
    "collapsed": true
   },
   "outputs": [],
   "source": [
    "df_1=pd.DataFrame(col_1.todense())\n",
    "df_2=pd.DataFrame(col_2.todense())\n",
    "df_3=pd.DataFrame(col_3.todense())\n",
    "df_4=pd.DataFrame(col_4.todense())\n",
    "df_5=pd.DataFrame(col_5.todense())\n",
    "df_6=pd.DataFrame(col_6.todense())\n",
    "df_7=pd.DataFrame(col_7.todense())\n",
    "df_8=pd.DataFrame(col_8.todense())\n",
    "df_9=pd.DataFrame(col_9.todense())"
   ]
  },
  {
   "cell_type": "code",
   "execution_count": 24,
   "metadata": {
    "collapsed": true
   },
   "outputs": [],
   "source": [
    "df_1_predict=pd.DataFrame(col_1_predict.todense())\n",
    "df_2_predict=pd.DataFrame(col_2_predict.todense())\n",
    "df_3_predict=pd.DataFrame(col_3_predict.todense())\n",
    "df_4_predict=pd.DataFrame(col_4_predict.todense())\n",
    "df_5_predict=pd.DataFrame(col_5_predict.todense())\n",
    "df_6_predict=pd.DataFrame(col_6_predict.todense())\n",
    "df_7_predict=pd.DataFrame(col_7_predict.todense())\n",
    "df_8_predict=pd.DataFrame(col_8_predict.todense())\n",
    "df_9_predict=pd.DataFrame(col_9_predict.todense())"
   ]
  },
  {
   "cell_type": "code",
   "execution_count": 25,
   "metadata": {
    "collapsed": true
   },
   "outputs": [],
   "source": [
    "tfidf_df=df_1.join(df_2,lsuffix='2_')"
   ]
  },
  {
   "cell_type": "code",
   "execution_count": 26,
   "metadata": {
    "collapsed": true
   },
   "outputs": [],
   "source": [
    "tfidf_df_predict=df_1_predict.join(df_2_predict,lsuffix='2_')"
   ]
  },
  {
   "cell_type": "code",
   "execution_count": 27,
   "metadata": {
    "collapsed": true
   },
   "outputs": [],
   "source": [
    "tfidf_df=tfidf_df.join(df_3,lsuffix='3_')\n",
    "tfidf_df=tfidf_df.join(df_4,lsuffix='4_')\n",
    "tfidf_df=tfidf_df.join(df_5,lsuffix='5_')\n",
    "tfidf_df=tfidf_df.join(df_6,lsuffix='6_')\n",
    "tfidf_df=tfidf_df.join(df_7,lsuffix='7_')\n",
    "tfidf_df=tfidf_df.join(df_8,lsuffix='8_')\n",
    "tfidf_df=tfidf_df.join(df_9,lsuffix='9_')"
   ]
  },
  {
   "cell_type": "code",
   "execution_count": 28,
   "metadata": {
    "collapsed": true
   },
   "outputs": [],
   "source": [
    "tfidf_df_predict=tfidf_df_predict.join(df_3_predict,lsuffix='3_')\n",
    "tfidf_df_predict=tfidf_df_predict.join(df_4_predict,lsuffix='4_')\n",
    "tfidf_df_predict=tfidf_df_predict.join(df_5_predict,lsuffix='5_')\n",
    "tfidf_df_predict=tfidf_df_predict.join(df_6_predict,lsuffix='6_')\n",
    "tfidf_df_predict=tfidf_df_predict.join(df_7_predict,lsuffix='7_')\n",
    "tfidf_df_predict=tfidf_df_predict.join(df_8_predict,lsuffix='8_')\n",
    "tfidf_df_predict=tfidf_df_predict.join(df_9_predict,lsuffix='9_')"
   ]
  },
  {
   "cell_type": "code",
   "execution_count": 29,
   "metadata": {},
   "outputs": [
    {
     "data": {
      "text/html": [
       "<div>\n",
       "<table border=\"1\" class=\"dataframe\">\n",
       "  <thead>\n",
       "    <tr style=\"text-align: right;\">\n",
       "      <th></th>\n",
       "      <th>02_</th>\n",
       "      <th>12_</th>\n",
       "      <th>22_</th>\n",
       "      <th>32_</th>\n",
       "      <th>42_</th>\n",
       "      <th>52_</th>\n",
       "      <th>62_</th>\n",
       "      <th>72_</th>\n",
       "      <th>82_</th>\n",
       "      <th>92_</th>\n",
       "      <th>...</th>\n",
       "      <th>990</th>\n",
       "      <th>991</th>\n",
       "      <th>992</th>\n",
       "      <th>993</th>\n",
       "      <th>994</th>\n",
       "      <th>995</th>\n",
       "      <th>996</th>\n",
       "      <th>997</th>\n",
       "      <th>998</th>\n",
       "      <th>999</th>\n",
       "    </tr>\n",
       "  </thead>\n",
       "  <tbody>\n",
       "    <tr>\n",
       "      <th>0</th>\n",
       "      <td>0.0</td>\n",
       "      <td>0.019856</td>\n",
       "      <td>0.0</td>\n",
       "      <td>0.0</td>\n",
       "      <td>0.022918</td>\n",
       "      <td>0.000000</td>\n",
       "      <td>0.0</td>\n",
       "      <td>0.000000</td>\n",
       "      <td>0.023243</td>\n",
       "      <td>0.023396</td>\n",
       "      <td>...</td>\n",
       "      <td>0.0</td>\n",
       "      <td>0.0</td>\n",
       "      <td>0.0</td>\n",
       "      <td>0.0</td>\n",
       "      <td>0.0</td>\n",
       "      <td>0.063640</td>\n",
       "      <td>0.0</td>\n",
       "      <td>0.0</td>\n",
       "      <td>0.0</td>\n",
       "      <td>0.0</td>\n",
       "    </tr>\n",
       "    <tr>\n",
       "      <th>1</th>\n",
       "      <td>0.0</td>\n",
       "      <td>0.075482</td>\n",
       "      <td>0.0</td>\n",
       "      <td>0.0</td>\n",
       "      <td>0.043561</td>\n",
       "      <td>0.083854</td>\n",
       "      <td>0.0</td>\n",
       "      <td>0.045409</td>\n",
       "      <td>0.044178</td>\n",
       "      <td>0.000000</td>\n",
       "      <td>...</td>\n",
       "      <td>0.0</td>\n",
       "      <td>0.0</td>\n",
       "      <td>0.0</td>\n",
       "      <td>0.0</td>\n",
       "      <td>0.0</td>\n",
       "      <td>0.000000</td>\n",
       "      <td>0.0</td>\n",
       "      <td>0.0</td>\n",
       "      <td>0.0</td>\n",
       "      <td>0.0</td>\n",
       "    </tr>\n",
       "    <tr>\n",
       "      <th>2</th>\n",
       "      <td>0.0</td>\n",
       "      <td>0.000000</td>\n",
       "      <td>0.0</td>\n",
       "      <td>0.0</td>\n",
       "      <td>0.000000</td>\n",
       "      <td>0.000000</td>\n",
       "      <td>0.0</td>\n",
       "      <td>0.000000</td>\n",
       "      <td>0.000000</td>\n",
       "      <td>0.000000</td>\n",
       "      <td>...</td>\n",
       "      <td>0.0</td>\n",
       "      <td>0.0</td>\n",
       "      <td>0.0</td>\n",
       "      <td>0.0</td>\n",
       "      <td>0.0</td>\n",
       "      <td>0.055289</td>\n",
       "      <td>0.0</td>\n",
       "      <td>0.0</td>\n",
       "      <td>0.0</td>\n",
       "      <td>0.0</td>\n",
       "    </tr>\n",
       "    <tr>\n",
       "      <th>3</th>\n",
       "      <td>0.0</td>\n",
       "      <td>0.000000</td>\n",
       "      <td>0.0</td>\n",
       "      <td>0.0</td>\n",
       "      <td>0.000000</td>\n",
       "      <td>0.000000</td>\n",
       "      <td>0.0</td>\n",
       "      <td>0.000000</td>\n",
       "      <td>0.000000</td>\n",
       "      <td>0.000000</td>\n",
       "      <td>...</td>\n",
       "      <td>0.0</td>\n",
       "      <td>0.0</td>\n",
       "      <td>0.0</td>\n",
       "      <td>0.0</td>\n",
       "      <td>0.0</td>\n",
       "      <td>0.000000</td>\n",
       "      <td>0.0</td>\n",
       "      <td>0.0</td>\n",
       "      <td>0.0</td>\n",
       "      <td>0.0</td>\n",
       "    </tr>\n",
       "    <tr>\n",
       "      <th>4</th>\n",
       "      <td>0.0</td>\n",
       "      <td>0.000000</td>\n",
       "      <td>0.0</td>\n",
       "      <td>0.0</td>\n",
       "      <td>0.012362</td>\n",
       "      <td>0.000000</td>\n",
       "      <td>0.0</td>\n",
       "      <td>0.000000</td>\n",
       "      <td>0.000000</td>\n",
       "      <td>0.000000</td>\n",
       "      <td>...</td>\n",
       "      <td>0.0</td>\n",
       "      <td>0.0</td>\n",
       "      <td>0.0</td>\n",
       "      <td>0.0</td>\n",
       "      <td>0.0</td>\n",
       "      <td>0.000000</td>\n",
       "      <td>0.0</td>\n",
       "      <td>0.0</td>\n",
       "      <td>0.0</td>\n",
       "      <td>0.0</td>\n",
       "    </tr>\n",
       "  </tbody>\n",
       "</table>\n",
       "<p>5 rows × 9000 columns</p>\n",
       "</div>"
      ],
      "text/plain": [
       "   02_       12_  22_  32_       42_       52_  62_       72_       82_  \\\n",
       "0  0.0  0.019856  0.0  0.0  0.022918  0.000000  0.0  0.000000  0.023243   \n",
       "1  0.0  0.075482  0.0  0.0  0.043561  0.083854  0.0  0.045409  0.044178   \n",
       "2  0.0  0.000000  0.0  0.0  0.000000  0.000000  0.0  0.000000  0.000000   \n",
       "3  0.0  0.000000  0.0  0.0  0.000000  0.000000  0.0  0.000000  0.000000   \n",
       "4  0.0  0.000000  0.0  0.0  0.012362  0.000000  0.0  0.000000  0.000000   \n",
       "\n",
       "        92_ ...   990  991  992  993  994       995  996  997  998  999  \n",
       "0  0.023396 ...   0.0  0.0  0.0  0.0  0.0  0.063640  0.0  0.0  0.0  0.0  \n",
       "1  0.000000 ...   0.0  0.0  0.0  0.0  0.0  0.000000  0.0  0.0  0.0  0.0  \n",
       "2  0.000000 ...   0.0  0.0  0.0  0.0  0.0  0.055289  0.0  0.0  0.0  0.0  \n",
       "3  0.000000 ...   0.0  0.0  0.0  0.0  0.0  0.000000  0.0  0.0  0.0  0.0  \n",
       "4  0.000000 ...   0.0  0.0  0.0  0.0  0.0  0.000000  0.0  0.0  0.0  0.0  \n",
       "\n",
       "[5 rows x 9000 columns]"
      ]
     },
     "execution_count": 29,
     "metadata": {},
     "output_type": "execute_result"
    }
   ],
   "source": [
    "tfidf_df.head()"
   ]
  },
  {
   "cell_type": "code",
   "execution_count": 30,
   "metadata": {
    "collapsed": true
   },
   "outputs": [],
   "source": [
    "tsvd=TruncatedSVD(n_components=657)\n",
    "tsvd_cols=tsvd.fit_transform(tfidf_df.values)"
   ]
  },
  {
   "cell_type": "code",
   "execution_count": 31,
   "metadata": {
    "collapsed": true
   },
   "outputs": [],
   "source": [
    "tsvd1=TruncatedSVD(n_components=100)\n",
    "tsvd2=TruncatedSVD(n_components=100)\n",
    "tsvd3=TruncatedSVD(n_components=100)\n",
    "tsvd4=TruncatedSVD(n_components=100)\n",
    "tsvd5=TruncatedSVD(n_components=100)\n",
    "tsvd6=TruncatedSVD(n_components=100)\n",
    "tsvd7=TruncatedSVD(n_components=100)\n",
    "tsvd8=TruncatedSVD(n_components=100)\n",
    "tsvd9=TruncatedSVD(n_components=100)"
   ]
  },
  {
   "cell_type": "code",
   "execution_count": 32,
   "metadata": {
    "collapsed": true
   },
   "outputs": [],
   "source": [
    "tsvd_col_1=tsvd1.fit_transform(col_1)\n",
    "tsvd_col_2=tsvd2.fit_transform(col_2)\n",
    "tsvd_col_3=tsvd3.fit_transform(col_3)\n",
    "tsvd_col_4=tsvd4.fit_transform(col_4)\n",
    "tsvd_col_5=tsvd5.fit_transform(col_5)\n",
    "tsvd_col_6=tsvd6.fit_transform(col_6)\n",
    "tsvd_col_7=tsvd7.fit_transform(col_7)\n",
    "tsvd_col_8=tsvd8.fit_transform(col_8)\n",
    "tsvd_col_9=tsvd9.fit_transform(col_9)"
   ]
  },
  {
   "cell_type": "code",
   "execution_count": 33,
   "metadata": {
    "collapsed": true
   },
   "outputs": [],
   "source": [
    "# print df_1.head()\n",
    "# print df_1_predict.head()"
   ]
  },
  {
   "cell_type": "code",
   "execution_count": 34,
   "metadata": {
    "collapsed": true
   },
   "outputs": [],
   "source": [
    "tsvd_col_1_predict=tsvd1.transform(col_1_predict)"
   ]
  },
  {
   "cell_type": "code",
   "execution_count": 35,
   "metadata": {
    "collapsed": true
   },
   "outputs": [],
   "source": [
    "tsvd_col_2_predict=tsvd2.transform(col_2_predict)"
   ]
  },
  {
   "cell_type": "code",
   "execution_count": 36,
   "metadata": {},
   "outputs": [
    {
     "data": {
      "text/plain": [
       "scipy.sparse.csr.csr_matrix"
      ]
     },
     "execution_count": 36,
     "metadata": {},
     "output_type": "execute_result"
    }
   ],
   "source": [
    "type(col_2_predict)"
   ]
  },
  {
   "cell_type": "code",
   "execution_count": null,
   "metadata": {
    "collapsed": true
   },
   "outputs": [],
   "source": []
  },
  {
   "cell_type": "code",
   "execution_count": null,
   "metadata": {
    "collapsed": true
   },
   "outputs": [],
   "source": []
  },
  {
   "cell_type": "code",
   "execution_count": null,
   "metadata": {
    "collapsed": true
   },
   "outputs": [],
   "source": []
  },
  {
   "cell_type": "code",
   "execution_count": 37,
   "metadata": {
    "collapsed": true
   },
   "outputs": [],
   "source": [
    "\n",
    "\n",
    "tsvd_col_3_predict=tsvd3.transform(col_3_predict)\n",
    "tsvd_col_4_predict=tsvd4.transform(col_4_predict)\n",
    "tsvd_col_5_predict=tsvd5.transform(col_5_predict)\n",
    "tsvd_col_6_predict=tsvd6.transform(col_6_predict)\n",
    "tsvd_col_7_predict=tsvd7.transform(col_7_predict)\n",
    "tsvd_col_8_predict=tsvd8.transform(col_8_predict)\n",
    "tsvd_col_9_predict=tsvd9.transform(col_9_predict)"
   ]
  },
  {
   "cell_type": "code",
   "execution_count": null,
   "metadata": {
    "collapsed": true
   },
   "outputs": [],
   "source": []
  },
  {
   "cell_type": "code",
   "execution_count": 38,
   "metadata": {
    "collapsed": true
   },
   "outputs": [],
   "source": [
    "tsvd_cols_predict=tsvd.transform(tfidf_df_predict.values)"
   ]
  },
  {
   "cell_type": "code",
   "execution_count": 39,
   "metadata": {},
   "outputs": [
    {
     "name": "stdout",
     "output_type": "stream",
     "text": [
      "[ 0.19791538  0.24728717  0.26753883  0.28286265  0.29489613  0.30494045\n",
      "  0.31342184  0.32044392  0.32705252  0.33361219  0.33950157  0.34526281\n",
      "  0.35083522  0.35639429  0.36155101  0.36653524  0.37132319  0.3759656\n",
      "  0.38051623  0.3848128   0.38906135  0.39314469  0.39712804  0.40104353\n",
      "  0.4049222   0.40866905  0.41233153  0.41584519  0.41922421  0.42253972\n",
      "  0.42579926  0.42893992  0.43205019  0.43512371  0.4381303   0.44107238\n",
      "  0.44397769  0.44682839  0.44964351  0.45235972  0.45504576  0.4576699\n",
      "  0.46024243  0.46277527  0.46525028  0.46770379  0.47015284  0.47256797\n",
      "  0.47496569  0.47730998  0.47961523  0.48188932  0.48415643  0.48638266\n",
      "  0.48857768  0.49074014  0.49289194  0.49499695  0.49708337  0.49914281\n",
      "  0.50116961  0.50316452  0.50515529  0.50712677  0.50907361  0.51098625\n",
      "  0.5128777   0.51475186  0.51661987  0.51845533  0.52028001  0.52208931\n",
      "  0.52388496  0.52566405  0.52739888  0.52912964  0.53083944  0.5325402\n",
      "  0.53423215  0.53588603  0.5375085   0.53912032  0.54071611  0.5422874\n",
      "  0.54385468  0.54540941  0.54695769  0.54849788  0.55001189  0.55152023\n",
      "  0.55301145  0.55449622  0.55597887  0.55744683  0.55890126  0.56035051\n",
      "  0.56178811  0.56321466  0.56462357  0.56601615  0.56739839  0.56877009\n",
      "  0.57013148  0.57148139  0.57282899  0.57416067  0.57548281  0.57679642\n",
      "  0.57810354  0.57939613  0.58067369  0.58194772  0.58321488  0.58447161\n",
      "  0.58571714  0.58695297  0.58818196  0.58940536  0.59061879  0.59182219\n",
      "  0.59301932  0.59420668  0.59538307  0.59654815  0.59770647  0.59885823\n",
      "  0.60000342  0.60113585  0.60225776  0.60337314  0.60447773  0.60558013\n",
      "  0.60667299  0.60776253  0.60884724  0.60992594  0.61099698  0.61205868\n",
      "  0.6131174   0.61417098  0.61521896  0.61626053  0.6172974   0.61833192\n",
      "  0.61935627  0.6203726   0.62138462  0.62238504  0.62338127  0.62437641\n",
      "  0.62536467  0.62634679  0.62732466  0.62829931  0.62927077  0.6302356\n",
      "  0.63119689  0.63215072  0.63309917  0.63404137  0.63498099  0.63591875\n",
      "  0.63684552  0.63776894  0.63868472  0.63959798  0.64050283  0.64140337\n",
      "  0.64229976  0.64319597  0.64408799  0.64497296  0.6458511   0.64672366\n",
      "  0.64759075  0.64845431  0.64931525  0.65017219  0.65102235  0.65186287\n",
      "  0.65269942  0.65353346  0.65436453  0.65519009  0.65601055  0.65682893\n",
      "  0.65764297  0.6584548   0.65926209  0.66006582  0.66086718  0.66166206\n",
      "  0.66245622  0.66324273  0.66402672  0.66480851  0.66558689  0.66636146\n",
      "  0.6671325   0.66789951  0.66866181  0.66942279  0.67018245  0.67093654\n",
      "  0.67168498  0.67243237  0.67317442  0.67391529  0.67465423  0.67539116\n",
      "  0.67612423  0.67685218  0.67757714  0.67829822  0.67901531  0.6797279\n",
      "  0.68043948  0.68114841  0.68185574  0.68255807  0.68325864  0.68395843\n",
      "  0.68465099  0.6853417   0.68602822  0.68671207  0.68739198  0.68807042\n",
      "  0.68874701  0.68942185  0.69008934  0.69075388  0.69141581  0.6920757\n",
      "  0.69273485  0.69339111  0.69404674  0.69469793  0.69534856  0.69599687\n",
      "  0.69663978  0.69727923  0.69791667  0.69855313  0.69918626  0.69981808\n",
      "  0.70044853  0.70107475  0.70169862  0.70231968  0.70293763  0.70355218\n",
      "  0.70416571  0.70477692  0.70538452  0.70599075  0.70659651  0.70719892\n",
      "  0.70779829  0.70839391  0.70898757  0.70957682  0.71016457  0.71074991\n",
      "  0.71133265  0.71191188  0.71248877  0.71306445  0.71363821  0.71420928\n",
      "  0.7147778   0.71534234  0.715904    0.7164635   0.71702246  0.71757854\n",
      "  0.71813329  0.7186863   0.71923665  0.71978452  0.72032987  0.72087404\n",
      "  0.72141369  0.72195224  0.72248864  0.72302419  0.72355589  0.72408658\n",
      "  0.72461561  0.72514242  0.72566616  0.72618793  0.72670917  0.72722898\n",
      "  0.72774452  0.72825765  0.72876965  0.72927932  0.72978702  0.73029322\n",
      "  0.73079848  0.73130126  0.73180241  0.73230143  0.73279858  0.73329443\n",
      "  0.73378994  0.73428231  0.73477352  0.7352634   0.73574939  0.73623449\n",
      "  0.73671803  0.73719966  0.73767766  0.73815274  0.73862626  0.73909941\n",
      "  0.73956979  0.74003937  0.74050836  0.7409731   0.74143596  0.74189696\n",
      "  0.7423561   0.74281431  0.74327114  0.74372685  0.74418166  0.74463566\n",
      "  0.74508784  0.74553733  0.74598558  0.74643218  0.74687721  0.74732213\n",
      "  0.74776652  0.74820895  0.74864925  0.74908797  0.74952609  0.749961\n",
      "  0.7503926   0.75082397  0.75125393  0.75168373  0.75211128  0.75253726\n",
      "  0.75296148  0.753385    0.75380729  0.7542278   0.75464774  0.75506486\n",
      "  0.75548162  0.75589619  0.75630942  0.75672171  0.75713278  0.75754195\n",
      "  0.7579505   0.75835632  0.75876148  0.75916454  0.7595665   0.75996767\n",
      "  0.76036776  0.76076696  0.76116338  0.76155922  0.76195366  0.76234694\n",
      "  0.76273867  0.76312892  0.76351759  0.76390545  0.76429314  0.7646792\n",
      "  0.76506424  0.76544765  0.76583013  0.76621218  0.76659279  0.76697307\n",
      "  0.76735164  0.76772994  0.7681058   0.76848014  0.76885197  0.76922338\n",
      "  0.76959431  0.76996457  0.77033396  0.77070202  0.77106984  0.77143687\n",
      "  0.77180312  0.7721678   0.77253095  0.77289227  0.77325336  0.77361426\n",
      "  0.77397341  0.77433169  0.7746878   0.77504308  0.77539745  0.77575035\n",
      "  0.77610242  0.7764535   0.7768038   0.77715368  0.77750267  0.77785017\n",
      "  0.77819734  0.77854338  0.77888795  0.77923235  0.77957535  0.77991677\n",
      "  0.78025677  0.78059659  0.78093492  0.7812719   0.78160868  0.781945\n",
      "  0.78227978  0.78261285  0.7829453   0.7832772   0.78360817  0.78393822\n",
      "  0.78426733  0.78459611  0.78492469  0.78525199  0.78557793  0.78590288\n",
      "  0.78622613  0.7865488   0.78687018  0.78719128  0.78751151  0.78783094\n",
      "  0.78814971  0.78846778  0.78878447  0.78910017  0.78941518  0.78972935\n",
      "  0.79004322  0.79035536  0.79066723  0.79097811  0.79128803  0.79159657\n",
      "  0.79190416  0.79221138  0.79251733  0.79282231  0.79312671  0.7934297\n",
      "  0.79373251  0.79403366  0.79433418  0.79463414  0.79493348  0.79523152\n",
      "  0.79552872  0.79582556  0.79612193  0.79641803  0.79671313  0.7970072\n",
      "  0.79730057  0.79759301  0.79788433  0.79817512  0.79846493  0.79875381\n",
      "  0.79904247  0.79933046  0.79961703  0.79990298  0.80018847  0.80047351\n",
      "  0.80075816  0.80104254  0.80132649  0.80160916  0.80189101  0.80217212\n",
      "  0.80245267  0.80273295  0.80301233  0.80329087  0.80356827  0.80384425\n",
      "  0.80411983  0.80439419  0.8046677   0.8049406   0.80521269  0.80548415\n",
      "  0.80575452  0.80602454  0.80629395  0.80656296  0.80683143  0.80709896\n",
      "  0.8073659   0.80763226  0.80789833  0.80816411  0.80842883  0.80869236\n",
      "  0.80895535  0.80921775  0.80947952  0.80974008  0.81000052  0.81026024\n",
      "  0.8105197   0.81077745  0.81103472  0.81129181  0.81154808  0.81180375\n",
      "  0.81205892  0.81231293  0.8125666   0.81281964  0.81307194  0.81332405\n",
      "  0.8135755   0.81382584  0.81407561  0.81432497  0.81457394  0.81482189\n",
      "  0.8150698   0.81531691  0.81556308  0.81580811  0.81605273  0.81629672\n",
      "  0.81654048  0.81678396  0.81702723  0.81726997  0.81751244  0.81775333\n",
      "  0.81799369  0.81823368  0.818473    0.81871168  0.81895006  0.81918819\n",
      "  0.81942524  0.81966169  0.81989705  0.82013207  0.82036621  0.8206002\n",
      "  0.82083377  0.8210671   0.82129946  0.82153073  0.82176145  0.82199164\n",
      "  0.82222105  0.82244952  0.82267731  0.82290497  0.82313222  0.82335879\n",
      "  0.82358452  0.82380991  0.82403474  0.82425919  0.82448333  0.82470606\n",
      "  0.82492843  0.82515001  0.82537121  0.82559215  0.82581193  0.82603137\n",
      "  0.82625022  0.82646883  0.8266867   0.82690406  0.82712102  0.82733734\n",
      "  0.82755298  0.82776808  0.82798305  0.82819707  0.82841066  0.82862339\n",
      "  0.82883584  0.8290478   0.82925955  0.82946968  0.8296795   0.82988898\n",
      "  0.8300978   0.83030644  0.83051404  0.83072123  0.83092801  0.83113429\n",
      "  0.83133995  0.83154514  0.83174942  0.83195335  0.83215702  0.83236019\n",
      "  0.83256233  0.83276413  0.83296544  0.83316613  0.83336658  0.83356652\n",
      "  0.83376543  0.83396324  0.83416034  0.83435711  0.83455373  0.83474956\n",
      "  0.83494482  0.83513961  0.83533339  0.83552662  0.83571888  0.8359107\n",
      "  0.8361019   0.83629284  0.83648337  0.83667347  0.83686244  0.83705084\n",
      "  0.83723908  0.83742626  0.83761312  0.83779888  0.83798424  0.83816821\n",
      "  0.83835189  0.83853495  0.83871726  0.83889886  0.83908018  0.83926082\n",
      "  0.83944083  0.83961959  0.83979746]\n"
     ]
    }
   ],
   "source": [
    "exp_var=tsvd.explained_variance_ratio_\n",
    "print np.cumsum(exp_var)"
   ]
  },
  {
   "cell_type": "code",
   "execution_count": 40,
   "metadata": {},
   "outputs": [
    {
     "data": {
      "text/plain": [
       "(40876, 657)"
      ]
     },
     "execution_count": 40,
     "metadata": {},
     "output_type": "execute_result"
    }
   ],
   "source": [
    "tsvd_cols.shape"
   ]
  },
  {
   "cell_type": "code",
   "execution_count": 41,
   "metadata": {},
   "outputs": [
    {
     "data": {
      "text/plain": [
       "Index([u'Unnamed: 0', u'adverse_reactions', u'clinical_pharmacology',\n",
       "       u'contraindications', u'description', u'dosage_and_administration',\n",
       "       u'how_supplied', u'indications_and_usage', u'overdosage',\n",
       "       u'spl_product_data_elements', u'abuse', u'accessories', u'alarms',\n",
       "       u'animal_pharmacology_and_or_toxicology', u'ask_doctor',\n",
       "       u'ask_doctor_or_pharmacist', u'assembly_or_installation_instructions',\n",
       "       u'boxed_warning', u'calibration_instructions',\n",
       "       u'carcinogenesis_and_mutagenesis_and_impairment_of_fertility',\n",
       "       u'cleaning', u'clinical_studies', u'components',\n",
       "       u'controlled_substance', u'dependence', u'diagram_of_device',\n",
       "       u'disposal_and_waste_handling', u'do_not_use',\n",
       "       u'dosage_forms_and_strengths', u'drug_abuse_and_dependence',\n",
       "       u'drug_and_or_laboratory_test_interactions', u'drug_interactions',\n",
       "       u'environmental_warning', u'food_safety_warning',\n",
       "       u'general_precautions', u'geriatric_use',\n",
       "       u'guaranteed_analysis_of_feed', u'health_care_provider_letter',\n",
       "       u'health_claim', u'information_for_owners_or_caregivers',\n",
       "       u'information_for_patients', u'instructions_for_use',\n",
       "       u'intended_use_of_the_device', u'labor_and_delivery',\n",
       "       u'laboratory_tests', u'mechanism_of_action', u'microbiology',\n",
       "       u'nonclinical_toxicology', u'nonteratogenic_effects',\n",
       "       u'nursing_mothers', u'other_safety_information',\n",
       "       u'patient_medication_information', u'pediatric_use',\n",
       "       u'pharmacodynamics', u'pharmacogenomics', u'pharmacokinetics',\n",
       "       u'precautions', u'pregnancy', u'pregnancy_or_breast_feeding',\n",
       "       u'questions', u'recent_major_changes', u'residue_warning', u'risks',\n",
       "       u'route', u'safe_handling_warning', u'spl_indexing_data_elements',\n",
       "       u'spl_medguide', u'spl_patient_package_insert',\n",
       "       u'statement_of_identity', u'summary_of_safety_and_effectiveness',\n",
       "       u'teratogenic_effects', u'troubleshooting',\n",
       "       u'use_in_specific_populations', u'user_safety_warnings', u'version',\n",
       "       u'veterinary_indications', u'warnings_and_cautions', u'when_using',\n",
       "       u'date', u'month', u'year', u'unq_ndc', u'target'],\n",
       "      dtype='object')"
      ]
     },
     "execution_count": 41,
     "metadata": {},
     "output_type": "execute_result"
    }
   ],
   "source": [
    "df.columns"
   ]
  },
  {
   "cell_type": "code",
   "execution_count": 42,
   "metadata": {
    "collapsed": true
   },
   "outputs": [],
   "source": [
    "X=df[[u'abuse', u'accessories', u'alarms',\n",
    "       u'animal_pharmacology_and_or_toxicology', u'ask_doctor',\n",
    "       u'ask_doctor_or_pharmacist', u'assembly_or_installation_instructions',\n",
    "       u'boxed_warning', u'calibration_instructions',\n",
    "       u'carcinogenesis_and_mutagenesis_and_impairment_of_fertility',\n",
    "       u'cleaning', u'clinical_studies', u'components',\n",
    "       u'controlled_substance', u'dependence', u'diagram_of_device',\n",
    "       u'disposal_and_waste_handling', u'do_not_use',\n",
    "       u'dosage_forms_and_strengths', u'drug_abuse_and_dependence',\n",
    "       u'drug_and_or_laboratory_test_interactions', u'drug_interactions',\n",
    "       u'environmental_warning', u'food_safety_warning',\n",
    "       u'general_precautions', u'geriatric_use',\n",
    "       u'guaranteed_analysis_of_feed', u'health_care_provider_letter',\n",
    "       u'health_claim', u'information_for_owners_or_caregivers',\n",
    "       u'information_for_patients', u'instructions_for_use',\n",
    "       u'intended_use_of_the_device', u'labor_and_delivery',\n",
    "       u'laboratory_tests', u'mechanism_of_action', u'microbiology',\n",
    "       u'nonclinical_toxicology', u'nonteratogenic_effects',\n",
    "       u'nursing_mothers', u'other_safety_information',\n",
    "       u'patient_medication_information', u'pediatric_use',\n",
    "       u'pharmacodynamics', u'pharmacogenomics', u'pharmacokinetics',\n",
    "       u'precautions', u'pregnancy', u'pregnancy_or_breast_feeding',\n",
    "       u'questions', u'recent_major_changes', u'residue_warning', u'risks',\n",
    "       u'route', u'safe_handling_warning', u'spl_indexing_data_elements',\n",
    "       u'spl_medguide', u'spl_patient_package_insert',\n",
    "       u'statement_of_identity', u'summary_of_safety_and_effectiveness',\n",
    "       u'teratogenic_effects', u'troubleshooting',\n",
    "       u'use_in_specific_populations', u'user_safety_warnings', u'version',\n",
    "       u'veterinary_indications', u'warnings_and_cautions', u'when_using',\n",
    "       u'date', u'month', u'year']]"
   ]
  },
  {
   "cell_type": "code",
   "execution_count": 43,
   "metadata": {
    "collapsed": true
   },
   "outputs": [],
   "source": [
    "X_predict=df_to_predict[[u'abuse', u'accessories', u'alarms',\n",
    "       u'animal_pharmacology_and_or_toxicology', u'ask_doctor',\n",
    "       u'ask_doctor_or_pharmacist', u'assembly_or_installation_instructions',\n",
    "       u'boxed_warning', u'calibration_instructions',\n",
    "       u'carcinogenesis_and_mutagenesis_and_impairment_of_fertility',\n",
    "       u'cleaning', u'clinical_studies', u'components',\n",
    "       u'controlled_substance', u'dependence', u'diagram_of_device',\n",
    "       u'disposal_and_waste_handling', u'do_not_use',\n",
    "       u'dosage_forms_and_strengths', u'drug_abuse_and_dependence',\n",
    "       u'drug_and_or_laboratory_test_interactions', u'drug_interactions',\n",
    "       u'environmental_warning', u'food_safety_warning',\n",
    "       u'general_precautions', u'geriatric_use',\n",
    "       u'guaranteed_analysis_of_feed', u'health_care_provider_letter',\n",
    "       u'health_claim', u'information_for_owners_or_caregivers',\n",
    "       u'information_for_patients', u'instructions_for_use',\n",
    "       u'intended_use_of_the_device', u'labor_and_delivery',\n",
    "       u'laboratory_tests', u'mechanism_of_action', u'microbiology',\n",
    "       u'nonclinical_toxicology', u'nonteratogenic_effects',\n",
    "       u'nursing_mothers', u'other_safety_information',\n",
    "       u'patient_medication_information', u'pediatric_use',\n",
    "       u'pharmacodynamics', u'pharmacogenomics', u'pharmacokinetics',\n",
    "       u'precautions', u'pregnancy', u'pregnancy_or_breast_feeding',\n",
    "       u'questions', u'recent_major_changes', u'residue_warning', u'risks',\n",
    "       u'route', u'safe_handling_warning', u'spl_indexing_data_elements',\n",
    "       u'spl_medguide', u'spl_patient_package_insert',\n",
    "       u'statement_of_identity', u'summary_of_safety_and_effectiveness',\n",
    "       u'teratogenic_effects', u'troubleshooting',\n",
    "       u'use_in_specific_populations', u'user_safety_warnings', u'version',\n",
    "       u'veterinary_indications', u'warnings_and_cautions', u'when_using',\n",
    "       u'date', u'month', u'year']]"
   ]
  },
  {
   "cell_type": "code",
   "execution_count": 44,
   "metadata": {
    "collapsed": true
   },
   "outputs": [],
   "source": [
    "X_bool_only=df[[u'abuse', u'accessories', u'alarms',\n",
    "       u'animal_pharmacology_and_or_toxicology', u'ask_doctor',\n",
    "       u'ask_doctor_or_pharmacist', u'assembly_or_installation_instructions',\n",
    "       u'boxed_warning', u'calibration_instructions',\n",
    "       u'carcinogenesis_and_mutagenesis_and_impairment_of_fertility',\n",
    "       u'cleaning', u'clinical_studies', u'components',\n",
    "       u'controlled_substance', u'dependence', u'diagram_of_device',\n",
    "       u'disposal_and_waste_handling', u'do_not_use',\n",
    "       u'dosage_forms_and_strengths', u'drug_abuse_and_dependence',\n",
    "       u'drug_and_or_laboratory_test_interactions', u'drug_interactions',\n",
    "       u'environmental_warning', u'food_safety_warning',\n",
    "       u'general_precautions', u'geriatric_use',\n",
    "       u'guaranteed_analysis_of_feed', u'health_care_provider_letter',\n",
    "       u'health_claim', u'information_for_owners_or_caregivers',\n",
    "       u'information_for_patients', u'instructions_for_use',\n",
    "       u'intended_use_of_the_device', u'labor_and_delivery',\n",
    "       u'laboratory_tests', u'mechanism_of_action', u'microbiology',\n",
    "       u'nonclinical_toxicology', u'nonteratogenic_effects',\n",
    "       u'nursing_mothers', u'other_safety_information',\n",
    "       u'patient_medication_information', u'pediatric_use',\n",
    "       u'pharmacodynamics', u'pharmacogenomics', u'pharmacokinetics',\n",
    "       u'precautions', u'pregnancy', u'pregnancy_or_breast_feeding',\n",
    "       u'questions', u'recent_major_changes', u'residue_warning', u'risks',\n",
    "       u'route', u'safe_handling_warning', u'spl_indexing_data_elements',\n",
    "       u'spl_medguide', u'spl_patient_package_insert',\n",
    "       u'statement_of_identity', u'summary_of_safety_and_effectiveness',\n",
    "       u'teratogenic_effects', u'troubleshooting',\n",
    "       u'use_in_specific_populations', u'user_safety_warnings', u'version',\n",
    "       u'veterinary_indications', u'warnings_and_cautions', u'when_using']]"
   ]
  },
  {
   "cell_type": "code",
   "execution_count": 45,
   "metadata": {
    "collapsed": true
   },
   "outputs": [],
   "source": [
    "X_bool_only_predict=df_to_predict[[u'abuse', u'accessories', u'alarms',\n",
    "       u'animal_pharmacology_and_or_toxicology', u'ask_doctor',\n",
    "       u'ask_doctor_or_pharmacist', u'assembly_or_installation_instructions',\n",
    "       u'boxed_warning', u'calibration_instructions',\n",
    "       u'carcinogenesis_and_mutagenesis_and_impairment_of_fertility',\n",
    "       u'cleaning', u'clinical_studies', u'components',\n",
    "       u'controlled_substance', u'dependence', u'diagram_of_device',\n",
    "       u'disposal_and_waste_handling', u'do_not_use',\n",
    "       u'dosage_forms_and_strengths', u'drug_abuse_and_dependence',\n",
    "       u'drug_and_or_laboratory_test_interactions', u'drug_interactions',\n",
    "       u'environmental_warning', u'food_safety_warning',\n",
    "       u'general_precautions', u'geriatric_use',\n",
    "       u'guaranteed_analysis_of_feed', u'health_care_provider_letter',\n",
    "       u'health_claim', u'information_for_owners_or_caregivers',\n",
    "       u'information_for_patients', u'instructions_for_use',\n",
    "       u'intended_use_of_the_device', u'labor_and_delivery',\n",
    "       u'laboratory_tests', u'mechanism_of_action', u'microbiology',\n",
    "       u'nonclinical_toxicology', u'nonteratogenic_effects',\n",
    "       u'nursing_mothers', u'other_safety_information',\n",
    "       u'patient_medication_information', u'pediatric_use',\n",
    "       u'pharmacodynamics', u'pharmacogenomics', u'pharmacokinetics',\n",
    "       u'precautions', u'pregnancy', u'pregnancy_or_breast_feeding',\n",
    "       u'questions', u'recent_major_changes', u'residue_warning', u'risks',\n",
    "       u'route', u'safe_handling_warning', u'spl_indexing_data_elements',\n",
    "       u'spl_medguide', u'spl_patient_package_insert',\n",
    "       u'statement_of_identity', u'summary_of_safety_and_effectiveness',\n",
    "       u'teratogenic_effects', u'troubleshooting',\n",
    "       u'use_in_specific_populations', u'user_safety_warnings', u'version',\n",
    "       u'veterinary_indications', u'warnings_and_cautions', u'when_using']]"
   ]
  },
  {
   "cell_type": "code",
   "execution_count": 46,
   "metadata": {
    "collapsed": true
   },
   "outputs": [],
   "source": [
    "X_tsvd_1=tsvd_col_1\n",
    "X_tsvd_2=tsvd_col_2\n",
    "X_tsvd_3=tsvd_col_3\n",
    "X_tsvd_4=tsvd_col_4\n",
    "X_tsvd_5=tsvd_col_5\n",
    "X_tsvd_6=tsvd_col_6\n",
    "X_tsvd_7=tsvd_col_7\n",
    "X_tsvd_8=tsvd_col_8\n",
    "X_tsvd_9=tsvd_col_9"
   ]
  },
  {
   "cell_type": "code",
   "execution_count": 47,
   "metadata": {
    "collapsed": true
   },
   "outputs": [],
   "source": [
    "X_tsvd_1_plus_bool=pd.DataFrame(X_tsvd_1)\n",
    "X_tsvd_1_plus_bool=X_tsvd_1_plus_bool.join(X_bool_only)"
   ]
  },
  {
   "cell_type": "code",
   "execution_count": 48,
   "metadata": {
    "collapsed": true
   },
   "outputs": [],
   "source": [
    "X_tsvd_9_plus_bool=pd.DataFrame(X_tsvd_9)\n",
    "X_tsvd_9_plus_bool=X_tsvd_9_plus_bool.join(X_bool_only)"
   ]
  },
  {
   "cell_type": "code",
   "execution_count": 49,
   "metadata": {
    "collapsed": true
   },
   "outputs": [],
   "source": [
    "X_tsvd_1_predict=tsvd_col_1_predict\n",
    "X_tsvd_2_predict=tsvd_col_2_predict\n",
    "X_tsvd_3_predict=tsvd_col_3_predict\n",
    "X_tsvd_4_predict=tsvd_col_4_predict\n",
    "X_tsvd_5_predict=tsvd_col_5_predict\n",
    "X_tsvd_6_predict=tsvd_col_6_predict\n",
    "X_tsvd_7_predict=tsvd_col_7_predict\n",
    "X_tsvd_8_predict=tsvd_col_8_predict\n",
    "X_tsvd_9_predict=tsvd_col_9_predict"
   ]
  },
  {
   "cell_type": "code",
   "execution_count": 50,
   "metadata": {
    "collapsed": true
   },
   "outputs": [],
   "source": [
    "X_tsvd_1_plus_bool_predict=pd.DataFrame(X_tsvd_1_predict)\n",
    "X_tsvd_1_plus_bool_predict=X_tsvd_1_plus_bool_predict.join(X_bool_only_predict)"
   ]
  },
  {
   "cell_type": "code",
   "execution_count": 51,
   "metadata": {
    "collapsed": true
   },
   "outputs": [],
   "source": [
    "X_tsvd_9_plus_bool_predict=pd.DataFrame(X_tsvd_9_predict)\n",
    "X_tsvd_9_plus_bool_predict=X_tsvd_9_plus_bool_predict.join(X_bool_only_predict)"
   ]
  },
  {
   "cell_type": "code",
   "execution_count": 52,
   "metadata": {
    "collapsed": true
   },
   "outputs": [],
   "source": [
    "X_tsvd_1_and_9=pd.DataFrame(tsvd_col_1)\n",
    "X_tsvd_1_and_9=X_tsvd_1_and_9.join(pd.DataFrame(tsvd_col_9),rsuffix='_9')"
   ]
  },
  {
   "cell_type": "code",
   "execution_count": 53,
   "metadata": {
    "collapsed": true
   },
   "outputs": [],
   "source": [
    "X_tsvd_1_and_9_predict=pd.DataFrame(tsvd_col_1_predict)\n",
    "X_tsvd_1_and_9_predict=X_tsvd_1_and_9_predict.join(pd.DataFrame(tsvd_col_9_predict),rsuffix='_9')"
   ]
  },
  {
   "cell_type": "code",
   "execution_count": null,
   "metadata": {
    "collapsed": true
   },
   "outputs": [],
   "source": []
  },
  {
   "cell_type": "code",
   "execution_count": 54,
   "metadata": {
    "collapsed": true
   },
   "outputs": [],
   "source": [
    "X=X.join(pd.DataFrame(tsvd_cols))"
   ]
  },
  {
   "cell_type": "code",
   "execution_count": 55,
   "metadata": {
    "collapsed": true
   },
   "outputs": [],
   "source": [
    "X_nlp=tsvd_cols"
   ]
  },
  {
   "cell_type": "code",
   "execution_count": 56,
   "metadata": {
    "collapsed": true
   },
   "outputs": [],
   "source": [
    "X_predict=X_predict.join(pd.DataFrame(tsvd_cols_predict))"
   ]
  },
  {
   "cell_type": "code",
   "execution_count": 57,
   "metadata": {
    "collapsed": true
   },
   "outputs": [],
   "source": [
    "X_nlp_predict=tsvd_cols_predict"
   ]
  },
  {
   "cell_type": "code",
   "execution_count": 58,
   "metadata": {},
   "outputs": [
    {
     "data": {
      "text/plain": [
       "(40876, 728)"
      ]
     },
     "execution_count": 58,
     "metadata": {},
     "output_type": "execute_result"
    }
   ],
   "source": [
    "X.shape"
   ]
  },
  {
   "cell_type": "code",
   "execution_count": 59,
   "metadata": {
    "collapsed": true
   },
   "outputs": [],
   "source": [
    "y=df['target']"
   ]
  },
  {
   "cell_type": "code",
   "execution_count": 60,
   "metadata": {
    "collapsed": true
   },
   "outputs": [],
   "source": [
    "y_predict=df_to_predict['target']"
   ]
  },
  {
   "cell_type": "code",
   "execution_count": 61,
   "metadata": {
    "collapsed": true
   },
   "outputs": [],
   "source": [
    "# lr=LogisticRegression()"
   ]
  },
  {
   "cell_type": "code",
   "execution_count": 62,
   "metadata": {
    "collapsed": true
   },
   "outputs": [],
   "source": [
    "# lr.fit(X,y)"
   ]
  },
  {
   "cell_type": "code",
   "execution_count": 63,
   "metadata": {
    "collapsed": true
   },
   "outputs": [],
   "source": [
    "# lr.score(X,y)"
   ]
  },
  {
   "cell_type": "code",
   "execution_count": 64,
   "metadata": {
    "collapsed": true
   },
   "outputs": [],
   "source": [
    "# lr_bool=LogisticRegression()\n",
    "# lr_bool.fit(X_bool_only,y)\n",
    "# lr_bool.score(X_bool_only,y)"
   ]
  },
  {
   "cell_type": "code",
   "execution_count": 65,
   "metadata": {
    "collapsed": true
   },
   "outputs": [],
   "source": [
    "# lr.score(X_predict,y_predict)"
   ]
  },
  {
   "cell_type": "code",
   "execution_count": 66,
   "metadata": {
    "collapsed": true
   },
   "outputs": [],
   "source": [
    "# lr_bool.score(X_bool_only_predict,y_predict)"
   ]
  },
  {
   "cell_type": "code",
   "execution_count": 67,
   "metadata": {
    "collapsed": true
   },
   "outputs": [],
   "source": [
    "# prediction=lr.predict(X)"
   ]
  },
  {
   "cell_type": "code",
   "execution_count": 68,
   "metadata": {
    "collapsed": true
   },
   "outputs": [],
   "source": [
    "# prediction_predict=lr.predict(X_predict)"
   ]
  },
  {
   "cell_type": "code",
   "execution_count": 69,
   "metadata": {
    "collapsed": true
   },
   "outputs": [],
   "source": [
    "# prediction_bool=lr_bool.predict(X_bool_only)\n",
    "# prediction_bool_predict=lr_bool.predict(X_bool_only_predict)\n",
    "# print recall_score(y,prediction_bool)\n",
    "# print recall_score(y_predict, prediction_bool_predict)\n",
    "# print precision_score(y,prediction_bool)\n",
    "# print precision_score(y_predict,prediction_bool_predict)"
   ]
  },
  {
   "cell_type": "code",
   "execution_count": 70,
   "metadata": {
    "collapsed": true
   },
   "outputs": [],
   "source": [
    "# print recall_score(y,prediction)"
   ]
  },
  {
   "cell_type": "code",
   "execution_count": 71,
   "metadata": {
    "collapsed": true
   },
   "outputs": [],
   "source": [
    "# print recall_score(y_predict,prediction_predict)"
   ]
  },
  {
   "cell_type": "code",
   "execution_count": 72,
   "metadata": {
    "collapsed": true
   },
   "outputs": [],
   "source": [
    "# print precision_score(y,prediction)"
   ]
  },
  {
   "cell_type": "code",
   "execution_count": 73,
   "metadata": {
    "collapsed": true
   },
   "outputs": [],
   "source": [
    "#print recall_score(y_predict,prediction_predict)"
   ]
  },
  {
   "cell_type": "code",
   "execution_count": 74,
   "metadata": {
    "collapsed": true
   },
   "outputs": [],
   "source": [
    "#y_predict.sum()"
   ]
  },
  {
   "cell_type": "code",
   "execution_count": null,
   "metadata": {
    "collapsed": true
   },
   "outputs": [],
   "source": []
  },
  {
   "cell_type": "code",
   "execution_count": null,
   "metadata": {
    "collapsed": true
   },
   "outputs": [],
   "source": []
  },
  {
   "cell_type": "code",
   "execution_count": 75,
   "metadata": {
    "collapsed": true
   },
   "outputs": [],
   "source": [
    "#prediction.shape"
   ]
  },
  {
   "cell_type": "code",
   "execution_count": 76,
   "metadata": {
    "collapsed": true
   },
   "outputs": [],
   "source": [
    "#prediction.sum()"
   ]
  },
  {
   "cell_type": "code",
   "execution_count": 77,
   "metadata": {},
   "outputs": [
    {
     "data": {
      "text/plain": [
       "0.0004871711594673595"
      ]
     },
     "execution_count": 77,
     "metadata": {},
     "output_type": "execute_result"
    }
   ],
   "source": [
    "21/43106.0"
   ]
  },
  {
   "cell_type": "code",
   "execution_count": 78,
   "metadata": {
    "collapsed": true
   },
   "outputs": [],
   "source": [
    "#random_guess=[]"
   ]
  },
  {
   "cell_type": "code",
   "execution_count": 79,
   "metadata": {
    "collapsed": true
   },
   "outputs": [],
   "source": [
    "# for num in range (len(prediction)):\n",
    "#     random_guess.append(0)"
   ]
  },
  {
   "cell_type": "code",
   "execution_count": 80,
   "metadata": {
    "collapsed": true
   },
   "outputs": [],
   "source": [
    "# for num in range(prediction.sum()):\n",
    "#     random_guess[num*100]=1"
   ]
  },
  {
   "cell_type": "code",
   "execution_count": 81,
   "metadata": {
    "collapsed": true
   },
   "outputs": [],
   "source": [
    "# random_recall=recall_score(y,random_guess)"
   ]
  },
  {
   "cell_type": "code",
   "execution_count": 82,
   "metadata": {
    "collapsed": true
   },
   "outputs": [],
   "source": [
    "# random_recall"
   ]
  },
  {
   "cell_type": "code",
   "execution_count": 83,
   "metadata": {
    "collapsed": true
   },
   "outputs": [],
   "source": [
    "df_final=X.join(y)\n",
    "df_final=df_final.join(df['unq_ndc'])"
   ]
  },
  {
   "cell_type": "code",
   "execution_count": 84,
   "metadata": {
    "collapsed": true
   },
   "outputs": [],
   "source": [
    "df_final_predict=X_predict.join(y_predict)\n",
    "df_final_predict=df_final_predict.join(df_to_predict['unq_ndc'])"
   ]
  },
  {
   "cell_type": "code",
   "execution_count": 85,
   "metadata": {
    "collapsed": true
   },
   "outputs": [],
   "source": [
    "df_final.to_csv('pca_v_2.csv')"
   ]
  },
  {
   "cell_type": "code",
   "execution_count": 86,
   "metadata": {
    "collapsed": true
   },
   "outputs": [],
   "source": [
    "df_final_predict.to_csv('pca_v_2_predicting_set.csv')"
   ]
  },
  {
   "cell_type": "code",
   "execution_count": 119,
   "metadata": {
    "collapsed": true
   },
   "outputs": [],
   "source": [
    "pd.DataFrame(X_tsvd_1).to_csv('col_1_train.csv')"
   ]
  },
  {
   "cell_type": "code",
   "execution_count": 120,
   "metadata": {
    "collapsed": true
   },
   "outputs": [],
   "source": [
    "pd.DataFrame(X_tsvd_1_predict).to_csv('col_1_test.csv')"
   ]
  },
  {
   "cell_type": "code",
   "execution_count": 121,
   "metadata": {
    "collapsed": true
   },
   "outputs": [],
   "source": [
    "pd.DataFrame(X_tsvd_1_plus_bool).to_csv('col_1_bool_train.csv')"
   ]
  },
  {
   "cell_type": "code",
   "execution_count": 122,
   "metadata": {
    "collapsed": true
   },
   "outputs": [],
   "source": [
    "pd.DataFrame(X_tsvd_1_plus_bool_predict).to_csv('col_1_bool_test.csv')"
   ]
  },
  {
   "cell_type": "code",
   "execution_count": 118,
   "metadata": {},
   "outputs": [
    {
     "data": {
      "text/plain": [
       "40876"
      ]
     },
     "execution_count": 118,
     "metadata": {},
     "output_type": "execute_result"
    }
   ],
   "source": [
    "len(X_tsvd_9_plus_bool)"
   ]
  },
  {
   "cell_type": "code",
   "execution_count": 91,
   "metadata": {
    "collapsed": true
   },
   "outputs": [],
   "source": [
    "pd.DataFrame(X_tsvd_9).to_csv('col_9_train.csv')\n",
    "pd.DataFrame(X_tsvd_9_predict).to_csv('col_9_test.csv')\n",
    "pd.DataFrame(X_tsvd_9_plus_bool).to_csv('col_9_bool_train.csv')\n",
    "pd.DataFrame(X_tsvd_9_plus_bool_predict).to_csv('col_9_bool_test.csv')"
   ]
  },
  {
   "cell_type": "code",
   "execution_count": 92,
   "metadata": {
    "collapsed": true
   },
   "outputs": [],
   "source": [
    "rfc=RandomForestClassifier(n_estimators=300,n_jobs=-1,class_weight='balanced')"
   ]
  },
  {
   "cell_type": "code",
   "execution_count": 93,
   "metadata": {},
   "outputs": [
    {
     "name": "stdout",
     "output_type": "stream",
     "text": [
      "0.636363636364\n",
      "0.02\n",
      "0.332015810277\n",
      "0.0625\n"
     ]
    }
   ],
   "source": [
    "rfc.fit(X_tsvd_1,y)\n",
    "prediction= rfc.predict(X_tsvd_1)\n",
    "prediction_predict=rfc.predict(X_tsvd_1_predict)\n",
    "print recall_score(y,prediction)\n",
    "print recall_score(y_predict,prediction_predict)\n",
    "print precision_score(y,prediction)\n",
    "print precision_score(y_predict,prediction_predict)"
   ]
  },
  {
   "cell_type": "code",
   "execution_count": 94,
   "metadata": {},
   "outputs": [
    {
     "name": "stdout",
     "output_type": "stream",
     "text": [
      "132\n",
      "253\n",
      "150\n",
      "48\n"
     ]
    }
   ],
   "source": [
    "print y.sum()\n",
    "print prediction.sum()\n",
    "print y_predict.sum()\n",
    "print prediction_predict.sum()"
   ]
  },
  {
   "cell_type": "code",
   "execution_count": 95,
   "metadata": {
    "collapsed": true
   },
   "outputs": [],
   "source": [
    "cm=pd.DataFrame(confusion_matrix(y_predict,prediction_predict), columns=['Pred. 0','Pred. 1'],index=['Actual 0','Actual 1'])"
   ]
  },
  {
   "cell_type": "code",
   "execution_count": null,
   "metadata": {
    "collapsed": true
   },
   "outputs": [],
   "source": []
  },
  {
   "cell_type": "code",
   "execution_count": 96,
   "metadata": {},
   "outputs": [
    {
     "name": "stdout",
     "output_type": "stream",
     "text": [
      "          Pred. 0  Pred. 1\n",
      "Actual 0    43757       45\n",
      "Actual 1      147        3\n"
     ]
    }
   ],
   "source": [
    "print cm"
   ]
  },
  {
   "cell_type": "code",
   "execution_count": 97,
   "metadata": {},
   "outputs": [
    {
     "name": "stdout",
     "output_type": "stream",
     "text": [
      "             precision    recall  f1-score   support\n",
      "\n",
      "          0       1.00      1.00      1.00     43802\n",
      "          1       0.06      0.02      0.03       150\n",
      "\n",
      "avg / total       0.99      1.00      0.99     43952\n",
      "\n"
     ]
    }
   ],
   "source": [
    "print classification_report(y_predict,prediction_predict)"
   ]
  },
  {
   "cell_type": "code",
   "execution_count": null,
   "metadata": {
    "collapsed": true
   },
   "outputs": [],
   "source": []
  },
  {
   "cell_type": "code",
   "execution_count": 98,
   "metadata": {},
   "outputs": [
    {
     "data": {
      "text/html": [
       "<div>\n",
       "<table border=\"1\" class=\"dataframe\">\n",
       "  <thead>\n",
       "    <tr style=\"text-align: right;\">\n",
       "      <th></th>\n",
       "      <th>Unnamed: 0</th>\n",
       "      <th>adverse_reactions</th>\n",
       "      <th>clinical_pharmacology</th>\n",
       "      <th>contraindications</th>\n",
       "      <th>description</th>\n",
       "      <th>dosage_and_administration</th>\n",
       "      <th>how_supplied</th>\n",
       "      <th>indications_and_usage</th>\n",
       "      <th>overdosage</th>\n",
       "      <th>spl_product_data_elements</th>\n",
       "      <th>...</th>\n",
       "      <th>version</th>\n",
       "      <th>veterinary_indications</th>\n",
       "      <th>warnings_and_cautions</th>\n",
       "      <th>when_using</th>\n",
       "      <th>date</th>\n",
       "      <th>month</th>\n",
       "      <th>year</th>\n",
       "      <th>unq_ndc</th>\n",
       "      <th>target</th>\n",
       "      <th>prediction</th>\n",
       "    </tr>\n",
       "  </thead>\n",
       "  <tbody>\n",
       "    <tr>\n",
       "      <th>29779</th>\n",
       "      <td>69205</td>\n",
       "      <td>u advers reaction advers effect parenter admin...</td>\n",
       "      <td>u clinic pharmacolog magnesium import cofactor...</td>\n",
       "      <td>u contraind parenter administr drug contraind ...</td>\n",
       "      <td>u descript magnesium sulfat inject usp 50 ster...</td>\n",
       "      <td>u dosag administr dosag magnesium sulfat must ...</td>\n",
       "      <td>u suppli magnesium sulfat inject usp suppli si...</td>\n",
       "      <td>u indic usag magnesium sulfat inject usp suita...</td>\n",
       "      <td>u overdosag magnesium intox manifest sharp dro...</td>\n",
       "      <td>u magnesium sulfat magnesium sulfat heptahydr ...</td>\n",
       "      <td>...</td>\n",
       "      <td>4</td>\n",
       "      <td>0</td>\n",
       "      <td>0</td>\n",
       "      <td>0</td>\n",
       "      <td>10</td>\n",
       "      <td>11</td>\n",
       "      <td>2016</td>\n",
       "      <td>0409-2168</td>\n",
       "      <td>1</td>\n",
       "      <td>1</td>\n",
       "    </tr>\n",
       "    <tr>\n",
       "      <th>37593</th>\n",
       "      <td>78662</td>\n",
       "      <td>u advers reaction import advers clinic event c...</td>\n",
       "      <td>u clinic pharmacolog introduct follow parenter...</td>\n",
       "      <td>u contraind fosphenytoin sodium inject contrai...</td>\n",
       "      <td>u descript fosphenytoin sodium inject usp prod...</td>\n",
       "      <td>u dosag administr dose concentr infus rate fos...</td>\n",
       "      <td>u suppli fosphenytoin sodium inject usp suppli...</td>\n",
       "      <td>u indic usag fosphenytoin sodium inject indic ...</td>\n",
       "      <td>u overdosag nausea vomit lethargi tachycardia ...</td>\n",
       "      <td>u fosphenytoin fosphenytoin sodium fosphenytoi...</td>\n",
       "      <td>...</td>\n",
       "      <td>7</td>\n",
       "      <td>0</td>\n",
       "      <td>0</td>\n",
       "      <td>0</td>\n",
       "      <td>8</td>\n",
       "      <td>12</td>\n",
       "      <td>2015</td>\n",
       "      <td>63323-403</td>\n",
       "      <td>1</td>\n",
       "      <td>1</td>\n",
       "    </tr>\n",
       "    <tr>\n",
       "      <th>37594</th>\n",
       "      <td>78663</td>\n",
       "      <td>u advers reaction import advers clinic event c...</td>\n",
       "      <td>u clinic pharmacolog introduct follow parenter...</td>\n",
       "      <td>u contraind fosphenytoin sodium inject contrai...</td>\n",
       "      <td>u descript fosphenytoin sodium inject usp prod...</td>\n",
       "      <td>u dosag administr dose concentr infus rate fos...</td>\n",
       "      <td>u suppli fosphenytoin sodium inject usp suppli...</td>\n",
       "      <td>u indic usag fosphenytoin sodium inject indic ...</td>\n",
       "      <td>u overdosag nausea vomit lethargi tachycardia ...</td>\n",
       "      <td>u fosphenytoin fosphenytoin sodium fosphenytoi...</td>\n",
       "      <td>...</td>\n",
       "      <td>7</td>\n",
       "      <td>0</td>\n",
       "      <td>0</td>\n",
       "      <td>0</td>\n",
       "      <td>8</td>\n",
       "      <td>12</td>\n",
       "      <td>2015</td>\n",
       "      <td>63323-403</td>\n",
       "      <td>1</td>\n",
       "      <td>1</td>\n",
       "    </tr>\n",
       "  </tbody>\n",
       "</table>\n",
       "<p>3 rows × 84 columns</p>\n",
       "</div>"
      ],
      "text/plain": [
       "       Unnamed: 0                                  adverse_reactions  \\\n",
       "29779       69205  u advers reaction advers effect parenter admin...   \n",
       "37593       78662  u advers reaction import advers clinic event c...   \n",
       "37594       78663  u advers reaction import advers clinic event c...   \n",
       "\n",
       "                                   clinical_pharmacology  \\\n",
       "29779  u clinic pharmacolog magnesium import cofactor...   \n",
       "37593  u clinic pharmacolog introduct follow parenter...   \n",
       "37594  u clinic pharmacolog introduct follow parenter...   \n",
       "\n",
       "                                       contraindications  \\\n",
       "29779  u contraind parenter administr drug contraind ...   \n",
       "37593  u contraind fosphenytoin sodium inject contrai...   \n",
       "37594  u contraind fosphenytoin sodium inject contrai...   \n",
       "\n",
       "                                             description  \\\n",
       "29779  u descript magnesium sulfat inject usp 50 ster...   \n",
       "37593  u descript fosphenytoin sodium inject usp prod...   \n",
       "37594  u descript fosphenytoin sodium inject usp prod...   \n",
       "\n",
       "                               dosage_and_administration  \\\n",
       "29779  u dosag administr dosag magnesium sulfat must ...   \n",
       "37593  u dosag administr dose concentr infus rate fos...   \n",
       "37594  u dosag administr dose concentr infus rate fos...   \n",
       "\n",
       "                                            how_supplied  \\\n",
       "29779  u suppli magnesium sulfat inject usp suppli si...   \n",
       "37593  u suppli fosphenytoin sodium inject usp suppli...   \n",
       "37594  u suppli fosphenytoin sodium inject usp suppli...   \n",
       "\n",
       "                                   indications_and_usage  \\\n",
       "29779  u indic usag magnesium sulfat inject usp suita...   \n",
       "37593  u indic usag fosphenytoin sodium inject indic ...   \n",
       "37594  u indic usag fosphenytoin sodium inject indic ...   \n",
       "\n",
       "                                              overdosage  \\\n",
       "29779  u overdosag magnesium intox manifest sharp dro...   \n",
       "37593  u overdosag nausea vomit lethargi tachycardia ...   \n",
       "37594  u overdosag nausea vomit lethargi tachycardia ...   \n",
       "\n",
       "                               spl_product_data_elements     ...      version  \\\n",
       "29779  u magnesium sulfat magnesium sulfat heptahydr ...     ...            4   \n",
       "37593  u fosphenytoin fosphenytoin sodium fosphenytoi...     ...            7   \n",
       "37594  u fosphenytoin fosphenytoin sodium fosphenytoi...     ...            7   \n",
       "\n",
       "       veterinary_indications  warnings_and_cautions  when_using  date  month  \\\n",
       "29779                       0                      0           0    10     11   \n",
       "37593                       0                      0           0     8     12   \n",
       "37594                       0                      0           0     8     12   \n",
       "\n",
       "       year    unq_ndc  target  prediction  \n",
       "29779  2016  0409-2168       1           1  \n",
       "37593  2015  63323-403       1           1  \n",
       "37594  2015  63323-403       1           1  \n",
       "\n",
       "[3 rows x 84 columns]"
      ]
     },
     "execution_count": 98,
     "metadata": {},
     "output_type": "execute_result"
    }
   ],
   "source": [
    "findings_tsvd_1=df_to_predict.join(pd.DataFrame(prediction_predict,columns=['prediction']))\n",
    "findings_tsvd_1[(findings_tsvd_1['prediction']==1)&(findings_tsvd_1['target']==1)]\n",
    "#print findings_tsvd_1.head()"
   ]
  },
  {
   "cell_type": "code",
   "execution_count": null,
   "metadata": {},
   "outputs": [],
   "source": []
  },
  {
   "cell_type": "code",
   "execution_count": null,
   "metadata": {
    "collapsed": true
   },
   "outputs": [],
   "source": []
  },
  {
   "cell_type": "code",
   "execution_count": null,
   "metadata": {
    "collapsed": true
   },
   "outputs": [],
   "source": []
  },
  {
   "cell_type": "code",
   "execution_count": 99,
   "metadata": {},
   "outputs": [
    {
     "name": "stdout",
     "output_type": "stream",
     "text": [
      "0.636363636364\n",
      "0.0\n",
      "0.401913875598\n",
      "0.0\n"
     ]
    },
    {
     "name": "stderr",
     "output_type": "stream",
     "text": [
      "/Users/ariburian/anaconda2/lib/python2.7/site-packages/sklearn/metrics/classification.py:1113: UndefinedMetricWarning: Precision is ill-defined and being set to 0.0 due to no predicted samples.\n",
      "  'precision', 'predicted', average, warn_for)\n"
     ]
    }
   ],
   "source": [
    "rfc.fit(X_tsvd_2,y)\n",
    "prediction= rfc.predict(X_tsvd_2)\n",
    "prediction_predict=rfc.predict(X_tsvd_2_predict)\n",
    "print recall_score(y,prediction)\n",
    "print recall_score(y_predict,prediction_predict)\n",
    "print precision_score(y,prediction)\n",
    "print precision_score(y_predict,prediction_predict)"
   ]
  },
  {
   "cell_type": "code",
   "execution_count": 100,
   "metadata": {},
   "outputs": [
    {
     "name": "stdout",
     "output_type": "stream",
     "text": [
      "0.636363636364\n",
      "0.0\n",
      "0.195804195804\n",
      "0.0\n"
     ]
    }
   ],
   "source": [
    "rfc.fit(X_tsvd_3,y)\n",
    "prediction= rfc.predict(X_tsvd_3)\n",
    "prediction_predict=rfc.predict(X_tsvd_3_predict)\n",
    "print recall_score(y,prediction)\n",
    "print recall_score(y_predict,prediction_predict)\n",
    "print precision_score(y,prediction)\n",
    "print precision_score(y_predict,prediction_predict)"
   ]
  },
  {
   "cell_type": "code",
   "execution_count": 101,
   "metadata": {},
   "outputs": [
    {
     "name": "stdout",
     "output_type": "stream",
     "text": [
      "0.659090909091\n",
      "0.0\n",
      "0.769911504425\n",
      "0.0\n"
     ]
    }
   ],
   "source": [
    "rfc.fit(X_tsvd_4,y)\n",
    "prediction= rfc.predict(X_tsvd_4)\n",
    "prediction_predict=rfc.predict(X_tsvd_4_predict)\n",
    "print recall_score(y,prediction)\n",
    "print recall_score(y_predict,prediction_predict)\n",
    "print precision_score(y,prediction)\n",
    "print precision_score(y_predict,prediction_predict)"
   ]
  },
  {
   "cell_type": "code",
   "execution_count": 102,
   "metadata": {},
   "outputs": [
    {
     "name": "stdout",
     "output_type": "stream",
     "text": [
      "1.0\n",
      "0.0\n",
      "0.0402561756633\n",
      "0.0\n"
     ]
    }
   ],
   "source": [
    "rfc.fit(X_tsvd_5,y)\n",
    "prediction= rfc.predict(X_tsvd_5)\n",
    "prediction_predict=rfc.predict(X_tsvd_5_predict)\n",
    "print recall_score(y,prediction)\n",
    "print recall_score(y_predict,prediction_predict)\n",
    "print precision_score(y,prediction)\n",
    "print precision_score(y_predict,prediction_predict)"
   ]
  },
  {
   "cell_type": "code",
   "execution_count": 103,
   "metadata": {},
   "outputs": [
    {
     "name": "stdout",
     "output_type": "stream",
     "text": [
      "0.659090909091\n",
      "0.0\n",
      "0.861386138614\n",
      "0.0\n"
     ]
    }
   ],
   "source": [
    "rfc.fit(X_tsvd_6,y)\n",
    "prediction= rfc.predict(X_tsvd_6)\n",
    "prediction_predict=rfc.predict(X_tsvd_6_predict)\n",
    "print recall_score(y,prediction)\n",
    "print recall_score(y_predict,prediction_predict)\n",
    "print precision_score(y,prediction)\n",
    "print precision_score(y_predict,prediction_predict)"
   ]
  },
  {
   "cell_type": "code",
   "execution_count": 104,
   "metadata": {},
   "outputs": [
    {
     "name": "stdout",
     "output_type": "stream",
     "text": [
      "0.992424242424\n",
      "0.0\n",
      "0.0426571149463\n",
      "0.0\n"
     ]
    }
   ],
   "source": [
    "rfc.fit(X_tsvd_7,y)\n",
    "prediction= rfc.predict(X_tsvd_7)\n",
    "prediction_predict=rfc.predict(X_tsvd_7_predict)\n",
    "print recall_score(y,prediction)\n",
    "print recall_score(y_predict,prediction_predict)\n",
    "print precision_score(y,prediction)\n",
    "print precision_score(y_predict,prediction_predict)"
   ]
  },
  {
   "cell_type": "code",
   "execution_count": 105,
   "metadata": {},
   "outputs": [
    {
     "name": "stdout",
     "output_type": "stream",
     "text": [
      "0.545454545455\n",
      "0.0\n",
      "0.184143222506\n",
      "0.0\n"
     ]
    }
   ],
   "source": [
    "rfc.fit(X_tsvd_8,y)\n",
    "prediction= rfc.predict(X_tsvd_8)\n",
    "prediction_predict=rfc.predict(X_tsvd_8_predict)\n",
    "print recall_score(y,prediction)\n",
    "print recall_score(y_predict,prediction_predict)\n",
    "print precision_score(y,prediction)\n",
    "print precision_score(y_predict,prediction_predict)"
   ]
  },
  {
   "cell_type": "code",
   "execution_count": 106,
   "metadata": {},
   "outputs": [
    {
     "name": "stdout",
     "output_type": "stream",
     "text": [
      "1.0\n",
      "0.00666666666667\n",
      "0.317307692308\n",
      "0.0120481927711\n"
     ]
    }
   ],
   "source": [
    "rfc.fit(X_tsvd_9,y)\n",
    "prediction= rfc.predict(X_tsvd_9)\n",
    "prediction_predict=rfc.predict(X_tsvd_9_predict)\n",
    "print recall_score(y,prediction)\n",
    "print recall_score(y_predict,prediction_predict)\n",
    "print precision_score(y,prediction)\n",
    "print precision_score(y_predict,prediction_predict)"
   ]
  },
  {
   "cell_type": "code",
   "execution_count": 107,
   "metadata": {},
   "outputs": [
    {
     "name": "stdout",
     "output_type": "stream",
     "text": [
      "132\n",
      "416\n",
      "150\n",
      "83\n"
     ]
    }
   ],
   "source": [
    "print y.sum()\n",
    "print prediction.sum()\n",
    "print y_predict.sum()\n",
    "print prediction_predict.sum()"
   ]
  },
  {
   "cell_type": "code",
   "execution_count": 108,
   "metadata": {},
   "outputs": [
    {
     "name": "stdout",
     "output_type": "stream",
     "text": [
      "1.0\n",
      "0.0\n",
      "0.543209876543\n",
      "0.0\n"
     ]
    }
   ],
   "source": [
    "rfc.fit(X_tsvd_1_and_9,y)\n",
    "prediction= rfc.predict(X_tsvd_1_and_9)\n",
    "prediction_predict=rfc.predict(X_tsvd_1_and_9_predict)\n",
    "print recall_score(y,prediction)\n",
    "print recall_score(y_predict,prediction_predict)\n",
    "print precision_score(y,prediction)\n",
    "print precision_score(y_predict,prediction_predict)"
   ]
  },
  {
   "cell_type": "code",
   "execution_count": 109,
   "metadata": {},
   "outputs": [
    {
     "name": "stdout",
     "output_type": "stream",
     "text": [
      "132\n",
      "243\n",
      "150\n",
      "0\n"
     ]
    }
   ],
   "source": [
    "print y.sum()\n",
    "print prediction.sum()\n",
    "print y_predict.sum()\n",
    "print prediction_predict.sum()"
   ]
  },
  {
   "cell_type": "code",
   "execution_count": 110,
   "metadata": {},
   "outputs": [
    {
     "ename": "ValueError",
     "evalue": "Input contains NaN, infinity or a value too large for dtype('float32').",
     "output_type": "error",
     "traceback": [
      "\u001b[0;31m----------------------------------------------------------------------\u001b[0m",
      "\u001b[0;31mValueError\u001b[0m                           Traceback (most recent call last)",
      "\u001b[0;32m<ipython-input-110-2afdaf2cddfe>\u001b[0m in \u001b[0;36m<module>\u001b[0;34m()\u001b[0m\n\u001b[0;32m----> 1\u001b[0;31m \u001b[0mrfc\u001b[0m\u001b[0;34m.\u001b[0m\u001b[0mfit\u001b[0m\u001b[0;34m(\u001b[0m\u001b[0mX_tsvd_1_plus_bool\u001b[0m\u001b[0;34m,\u001b[0m\u001b[0my\u001b[0m\u001b[0;34m)\u001b[0m\u001b[0;34m\u001b[0m\u001b[0m\n\u001b[0m\u001b[1;32m      2\u001b[0m \u001b[0mprediction\u001b[0m\u001b[0;34m=\u001b[0m \u001b[0mrfc\u001b[0m\u001b[0;34m.\u001b[0m\u001b[0mpredict\u001b[0m\u001b[0;34m(\u001b[0m\u001b[0mX_tsvd_1_plus_bool\u001b[0m\u001b[0;34m)\u001b[0m\u001b[0;34m\u001b[0m\u001b[0m\n\u001b[1;32m      3\u001b[0m \u001b[0mprediction_predict\u001b[0m\u001b[0;34m=\u001b[0m\u001b[0mrfc\u001b[0m\u001b[0;34m.\u001b[0m\u001b[0mpredict\u001b[0m\u001b[0;34m(\u001b[0m\u001b[0mX_tsvd_1_plus_bool_predict\u001b[0m\u001b[0;34m)\u001b[0m\u001b[0;34m\u001b[0m\u001b[0m\n\u001b[1;32m      4\u001b[0m \u001b[0;32mprint\u001b[0m \u001b[0mrecall_score\u001b[0m\u001b[0;34m(\u001b[0m\u001b[0my\u001b[0m\u001b[0;34m,\u001b[0m\u001b[0mprediction\u001b[0m\u001b[0;34m)\u001b[0m\u001b[0;34m\u001b[0m\u001b[0m\n\u001b[1;32m      5\u001b[0m \u001b[0;32mprint\u001b[0m \u001b[0mrecall_score\u001b[0m\u001b[0;34m(\u001b[0m\u001b[0my_predict\u001b[0m\u001b[0;34m,\u001b[0m\u001b[0mprediction_predict\u001b[0m\u001b[0;34m)\u001b[0m\u001b[0;34m\u001b[0m\u001b[0m\n",
      "\u001b[0;32m/Users/ariburian/anaconda2/lib/python2.7/site-packages/sklearn/ensemble/forest.pyc\u001b[0m in \u001b[0;36mfit\u001b[0;34m(self, X, y, sample_weight)\u001b[0m\n\u001b[1;32m    245\u001b[0m         \"\"\"\n\u001b[1;32m    246\u001b[0m         \u001b[0;31m# Validate or convert input data\u001b[0m\u001b[0;34m\u001b[0m\u001b[0;34m\u001b[0m\u001b[0m\n\u001b[0;32m--> 247\u001b[0;31m         \u001b[0mX\u001b[0m \u001b[0;34m=\u001b[0m \u001b[0mcheck_array\u001b[0m\u001b[0;34m(\u001b[0m\u001b[0mX\u001b[0m\u001b[0;34m,\u001b[0m \u001b[0maccept_sparse\u001b[0m\u001b[0;34m=\u001b[0m\u001b[0;34m\"csc\"\u001b[0m\u001b[0;34m,\u001b[0m \u001b[0mdtype\u001b[0m\u001b[0;34m=\u001b[0m\u001b[0mDTYPE\u001b[0m\u001b[0;34m)\u001b[0m\u001b[0;34m\u001b[0m\u001b[0m\n\u001b[0m\u001b[1;32m    248\u001b[0m         \u001b[0my\u001b[0m \u001b[0;34m=\u001b[0m \u001b[0mcheck_array\u001b[0m\u001b[0;34m(\u001b[0m\u001b[0my\u001b[0m\u001b[0;34m,\u001b[0m \u001b[0maccept_sparse\u001b[0m\u001b[0;34m=\u001b[0m\u001b[0;34m'csc'\u001b[0m\u001b[0;34m,\u001b[0m \u001b[0mensure_2d\u001b[0m\u001b[0;34m=\u001b[0m\u001b[0mFalse\u001b[0m\u001b[0;34m,\u001b[0m \u001b[0mdtype\u001b[0m\u001b[0;34m=\u001b[0m\u001b[0mNone\u001b[0m\u001b[0;34m)\u001b[0m\u001b[0;34m\u001b[0m\u001b[0m\n\u001b[1;32m    249\u001b[0m         \u001b[0;32mif\u001b[0m \u001b[0missparse\u001b[0m\u001b[0;34m(\u001b[0m\u001b[0mX\u001b[0m\u001b[0;34m)\u001b[0m\u001b[0;34m:\u001b[0m\u001b[0;34m\u001b[0m\u001b[0m\n",
      "\u001b[0;32m/Users/ariburian/anaconda2/lib/python2.7/site-packages/sklearn/utils/validation.pyc\u001b[0m in \u001b[0;36mcheck_array\u001b[0;34m(array, accept_sparse, dtype, order, copy, force_all_finite, ensure_2d, allow_nd, ensure_min_samples, ensure_min_features, warn_on_dtype, estimator)\u001b[0m\n\u001b[1;32m    405\u001b[0m                              % (array.ndim, estimator_name))\n\u001b[1;32m    406\u001b[0m         \u001b[0;32mif\u001b[0m \u001b[0mforce_all_finite\u001b[0m\u001b[0;34m:\u001b[0m\u001b[0;34m\u001b[0m\u001b[0m\n\u001b[0;32m--> 407\u001b[0;31m             \u001b[0m_assert_all_finite\u001b[0m\u001b[0;34m(\u001b[0m\u001b[0marray\u001b[0m\u001b[0;34m)\u001b[0m\u001b[0;34m\u001b[0m\u001b[0m\n\u001b[0m\u001b[1;32m    408\u001b[0m \u001b[0;34m\u001b[0m\u001b[0m\n\u001b[1;32m    409\u001b[0m     \u001b[0mshape_repr\u001b[0m \u001b[0;34m=\u001b[0m \u001b[0m_shape_repr\u001b[0m\u001b[0;34m(\u001b[0m\u001b[0marray\u001b[0m\u001b[0;34m.\u001b[0m\u001b[0mshape\u001b[0m\u001b[0;34m)\u001b[0m\u001b[0;34m\u001b[0m\u001b[0m\n",
      "\u001b[0;32m/Users/ariburian/anaconda2/lib/python2.7/site-packages/sklearn/utils/validation.pyc\u001b[0m in \u001b[0;36m_assert_all_finite\u001b[0;34m(X)\u001b[0m\n\u001b[1;32m     56\u001b[0m             and not np.isfinite(X).all()):\n\u001b[1;32m     57\u001b[0m         raise ValueError(\"Input contains NaN, infinity\"\n\u001b[0;32m---> 58\u001b[0;31m                          \" or a value too large for %r.\" % X.dtype)\n\u001b[0m\u001b[1;32m     59\u001b[0m \u001b[0;34m\u001b[0m\u001b[0m\n\u001b[1;32m     60\u001b[0m \u001b[0;34m\u001b[0m\u001b[0m\n",
      "\u001b[0;31mValueError\u001b[0m: Input contains NaN, infinity or a value too large for dtype('float32')."
     ]
    }
   ],
   "source": [
    "rfc.fit(X_tsvd_1_plus_bool,y)\n",
    "prediction= rfc.predict(X_tsvd_1_plus_bool)\n",
    "prediction_predict=rfc.predict(X_tsvd_1_plus_bool_predict)\n",
    "print recall_score(y,prediction)\n",
    "print recall_score(y_predict,prediction_predict)\n",
    "print precision_score(y,prediction)\n",
    "print precision_score(y_predict,prediction_predict)"
   ]
  },
  {
   "cell_type": "code",
   "execution_count": null,
   "metadata": {},
   "outputs": [],
   "source": [
    "print y.sum()\n",
    "print prediction.sum()\n",
    "print y_predict.sum()\n",
    "print prediction_predict.sum()"
   ]
  },
  {
   "cell_type": "code",
   "execution_count": null,
   "metadata": {
    "collapsed": true
   },
   "outputs": [],
   "source": [
    "cm=confusion_matrix(y_predict,prediction_predict)"
   ]
  },
  {
   "cell_type": "code",
   "execution_count": null,
   "metadata": {},
   "outputs": [],
   "source": [
    "print cm"
   ]
  },
  {
   "cell_type": "code",
   "execution_count": null,
   "metadata": {},
   "outputs": [],
   "source": [
    "print classification_report(y_predict,prediction_predict)"
   ]
  },
  {
   "cell_type": "code",
   "execution_count": null,
   "metadata": {},
   "outputs": [],
   "source": [
    "findings_tsvd_bool=df_to_predict.join(pd.DataFrame(prediction_predict,columns=['prediction']))\n",
    "findings_tsvd_bool[(findings_tsvd_bool['prediction']==1)&(findings_tsvd_1['target']==1)]\n",
    "#print findings_tsvd_1.head()"
   ]
  },
  {
   "cell_type": "code",
   "execution_count": null,
   "metadata": {},
   "outputs": [],
   "source": [
    "rfc.fit(X_tsvd_9_plus_bool,y)\n",
    "prediction= rfc.predict(X_tsvd_9_plus_bool)\n",
    "prediction_predict=rfc.predict(X_tsvd_9_plus_bool_predict)\n",
    "print recall_score(y,prediction)\n",
    "print recall_score(y_predict,prediction_predict)\n",
    "print precision_score(y,prediction)\n",
    "print precision_score(y_predict,prediction_predict)"
   ]
  },
  {
   "cell_type": "code",
   "execution_count": null,
   "metadata": {},
   "outputs": [],
   "source": [
    "print y.sum()\n",
    "print prediction.sum()\n",
    "print y_predict.sum()\n",
    "print prediction_predict.sum()"
   ]
  },
  {
   "cell_type": "code",
   "execution_count": null,
   "metadata": {},
   "outputs": [],
   "source": []
  },
  {
   "cell_type": "code",
   "execution_count": null,
   "metadata": {
    "collapsed": true
   },
   "outputs": [],
   "source": [
    "findings_tsvd_1"
   ]
  },
  {
   "cell_type": "code",
   "execution_count": null,
   "metadata": {
    "collapsed": true
   },
   "outputs": [],
   "source": []
  },
  {
   "cell_type": "code",
   "execution_count": null,
   "metadata": {},
   "outputs": [],
   "source": [
    "4/42.0"
   ]
  },
  {
   "cell_type": "code",
   "execution_count": null,
   "metadata": {},
   "outputs": [],
   "source": [
    "12/2924.0"
   ]
  },
  {
   "cell_type": "code",
   "execution_count": null,
   "metadata": {
    "collapsed": true
   },
   "outputs": [],
   "source": []
  },
  {
   "cell_type": "code",
   "execution_count": null,
   "metadata": {
    "collapsed": true
   },
   "outputs": [],
   "source": []
  },
  {
   "cell_type": "code",
   "execution_count": null,
   "metadata": {
    "collapsed": true
   },
   "outputs": [],
   "source": []
  },
  {
   "cell_type": "code",
   "execution_count": null,
   "metadata": {
    "collapsed": true
   },
   "outputs": [],
   "source": []
  },
  {
   "cell_type": "code",
   "execution_count": null,
   "metadata": {
    "collapsed": true
   },
   "outputs": [],
   "source": []
  },
  {
   "cell_type": "code",
   "execution_count": null,
   "metadata": {
    "collapsed": true
   },
   "outputs": [],
   "source": []
  }
 ],
 "metadata": {
  "kernelspec": {
   "display_name": "Python 2",
   "language": "python",
   "name": "python2"
  },
  "language_info": {
   "codemirror_mode": {
    "name": "ipython",
    "version": 2
   },
   "file_extension": ".py",
   "mimetype": "text/x-python",
   "name": "python",
   "nbconvert_exporter": "python",
   "pygments_lexer": "ipython2",
   "version": "2.7.13"
  }
 },
 "nbformat": 4,
 "nbformat_minor": 2
}
