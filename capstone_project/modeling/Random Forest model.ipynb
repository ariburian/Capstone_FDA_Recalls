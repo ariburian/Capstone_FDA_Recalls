{
 "cells": [
  {
   "cell_type": "code",
   "execution_count": 284,
   "metadata": {
    "collapsed": true
   },
   "outputs": [],
   "source": [
    "import pandas as pd\n",
    "import numpy as np\n",
    "import matplotlib.pyplot as plt\n",
    "from sklearn.model_selection import train_test_split, GridSearchCV, RandomizedSearchCV\n",
    "from sklearn.metrics import recall_score, precision_score, precision_recall_curve, roc_curve, auc, confusion_matrix,classification_report \n",
    "from sklearn.preprocessing import StandardScaler\n",
    "from sklearn.ensemble import RandomForestClassifier\n",
    "import matplotlib.pyplot as plt\n",
    "from scipy.stats import randint as sp_randint"
   ]
  },
  {
   "cell_type": "code",
   "execution_count": 40,
   "metadata": {
    "collapsed": true
   },
   "outputs": [],
   "source": [
    "df_train=pd.read_csv('training_data_cleansed.csv')\n",
    "#df_train=pd.read_csv('training_data_cleansed_no_2009.csv')"
   ]
  },
  {
   "cell_type": "code",
   "execution_count": 156,
   "metadata": {},
   "outputs": [
    {
     "name": "stdout",
     "output_type": "stream",
     "text": [
      "40876\n",
      "40876\n"
     ]
    }
   ],
   "source": [
    "print len(df_train)\n",
    "df_train=df_train[df_train['year']!=2009]\n",
    "print len(df_train)"
   ]
  },
  {
   "cell_type": "code",
   "execution_count": 168,
   "metadata": {},
   "outputs": [
    {
     "data": {
      "text/plain": [
       "40876"
      ]
     },
     "execution_count": 168,
     "metadata": {},
     "output_type": "execute_result"
    }
   ],
   "source": [
    "len(adv_reac_70_train)"
   ]
  },
  {
   "cell_type": "code",
   "execution_count": 42,
   "metadata": {
    "collapsed": true
   },
   "outputs": [],
   "source": [
    "df_test=pd.read_csv('predicting_data_cleansed.csv')"
   ]
  },
  {
   "cell_type": "code",
   "execution_count": 43,
   "metadata": {
    "collapsed": true
   },
   "outputs": [],
   "source": [
    "adv_reac_train=pd.read_csv('col_1_train.csv')"
   ]
  },
  {
   "cell_type": "code",
   "execution_count": 44,
   "metadata": {
    "collapsed": true
   },
   "outputs": [],
   "source": [
    "adv_reac_test=pd.read_csv('col_1_test.csv')"
   ]
  },
  {
   "cell_type": "code",
   "execution_count": 45,
   "metadata": {
    "collapsed": true
   },
   "outputs": [],
   "source": [
    "adv_reac_bool_train=pd.read_csv('col_1_bool_train.csv')"
   ]
  },
  {
   "cell_type": "code",
   "execution_count": 46,
   "metadata": {
    "collapsed": true
   },
   "outputs": [],
   "source": [
    "adv_reac_bool_test=pd.read_csv('col_1_bool_test.csv')"
   ]
  },
  {
   "cell_type": "code",
   "execution_count": 173,
   "metadata": {
    "collapsed": true
   },
   "outputs": [],
   "source": [
    "adv_reac_70_train=pd.read_csv('col_1_70_train.csv')\n",
    "adv_reac_70_test=pd.read_csv('col_1_70_test.csv')\n",
    "adv_reac_70_bool_train=pd.read_csv('col_1_70_plus_bool_train.csv')\n",
    "adv_reac_70_bool_test=pd.read_csv('col_1_70_plus_bool_test.csv')"
   ]
  },
  {
   "cell_type": "code",
   "execution_count": 160,
   "metadata": {},
   "outputs": [
    {
     "name": "stdout",
     "output_type": "stream",
     "text": [
      "40876\n",
      "43952\n"
     ]
    }
   ],
   "source": [
    "print len(adv_reac_70_train)\n",
    "print len(adv_reac_70_bool_train)\n",
    "\n"
   ]
  },
  {
   "cell_type": "code",
   "execution_count": 48,
   "metadata": {
    "collapsed": true
   },
   "outputs": [],
   "source": [
    "spl_train=pd.read_csv('col_9_train.csv')\n",
    "spl_test=pd.read_csv('col_9_test.csv')\n",
    "spl_bool_train=pd.read_csv('col_9_bool_train.csv')\n",
    "spl_bool_test=pd.read_csv('col_9_bool_test.csv')"
   ]
  },
  {
   "cell_type": "code",
   "execution_count": 49,
   "metadata": {
    "collapsed": true
   },
   "outputs": [],
   "source": [
    "y_train=df_train['target'][df_train['year']!=2009]\n",
    "y_test=df_test['target']"
   ]
  },
  {
   "cell_type": "code",
   "execution_count": null,
   "metadata": {
    "collapsed": true
   },
   "outputs": [],
   "source": []
  },
  {
   "cell_type": "code",
   "execution_count": 117,
   "metadata": {
    "collapsed": true
   },
   "outputs": [],
   "source": [
    "rfc=RandomForestClassifier(n_jobs=-1,class_weight='balanced',random_state=100)"
   ]
  },
  {
   "cell_type": "code",
   "execution_count": 118,
   "metadata": {},
   "outputs": [
    {
     "data": {
      "text/plain": [
       "{'bootstrap': True,\n",
       " 'class_weight': 'balanced',\n",
       " 'criterion': 'gini',\n",
       " 'max_depth': None,\n",
       " 'max_features': 'auto',\n",
       " 'max_leaf_nodes': None,\n",
       " 'min_impurity_split': 1e-07,\n",
       " 'min_samples_leaf': 1,\n",
       " 'min_samples_split': 2,\n",
       " 'min_weight_fraction_leaf': 0.0,\n",
       " 'n_estimators': 10,\n",
       " 'n_jobs': -1,\n",
       " 'oob_score': False,\n",
       " 'random_state': 100,\n",
       " 'verbose': 0,\n",
       " 'warm_start': False}"
      ]
     },
     "execution_count": 118,
     "metadata": {},
     "output_type": "execute_result"
    }
   ],
   "source": [
    "rfc.get_params()"
   ]
  },
  {
   "cell_type": "code",
   "execution_count": 119,
   "metadata": {
    "collapsed": true
   },
   "outputs": [],
   "source": [
    "hyperparameters={\n",
    "    'criterion': ['gini','entropy'],\n",
    "    'n_estimators': [30,300],\n",
    "    'min_samples_leaf': [1, 5]\n",
    "    }"
   ]
  },
  {
   "cell_type": "code",
   "execution_count": 170,
   "metadata": {},
   "outputs": [],
   "source": [
    "param_dist = {\"max_depth\": [3, None],\n",
    "              \"min_samples_split\": sp_randint(2, 11),\n",
    "              \"min_samples_leaf\": sp_randint(1, 11),\n",
    "              \"bootstrap\": [True, False],\n",
    "              \"criterion\": [\"gini\", \"entropy\"],\n",
    "              \"n_estimators\": sp_randint(10,500)\n",
    "             }"
   ]
  },
  {
   "cell_type": "code",
   "execution_count": 120,
   "metadata": {
    "collapsed": true
   },
   "outputs": [],
   "source": [
    "grid_search=GridSearchCV(rfc,hyperparameters,scoring='recall')\n",
    "grid_search_spl=GridSearchCV(rfc,hyperparameters,scoring='recall')\n",
    "grid_search_70=GridSearchCV(rfc,hyperparameters,scoring='recall')"
   ]
  },
  {
   "cell_type": "code",
   "execution_count": 171,
   "metadata": {},
   "outputs": [],
   "source": [
    "random_search=RandomizedSearchCV(rfc,param_dist,scoring='recall',n_iter=100,n_jobs=-1)\n"
   ]
  },
  {
   "cell_type": "code",
   "execution_count": 238,
   "metadata": {
    "collapsed": true
   },
   "outputs": [],
   "source": [
    "random_search_spl=RandomizedSearchCV(rfc,param_dist,scoring='recall',n_iter=10,n_jobs=-1)"
   ]
  },
  {
   "cell_type": "code",
   "execution_count": 241,
   "metadata": {
    "collapsed": true
   },
   "outputs": [],
   "source": [
    "random_search_70=RandomizedSearchCV(rfc,param_dist,scoring='recall',n_iter=100,n_jobs=-2)"
   ]
  },
  {
   "cell_type": "code",
   "execution_count": 172,
   "metadata": {},
   "outputs": [
    {
     "data": {
      "text/plain": [
       "RandomizedSearchCV(cv=None, error_score='raise',\n",
       "          estimator=RandomForestClassifier(bootstrap=True, class_weight='balanced',\n",
       "            criterion='gini', max_depth=None, max_features='auto',\n",
       "            max_leaf_nodes=None, min_impurity_split=1e-07,\n",
       "            min_samples_leaf=1, min_samples_split=2,\n",
       "            min_weight_fraction_leaf=0.0, n_estimators=10, n_jobs=-1,\n",
       "            oob_score=False, random_state=100, verbose=0, warm_start=False),\n",
       "          fit_params={}, iid=True, n_iter=100, n_jobs=-1,\n",
       "          param_distributions={'bootstrap': [True, False], 'min_samples_leaf': <scipy.stats._distn_infrastructure.rv_frozen object at 0x1107c8590>, 'n_estimators': <scipy.stats._distn_infrastructure.rv_frozen object at 0x11674cf90>, 'criterion': ['gini', 'entropy'], 'min_samples_split': <scipy.stats._distn_infrastructure.rv_frozen object at 0x116f61e50>, 'max_depth': [3, None]},\n",
       "          pre_dispatch='2*n_jobs', random_state=None, refit=True,\n",
       "          return_train_score=True, scoring='recall', verbose=0)"
      ]
     },
     "execution_count": 172,
     "metadata": {},
     "output_type": "execute_result"
    }
   ],
   "source": [
    "random_search.fit(adv_reac_train,y_train)"
   ]
  },
  {
   "cell_type": "code",
   "execution_count": 240,
   "metadata": {},
   "outputs": [
    {
     "data": {
      "text/plain": [
       "RandomizedSearchCV(cv=None, error_score='raise',\n",
       "          estimator=RandomForestClassifier(bootstrap=True, class_weight='balanced',\n",
       "            criterion='gini', max_depth=None, max_features='auto',\n",
       "            max_leaf_nodes=None, min_impurity_split=1e-07,\n",
       "            min_samples_leaf=1, min_samples_split=2,\n",
       "            min_weight_fraction_leaf=0.0, n_estimators=10, n_jobs=-1,\n",
       "            oob_score=False, random_state=100, verbose=0, warm_start=False),\n",
       "          fit_params={}, iid=True, n_iter=10, n_jobs=-1,\n",
       "          param_distributions={'bootstrap': [True, False], 'min_samples_leaf': <scipy.stats._distn_infrastructure.rv_frozen object at 0x1107c8590>, 'n_estimators': <scipy.stats._distn_infrastructure.rv_frozen object at 0x11674cf90>, 'criterion': ['gini', 'entropy'], 'min_samples_split': <scipy.stats._distn_infrastructure.rv_frozen object at 0x116f61e50>, 'max_depth': [3, None]},\n",
       "          pre_dispatch='2*n_jobs', random_state=None, refit=True,\n",
       "          return_train_score=True, scoring='recall', verbose=0)"
      ]
     },
     "execution_count": 240,
     "metadata": {},
     "output_type": "execute_result"
    }
   ],
   "source": [
    "random_search_spl.fit(spl_train,y_train)"
   ]
  },
  {
   "cell_type": "code",
   "execution_count": 242,
   "metadata": {},
   "outputs": [
    {
     "data": {
      "text/plain": [
       "RandomizedSearchCV(cv=None, error_score='raise',\n",
       "          estimator=RandomForestClassifier(bootstrap=True, class_weight='balanced',\n",
       "            criterion='gini', max_depth=None, max_features='auto',\n",
       "            max_leaf_nodes=None, min_impurity_split=1e-07,\n",
       "            min_samples_leaf=1, min_samples_split=2,\n",
       "            min_weight_fraction_leaf=0.0, n_estimators=10, n_jobs=-1,\n",
       "            oob_score=False, random_state=100, verbose=0, warm_start=False),\n",
       "          fit_params={}, iid=True, n_iter=100, n_jobs=-2,\n",
       "          param_distributions={'bootstrap': [True, False], 'min_samples_leaf': <scipy.stats._distn_infrastructure.rv_frozen object at 0x1107c8590>, 'n_estimators': <scipy.stats._distn_infrastructure.rv_frozen object at 0x11674cf90>, 'criterion': ['gini', 'entropy'], 'min_samples_split': <scipy.stats._distn_infrastructure.rv_frozen object at 0x116f61e50>, 'max_depth': [3, None]},\n",
       "          pre_dispatch='2*n_jobs', random_state=None, refit=True,\n",
       "          return_train_score=True, scoring='recall', verbose=0)"
      ]
     },
     "execution_count": 242,
     "metadata": {},
     "output_type": "execute_result"
    }
   ],
   "source": [
    "random_search_70.fit(adv_reac_70_train,y_train)"
   ]
  },
  {
   "cell_type": "code",
   "execution_count": 125,
   "metadata": {},
   "outputs": [
    {
     "data": {
      "text/plain": [
       "GridSearchCV(cv=None, error_score='raise',\n",
       "       estimator=RandomForestClassifier(bootstrap=True, class_weight='balanced',\n",
       "            criterion='gini', max_depth=None, max_features='auto',\n",
       "            max_leaf_nodes=None, min_impurity_split=1e-07,\n",
       "            min_samples_leaf=1, min_samples_split=2,\n",
       "            min_weight_fraction_leaf=0.0, n_estimators=10, n_jobs=-1,\n",
       "            oob_score=False, random_state=100, verbose=0, warm_start=False),\n",
       "       fit_params={}, iid=True, n_jobs=1,\n",
       "       param_grid={'n_estimators': [30, 300], 'criterion': ['gini', 'entropy'], 'min_samples_leaf': [1, 5]},\n",
       "       pre_dispatch='2*n_jobs', refit=True, return_train_score=True,\n",
       "       scoring='recall', verbose=0)"
      ]
     },
     "execution_count": 125,
     "metadata": {},
     "output_type": "execute_result"
    }
   ],
   "source": [
    "grid_search.fit(adv_reac_train,y_train)\n",
    "\n"
   ]
  },
  {
   "cell_type": "code",
   "execution_count": 126,
   "metadata": {},
   "outputs": [
    {
     "data": {
      "text/plain": [
       "GridSearchCV(cv=None, error_score='raise',\n",
       "       estimator=RandomForestClassifier(bootstrap=True, class_weight='balanced',\n",
       "            criterion='gini', max_depth=None, max_features='auto',\n",
       "            max_leaf_nodes=None, min_impurity_split=1e-07,\n",
       "            min_samples_leaf=1, min_samples_split=2,\n",
       "            min_weight_fraction_leaf=0.0, n_estimators=10, n_jobs=-1,\n",
       "            oob_score=False, random_state=100, verbose=0, warm_start=False),\n",
       "       fit_params={}, iid=True, n_jobs=1,\n",
       "       param_grid={'n_estimators': [30, 300], 'criterion': ['gini', 'entropy'], 'min_samples_leaf': [1, 5]},\n",
       "       pre_dispatch='2*n_jobs', refit=True, return_train_score=True,\n",
       "       scoring='recall', verbose=0)"
      ]
     },
     "execution_count": 126,
     "metadata": {},
     "output_type": "execute_result"
    }
   ],
   "source": [
    "grid_search_spl.fit(spl_train,y_train)"
   ]
  },
  {
   "cell_type": "code",
   "execution_count": 122,
   "metadata": {},
   "outputs": [
    {
     "data": {
      "text/plain": [
       "GridSearchCV(cv=None, error_score='raise',\n",
       "       estimator=RandomForestClassifier(bootstrap=True, class_weight='balanced',\n",
       "            criterion='gini', max_depth=None, max_features='auto',\n",
       "            max_leaf_nodes=None, min_impurity_split=1e-07,\n",
       "            min_samples_leaf=1, min_samples_split=2,\n",
       "            min_weight_fraction_leaf=0.0, n_estimators=10, n_jobs=-1,\n",
       "            oob_score=False, random_state=100, verbose=0, warm_start=False),\n",
       "       fit_params={}, iid=True, n_jobs=1,\n",
       "       param_grid={'n_estimators': [30, 300], 'criterion': ['gini', 'entropy'], 'min_samples_leaf': [1, 5]},\n",
       "       pre_dispatch='2*n_jobs', refit=True, return_train_score=True,\n",
       "       scoring='recall', verbose=0)"
      ]
     },
     "execution_count": 122,
     "metadata": {},
     "output_type": "execute_result"
    }
   ],
   "source": [
    "grid_search_70.fit(adv_reac_70_train,y_train)"
   ]
  },
  {
   "cell_type": "code",
   "execution_count": 243,
   "metadata": {},
   "outputs": [
    {
     "name": "stdout",
     "output_type": "stream",
     "text": [
      "RandomForestClassifier(bootstrap=True, class_weight='balanced',\n",
      "            criterion='entropy', max_depth=None, max_features='auto',\n",
      "            max_leaf_nodes=None, min_impurity_split=1e-07,\n",
      "            min_samples_leaf=5, min_samples_split=2,\n",
      "            min_weight_fraction_leaf=0.0, n_estimators=30, n_jobs=-1,\n",
      "            oob_score=False, random_state=100, verbose=0, warm_start=False)\n",
      "RandomForestClassifier(bootstrap=True, class_weight='balanced',\n",
      "            criterion='entropy', max_depth=None, max_features='auto',\n",
      "            max_leaf_nodes=None, min_impurity_split=1e-07,\n",
      "            min_samples_leaf=5, min_samples_split=2,\n",
      "            min_weight_fraction_leaf=0.0, n_estimators=30, n_jobs=-1,\n",
      "            oob_score=False, random_state=100, verbose=0, warm_start=False)\n",
      "RandomForestClassifier(bootstrap=True, class_weight='balanced',\n",
      "            criterion='entropy', max_depth=None, max_features='auto',\n",
      "            max_leaf_nodes=None, min_impurity_split=1e-07,\n",
      "            min_samples_leaf=5, min_samples_split=2,\n",
      "            min_weight_fraction_leaf=0.0, n_estimators=300, n_jobs=-1,\n",
      "            oob_score=False, random_state=100, verbose=0, warm_start=False)\n",
      "RandomForestClassifier(bootstrap=False, class_weight='balanced',\n",
      "            criterion='gini', max_depth=3, max_features='auto',\n",
      "            max_leaf_nodes=None, min_impurity_split=1e-07,\n",
      "            min_samples_leaf=7, min_samples_split=7,\n",
      "            min_weight_fraction_leaf=0.0, n_estimators=194, n_jobs=-1,\n",
      "            oob_score=False, random_state=100, verbose=0, warm_start=False)\n",
      "RandomForestClassifier(bootstrap=False, class_weight='balanced',\n",
      "            criterion='gini', max_depth=3, max_features='auto',\n",
      "            max_leaf_nodes=None, min_impurity_split=1e-07,\n",
      "            min_samples_leaf=1, min_samples_split=9,\n",
      "            min_weight_fraction_leaf=0.0, n_estimators=309, n_jobs=-1,\n",
      "            oob_score=False, random_state=100, verbose=0, warm_start=False)\n",
      "RandomForestClassifier(bootstrap=False, class_weight='balanced',\n",
      "            criterion='entropy', max_depth=3, max_features='auto',\n",
      "            max_leaf_nodes=None, min_impurity_split=1e-07,\n",
      "            min_samples_leaf=5, min_samples_split=9,\n",
      "            min_weight_fraction_leaf=0.0, n_estimators=99, n_jobs=-1,\n",
      "            oob_score=False, random_state=100, verbose=0, warm_start=False)\n"
     ]
    }
   ],
   "source": [
    "print grid_search.best_estimator_\n",
    "print grid_search_spl.best_estimator_\n",
    "print grid_search_70.best_estimator_\n",
    "print random_search.best_estimator_\n",
    "print random_search_spl.best_estimator_\n",
    "print random_search_70.best_estimator_"
   ]
  },
  {
   "cell_type": "code",
   "execution_count": null,
   "metadata": {
    "collapsed": true
   },
   "outputs": [],
   "source": []
  },
  {
   "cell_type": "code",
   "execution_count": 244,
   "metadata": {},
   "outputs": [
    {
     "name": "stdout",
     "output_type": "stream",
     "text": [
      "0.189389306016\n",
      "0.159087017054\n",
      "0.295447317386\n",
      "0.537869521124\n",
      "0.492413307653\n",
      "0.515140024375\n"
     ]
    }
   ],
   "source": [
    "print grid_search.best_score_\n",
    "print grid_search_spl.best_score_\n",
    "print grid_search_70.best_score_\n",
    "print random_search.best_score_\n",
    "print random_search_spl.best_score_\n",
    "print random_search_70.best_score_"
   ]
  },
  {
   "cell_type": "code",
   "execution_count": 245,
   "metadata": {},
   "outputs": [
    {
     "name": "stdout",
     "output_type": "stream",
     "text": [
      "{'n_estimators': 30, 'criterion': 'entropy', 'min_samples_leaf': 5}\n",
      "{'n_estimators': 30, 'criterion': 'entropy', 'min_samples_leaf': 5}\n",
      "{'n_estimators': 300, 'criterion': 'entropy', 'min_samples_leaf': 5}\n",
      "{'bootstrap': False, 'min_samples_leaf': 7, 'n_estimators': 194, 'criterion': 'gini', 'min_samples_split': 7, 'max_depth': 3}\n",
      "{'bootstrap': False, 'min_samples_leaf': 1, 'n_estimators': 309, 'criterion': 'gini', 'min_samples_split': 9, 'max_depth': 3}\n",
      "{'bootstrap': False, 'min_samples_leaf': 5, 'n_estimators': 99, 'criterion': 'entropy', 'min_samples_split': 9, 'max_depth': 3}\n"
     ]
    }
   ],
   "source": [
    "print grid_search.best_params_\n",
    "print grid_search_spl.best_params_\n",
    "print grid_search_70.best_params_\n",
    "print random_search.best_params_\n",
    "print random_search_spl.best_params_\n",
    "print random_search_70.best_params_"
   ]
  },
  {
   "cell_type": "code",
   "execution_count": 246,
   "metadata": {
    "collapsed": true
   },
   "outputs": [],
   "source": [
    "best=grid_search.best_estimator_\n",
    "best_spl=grid_search_spl.best_estimator_\n",
    "best_70=grid_search_70.best_estimator_\n",
    "best_rand=random_search.best_estimator_\n",
    "best_rand_spl=random_search_spl.best_estimator_\n",
    "best_rand_70=random_search_70.best_estimator_"
   ]
  },
  {
   "cell_type": "code",
   "execution_count": 131,
   "metadata": {},
   "outputs": [
    {
     "data": {
      "text/plain": [
       "RandomForestClassifier(bootstrap=True, class_weight='balanced',\n",
       "            criterion='entropy', max_depth=None, max_features='auto',\n",
       "            max_leaf_nodes=None, min_impurity_split=1e-07,\n",
       "            min_samples_leaf=5, min_samples_split=2,\n",
       "            min_weight_fraction_leaf=0.0, n_estimators=30, n_jobs=-1,\n",
       "            oob_score=False, random_state=100, verbose=0, warm_start=False)"
      ]
     },
     "execution_count": 131,
     "metadata": {},
     "output_type": "execute_result"
    }
   ],
   "source": [
    "best.fit(adv_reac_train,y_train)\n",
    "best_spl.fit(spl_train,y_train)"
   ]
  },
  {
   "cell_type": "code",
   "execution_count": 132,
   "metadata": {},
   "outputs": [
    {
     "data": {
      "text/plain": [
       "RandomForestClassifier(bootstrap=True, class_weight='balanced',\n",
       "            criterion='entropy', max_depth=None, max_features='auto',\n",
       "            max_leaf_nodes=None, min_impurity_split=1e-07,\n",
       "            min_samples_leaf=5, min_samples_split=2,\n",
       "            min_weight_fraction_leaf=0.0, n_estimators=300, n_jobs=-1,\n",
       "            oob_score=False, random_state=100, verbose=0, warm_start=False)"
      ]
     },
     "execution_count": 132,
     "metadata": {},
     "output_type": "execute_result"
    }
   ],
   "source": [
    "best_70.fit(adv_reac_70_train,y_train)"
   ]
  },
  {
   "cell_type": "code",
   "execution_count": 178,
   "metadata": {},
   "outputs": [
    {
     "data": {
      "text/plain": [
       "RandomForestClassifier(bootstrap=False, class_weight='balanced',\n",
       "            criterion='gini', max_depth=3, max_features='auto',\n",
       "            max_leaf_nodes=None, min_impurity_split=1e-07,\n",
       "            min_samples_leaf=7, min_samples_split=7,\n",
       "            min_weight_fraction_leaf=0.0, n_estimators=194, n_jobs=-1,\n",
       "            oob_score=False, random_state=100, verbose=0, warm_start=False)"
      ]
     },
     "execution_count": 178,
     "metadata": {},
     "output_type": "execute_result"
    }
   ],
   "source": [
    "best_rand.fit(adv_reac_train,y_train)"
   ]
  },
  {
   "cell_type": "code",
   "execution_count": 247,
   "metadata": {},
   "outputs": [
    {
     "data": {
      "text/plain": [
       "RandomForestClassifier(bootstrap=False, class_weight='balanced',\n",
       "            criterion='gini', max_depth=3, max_features='auto',\n",
       "            max_leaf_nodes=None, min_impurity_split=1e-07,\n",
       "            min_samples_leaf=1, min_samples_split=9,\n",
       "            min_weight_fraction_leaf=0.0, n_estimators=309, n_jobs=-1,\n",
       "            oob_score=False, random_state=100, verbose=0, warm_start=False)"
      ]
     },
     "execution_count": 247,
     "metadata": {},
     "output_type": "execute_result"
    }
   ],
   "source": [
    "best_rand_spl.fit(spl_train,y_train)"
   ]
  },
  {
   "cell_type": "code",
   "execution_count": 248,
   "metadata": {},
   "outputs": [
    {
     "data": {
      "text/plain": [
       "RandomForestClassifier(bootstrap=False, class_weight='balanced',\n",
       "            criterion='entropy', max_depth=3, max_features='auto',\n",
       "            max_leaf_nodes=None, min_impurity_split=1e-07,\n",
       "            min_samples_leaf=5, min_samples_split=9,\n",
       "            min_weight_fraction_leaf=0.0, n_estimators=99, n_jobs=-1,\n",
       "            oob_score=False, random_state=100, verbose=0, warm_start=False)"
      ]
     },
     "execution_count": 248,
     "metadata": {},
     "output_type": "execute_result"
    }
   ],
   "source": [
    "best_rand_70.fit(adv_reac_70_train,y_train)"
   ]
  },
  {
   "cell_type": "code",
   "execution_count": null,
   "metadata": {
    "collapsed": true
   },
   "outputs": [],
   "source": []
  },
  {
   "cell_type": "code",
   "execution_count": 249,
   "metadata": {
    "collapsed": true
   },
   "outputs": [],
   "source": [
    "predictions_train=best.predict(adv_reac_train)\n",
    "predictions_test=best.predict(adv_reac_test)\n",
    "predictions_spl_train=best_spl.predict(spl_train)\n",
    "predictions_spl_test=best_spl.predict(spl_test)\n",
    "predictions_70_train=best_70.predict(adv_reac_70_train)\n",
    "predictions_70_test=best_70.predict(adv_reac_70_test)\n",
    "predictions_rand_train=best_rand.predict(adv_reac_train)\n",
    "predictions_rand_test=best_rand.predict(adv_reac_test)\n",
    "\n",
    "predictions_rand_spl_train=best_rand_spl.predict(spl_train)\n",
    "predictions_rand_spl_test=best_rand_spl.predict(spl_test)\n",
    "\n",
    "predictions_rand_70_train=best_rand_70.predict(adv_reac_70_train)\n",
    "predictions_rand_70_test=best_rand_70.predict(adv_reac_70_test)\n"
   ]
  },
  {
   "cell_type": "code",
   "execution_count": 250,
   "metadata": {},
   "outputs": [
    {
     "name": "stdout",
     "output_type": "stream",
     "text": [
      "0.931818181818\n",
      "0.0266666666667\n",
      "\n",
      "\n",
      "0.372727272727\n",
      "0.021978021978\n",
      "\n",
      "\n",
      "0.954545454545\n",
      "0.0\n",
      "\n",
      "\n",
      "0.572727272727\n",
      "0.0\n",
      "\n",
      "\n",
      "1.0\n",
      "0.02\n",
      "\n",
      "\n",
      "0.4\n",
      "0.0167597765363\n",
      "\n",
      "\n",
      "0.643939393939\n",
      "0.26\n",
      "\n",
      "\n",
      "0.0311013538236\n",
      "0.0113570180547\n",
      "\n",
      "\n",
      "0.818181818182\n",
      "0.0\n",
      "\n",
      "\n",
      "0.0557275541796\n",
      "0.0\n",
      "\n",
      "\n",
      "0.643939393939\n",
      "0.293333333333\n",
      "\n",
      "\n",
      "0.019495412844\n",
      "0.00792649972978\n"
     ]
    }
   ],
   "source": [
    "print recall_score(y_train,predictions_train)\n",
    "print recall_score(y_test,predictions_test)\n",
    "print '\\n'\n",
    "print precision_score(y_train,predictions_train)\n",
    "print precision_score(y_test,predictions_test)\n",
    "print '\\n'\n",
    "print recall_score(y_train,predictions_spl_train)\n",
    "print recall_score(y_test,predictions_spl_test)\n",
    "print '\\n'\n",
    "print precision_score(y_train,predictions_spl_train)\n",
    "print precision_score(y_test, predictions_spl_test)\n",
    "print '\\n'\n",
    "print recall_score(y_train,predictions_70_train)\n",
    "print recall_score(y_test, predictions_70_test)\n",
    "print '\\n'\n",
    "print precision_score(y_train,predictions_70_train)\n",
    "print precision_score(y_test, predictions_70_test)\n",
    "print '\\n'\n",
    "print recall_score(y_train,predictions_rand_train)\n",
    "print recall_score(y_test, predictions_rand_test)\n",
    "\n",
    "print '\\n'\n",
    "print precision_score(y_train,predictions_rand_train)\n",
    "print precision_score(y_test, predictions_rand_test)\n",
    "print '\\n'\n",
    "print recall_score(y_train,predictions_rand_spl_train)\n",
    "print recall_score(y_test, predictions_rand_spl_test)\n",
    "print '\\n'\n",
    "\n",
    "print precision_score(y_train,predictions_rand_spl_train)\n",
    "print precision_score(y_test, predictions_rand_spl_test)\n",
    "print '\\n'\n",
    "print recall_score(y_train,predictions_rand_70_train)\n",
    "print recall_score(y_test, predictions_rand_70_test)\n",
    "print '\\n'\n",
    "print precision_score(y_train,predictions_rand_70_train)\n",
    "print precision_score(y_test, predictions_rand_70_test)"
   ]
  },
  {
   "cell_type": "code",
   "execution_count": 251,
   "metadata": {
    "collapsed": true
   },
   "outputs": [],
   "source": [
    "cm_train=pd.DataFrame(confusion_matrix(y_train,predictions_train), columns=['Pred. 0','Pred. 1'],index=['Actual 0','Actual 1'])\n",
    "cm_spl_train=pd.DataFrame(confusion_matrix(y_train,predictions_spl_train), columns=['Pred. 0','Pred. 1'],index=['Actual 0','Actual 1'])\n",
    "cm_70_train=pd.DataFrame(confusion_matrix(y_train,predictions_70_train), columns=['Pred. 0','Pred. 1'],index=['Actual 0','Actual 1'])\n",
    "cm_rand_train=pd.DataFrame(confusion_matrix(y_train,predictions_rand_train), columns=['Pred. 0','Pred. 1'],index=['Actual 0','Actual 1'])\n",
    "\n",
    "cm_rand_spl_train=pd.DataFrame(confusion_matrix(y_train,predictions_rand_spl_train), columns=['Pred. 0','Pred. 1'],index=['Actual 0','Actual 1'])\n",
    "\n",
    "cm_rand_70_train=pd.DataFrame(confusion_matrix(y_train,predictions_rand_70_train), columns=['Pred. 0','Pred. 1'],index=['Actual 0','Actual 1'])"
   ]
  },
  {
   "cell_type": "code",
   "execution_count": 253,
   "metadata": {},
   "outputs": [
    {
     "name": "stdout",
     "output_type": "stream",
     "text": [
      " Adverse Reactions Training\n",
      "          Pred. 0  Pred. 1\n",
      "Actual 0    40537      207\n",
      "Actual 1        9      123\n",
      "Product Labeling Training\n",
      "          Pred. 0  Pred. 1\n",
      "Actual 0    40650       94\n",
      "Actual 1        6      126\n",
      "Adverse Reactions 70%PCA Training\n",
      "          Pred. 0  Pred. 1\n",
      "Actual 0    40546      198\n",
      "Actual 1        0      132\n",
      "Adverse Reactions Training - RandomSearch\n",
      "          Pred. 0  Pred. 1\n",
      "Actual 0    38096     2648\n",
      "Actual 1       47       85\n",
      "Product Labeling Training - RandomSearch\n",
      "          Pred. 0  Pred. 1\n",
      "Actual 0    38914     1830\n",
      "Actual 1       24      108\n",
      "Adverse Reactions 70%PCA Training - RandomSearch\n",
      "          Pred. 0  Pred. 1\n",
      "Actual 0    36469     4275\n",
      "Actual 1       47       85\n"
     ]
    }
   ],
   "source": [
    "print 'Adverse Reactions Training\\n',cm_train\n",
    "print 'Product Labeling Training\\n',cm_spl_train\n",
    "print 'Adverse Reactions 70%PCA Training\\n',cm_70_train\n",
    "print 'Adverse Reactions Training - RandomSearch\\n',cm_rand_train\n",
    "print 'Product Labeling Training - RandomSearch\\n',cm_rand_spl_train\n",
    "print 'Adverse Reactions 70%PCA Training - RandomSearch\\n',cm_rand_70_train"
   ]
  },
  {
   "cell_type": "code",
   "execution_count": 254,
   "metadata": {
    "collapsed": true
   },
   "outputs": [],
   "source": [
    "cm_test=pd.DataFrame(confusion_matrix(y_test,predictions_test), columns=['Pred. 0','Pred. 1'],index=['Actual 0','Actual 1'])\n",
    "cm_spl_test=pd.DataFrame(confusion_matrix(y_test,predictions_spl_test), columns=['Pred. 0','Pred. 1'],index=['Actual 0','Actual 1'])\n",
    "cm_70_test=pd.DataFrame(confusion_matrix(y_test,predictions_70_test), columns=['Pred. 0','Pred. 1'],index=['Actual 0','Actual 1'])\n",
    "cm_rand_test=pd.DataFrame(confusion_matrix(y_test,predictions_rand_test), columns=['Pred. 0','Pred. 1'],index=['Actual 0','Actual 1'])\n",
    "\n",
    "cm_rand_spl_test=pd.DataFrame(confusion_matrix(y_test,predictions_rand_spl_test), columns=['Pred. 0','Pred. 1'],index=['Actual 0','Actual 1'])\n",
    "\n",
    "cm_rand_70_test=pd.DataFrame(confusion_matrix(y_test,predictions_rand_70_test), columns=['Pred. 0','Pred. 1'],index=['Actual 0','Actual 1'])"
   ]
  },
  {
   "cell_type": "code",
   "execution_count": 255,
   "metadata": {},
   "outputs": [
    {
     "name": "stdout",
     "output_type": "stream",
     "text": [
      "Adverse Reactions Testing\n",
      "          Pred. 0  Pred. 1\n",
      "Actual 0    43624      178\n",
      "Actual 1      146        4\n",
      "Product Labeling Testing\n",
      "          Pred. 0  Pred. 1\n",
      "Actual 0    43802        0\n",
      "Actual 1      150        0\n",
      "Adverse Reactions 70%PCA Testing\n",
      "          Pred. 0  Pred. 1\n",
      "Actual 0    43626      176\n",
      "Actual 1      147        3\n",
      "Adverse Reactions Testing - RandomSearch\n",
      "          Pred. 0  Pred. 1\n",
      "Actual 0    40407     3395\n",
      "Actual 1      111       39\n",
      "Product Labeling Testing - RandomSearch\n",
      "          Pred. 0  Pred. 1\n",
      "Actual 0    43756       46\n",
      "Actual 1      150        0\n",
      "Adverse Reactions 70%PCA Testing - RandomSearch\n",
      "          Pred. 0  Pred. 1\n",
      "Actual 0    38295     5507\n",
      "Actual 1      106       44\n"
     ]
    }
   ],
   "source": [
    "print 'Adverse Reactions Testing\\n',cm_test\n",
    "print 'Product Labeling Testing\\n',cm_spl_test\n",
    "print 'Adverse Reactions 70%PCA Testing\\n',cm_70_test\n",
    "print 'Adverse Reactions Testing - RandomSearch\\n',cm_rand_test\n",
    "print 'Product Labeling Testing - RandomSearch\\n',cm_rand_spl_test\n",
    "print 'Adverse Reactions 70%PCA Testing - RandomSearch\\n',cm_rand_70_test"
   ]
  },
  {
   "cell_type": "code",
   "execution_count": 69,
   "metadata": {
    "collapsed": true
   },
   "outputs": [],
   "source": [
    "##############################"
   ]
  },
  {
   "cell_type": "code",
   "execution_count": 143,
   "metadata": {
    "collapsed": true
   },
   "outputs": [],
   "source": [
    "rfc_2=RandomForestClassifier(n_jobs=-1,class_weight='balanced',random_state=100)"
   ]
  },
  {
   "cell_type": "code",
   "execution_count": 256,
   "metadata": {
    "collapsed": true
   },
   "outputs": [],
   "source": [
    "grid_search_2=GridSearchCV(rfc_2,hyperparameters,scoring='recall')\n",
    "grid_search_2_spl=GridSearchCV(rfc_2,hyperparameters,scoring='recall')\n",
    "grid_search_2_70=GridSearchCV(rfc_2,hyperparameters,scoring='recall')\n",
    "random_search_2=RandomizedSearchCV(rfc_2,param_dist,scoring='recall',n_iter=100,n_jobs=-2)\n",
    "random_search_2_70=RandomizedSearchCV(rfc_2,param_dist,scoring='recall',n_iter=100,n_jobs=-2)"
   ]
  },
  {
   "cell_type": "code",
   "execution_count": 92,
   "metadata": {
    "collapsed": true
   },
   "outputs": [],
   "source": [
    "for col in spl_bool_train:\n",
    "    spl_bool_train[col]=spl_bool_train[col].fillna(0)"
   ]
  },
  {
   "cell_type": "code",
   "execution_count": 188,
   "metadata": {
    "collapsed": true
   },
   "outputs": [],
   "source": [
    "for col in adv_reac_bool_train:\n",
    "    adv_reac_bool_train[col]=adv_reac_bool_train[col].fillna(0)"
   ]
  },
  {
   "cell_type": "code",
   "execution_count": 189,
   "metadata": {},
   "outputs": [
    {
     "data": {
      "text/plain": [
       "Unnamed: 0                             0\n",
       "0                                      0\n",
       "1                                      0\n",
       "2                                      0\n",
       "3                                      0\n",
       "4                                      0\n",
       "5                                      0\n",
       "6                                      0\n",
       "7                                      0\n",
       "8                                      0\n",
       "9                                      0\n",
       "10                                     0\n",
       "11                                     0\n",
       "12                                     0\n",
       "13                                     0\n",
       "14                                     0\n",
       "15                                     0\n",
       "16                                     0\n",
       "17                                     0\n",
       "18                                     0\n",
       "19                                     0\n",
       "20                                     0\n",
       "21                                     0\n",
       "22                                     0\n",
       "23                                     0\n",
       "24                                     0\n",
       "25                                     0\n",
       "26                                     0\n",
       "27                                     0\n",
       "28                                     0\n",
       "                                      ..\n",
       "nonteratogenic_effects                 0\n",
       "nursing_mothers                        0\n",
       "other_safety_information               0\n",
       "patient_medication_information         0\n",
       "pediatric_use                          0\n",
       "pharmacodynamics                       0\n",
       "pharmacogenomics                       0\n",
       "pharmacokinetics                       0\n",
       "precautions                            0\n",
       "pregnancy                              0\n",
       "pregnancy_or_breast_feeding            0\n",
       "questions                              0\n",
       "recent_major_changes                   0\n",
       "residue_warning                        0\n",
       "risks                                  0\n",
       "route                                  0\n",
       "safe_handling_warning                  0\n",
       "spl_indexing_data_elements             0\n",
       "spl_medguide                           0\n",
       "spl_patient_package_insert             0\n",
       "statement_of_identity                  0\n",
       "summary_of_safety_and_effectiveness    0\n",
       "teratogenic_effects                    0\n",
       "troubleshooting                        0\n",
       "use_in_specific_populations            0\n",
       "user_safety_warnings                   0\n",
       "version                                0\n",
       "veterinary_indications                 0\n",
       "warnings_and_cautions                  0\n",
       "when_using                             0\n",
       "dtype: int64"
      ]
     },
     "execution_count": 189,
     "metadata": {},
     "output_type": "execute_result"
    }
   ],
   "source": [
    "adv_reac_bool_train.isnull().sum()"
   ]
  },
  {
   "cell_type": "code",
   "execution_count": 197,
   "metadata": {},
   "outputs": [
    {
     "data": {
      "text/plain": [
       "GridSearchCV(cv=None, error_score='raise',\n",
       "       estimator=RandomForestClassifier(bootstrap=True, class_weight='balanced',\n",
       "            criterion='gini', max_depth=None, max_features='auto',\n",
       "            max_leaf_nodes=None, min_impurity_split=1e-07,\n",
       "            min_samples_leaf=1, min_samples_split=2,\n",
       "            min_weight_fraction_leaf=0.0, n_estimators=10, n_jobs=-1,\n",
       "            oob_score=False, random_state=100, verbose=0, warm_start=False),\n",
       "       fit_params={}, iid=True, n_jobs=1,\n",
       "       param_grid={'n_estimators': [30, 300], 'criterion': ['gini', 'entropy'], 'min_samples_leaf': [1, 5]},\n",
       "       pre_dispatch='2*n_jobs', refit=True, return_train_score=True,\n",
       "       scoring='recall', verbose=0)"
      ]
     },
     "execution_count": 197,
     "metadata": {},
     "output_type": "execute_result"
    }
   ],
   "source": [
    "grid_search_2.fit(adv_reac_bool_train,y_train)\n"
   ]
  },
  {
   "cell_type": "code",
   "execution_count": 198,
   "metadata": {},
   "outputs": [
    {
     "data": {
      "text/plain": [
       "GridSearchCV(cv=None, error_score='raise',\n",
       "       estimator=RandomForestClassifier(bootstrap=True, class_weight='balanced',\n",
       "            criterion='gini', max_depth=None, max_features='auto',\n",
       "            max_leaf_nodes=None, min_impurity_split=1e-07,\n",
       "            min_samples_leaf=1, min_samples_split=2,\n",
       "            min_weight_fraction_leaf=0.0, n_estimators=10, n_jobs=-1,\n",
       "            oob_score=False, random_state=100, verbose=0, warm_start=False),\n",
       "       fit_params={}, iid=True, n_jobs=1,\n",
       "       param_grid={'n_estimators': [30, 300], 'criterion': ['gini', 'entropy'], 'min_samples_leaf': [1, 5]},\n",
       "       pre_dispatch='2*n_jobs', refit=True, return_train_score=True,\n",
       "       scoring='recall', verbose=0)"
      ]
     },
     "execution_count": 198,
     "metadata": {},
     "output_type": "execute_result"
    }
   ],
   "source": [
    "grid_search_2_spl.fit(spl_bool_train,y_train)"
   ]
  },
  {
   "cell_type": "code",
   "execution_count": 192,
   "metadata": {
    "collapsed": true
   },
   "outputs": [],
   "source": [
    "for col in adv_reac_70_bool_train:\n",
    "    adv_reac_70_bool_train[col]=adv_reac_70_bool_train[col].fillna(0)"
   ]
  },
  {
   "cell_type": "code",
   "execution_count": 193,
   "metadata": {},
   "outputs": [
    {
     "data": {
      "text/plain": [
       "Unnamed: 0                               0\n",
       "0                                        0\n",
       "1                                        0\n",
       "2                                        0\n",
       "3                                        0\n",
       "4                                        0\n",
       "5                                        0\n",
       "6                                        0\n",
       "7                                        0\n",
       "8                                        0\n",
       "9                                        0\n",
       "10                                       0\n",
       "11                                       0\n",
       "12                                       0\n",
       "13                                       0\n",
       "14                                       0\n",
       "15                                       0\n",
       "16                                       0\n",
       "17                                       0\n",
       "18                                       0\n",
       "19                                       0\n",
       "20                                       0\n",
       "21                                       0\n",
       "22                                       0\n",
       "23                                       0\n",
       "24                                       0\n",
       "abuse                                    0\n",
       "accessories                              0\n",
       "alarms                                   0\n",
       "animal_pharmacology_and_or_toxicology    0\n",
       "                                        ..\n",
       "nonteratogenic_effects                   0\n",
       "nursing_mothers                          0\n",
       "other_safety_information                 0\n",
       "patient_medication_information           0\n",
       "pediatric_use                            0\n",
       "pharmacodynamics                         0\n",
       "pharmacogenomics                         0\n",
       "pharmacokinetics                         0\n",
       "precautions                              0\n",
       "pregnancy                                0\n",
       "pregnancy_or_breast_feeding              0\n",
       "questions                                0\n",
       "recent_major_changes                     0\n",
       "residue_warning                          0\n",
       "risks                                    0\n",
       "route                                    0\n",
       "safe_handling_warning                    0\n",
       "spl_indexing_data_elements               0\n",
       "spl_medguide                             0\n",
       "spl_patient_package_insert               0\n",
       "statement_of_identity                    0\n",
       "summary_of_safety_and_effectiveness      0\n",
       "teratogenic_effects                      0\n",
       "troubleshooting                          0\n",
       "use_in_specific_populations              0\n",
       "user_safety_warnings                     0\n",
       "version                                  0\n",
       "veterinary_indications                   0\n",
       "warnings_and_cautions                    0\n",
       "when_using                               0\n",
       "dtype: int64"
      ]
     },
     "execution_count": 193,
     "metadata": {},
     "output_type": "execute_result"
    }
   ],
   "source": [
    "adv_reac_70_bool_train.isnull().sum()"
   ]
  },
  {
   "cell_type": "code",
   "execution_count": 194,
   "metadata": {},
   "outputs": [
    {
     "data": {
      "text/plain": [
       "GridSearchCV(cv=None, error_score='raise',\n",
       "       estimator=RandomForestClassifier(bootstrap=True, class_weight='balanced',\n",
       "            criterion='gini', max_depth=None, max_features='auto',\n",
       "            max_leaf_nodes=None, min_impurity_split=1e-07,\n",
       "            min_samples_leaf=1, min_samples_split=2,\n",
       "            min_weight_fraction_leaf=0.0, n_estimators=10, n_jobs=-1,\n",
       "            oob_score=False, random_state=100, verbose=0, warm_start=False),\n",
       "       fit_params={}, iid=True, n_jobs=1,\n",
       "       param_grid={'n_estimators': [30, 300], 'criterion': ['gini', 'entropy'], 'min_samples_leaf': [1, 5]},\n",
       "       pre_dispatch='2*n_jobs', refit=True, return_train_score=True,\n",
       "       scoring='recall', verbose=0)"
      ]
     },
     "execution_count": 194,
     "metadata": {},
     "output_type": "execute_result"
    }
   ],
   "source": [
    "grid_search_2_70.fit(adv_reac_70_bool_train,y_train)"
   ]
  },
  {
   "cell_type": "code",
   "execution_count": 195,
   "metadata": {},
   "outputs": [
    {
     "data": {
      "text/plain": [
       "RandomizedSearchCV(cv=None, error_score='raise',\n",
       "          estimator=RandomForestClassifier(bootstrap=True, class_weight='balanced',\n",
       "            criterion='gini', max_depth=None, max_features='auto',\n",
       "            max_leaf_nodes=None, min_impurity_split=1e-07,\n",
       "            min_samples_leaf=1, min_samples_split=2,\n",
       "            min_weight_fraction_leaf=0.0, n_estimators=10, n_jobs=-1,\n",
       "            oob_score=False, random_state=100, verbose=0, warm_start=False),\n",
       "          fit_params={}, iid=True, n_iter=100, n_jobs=-2,\n",
       "          param_distributions={'bootstrap': [True, False], 'min_samples_leaf': <scipy.stats._distn_infrastructure.rv_frozen object at 0x1107c8590>, 'n_estimators': <scipy.stats._distn_infrastructure.rv_frozen object at 0x11674cf90>, 'criterion': ['gini', 'entropy'], 'min_samples_split': <scipy.stats._distn_infrastructure.rv_frozen object at 0x116f61e50>, 'max_depth': [3, None]},\n",
       "          pre_dispatch='2*n_jobs', random_state=None, refit=True,\n",
       "          return_train_score=True, scoring='recall', verbose=0)"
      ]
     },
     "execution_count": 195,
     "metadata": {},
     "output_type": "execute_result"
    }
   ],
   "source": [
    "random_search_2.fit(adv_reac_bool_train,y_train)"
   ]
  },
  {
   "cell_type": "code",
   "execution_count": 257,
   "metadata": {},
   "outputs": [
    {
     "data": {
      "text/plain": [
       "RandomizedSearchCV(cv=None, error_score='raise',\n",
       "          estimator=RandomForestClassifier(bootstrap=True, class_weight='balanced',\n",
       "            criterion='gini', max_depth=None, max_features='auto',\n",
       "            max_leaf_nodes=None, min_impurity_split=1e-07,\n",
       "            min_samples_leaf=1, min_samples_split=2,\n",
       "            min_weight_fraction_leaf=0.0, n_estimators=10, n_jobs=-1,\n",
       "            oob_score=False, random_state=100, verbose=0, warm_start=False),\n",
       "          fit_params={}, iid=True, n_iter=100, n_jobs=-2,\n",
       "          param_distributions={'bootstrap': [True, False], 'min_samples_leaf': <scipy.stats._distn_infrastructure.rv_frozen object at 0x1107c8590>, 'n_estimators': <scipy.stats._distn_infrastructure.rv_frozen object at 0x11674cf90>, 'criterion': ['gini', 'entropy'], 'min_samples_split': <scipy.stats._distn_infrastructure.rv_frozen object at 0x116f61e50>, 'max_depth': [3, None]},\n",
       "          pre_dispatch='2*n_jobs', random_state=None, refit=True,\n",
       "          return_train_score=True, scoring='recall', verbose=0)"
      ]
     },
     "execution_count": 257,
     "metadata": {},
     "output_type": "execute_result"
    }
   ],
   "source": [
    "random_search_2_70.fit(adv_reac_70_bool_train,y_train)"
   ]
  },
  {
   "cell_type": "code",
   "execution_count": 259,
   "metadata": {},
   "outputs": [
    {
     "ename": "AttributeError",
     "evalue": "'GridSearchCV' object has no attribute 'best_estimator_'",
     "output_type": "error",
     "traceback": [
      "\u001b[0;31m----------------------------------------------------------------------\u001b[0m",
      "\u001b[0;31mAttributeError\u001b[0m                       Traceback (most recent call last)",
      "\u001b[0;32m<ipython-input-259-deffd26ac824>\u001b[0m in \u001b[0;36m<module>\u001b[0;34m()\u001b[0m\n\u001b[0;32m----> 1\u001b[0;31m \u001b[0;32mprint\u001b[0m \u001b[0mgrid_search_2\u001b[0m\u001b[0;34m.\u001b[0m\u001b[0mbest_estimator_\u001b[0m\u001b[0;34m\u001b[0m\u001b[0m\n\u001b[0m\u001b[1;32m      2\u001b[0m \u001b[0;32mprint\u001b[0m \u001b[0mgrid_search_2_spl\u001b[0m\u001b[0;34m.\u001b[0m\u001b[0mbest_estimator_\u001b[0m\u001b[0;34m\u001b[0m\u001b[0m\n\u001b[1;32m      3\u001b[0m \u001b[0;32mprint\u001b[0m \u001b[0mgrid_search_2_70\u001b[0m\u001b[0;34m.\u001b[0m\u001b[0mbest_estimator_\u001b[0m\u001b[0;34m\u001b[0m\u001b[0m\n\u001b[1;32m      4\u001b[0m \u001b[0;32mprint\u001b[0m \u001b[0mrandom_search_2\u001b[0m\u001b[0;34m.\u001b[0m\u001b[0mbest_estimator_\u001b[0m\u001b[0;34m\u001b[0m\u001b[0m\n\u001b[1;32m      5\u001b[0m \u001b[0;32mprint\u001b[0m \u001b[0mrandom_search_2_70\u001b[0m\u001b[0;34m.\u001b[0m\u001b[0mbest_estimator_\u001b[0m\u001b[0;34m\u001b[0m\u001b[0m\n",
      "\u001b[0;31mAttributeError\u001b[0m: 'GridSearchCV' object has no attribute 'best_estimator_'"
     ]
    }
   ],
   "source": [
    "print grid_search_2.best_estimator_\n",
    "print grid_search_2_spl.best_estimator_\n",
    "print grid_search_2_70.best_estimator_\n",
    "print random_search_2.best_estimator_"
   ]
  },
  {
   "cell_type": "code",
   "execution_count": 261,
   "metadata": {},
   "outputs": [
    {
     "name": "stdout",
     "output_type": "stream",
     "text": [
      "RandomForestClassifier(bootstrap=False, class_weight='balanced',\n",
      "            criterion='gini', max_depth=3, max_features='auto',\n",
      "            max_leaf_nodes=None, min_impurity_split=1e-07,\n",
      "            min_samples_leaf=9, min_samples_split=4,\n",
      "            min_weight_fraction_leaf=0.0, n_estimators=41, n_jobs=-1,\n",
      "            oob_score=False, random_state=100, verbose=0, warm_start=False)\n"
     ]
    }
   ],
   "source": [
    "\n",
    "print random_search_2_70.best_estimator_"
   ]
  },
  {
   "cell_type": "code",
   "execution_count": null,
   "metadata": {},
   "outputs": [],
   "source": [
    "print grid_search_2.best_score_\n",
    "print grid_search_2_spl.best_score_\n",
    "print grid_search_2_70.best_score_\n",
    "print random_search_2.best_score_\n"
   ]
  },
  {
   "cell_type": "code",
   "execution_count": 262,
   "metadata": {},
   "outputs": [
    {
     "name": "stdout",
     "output_type": "stream",
     "text": [
      "0.537867853108\n"
     ]
    }
   ],
   "source": [
    "print random_search_2_70.best_score_"
   ]
  },
  {
   "cell_type": "code",
   "execution_count": 263,
   "metadata": {},
   "outputs": [
    {
     "ename": "NotFittedError",
     "evalue": "This GridSearchCV instance is not fitted yet. Call 'fit' with appropriate arguments before using this method.",
     "output_type": "error",
     "traceback": [
      "\u001b[0;31m----------------------------------------------------------------------\u001b[0m",
      "\u001b[0;31mNotFittedError\u001b[0m                       Traceback (most recent call last)",
      "\u001b[0;32m<ipython-input-263-c13d779b8c0e>\u001b[0m in \u001b[0;36m<module>\u001b[0;34m()\u001b[0m\n\u001b[0;32m----> 1\u001b[0;31m \u001b[0;32mprint\u001b[0m \u001b[0mgrid_search_2\u001b[0m\u001b[0;34m.\u001b[0m\u001b[0mbest_params_\u001b[0m\u001b[0;34m\u001b[0m\u001b[0m\n\u001b[0m\u001b[1;32m      2\u001b[0m \u001b[0;32mprint\u001b[0m \u001b[0mgrid_search_2_spl\u001b[0m\u001b[0;34m.\u001b[0m\u001b[0mbest_params_\u001b[0m\u001b[0;34m\u001b[0m\u001b[0m\n\u001b[1;32m      3\u001b[0m \u001b[0;32mprint\u001b[0m \u001b[0mgrid_search_2_70\u001b[0m\u001b[0;34m.\u001b[0m\u001b[0mbest_params_\u001b[0m\u001b[0;34m\u001b[0m\u001b[0m\n\u001b[1;32m      4\u001b[0m \u001b[0;32mprint\u001b[0m \u001b[0mrandom_search_2\u001b[0m\u001b[0;34m.\u001b[0m\u001b[0mbest_params_\u001b[0m\u001b[0;34m\u001b[0m\u001b[0m\n\u001b[1;32m      5\u001b[0m \u001b[0;32mprint\u001b[0m \u001b[0mrandom_search_2_70\u001b[0m\u001b[0;34m.\u001b[0m\u001b[0mbest_params_\u001b[0m\u001b[0;34m\u001b[0m\u001b[0m\n",
      "\u001b[0;32m/Users/ariburian/anaconda2/lib/python2.7/site-packages/sklearn/model_selection/_search.pyc\u001b[0m in \u001b[0;36mbest_params_\u001b[0;34m(self)\u001b[0m\n\u001b[1;32m    651\u001b[0m     \u001b[0;34m@\u001b[0m\u001b[0mproperty\u001b[0m\u001b[0;34m\u001b[0m\u001b[0m\n\u001b[1;32m    652\u001b[0m     \u001b[0;32mdef\u001b[0m \u001b[0mbest_params_\u001b[0m\u001b[0;34m(\u001b[0m\u001b[0mself\u001b[0m\u001b[0;34m)\u001b[0m\u001b[0;34m:\u001b[0m\u001b[0;34m\u001b[0m\u001b[0m\n\u001b[0;32m--> 653\u001b[0;31m         \u001b[0mcheck_is_fitted\u001b[0m\u001b[0;34m(\u001b[0m\u001b[0mself\u001b[0m\u001b[0;34m,\u001b[0m \u001b[0;34m'cv_results_'\u001b[0m\u001b[0;34m)\u001b[0m\u001b[0;34m\u001b[0m\u001b[0m\n\u001b[0m\u001b[1;32m    654\u001b[0m         \u001b[0;32mreturn\u001b[0m \u001b[0mself\u001b[0m\u001b[0;34m.\u001b[0m\u001b[0mcv_results_\u001b[0m\u001b[0;34m[\u001b[0m\u001b[0;34m'params'\u001b[0m\u001b[0;34m]\u001b[0m\u001b[0;34m[\u001b[0m\u001b[0mself\u001b[0m\u001b[0;34m.\u001b[0m\u001b[0mbest_index_\u001b[0m\u001b[0;34m]\u001b[0m\u001b[0;34m\u001b[0m\u001b[0m\n\u001b[1;32m    655\u001b[0m \u001b[0;34m\u001b[0m\u001b[0m\n",
      "\u001b[0;32m/Users/ariburian/anaconda2/lib/python2.7/site-packages/sklearn/utils/validation.pyc\u001b[0m in \u001b[0;36mcheck_is_fitted\u001b[0;34m(estimator, attributes, msg, all_or_any)\u001b[0m\n\u001b[1;32m    688\u001b[0m     \u001b[0;32mif\u001b[0m \u001b[0;32mnot\u001b[0m \u001b[0mall_or_any\u001b[0m\u001b[0;34m(\u001b[0m\u001b[0;34m[\u001b[0m\u001b[0mhasattr\u001b[0m\u001b[0;34m(\u001b[0m\u001b[0mestimator\u001b[0m\u001b[0;34m,\u001b[0m \u001b[0mattr\u001b[0m\u001b[0;34m)\u001b[0m \u001b[0;32mfor\u001b[0m \u001b[0mattr\u001b[0m \u001b[0;32min\u001b[0m \u001b[0mattributes\u001b[0m\u001b[0;34m]\u001b[0m\u001b[0;34m)\u001b[0m\u001b[0;34m:\u001b[0m\u001b[0;34m\u001b[0m\u001b[0m\n\u001b[1;32m    689\u001b[0m         \u001b[0;31m# FIXME NotFittedError_ --> NotFittedError in 0.19\u001b[0m\u001b[0;34m\u001b[0m\u001b[0;34m\u001b[0m\u001b[0m\n\u001b[0;32m--> 690\u001b[0;31m         \u001b[0;32mraise\u001b[0m \u001b[0m_NotFittedError\u001b[0m\u001b[0;34m(\u001b[0m\u001b[0mmsg\u001b[0m \u001b[0;34m%\u001b[0m \u001b[0;34m{\u001b[0m\u001b[0;34m'name'\u001b[0m\u001b[0;34m:\u001b[0m \u001b[0mtype\u001b[0m\u001b[0;34m(\u001b[0m\u001b[0mestimator\u001b[0m\u001b[0;34m)\u001b[0m\u001b[0;34m.\u001b[0m\u001b[0m__name__\u001b[0m\u001b[0;34m}\u001b[0m\u001b[0;34m)\u001b[0m\u001b[0;34m\u001b[0m\u001b[0m\n\u001b[0m\u001b[1;32m    691\u001b[0m \u001b[0;34m\u001b[0m\u001b[0m\n\u001b[1;32m    692\u001b[0m \u001b[0;34m\u001b[0m\u001b[0m\n",
      "\u001b[0;31mNotFittedError\u001b[0m: This GridSearchCV instance is not fitted yet. Call 'fit' with appropriate arguments before using this method."
     ]
    }
   ],
   "source": [
    "print grid_search_2.best_params_\n",
    "print grid_search_2_spl.best_params_\n",
    "print grid_search_2_70.best_params_\n",
    "print random_search_2.best_params_\n",
    "print random_search_2_70.best_params_"
   ]
  },
  {
   "cell_type": "code",
   "execution_count": 264,
   "metadata": {},
   "outputs": [
    {
     "ename": "AttributeError",
     "evalue": "'GridSearchCV' object has no attribute 'best_estimator_'",
     "output_type": "error",
     "traceback": [
      "\u001b[0;31m----------------------------------------------------------------------\u001b[0m",
      "\u001b[0;31mAttributeError\u001b[0m                       Traceback (most recent call last)",
      "\u001b[0;32m<ipython-input-264-a69c27445fae>\u001b[0m in \u001b[0;36m<module>\u001b[0;34m()\u001b[0m\n\u001b[0;32m----> 1\u001b[0;31m \u001b[0mbest_2\u001b[0m\u001b[0;34m=\u001b[0m\u001b[0mgrid_search_2\u001b[0m\u001b[0;34m.\u001b[0m\u001b[0mbest_estimator_\u001b[0m\u001b[0;34m\u001b[0m\u001b[0m\n\u001b[0m\u001b[1;32m      2\u001b[0m \u001b[0mbest_2_spl\u001b[0m\u001b[0;34m=\u001b[0m\u001b[0mgrid_search_2_spl\u001b[0m\u001b[0;34m.\u001b[0m\u001b[0mbest_estimator_\u001b[0m\u001b[0;34m\u001b[0m\u001b[0m\n\u001b[1;32m      3\u001b[0m \u001b[0mbest_2_70\u001b[0m\u001b[0;34m=\u001b[0m\u001b[0mgrid_search_2_70\u001b[0m\u001b[0;34m.\u001b[0m\u001b[0mbest_estimator_\u001b[0m\u001b[0;34m\u001b[0m\u001b[0m\n\u001b[1;32m      4\u001b[0m \u001b[0mbest_2_rand\u001b[0m\u001b[0;34m=\u001b[0m\u001b[0mrandom_search_2\u001b[0m\u001b[0;34m.\u001b[0m\u001b[0mbest_estimator_\u001b[0m\u001b[0;34m\u001b[0m\u001b[0m\n\u001b[1;32m      5\u001b[0m \u001b[0mbest_2_rand_70\u001b[0m\u001b[0;34m=\u001b[0m\u001b[0mrandom_search_2_70\u001b[0m\u001b[0;34m.\u001b[0m\u001b[0mbest_estimator_\u001b[0m\u001b[0;34m\u001b[0m\u001b[0m\n",
      "\u001b[0;31mAttributeError\u001b[0m: 'GridSearchCV' object has no attribute 'best_estimator_'"
     ]
    }
   ],
   "source": [
    "best_2=grid_search_2.best_estimator_\n",
    "best_2_spl=grid_search_2_spl.best_estimator_\n",
    "best_2_70=grid_search_2_70.best_estimator_\n",
    "best_2_rand=random_search_2.best_estimator_\n"
   ]
  },
  {
   "cell_type": "code",
   "execution_count": 298,
   "metadata": {},
   "outputs": [
    {
     "data": {
      "text/plain": [
       "RandomForestClassifier(bootstrap=False, class_weight='balanced',\n",
       "            criterion='gini', max_depth=3, max_features='auto',\n",
       "            max_leaf_nodes=None, min_impurity_split=1e-07,\n",
       "            min_samples_leaf=3, min_samples_split=8,\n",
       "            min_weight_fraction_leaf=0.0, n_estimators=482, n_jobs=-1,\n",
       "            oob_score=False, random_state=100, verbose=0, warm_start=False)"
      ]
     },
     "execution_count": 298,
     "metadata": {},
     "output_type": "execute_result"
    }
   ],
   "source": [
    "best_2_rand"
   ]
  },
  {
   "cell_type": "code",
   "execution_count": null,
   "metadata": {
    "collapsed": true
   },
   "outputs": [],
   "source": []
  },
  {
   "cell_type": "code",
   "execution_count": 265,
   "metadata": {
    "collapsed": true
   },
   "outputs": [],
   "source": [
    "best_2_rand_70=random_search_2_70.best_estimator_"
   ]
  },
  {
   "cell_type": "code",
   "execution_count": 203,
   "metadata": {},
   "outputs": [
    {
     "data": {
      "text/plain": [
       "RandomForestClassifier(bootstrap=True, class_weight='balanced',\n",
       "            criterion='gini', max_depth=None, max_features='auto',\n",
       "            max_leaf_nodes=None, min_impurity_split=1e-07,\n",
       "            min_samples_leaf=5, min_samples_split=2,\n",
       "            min_weight_fraction_leaf=0.0, n_estimators=30, n_jobs=-1,\n",
       "            oob_score=False, random_state=100, verbose=0, warm_start=False)"
      ]
     },
     "execution_count": 203,
     "metadata": {},
     "output_type": "execute_result"
    }
   ],
   "source": [
    "best_2.fit(adv_reac_bool_train,y_train)\n",
    "best_2_spl.fit(spl_bool_train,y_train)"
   ]
  },
  {
   "cell_type": "code",
   "execution_count": 204,
   "metadata": {},
   "outputs": [
    {
     "data": {
      "text/plain": [
       "RandomForestClassifier(bootstrap=True, class_weight='balanced',\n",
       "            criterion='gini', max_depth=None, max_features='auto',\n",
       "            max_leaf_nodes=None, min_impurity_split=1e-07,\n",
       "            min_samples_leaf=5, min_samples_split=2,\n",
       "            min_weight_fraction_leaf=0.0, n_estimators=30, n_jobs=-1,\n",
       "            oob_score=False, random_state=100, verbose=0, warm_start=False)"
      ]
     },
     "execution_count": 204,
     "metadata": {},
     "output_type": "execute_result"
    }
   ],
   "source": [
    "best_2_70.fit(adv_reac_70_bool_train,y_train)"
   ]
  },
  {
   "cell_type": "code",
   "execution_count": 205,
   "metadata": {},
   "outputs": [
    {
     "data": {
      "text/plain": [
       "RandomForestClassifier(bootstrap=False, class_weight='balanced',\n",
       "            criterion='gini', max_depth=3, max_features='auto',\n",
       "            max_leaf_nodes=None, min_impurity_split=1e-07,\n",
       "            min_samples_leaf=3, min_samples_split=8,\n",
       "            min_weight_fraction_leaf=0.0, n_estimators=482, n_jobs=-1,\n",
       "            oob_score=False, random_state=100, verbose=0, warm_start=False)"
      ]
     },
     "execution_count": 205,
     "metadata": {},
     "output_type": "execute_result"
    }
   ],
   "source": [
    "best_2_rand.fit(adv_reac_bool_train,y_train)"
   ]
  },
  {
   "cell_type": "code",
   "execution_count": 266,
   "metadata": {},
   "outputs": [
    {
     "data": {
      "text/plain": [
       "RandomForestClassifier(bootstrap=False, class_weight='balanced',\n",
       "            criterion='gini', max_depth=3, max_features='auto',\n",
       "            max_leaf_nodes=None, min_impurity_split=1e-07,\n",
       "            min_samples_leaf=9, min_samples_split=4,\n",
       "            min_weight_fraction_leaf=0.0, n_estimators=41, n_jobs=-1,\n",
       "            oob_score=False, random_state=100, verbose=0, warm_start=False)"
      ]
     },
     "execution_count": 266,
     "metadata": {},
     "output_type": "execute_result"
    }
   ],
   "source": [
    "best_2_rand_70.fit(adv_reac_70_bool_train,y_train)"
   ]
  },
  {
   "cell_type": "code",
   "execution_count": 267,
   "metadata": {
    "collapsed": true
   },
   "outputs": [],
   "source": [
    "predictions_2_train=best_2.predict(adv_reac_bool_train)\n",
    "predictions_2_test=best_2.predict(adv_reac_bool_test)\n",
    "predictions_2_spl_train=best_2_spl.predict(spl_bool_train)\n",
    "predictions_2_spl_test=best_2_spl.predict(spl_bool_test)\n",
    "predictions_2_70_train=best_2_70.predict(adv_reac_70_bool_train)\n",
    "predictions_2_70_test=best_2_70.predict(adv_reac_70_bool_test)\n",
    "predictions_2_rand_train=best_2_rand.predict(adv_reac_bool_train)\n",
    "predictions_2_rand_test=best_2_rand.predict(adv_reac_bool_test)\n",
    "\n",
    "predictions_2_rand_70_train=best_2_rand_70.predict(adv_reac_70_bool_train)\n",
    "predictions_2_rand_70_test=best_2_rand_70.predict(adv_reac_70_bool_test)"
   ]
  },
  {
   "cell_type": "code",
   "execution_count": 268,
   "metadata": {},
   "outputs": [
    {
     "name": "stdout",
     "output_type": "stream",
     "text": [
      "0.916666666667\n",
      "0.02\n",
      "\n",
      "\n",
      "0.159210526316\n",
      "0.00433526011561\n",
      "\n",
      "\n",
      "0.962121212121\n",
      "0.0\n",
      "\n",
      "\n",
      "0.596244131455\n",
      "0.0\n",
      "\n",
      "\n",
      "0.863636363636\n",
      "0.00666666666667\n",
      "\n",
      "\n",
      "0.207272727273\n",
      "0.0018315018315\n",
      "\n",
      "\n",
      "0.643939393939\n",
      "0.42\n",
      "\n",
      "\n",
      "0.028071334214\n",
      "0.0160714285714\n",
      "\n",
      "\n",
      "0.643939393939\n",
      "0.52\n",
      "\n",
      "\n",
      "0.0139435695538\n",
      "0.0105107128419\n"
     ]
    }
   ],
   "source": [
    "print recall_score(y_train,predictions_2_train)\n",
    "print recall_score(y_test,predictions_2_test)\n",
    "print '\\n'\n",
    "print precision_score(y_train,predictions_2_train)\n",
    "print precision_score(y_test,predictions_2_test)\n",
    "print '\\n'\n",
    "print recall_score(y_train,predictions_2_spl_train)\n",
    "print recall_score(y_test,predictions_2_spl_test)\n",
    "print '\\n'\n",
    "print precision_score(y_train,predictions_2_spl_train)\n",
    "print precision_score(y_test,predictions_2_spl_test)\n",
    "print '\\n'\n",
    "print recall_score(y_train,predictions_2_70_train)\n",
    "print recall_score(y_test,predictions_2_70_test)\n",
    "print '\\n'\n",
    "print precision_score(y_train,predictions_2_70_train)\n",
    "print precision_score(y_test,predictions_2_70_test)\n",
    "print '\\n'\n",
    "print recall_score(y_train,predictions_2_rand_train)\n",
    "print recall_score(y_test,predictions_2_rand_test)\n",
    "print '\\n'\n",
    "print precision_score(y_train,predictions_2_rand_train)\n",
    "print precision_score(y_test,predictions_2_rand_test)\n",
    "\n",
    "print '\\n'\n",
    "print recall_score(y_train,predictions_2_rand_70_train)\n",
    "print recall_score(y_test,predictions_2_rand_70_test)\n",
    "print '\\n'\n",
    "print precision_score(y_train,predictions_2_rand_70_train)\n",
    "print precision_score(y_test,predictions_2_rand_70_test)"
   ]
  },
  {
   "cell_type": "code",
   "execution_count": 269,
   "metadata": {
    "collapsed": true
   },
   "outputs": [],
   "source": [
    "cm_2_train=pd.DataFrame(confusion_matrix(y_train,predictions_2_train), columns=['Pred. 0','Pred. 1'],index=['Actual 0','Actual 1'])\n",
    "cm_2_spl_train=pd.DataFrame(confusion_matrix(y_train,predictions_2_spl_train), columns=['Pred. 0','Pred. 1'],index=['Actual 0','Actual 1'])\n",
    "cm_2_70_train=pd.DataFrame(confusion_matrix(y_train,predictions_2_70_train), columns=['Pred. 0','Pred. 1'],index=['Actual 0','Actual 1'])\n",
    "cm_2_rand_train=pd.DataFrame(confusion_matrix(y_train,predictions_2_rand_train), columns=['Pred. 0','Pred. 1'],index=['Actual 0','Actual 1'])\n",
    "cm_2_rand_70_train=pd.DataFrame(confusion_matrix(y_train,predictions_2_rand_70_train), columns=['Pred. 0','Pred. 1'],index=['Actual 0','Actual 1'])"
   ]
  },
  {
   "cell_type": "code",
   "execution_count": 270,
   "metadata": {},
   "outputs": [
    {
     "name": "stdout",
     "output_type": "stream",
     "text": [
      "Adverse Reactions +Bool Training\n",
      "          Pred. 0  Pred. 1\n",
      "Actual 0    40105      639\n",
      "Actual 1       11      121\n",
      "Product Labeling +Bool Training\n",
      "          Pred. 0  Pred. 1\n",
      "Actual 0    40658       86\n",
      "Actual 1        5      127\n",
      "Adverse Reactions 70%PCA +Bool Training\n",
      "          Pred. 0  Pred. 1\n",
      "Actual 0    40308      436\n",
      "Actual 1       18      114\n",
      "Adverse Reactions +Bool Training - RandomSearch\n",
      "          Pred. 0  Pred. 1\n",
      "Actual 0    37801     2943\n",
      "Actual 1       47       85\n",
      "Adverse Reactions 70%PCA +Bool Training - RandomSearch\n",
      "          Pred. 0  Pred. 1\n",
      "Actual 0    34733     6011\n",
      "Actual 1       47       85\n"
     ]
    }
   ],
   "source": [
    "print 'Adverse Reactions +Bool Training\\n',cm_2_train\n",
    "\n",
    "print 'Product Labeling +Bool Training\\n',cm_2_spl_train\n",
    "print 'Adverse Reactions 70%PCA +Bool Training\\n',cm_2_70_train\n",
    "print 'Adverse Reactions +Bool Training - RandomSearch\\n',cm_2_rand_train\n",
    "print 'Adverse Reactions 70%PCA +Bool Training - RandomSearch\\n',cm_2_rand_70_train"
   ]
  },
  {
   "cell_type": "code",
   "execution_count": 271,
   "metadata": {
    "collapsed": true
   },
   "outputs": [],
   "source": [
    "cm_2_test=pd.DataFrame(confusion_matrix(y_test,predictions_2_test), columns=['Pred. 0','Pred. 1'],index=['Actual 0','Actual 1'])\n",
    "cm_2_spl_test=pd.DataFrame(confusion_matrix(y_test,predictions_2_spl_test), columns=['Pred. 0','Pred. 1'],index=['Actual 0','Actual 1'])\n",
    "cm_2_70_test=pd.DataFrame(confusion_matrix(y_test,predictions_2_70_test), columns=['Pred. 0','Pred. 1'],index=['Actual 0','Actual 1'])\n",
    "cm_2_rand_test=pd.DataFrame(confusion_matrix(y_test,predictions_2_rand_test), columns=['Pred. 0','Pred. 1'],index=['Actual 0','Actual 1'])\n",
    "cm_2_rand_70_test=pd.DataFrame(confusion_matrix(y_test,predictions_2_rand_70_test), columns=['Pred. 0','Pred. 1'],index=['Actual 0','Actual 1'])"
   ]
  },
  {
   "cell_type": "code",
   "execution_count": 297,
   "metadata": {},
   "outputs": [
    {
     "name": "stdout",
     "output_type": "stream",
     "text": [
      "Adverse Reactions +Bool Testing\n",
      "          Pred. 0  Pred. 1\n",
      "Actual 0    43113      689\n",
      "Actual 1      147        3\n",
      "Product Labeling +Bool Testing\n",
      "          Pred. 0  Pred. 1\n",
      "Actual 0    43802        0\n",
      "Actual 1      150        0\n",
      "Adverse Reactions 70%PCA +Bool Testing\n",
      "          Pred. 0  Pred. 1\n",
      "Actual 0    43257      545\n",
      "Actual 1      149        1\n",
      "Adverse Reactions +Bool Testing - RandomSearch\n",
      "          Pred. 0  Pred. 1\n",
      "Actual 0    39945     3857\n",
      "Actual 1       87       63\n",
      "Adverse Reactions 70%PCA +Bool Testing - RandomSearch\n",
      "          Pred. 0  Pred. 1\n",
      "Actual 0    36459     7343\n",
      "Actual 1       72       78\n"
     ]
    }
   ],
   "source": [
    "print 'Adverse Reactions +Bool Testing\\n',cm_2_test\n",
    "print 'Product Labeling +Bool Testing\\n',cm_2_spl_test\n",
    "print 'Adverse Reactions 70%PCA +Bool Testing\\n',cm_2_70_test\n",
    "print 'Adverse Reactions +Bool Testing - RandomSearch\\n',cm_2_rand_test\n",
    "print 'Adverse Reactions 70%PCA +Bool Testing - RandomSearch\\n',cm_2_rand_70_test"
   ]
  },
  {
   "cell_type": "code",
   "execution_count": 295,
   "metadata": {},
   "outputs": [],
   "source": [
    "# print 'Adv. Reac. RandSearch no Bool\\n',cm_rand_test\n",
    "# print 'Adv. Reac. RandSearch yes Bool\\n',cm_2_rand_test\n",
    "\n",
    "# print 'Adv. Reac. RandSearch no Bool+70%PCA\\n',cm_rand_70_test\n",
    "# print 'Adv. Reac. RandSearch yes Bool+70%PCA\\n',cm_2_rand_70_test"
   ]
  },
  {
   "cell_type": "code",
   "execution_count": 294,
   "metadata": {},
   "outputs": [
    {
     "name": "stdout",
     "output_type": "stream",
     "text": [
      "Recall train\n",
      "0.643939393939\n",
      "Recall test\n",
      "0.42\n",
      "\n",
      "\n",
      "Precision train\n",
      "0.028071334214\n",
      "Precision test\n",
      "0.0160714285714\n",
      "\n",
      "\n",
      "w. PCA Recall train\n",
      "0.643939393939\n",
      "w. PCA Recall test\n",
      "0.52\n",
      "\n",
      "\n",
      "w. PCA Precision train\n",
      "0.0139435695538\n",
      "w. PCA Precisin test\n",
      "0.0105107128419\n"
     ]
    }
   ],
   "source": [
    "print 'Recall train\\n',recall_score(y_train,predictions_2_rand_train)\n",
    "print 'Recall test\\n',recall_score(y_test,predictions_2_rand_test)\n",
    "print '\\n'\n",
    "print 'Precision train\\n',precision_score(y_train,predictions_2_rand_train)\n",
    "print 'Precision test\\n',precision_score(y_test,predictions_2_rand_test)\n",
    "\n",
    "print '\\n'\n",
    "print 'w. PCA Recall train\\n',recall_score(y_train,predictions_2_rand_70_train)\n",
    "print 'w. PCA Recall test\\n',recall_score(y_test,predictions_2_rand_70_test)\n",
    "print '\\n'\n",
    "print 'w. PCA Precision train\\n',precision_score(y_train,predictions_2_rand_70_train)\n",
    "print 'w. PCA Precisin test\\n',precision_score(y_test,predictions_2_rand_70_test)"
   ]
  },
  {
   "cell_type": "code",
   "execution_count": 276,
   "metadata": {},
   "outputs": [],
   "source": [
    "total_predictions=pd.Series(predictions_rand_test+predictions_2_rand_test)\n",
    "total_predictions_70=pd.Series(predictions_rand_70_test+predictions_2_rand_70_test)"
   ]
  },
  {
   "cell_type": "code",
   "execution_count": 278,
   "metadata": {},
   "outputs": [
    {
     "name": "stdout",
     "output_type": "stream",
     "text": [
      "0    39616\n",
      "2     3018\n",
      "1     1318\n",
      "dtype: int64\n",
      "0    35707\n",
      "2     4727\n",
      "1     3518\n",
      "dtype: int64\n"
     ]
    }
   ],
   "source": [
    "print total_predictions.value_counts()\n",
    "print total_predictions_70.value_counts()"
   ]
  },
  {
   "cell_type": "code",
   "execution_count": 279,
   "metadata": {},
   "outputs": [],
   "source": [
    "total_predictions_no_2s=total_predictions.apply(lambda x: 1 if (x==2)|(x==1) else 0)"
   ]
  },
  {
   "cell_type": "code",
   "execution_count": 280,
   "metadata": {
    "collapsed": true
   },
   "outputs": [],
   "source": [
    "total_predictions_70_no_2s=total_predictions_70.apply(lambda x: 1 if (x==2)|(x==1) else 0)"
   ]
  },
  {
   "cell_type": "code",
   "execution_count": null,
   "metadata": {},
   "outputs": [],
   "source": []
  },
  {
   "cell_type": "code",
   "execution_count": 281,
   "metadata": {
    "collapsed": true
   },
   "outputs": [],
   "source": [
    "cm_total_predictions=pd.DataFrame(confusion_matrix(y_test,total_predictions_no_2s), columns=['Pred. 0','Pred. 1'],index=['Actual 0','Actual 1'])\n",
    "cm_total_predictions_70=pd.DataFrame(confusion_matrix(y_test,total_predictions_70_no_2s), columns=['Pred. 0','Pred. 1'],index=['Actual 0','Actual 1'])"
   ]
  },
  {
   "cell_type": "code",
   "execution_count": 283,
   "metadata": {},
   "outputs": [
    {
     "name": "stdout",
     "output_type": "stream",
     "text": [
      "          Pred. 0  Pred. 1\n",
      "Actual 0    39532     4270\n",
      "Actual 1       84       66 \n",
      "\n",
      "          Pred. 0  Pred. 1\n",
      "Actual 0    35635     8167\n",
      "Actual 1       72       78\n"
     ]
    }
   ],
   "source": [
    "print cm_total_predictions,'\\n'\n",
    "print cm_total_predictions_70"
   ]
  },
  {
   "cell_type": "code",
   "execution_count": 285,
   "metadata": {
    "collapsed": true
   },
   "outputs": [],
   "source": [
    "#### "
   ]
  },
  {
   "cell_type": "code",
   "execution_count": 292,
   "metadata": {},
   "outputs": [
    {
     "name": "stdout",
     "output_type": "stream",
     "text": [
      "Adv. Reac. RandSearch no Bool TRAIN\n",
      "\n",
      "             precision    recall  f1-score   support\n",
      "\n",
      "          0       1.00      0.94      0.97     40744\n",
      "          1       0.03      0.64      0.06       132\n",
      "\n",
      "avg / total       1.00      0.93      0.96     40876\n",
      "\n",
      "Adv. Reac. RandSearh yes Bool TRAIN\n",
      "\n",
      "             precision    recall  f1-score   support\n",
      "\n",
      "          0       1.00      0.93      0.96     40744\n",
      "          1       0.03      0.64      0.05       132\n",
      "\n",
      "avg / total       1.00      0.93      0.96     40876\n",
      "\n",
      "Adv. Reac. RandSearch no Bool 70%PCA TRAIN\n",
      "\n",
      "             precision    recall  f1-score   support\n",
      "\n",
      "          0       1.00      0.90      0.94     40744\n",
      "          1       0.02      0.64      0.04       132\n",
      "\n",
      "avg / total       1.00      0.89      0.94     40876\n",
      "\n",
      "Adv. Reac. RandSearch yes Bool 70%PCA TRAIN\n",
      "\n",
      "             precision    recall  f1-score   support\n",
      "\n",
      "          0       1.00      0.85      0.92     40744\n",
      "          1       0.01      0.64      0.03       132\n",
      "\n",
      "avg / total       1.00      0.85      0.92     40876\n",
      "\n"
     ]
    }
   ],
   "source": [
    "print 'Adv. Reac. RandSearch no Bool TRAIN\\n'\n",
    "print classification_report(y_train,predictions_rand_train)\n",
    "print 'Adv. Reac. RandSearh yes Bool TRAIN\\n'\n",
    "print classification_report(y_train,predictions_2_rand_train)\n",
    "print 'Adv. Reac. RandSearch no Bool 70%PCA TRAIN\\n'\n",
    "print classification_report(y_train,predictions_rand_70_train)\n",
    "print 'Adv. Reac. RandSearch yes Bool 70%PCA TRAIN\\n'\n",
    "print classification_report(y_train,predictions_2_rand_70_train)"
   ]
  },
  {
   "cell_type": "code",
   "execution_count": 299,
   "metadata": {},
   "outputs": [
    {
     "name": "stdout",
     "output_type": "stream",
     "text": [
      "Adv. Reac. RandSearh yes Bool TEST\n",
      "\n",
      "             precision    recall  f1-score   support\n",
      "\n",
      "          0       1.00      0.91      0.95     43802\n",
      "          1       0.02      0.42      0.03       150\n",
      "\n",
      "avg / total       0.99      0.91      0.95     43952\n",
      "\n",
      "Adv. Reac. RandSearch yes Bool 70%PCA TEST\n",
      "\n",
      "             precision    recall  f1-score   support\n",
      "\n",
      "          0       1.00      0.83      0.91     43802\n",
      "          1       0.01      0.52      0.02       150\n",
      "\n",
      "avg / total       0.99      0.83      0.90     43952\n",
      "\n"
     ]
    }
   ],
   "source": [
    "# print 'Adv. Reac. RandSearch no Bool TEST\\n'\n",
    "# print classification_report(y_test,predictions_rand_test)\n",
    "print 'Adv. Reac. RandSearh yes Bool TEST\\n'\n",
    "print classification_report(y_test,predictions_2_rand_test)\n",
    "# print 'Adv. Reac. RandSearch no Bool 70%PCA TEST\\n'\n",
    "# print classification_report(y_test,predictions_rand_70_test)\n",
    "print 'Adv. Reac. RandSearch yes Bool 70%PCA TEST\\n'\n",
    "print classification_report(y_test,predictions_2_rand_70_test)"
   ]
  },
  {
   "cell_type": "markdown",
   "metadata": {},
   "source": []
  },
  {
   "cell_type": "code",
   "execution_count": 300,
   "metadata": {},
   "outputs": [
    {
     "data": {
      "text/plain": [
       "3486"
      ]
     },
     "execution_count": 300,
     "metadata": {},
     "output_type": "execute_result"
    }
   ],
   "source": [
    "7343-3857"
   ]
  },
  {
   "cell_type": "code",
   "execution_count": 303,
   "metadata": {},
   "outputs": [
    {
     "data": {
      "text/plain": [
       "94.14102564102564"
      ]
     },
     "execution_count": 303,
     "metadata": {},
     "output_type": "execute_result"
    }
   ],
   "source": [
    "7343/78.0"
   ]
  },
  {
   "cell_type": "code",
   "execution_count": 113,
   "metadata": {},
   "outputs": [
    {
     "data": {
      "text/plain": [
       "0.08"
      ]
     },
     "execution_count": 113,
     "metadata": {},
     "output_type": "execute_result"
    }
   ],
   "source": [
    "12/150.0"
   ]
  },
  {
   "cell_type": "code",
   "execution_count": 114,
   "metadata": {
    "collapsed": true
   },
   "outputs": [],
   "source": [
    "#################"
   ]
  },
  {
   "cell_type": "code",
   "execution_count": 128,
   "metadata": {},
   "outputs": [
    {
     "name": "stderr",
     "output_type": "stream",
     "text": [
      "[Parallel(n_jobs=4)]: Done   5 tasks      | elapsed:    0.0s\n",
      "[Parallel(n_jobs=4)]: Done  10 tasks      | elapsed:    0.0s\n",
      "[Parallel(n_jobs=4)]: Done  17 tasks      | elapsed:    0.0s\n",
      "[Parallel(n_jobs=4)]: Done  24 tasks      | elapsed:    0.1s\n",
      "[Parallel(n_jobs=4)]: Done  33 tasks      | elapsed:    0.1s\n",
      "[Parallel(n_jobs=4)]: Done  42 tasks      | elapsed:    0.1s\n",
      "[Parallel(n_jobs=4)]: Done  53 tasks      | elapsed:    0.1s\n",
      "[Parallel(n_jobs=4)]: Done  64 tasks      | elapsed:    0.2s\n",
      "[Parallel(n_jobs=4)]: Done  77 tasks      | elapsed:    0.2s\n",
      "[Parallel(n_jobs=4)]: Done  90 tasks      | elapsed:    0.2s\n",
      "[Parallel(n_jobs=4)]: Done 105 tasks      | elapsed:    0.3s\n",
      "[Parallel(n_jobs=4)]: Done 120 tasks      | elapsed:    0.3s\n",
      "[Parallel(n_jobs=4)]: Done 137 tasks      | elapsed:    0.3s\n",
      "[Parallel(n_jobs=4)]: Done 154 tasks      | elapsed:    0.4s\n",
      "[Parallel(n_jobs=4)]: Done 173 tasks      | elapsed:    0.4s\n",
      "[Parallel(n_jobs=4)]: Done 192 tasks      | elapsed:    0.5s\n",
      "[Parallel(n_jobs=4)]: Done 213 tasks      | elapsed:    0.7s\n",
      "[Parallel(n_jobs=4)]: Done 234 tasks      | elapsed:    0.8s\n",
      "[Parallel(n_jobs=4)]: Done 257 tasks      | elapsed:    0.8s\n",
      "[Parallel(n_jobs=4)]: Done 280 tasks      | elapsed:    0.9s\n",
      "[Parallel(n_jobs=4)]: Done 300 out of 300 | elapsed:    0.9s finished\n",
      "[Parallel(n_jobs=4)]: Done   5 tasks      | elapsed:    0.0s\n",
      "[Parallel(n_jobs=4)]: Done  10 tasks      | elapsed:    0.0s\n",
      "[Parallel(n_jobs=4)]: Done  17 tasks      | elapsed:    0.0s\n",
      "[Parallel(n_jobs=4)]: Done  24 tasks      | elapsed:    0.1s\n",
      "[Parallel(n_jobs=4)]: Done  33 tasks      | elapsed:    0.1s\n",
      "[Parallel(n_jobs=4)]: Done  42 tasks      | elapsed:    0.1s\n",
      "[Parallel(n_jobs=4)]: Done  53 tasks      | elapsed:    0.1s\n",
      "[Parallel(n_jobs=4)]: Done  64 tasks      | elapsed:    0.2s\n",
      "[Parallel(n_jobs=4)]: Done  77 tasks      | elapsed:    0.2s\n",
      "[Parallel(n_jobs=4)]: Done  90 tasks      | elapsed:    0.2s\n",
      "[Parallel(n_jobs=4)]: Done 105 tasks      | elapsed:    0.3s\n",
      "[Parallel(n_jobs=4)]: Done 120 tasks      | elapsed:    0.3s\n",
      "[Parallel(n_jobs=4)]: Done 137 tasks      | elapsed:    0.3s\n",
      "[Parallel(n_jobs=4)]: Done 154 tasks      | elapsed:    0.4s\n",
      "[Parallel(n_jobs=4)]: Done 173 tasks      | elapsed:    0.4s\n",
      "[Parallel(n_jobs=4)]: Done 192 tasks      | elapsed:    0.5s\n",
      "[Parallel(n_jobs=4)]: Done 213 tasks      | elapsed:    0.6s\n",
      "[Parallel(n_jobs=4)]: Done 234 tasks      | elapsed:    0.7s\n",
      "[Parallel(n_jobs=4)]: Done 257 tasks      | elapsed:    0.8s\n",
      "[Parallel(n_jobs=4)]: Done 280 tasks      | elapsed:    0.9s\n",
      "[Parallel(n_jobs=4)]: Done 300 out of 300 | elapsed:    0.9s finished\n"
     ]
    }
   ],
   "source": [
    "probablities_train=best_2.predict_proba(adv_reac_bool_train)\n",
    "probablities_test=best_2.predict_proba(adv_reac_bool_test)\n",
    "\n"
   ]
  },
  {
   "cell_type": "code",
   "execution_count": 129,
   "metadata": {},
   "outputs": [
    {
     "data": {
      "text/plain": [
       "array([[ 1.        ,  0.        ],\n",
       "       [ 1.        ,  0.        ],\n",
       "       [ 1.        ,  0.        ],\n",
       "       ..., \n",
       "       [ 0.31676327,  0.68323673],\n",
       "       [ 0.59869463,  0.40130537],\n",
       "       [ 0.07500187,  0.92499813]])"
      ]
     },
     "execution_count": 129,
     "metadata": {},
     "output_type": "execute_result"
    }
   ],
   "source": [
    "probabilities_train"
   ]
  },
  {
   "cell_type": "code",
   "execution_count": 130,
   "metadata": {
    "collapsed": true
   },
   "outputs": [],
   "source": [
    "fp_train, tp_train, thresholds_train = roc_curve(y_train, probabilities_train[:,1], pos_label=1)"
   ]
  },
  {
   "cell_type": "code",
   "execution_count": 133,
   "metadata": {},
   "outputs": [
    {
     "data": {
      "text/plain": [
       "array([  9.99244583e-01,   9.90632591e-01,   9.85564777e-01, ...,\n",
       "         1.22833555e-04,   1.16094139e-04,   0.00000000e+00])"
      ]
     },
     "execution_count": 133,
     "metadata": {},
     "output_type": "execute_result"
    }
   ],
   "source": [
    "thresholds_train"
   ]
  },
  {
   "cell_type": "code",
   "execution_count": 132,
   "metadata": {},
   "outputs": [
    {
     "data": {
      "text/plain": [
       "0.98475874604949531"
      ]
     },
     "execution_count": 132,
     "metadata": {},
     "output_type": "execute_result"
    }
   ],
   "source": [
    "auc(fp_train, tp_train)"
   ]
  },
  {
   "cell_type": "code",
   "execution_count": null,
   "metadata": {
    "collapsed": true
   },
   "outputs": [],
   "source": [
    "plt.plot(fp_train, tp_train)\n",
    "plt.plot([0, 1], [0, 1], linestyle='--')"
   ]
  },
  {
   "cell_type": "code",
   "execution_count": 137,
   "metadata": {},
   "outputs": [
    {
     "data": {
      "image/png": "[encoded data removed]",
      "text/plain": [
       "<matplotlib.figure.Figure at 0x136a70e90>"
      ]
     },
     "metadata": {},
     "output_type": "display_data"
    }
   ],
   "source": [
    "plt.plot(fp_train, tp_train)\n",
    "plt.plot([0, 1], [0, 1], linestyle='--')\n",
    "plt.show()"
   ]
  },
  {
   "cell_type": "code",
   "execution_count": 138,
   "metadata": {
    "collapsed": true
   },
   "outputs": [],
   "source": [
    "fp_test, tp_test, thresholds_test = roc_curve(y_test, probabilities_test[:,1], pos_label=1)"
   ]
  },
  {
   "cell_type": "code",
   "execution_count": 139,
   "metadata": {},
   "outputs": [
    {
     "data": {
      "text/plain": [
       "0.45506346742157888"
      ]
     },
     "execution_count": 139,
     "metadata": {},
     "output_type": "execute_result"
    }
   ],
   "source": [
    "auc(fp_test, tp_test)"
   ]
  },
  {
   "cell_type": "code",
   "execution_count": 140,
   "metadata": {},
   "outputs": [
    {
     "data": {
      "image/png": "[encoded data removed]",
      "text/plain": [
       "<matplotlib.figure.Figure at 0x1109b93d0>"
      ]
     },
     "metadata": {},
     "output_type": "display_data"
    }
   ],
   "source": [
    "plt.plot(fp_test, tp_test)\n",
    "plt.plot([0, 1], [0, 1], linestyle='--')\n",
    "plt.show()"
   ]
  },
  {
   "cell_type": "code",
   "execution_count": 144,
   "metadata": {
    "collapsed": true
   },
   "outputs": [],
   "source": [
    "p_train,r_train,thresh_train=precision_recall_curve(y_train, probabilities_train[:,1], pos_label=1)"
   ]
  },
  {
   "cell_type": "code",
   "execution_count": 154,
   "metadata": {},
   "outputs": [
    {
     "data": {
      "image/png": "[encoded data removed]",
      "text/plain": [
       "<matplotlib.figure.Figure at 0x10e352110>"
      ]
     },
     "metadata": {},
     "output_type": "display_data"
    }
   ],
   "source": [
    "plt.plot(p_train, r_train)\n",
    "\n",
    "plt.show()"
   ]
  },
  {
   "cell_type": "code",
   "execution_count": 146,
   "metadata": {
    "collapsed": true
   },
   "outputs": [],
   "source": [
    "p_test,r_test,thresh_test=precision_recall_curve(y_test, probabilities_test[:,1], pos_label=1)"
   ]
  },
  {
   "cell_type": "code",
   "execution_count": 153,
   "metadata": {},
   "outputs": [
    {
     "data": {
      "image/png": "[encoded data removed]",
      "text/plain": [
       "<matplotlib.figure.Figure at 0x10e47d450>"
      ]
     },
     "metadata": {},
     "output_type": "display_data"
    }
   ],
   "source": [
    "plt.plot(p_train, r_train)\n",
    "plt.xlim(0,0.2)\n",
    "plt.show()"
   ]
  },
  {
   "cell_type": "code",
   "execution_count": null,
   "metadata": {
    "collapsed": true
   },
   "outputs": [],
   "source": []
  }
 ],
 "metadata": {
  "kernelspec": {
   "display_name": "Python 2",
   "language": "python",
   "name": "python2"
  },
  "language_info": {
   "codemirror_mode": {
    "name": "ipython",
    "version": 2
   },
   "file_extension": ".py",
   "mimetype": "text/x-python",
   "name": "python",
   "nbconvert_exporter": "python",
   "pygments_lexer": "ipython2",
   "version": "2.7.13"
  }
 },
 "nbformat": 4,
 "nbformat_minor": 2
}
