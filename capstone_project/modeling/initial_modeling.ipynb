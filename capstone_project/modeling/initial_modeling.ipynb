{
 "cells": [
  {
   "cell_type": "code",
   "execution_count": 1,
   "metadata": {
    "collapsed": true
   },
   "outputs": [],
   "source": [
    "import numpy as np\n",
    "import pandas as pd"
   ]
  },
  {
   "cell_type": "code",
   "execution_count": 2,
   "metadata": {},
   "outputs": [],
   "source": [
    "df=pd.read_csv('../datasets/NDC-drugs-with-recalls.csv')"
   ]
  },
  {
   "cell_type": "code",
   "execution_count": 3,
   "metadata": {},
   "outputs": [
    {
     "data": {
      "text/plain": [
       "\"[u'12 CLINICAL PHARMACOLOGY 12.1 Mechanism of Action The mechanism of action of carisoprodol in relieving discomfort associated with acute painful musculoskeletal conditions has not been clearly identified. In animal studies, muscle relaxation induced by carisoprodol is associated with altered interneuronal activity in the spinal cord and in the descending reticular formation of the brain. 12.2 Pharmacodynamics Carisoprodol is a centrally acting skeletal muscle relaxant that does not directly relax skeletal muscles. A metabolite of carisoprodol, meprobamate, has anxiolytic and sedative properties. The degree to which these properties of meprobamate contribute to the safety and efficacy of carisoprodol is unknown. 12.3 Pharmacokinetics The pharmacokinetics of carisoprodol and its metabolite meprobamate were studied in a crossover study of 24 healthy subjects (12 male and 12 female) who received single doses of 250 mg and 350 mg carisoprodol (see Table 2). The exposure of carisoprodol and meprobamate was dose proportional between the 250 mg and 350 mg doses. The Cmax of meprobamate was 2.5 \\\\xb1 0.5 \\\\u03bcg/mL (mean \\\\xb1 SD) after administration of a single 350 mg dose of carisoprodol, which is approximately 30% of the Cmax of meprobamate (approximately 8 \\\\u03bcg/mL) after administration of a single 400 mg dose of meprobamate. Table 2. Pharmacokinetic Parameters of Carisoprodol and Meprobamate (Mean \\\\xb1 SD, n=24) 250 mg Carisoprodol 350 mg Carisoprodol Carisoprodol Cmax (\\\\u03bcg/mL) 1.2 \\\\xb1 0.5 1.8 \\\\xb1 1.0 AUCinf (\\\\u03bcg*hr/mL) 4.5 \\\\xb1 3.1 7.0 \\\\xb1 5.0 Tmax (hr) 1.5 \\\\xb1 0.8 1.7 \\\\xb1 0.8 T\\\\xbd (hr) 1.7 \\\\xb1 0.5 2.0 \\\\xb1 0.5 Meprobamate Cmax (\\\\u03bcg/mL) 1.8 \\\\xb1 0.3 2.5 \\\\xb1 0.5 AUCinf (\\\\u03bcg*hr/mL) 32 \\\\xb1 6.2 46 \\\\xb1 9.0 Tmax (hr) 3.6 \\\\xb1 1.7 4.5 \\\\xb1 1.9 T\\\\xbd (hr) 9.7 \\\\xb1 1.7 9.6 \\\\xb1 1.5 Absorption: Absolute bioavailability of carisoprodol has not been determined. The mean time to peak plasma concentrations (Tmax) of carisoprodol was approximately 1.5 to 2 hours. Co-administration of a high-fat meal with carisoprodol (350 mg tablet) had no effect on the pharmacokinetics of carisoprodol. Therefore, carisoprodol may be administered with or without food. Metabolism: The major pathway of carisoprodol metabolism is via the liver by cytochrome enzyme CYP2C19 to form meprobamate. This enzyme exhibits genetic polymorphism (see Patients with Reduced CYP2C19 Activity below). Elimination: Carisoprodol is eliminated by both renal and non-renal routes with a terminal elimination half-life of approximately 2 hours. The half-life of meprobamate is approximately 10 hours. Gender: Exposure of carisoprodol is higher in female than in male subjects (approximately 30 to 50% on a weight adjusted basis). Overall exposure of meprobamate is comparable between female and male subjects. Patients with Reduced CYP2C19 Activity: Carisoprodol should be used with caution in patients with reduced CYP2C19 activity. Published studies indicate that patients who are poor CYP2C19 metabolizers have a 4-fold increase in exposure to carisoprodol, and concomitant 50% reduced exposure to meprobamate compared to normal CYP2C19 metabolizers. The prevalence of poor metabolizers in Caucasians and African Americans is approximately 3 to 5% and in Asians is approximately 15 to 20%.']\""
      ]
     },
     "execution_count": 3,
     "metadata": {},
     "output_type": "execute_result"
    }
   ],
   "source": [
    "df['clinical_pharmacology'][1]"
   ]
  },
  {
   "cell_type": "code",
   "execution_count": 4,
   "metadata": {},
   "outputs": [
    {
     "data": {
      "text/plain": [
       "Index([u'Unnamed: 0', u'Unnamed: 0_label', u'Unnamed: 0.1', u'abuse',\n",
       "       u'accessories', u'active_ingredient', u'adverse_reactions', u'alarms',\n",
       "       u'animal_pharmacology_and_or_toxicology', u'ask_doctor',\n",
       "       ...\n",
       "       u'good_ndcs', u'company_recall', u'product_recall', u'unix_label',\n",
       "       u'unix_diff', u'diff_years', u'target', u'under_3', u'under_2',\n",
       "       u'under_1'],\n",
       "      dtype='object', length=107)"
      ]
     },
     "execution_count": 4,
     "metadata": {},
     "output_type": "execute_result"
    }
   ],
   "source": [
    "df.columns"
   ]
  },
  {
   "cell_type": "code",
   "execution_count": 5,
   "metadata": {
    "collapsed": true
   },
   "outputs": [],
   "source": [
    "df.drop('Unnamed: 0', axis=1, inplace=True)\n",
    "df.drop('Unnamed: 0_label', axis=1, inplace=True)\n",
    "df.drop('Unnamed: 0.1', axis=1, inplace=True)\n"
   ]
  },
  {
   "cell_type": "code",
   "execution_count": 6,
   "metadata": {},
   "outputs": [
    {
     "name": "stdout",
     "output_type": "stream",
     "text": [
      "<class 'pandas.core.frame.DataFrame'>\n",
      "RangeIndex: 87251 entries, 0 to 87250\n",
      "Columns: 104 entries, abuse to under_1\n",
      "dtypes: float64(8), int64(77), object(19)\n",
      "memory usage: 69.2+ MB\n"
     ]
    }
   ],
   "source": [
    "df.info()\n",
    "    "
   ]
  },
  {
   "cell_type": "code",
   "execution_count": 7,
   "metadata": {
    "collapsed": true
   },
   "outputs": [],
   "source": [
    "#for col in df.columns:"
   ]
  },
  {
   "cell_type": "code",
   "execution_count": 8,
   "metadata": {},
   "outputs": [
    {
     "data": {
      "text/plain": [
       "numpy.int64"
      ]
     },
     "execution_count": 8,
     "metadata": {},
     "output_type": "execute_result"
    }
   ],
   "source": [
    "type(df['company_label'][0])"
   ]
  },
  {
   "cell_type": "code",
   "execution_count": 9,
   "metadata": {},
   "outputs": [
    {
     "name": "stdout",
     "output_type": "stream",
     "text": [
      "['abuse', 'accessories', 'alarms', 'animal_pharmacology_and_or_toxicology', 'ask_doctor', 'ask_doctor_or_pharmacist', 'assembly_or_installation_instructions', 'boxed_warning', 'calibration_instructions', 'carcinogenesis_and_mutagenesis_and_impairment_of_fertility', 'cleaning', 'clinical_studies', 'components', 'controlled_substance', 'dependence', 'diagram_of_device', 'disposal_and_waste_handling', 'do_not_use', 'dosage_forms_and_strengths', 'drug_abuse_and_dependence', 'drug_and_or_laboratory_test_interactions', 'drug_interactions', 'environmental_warning', 'food_safety_warning', 'general_precautions', 'geriatric_use', 'guaranteed_analysis_of_feed', 'health_care_provider_letter', 'health_claim', 'information_for_owners_or_caregivers', 'information_for_patients', 'instructions_for_use', 'intended_use_of_the_device', 'labor_and_delivery', 'laboratory_tests', 'mechanism_of_action', 'microbiology', 'nonclinical_toxicology', 'nonteratogenic_effects', 'nursing_mothers', 'other_safety_information', 'patient_medication_information', 'pediatric_use', 'pharmacodynamics', 'pharmacogenomics', 'pharmacokinetics', 'precautions', 'pregnancy', 'pregnancy_or_breast_feeding', 'questions', 'recent_major_changes', 'residue_warning', 'risks', 'route', 'safe_handling_warning', 'spl_indexing_data_elements', 'spl_medguide', 'spl_patient_package_insert', 'statement_of_identity', 'summary_of_safety_and_effectiveness', 'teratogenic_effects', 'troubleshooting', 'use_in_specific_populations', 'user_safety_warnings', 'version', 'veterinary_indications', 'warnings_and_cautions', 'when_using', 'date', 'month', 'year', 'company_label', 'product_label', 'target', 'under_3', 'under_2', 'under_1'] \n",
      "77 \n",
      "\n",
      "['adverse_reactions', 'clinical_pharmacology', 'contraindications', 'description', 'dosage_and_administration', 'how_supplied', 'indications_and_usage', 'overdosage', 'spl_product_data_elements', 'NDCs', 'unq_ndc'] \n",
      "11 \n",
      "\n",
      "['Unnamed: 0_recall', 'unix', 'good_ndcs', 'company_recall', 'product_recall', 'unix_label', 'unix_diff', 'diff_years'] \n",
      "8 \n",
      "\n"
     ]
    }
   ],
   "source": [
    "int_cols=[]\n",
    "nlp_cols=[]\n",
    "float_cols=[]\n",
    "for col in df.columns:\n",
    "    if (type(df[col][0])==str):\n",
    "        nlp_cols.append(col)\n",
    "    elif (type(df[col][0])==np.int64):\n",
    "        int_cols.append(col)\n",
    "    elif (type(df[col][0])==np.float64):\n",
    "        float_cols.append(col)\n",
    "print int_cols,'\\n',len(int_cols),'\\n'\n",
    "print nlp_cols,'\\n',len(nlp_cols),'\\n'\n",
    "print float_cols,'\\n',len(float_cols),'\\n'\n",
    "          \n",
    "            "
   ]
  },
  {
   "cell_type": "code",
   "execution_count": 10,
   "metadata": {
    "collapsed": true
   },
   "outputs": [],
   "source": [
    "int_cols.remove('target')"
   ]
  },
  {
   "cell_type": "code",
   "execution_count": 11,
   "metadata": {
    "collapsed": true
   },
   "outputs": [],
   "source": [
    "int_cols.remove('under_3')\n",
    "int_cols.remove('under_2')\n",
    "int_cols.remove('under_1')\n"
   ]
  },
  {
   "cell_type": "code",
   "execution_count": 12,
   "metadata": {},
   "outputs": [
    {
     "data": {
      "text/plain": [
       "73"
      ]
     },
     "execution_count": 12,
     "metadata": {},
     "output_type": "execute_result"
    }
   ],
   "source": [
    "len(int_cols)"
   ]
  },
  {
   "cell_type": "code",
   "execution_count": null,
   "metadata": {
    "collapsed": true
   },
   "outputs": [],
   "source": []
  },
  {
   "cell_type": "code",
   "execution_count": 13,
   "metadata": {
    "collapsed": true
   },
   "outputs": [],
   "source": [
    "int_cols.remove('company_label')\n",
    "int_cols.remove('product_label')"
   ]
  },
  {
   "cell_type": "code",
   "execution_count": 14,
   "metadata": {
    "collapsed": true
   },
   "outputs": [],
   "source": [
    "nlp_cols.remove('NDCs')\n",
    "nlp_cols.remove('unq_ndc')"
   ]
  },
  {
   "cell_type": "code",
   "execution_count": 15,
   "metadata": {},
   "outputs": [
    {
     "name": "stdout",
     "output_type": "stream",
     "text": [
      "71\n",
      "9\n"
     ]
    }
   ],
   "source": [
    "print len(int_cols)\n",
    "print len(nlp_cols)"
   ]
  },
  {
   "cell_type": "code",
   "execution_count": 16,
   "metadata": {},
   "outputs": [
    {
     "data": {
      "text/plain": [
       "['adverse_reactions',\n",
       " 'clinical_pharmacology',\n",
       " 'contraindications',\n",
       " 'description',\n",
       " 'dosage_and_administration',\n",
       " 'how_supplied',\n",
       " 'indications_and_usage',\n",
       " 'overdosage',\n",
       " 'spl_product_data_elements']"
      ]
     },
     "execution_count": 16,
     "metadata": {},
     "output_type": "execute_result"
    }
   ],
   "source": [
    "nlp_cols\n"
   ]
  },
  {
   "cell_type": "code",
   "execution_count": 17,
   "metadata": {},
   "outputs": [
    {
     "name": "stdout",
     "output_type": "stream",
     "text": [
      "Unnamed: 0_recall nan\n",
      "unix nan\n",
      "good_ndcs nan\n",
      "company_recall nan\n",
      "product_recall nan\n",
      "unix_label 1269925200.0\n",
      "unix_diff nan\n",
      "diff_years nan\n"
     ]
    }
   ],
   "source": [
    "for col in float_cols:\n",
    "    print col,df[col][100]"
   ]
  },
  {
   "cell_type": "code",
   "execution_count": 18,
   "metadata": {
    "collapsed": true
   },
   "outputs": [],
   "source": [
    "df.drop('Unnamed: 0_recall', axis=1, inplace=True)"
   ]
  },
  {
   "cell_type": "code",
   "execution_count": 19,
   "metadata": {},
   "outputs": [
    {
     "name": "stdout",
     "output_type": "stream",
     "text": [
      "410\n",
      "87251\n",
      "410\n",
      "283\n",
      "140\n"
     ]
    }
   ],
   "source": [
    "print df['target'].sum()\n",
    "print len(df['target'])\n",
    "print df['under_3'].sum()\n",
    "print df['under_2'].sum()\n",
    "print df['under_1'].sum()\n"
   ]
  },
  {
   "cell_type": "code",
   "execution_count": 20,
   "metadata": {},
   "outputs": [
    {
     "name": "stdout",
     "output_type": "stream",
     "text": [
      "2016    22349\n",
      "2015    14441\n",
      "2014    11066\n",
      "2013     9198\n",
      "2012     8136\n",
      "2017     7162\n",
      "2011     6717\n",
      "2010     5759\n",
      "2009     2230\n",
      "2006       42\n",
      "2008       34\n",
      "2007       28\n",
      "2004       16\n",
      "2003       14\n",
      "2005        8\n",
      "2001        7\n",
      "2000        7\n",
      "2002        5\n",
      "1998        5\n",
      "1997        5\n",
      "1986        3\n",
      "1987        3\n",
      "1996        3\n",
      "1994        3\n",
      "1993        2\n",
      "1990        1\n",
      "1989        1\n",
      "1977        1\n",
      "1991        1\n",
      "1992        1\n",
      "1999        1\n",
      "1970        1\n",
      "1984        1\n",
      "Name: year, dtype: int64\n"
     ]
    }
   ],
   "source": [
    "print df['year'].value_counts()"
   ]
  },
  {
   "cell_type": "code",
   "execution_count": 21,
   "metadata": {
    "collapsed": true
   },
   "outputs": [],
   "source": [
    "predict_years=[2014,2015,2016]"
   ]
  },
  {
   "cell_type": "code",
   "execution_count": 22,
   "metadata": {
    "collapsed": true
   },
   "outputs": [],
   "source": [
    "df_test_train=df[(df['year'] !=2014) & (df['year'] !=2015) & (df['year'] !=2016)]"
   ]
  },
  {
   "cell_type": "code",
   "execution_count": 23,
   "metadata": {},
   "outputs": [
    {
     "data": {
      "text/plain": [
       "array([2013, 2010, 2012, 2009, 2011, 2007, 2006, 2017, 2008, 1993, 1986,\n",
       "       2004, 2003, 1990, 2001, 2002, 1997, 1989, 2005, 2000, 1998, 1994,\n",
       "       1987, 1991, 1992, 1984, 1996, 1977, 1970, 1999])"
      ]
     },
     "execution_count": 23,
     "metadata": {},
     "output_type": "execute_result"
    }
   ],
   "source": [
    "df_test_train['year'].unique()"
   ]
  },
  {
   "cell_type": "code",
   "execution_count": 24,
   "metadata": {
    "collapsed": true
   },
   "outputs": [],
   "source": [
    "df_predict=df[(df['year'] ==2014) | (df['year'] ==2015) | (df['year'] ==2016)]"
   ]
  },
  {
   "cell_type": "code",
   "execution_count": 25,
   "metadata": {},
   "outputs": [
    {
     "data": {
      "text/plain": [
       "array([2014, 2015, 2016])"
      ]
     },
     "execution_count": 25,
     "metadata": {},
     "output_type": "execute_result"
    }
   ],
   "source": [
    "df_predict['year'].unique()"
   ]
  },
  {
   "cell_type": "code",
   "execution_count": 26,
   "metadata": {},
   "outputs": [
    {
     "name": "stdout",
     "output_type": "stream",
     "text": [
      "39395\n",
      "84\n"
     ]
    }
   ],
   "source": [
    "print len(df_test_train)\n",
    "print df_test_train['target'].sum()"
   ]
  },
  {
   "cell_type": "code",
   "execution_count": 27,
   "metadata": {},
   "outputs": [
    {
     "name": "stdout",
     "output_type": "stream",
     "text": [
      "47856\n",
      "326\n"
     ]
    }
   ],
   "source": [
    "print len(df_predict)\n",
    "print df_predict['target'].sum()"
   ]
  },
  {
   "cell_type": "code",
   "execution_count": 28,
   "metadata": {
    "collapsed": true
   },
   "outputs": [],
   "source": [
    "df_1_yr_holdout=df[(df['year']!=2016) & (df['year']!=2017)]\n",
    "df_2_yr_holdout=df[(df['year'] !=2016) & (df['year'] !=2015) & (df['year']!=2017)]\n",
    "df_3_yr_holdout=df[(df['year'] !=2014) & (df['year'] !=2015) & (df['year'] !=2016) & (df['year']!=2017)]"
   ]
  },
  {
   "cell_type": "code",
   "execution_count": 29,
   "metadata": {},
   "outputs": [
    {
     "name": "stdout",
     "output_type": "stream",
     "text": [
      "57740\n",
      "107\n",
      "43299\n",
      "133\n",
      "32233\n",
      "58\n"
     ]
    }
   ],
   "source": [
    "print len(df_1_yr_holdout)\n",
    "print df_1_yr_holdout['under_1'].sum() \n",
    "print len(df_2_yr_holdout)\n",
    "print df_2_yr_holdout['under_2'].sum()\n",
    "print len(df_3_yr_holdout)\n",
    "print df_3_yr_holdout['under_3'].sum()\n"
   ]
  },
  {
   "cell_type": "code",
   "execution_count": 30,
   "metadata": {},
   "outputs": [
    {
     "name": "stdout",
     "output_type": "stream",
     "text": [
      "0.00185313474195\n",
      "0.00332571191021\n",
      "0.00260602488133\n"
     ]
    }
   ],
   "source": [
    "print 107/57740.0\n",
    "print 144/43299.0\n",
    "print 84/32233.0"
   ]
  },
  {
   "cell_type": "code",
   "execution_count": 31,
   "metadata": {
    "collapsed": true
   },
   "outputs": [],
   "source": [
    "df_predict_1_year=df[ (df['year'] ==2016)]\n",
    "df_predict_2_year=df[ (df['year'] ==2015) | (df['year'] ==2016)]\n",
    "df_predict_3_year=df[(df['year'] ==2014) | (df['year'] ==2015) | (df['year'] ==2016)]"
   ]
  },
  {
   "cell_type": "code",
   "execution_count": 32,
   "metadata": {},
   "outputs": [
    {
     "name": "stdout",
     "output_type": "stream",
     "text": [
      "22349\n",
      "29\n",
      "36790\n",
      "139\n",
      "47856\n",
      "326\n"
     ]
    }
   ],
   "source": [
    "print len(df_predict_1_year)\n",
    "print df_predict_1_year['under_1'].sum()\n",
    "print len(df_predict_2_year)\n",
    "print df_predict_2_year['under_2'].sum()\n",
    "print len(df_predict_3_year)\n",
    "print df_predict_3_year['under_3'].sum()"
   ]
  },
  {
   "cell_type": "code",
   "execution_count": 33,
   "metadata": {},
   "outputs": [
    {
     "name": "stdout",
     "output_type": "stream",
     "text": [
      "0.00129759720793\n",
      "0.00377820059799\n",
      "0.00681210297559\n"
     ]
    }
   ],
   "source": [
    "print 29/22349.0\n",
    "print 139/36790.0\n",
    "print 326/47856.0"
   ]
  },
  {
   "cell_type": "markdown",
   "metadata": {},
   "source": [
    "Here I select my training data to be all years up from 2009-2014, and to predict on the years 2015, 2016, and 2017, predicting if a drug will be recalled within 2 years of its release.  2015 and 16 don't have 2 years of data yet, so I held them out, and before 2009 there were very few drugs in the database of newly released drugs"
   ]
  },
  {
   "cell_type": "code",
   "execution_count": 34,
   "metadata": {
    "collapsed": true
   },
   "outputs": [],
   "source": [
    "df_test_train=df[(df['year'] ==2009) |(df['year'] ==2010) |(df['year'] ==2011) |(df['year'] ==2012) |(df['year'] ==2013) |(df['year'] ==2014)]\n",
    "df_predict=df[(df['year'] ==2015) |(df['year'] ==2016)|(df['year'] ==2017)]"
   ]
  },
  {
   "cell_type": "code",
   "execution_count": 35,
   "metadata": {},
   "outputs": [
    {
     "name": "stdout",
     "output_type": "stream",
     "text": [
      "43106\n",
      "43952\n"
     ]
    }
   ],
   "source": [
    "print len(df_test_train)\n",
    "print len(df_predict)"
   ]
  },
  {
   "cell_type": "code",
   "execution_count": null,
   "metadata": {
    "collapsed": true
   },
   "outputs": [],
   "source": []
  },
  {
   "cell_type": "code",
   "execution_count": 36,
   "metadata": {
    "collapsed": true
   },
   "outputs": [],
   "source": [
    "features=int_cols+nlp_cols"
   ]
  },
  {
   "cell_type": "code",
   "execution_count": 37,
   "metadata": {
    "collapsed": true
   },
   "outputs": [],
   "source": [
    "from sklearn.preprocessing import StandardScaler"
   ]
  },
  {
   "cell_type": "code",
   "execution_count": 38,
   "metadata": {
    "collapsed": true
   },
   "outputs": [],
   "source": [
    "df_std=StandardScaler().fit_transform(df[int_cols])"
   ]
  },
  {
   "cell_type": "code",
   "execution_count": null,
   "metadata": {
    "collapsed": true
   },
   "outputs": [],
   "source": []
  },
  {
   "cell_type": "code",
   "execution_count": 39,
   "metadata": {
    "collapsed": true
   },
   "outputs": [],
   "source": [
    "from nltk.tokenize import RegexpTokenizer\n",
    "from nltk.corpus import stopwords\n",
    "from nltk.stem import PorterStemmer"
   ]
  },
  {
   "cell_type": "code",
   "execution_count": 40,
   "metadata": {
    "collapsed": true
   },
   "outputs": [],
   "source": [
    "tokenizer = RegexpTokenizer(r'\\w+')"
   ]
  },
  {
   "cell_type": "code",
   "execution_count": 41,
   "metadata": {
    "collapsed": true
   },
   "outputs": [],
   "source": [
    "test1=tokenizer.tokenize(df['adverse_reactions'][0].lower())"
   ]
  },
  {
   "cell_type": "code",
   "execution_count": 42,
   "metadata": {},
   "outputs": [
    {
     "name": "stdout",
     "output_type": "stream",
     "text": [
      "908\n"
     ]
    }
   ],
   "source": [
    "print len(test1)"
   ]
  },
  {
   "cell_type": "code",
   "execution_count": 43,
   "metadata": {
    "collapsed": true
   },
   "outputs": [],
   "source": [
    "stop=stopwords.words('english')"
   ]
  },
  {
   "cell_type": "code",
   "execution_count": 44,
   "metadata": {},
   "outputs": [
    {
     "name": "stdout",
     "output_type": "stream",
     "text": [
      "690\n"
     ]
    }
   ],
   "source": [
    "print len([i for i in test1 if i not in stop])"
   ]
  },
  {
   "cell_type": "code",
   "execution_count": 45,
   "metadata": {
    "collapsed": true
   },
   "outputs": [],
   "source": [
    "test3= [i for i in test1 if i in stop]"
   ]
  },
  {
   "cell_type": "code",
   "execution_count": 46,
   "metadata": {},
   "outputs": [
    {
     "name": "stdout",
     "output_type": "stream",
     "text": [
      "['u', '6', u'advers', u'reaction', u'adult', 'most', 'common', u'advers', u'reaction', 'in', u'adult', u'incid', 'u2265', '2', 'are', u'headach', u'abdomin', 'pain', 'nausea', 'diarrhea', u'vomit', 'and', u'flatul', '6', u'pediatr', u'patient', '2', 'to', '16', u'year', 'of', 'age', u'safeti', u'profil', 'similar', 'to', 'that', 'in', u'adult', 'except', 'that', u'respiratori', 'system', u'event', 'and', 'fever', 'were', 'the', 'most', u'frequent', u'report', u'reaction', 'in', u'pediatr', u'studi', '8', '4', 'to', 'report', u'suspect', u'advers', u'reaction', 'contact', 'mylan', u'pharmaceut', 'inc', 'toll', 'free', 'at', '1', '877', '446', '3679', '1', '877', '4', 'info', 'rx', 'or', 'fda', 'at', '1', '800', 'fda', '1088', 'or', 'www', 'fda', 'gov', 'medwatch', '6', '1', u'clinic', u'trial', u'experi', 'with', u'omeprazol', u'monotherapi', u'becaus', u'clinic', u'trial', 'are', u'conduct', 'under', u'wide', u'vari', u'condit', u'advers', 'reaction', u'rate', u'observ', 'in', 'the', u'clinic', u'trial', 'of', 'a', 'drug', 'cannot', 'be', u'directli', u'compar', 'to', u'rate', 'in', 'the', u'clinic', u'trial', 'of', u'anoth', 'drug', 'and', 'may', 'not', 'reflect', 'the', u'rate', u'observ', 'in', u'practic', 'the', u'safeti', 'data', u'describ', 'below', u'reflect', u'exposur', 'to', u'omeprazol', u'delay', u'releas', u'capsul', 'in', '3', '096', u'patient', 'from', u'worldwid', u'clinic', u'trial', '465', u'patient', 'from', 'u', 's', u'studi', 'and', '2', '631', u'patient', 'from', u'intern', u'studi', u'indic', u'clinic', u'studi', 'in', 'u', 's', u'trial', u'includ', u'duoden', 'ulcer', u'resist', 'ulcer', 'and', u'zolling', 'ellison', u'syndrom', 'the', u'intern', u'clinic', u'trial', 'were', u'doubl', 'blind', 'and', 'open', 'label', 'in', 'design', 'the', 'most', 'common', u'advers', u'reaction', u'report', 'i', 'e', 'with', 'an', u'incid', 'rate', 'u2265', '2', 'from', u'omeprazol', u'treat', u'patient', u'enrol', 'in', 'these', u'studi', u'includ', u'headach', '6', '9', u'abdomin', 'pain', '5', '2', 'nausea', '4', 'diarrhea', '3', '7', u'vomit', '3', '2', 'and', u'flatul', '2', '7', u'addit', u'advers', u'reaction', 'that', 'were', u'report', 'with', 'an', u'incid', 'u2265', '1', u'includ', 'acid', u'regurgit', '1', '9', 'upper', u'respiratori', u'infect', '1', '9', u'constip', '1', '5', u'dizzi', '1', '5', 'rash', '1', '5', 'asthenia', '1', '3', 'back', 'pain', '1', '1', 'and', 'cough', '1', '1', 'the', u'clinic', 'trial', u'safeti', u'profil', 'in', u'patient', 'greater', 'than', '65', u'year', 'of', 'age', u'wa', 'similar', 'to', 'that', 'in', u'patient', '65', u'year', 'of', 'age', 'or', u'less', 'the', u'clinic', 'trial', u'safeti', u'profil', 'in', u'pediatr', u'patient', 'who', u'receiv', u'omeprazol', u'delay', u'releas', u'capsul', u'wa', 'similar', 'to', 'that', 'in', 'adult', u'patient', u'uniqu', 'to', 'the', u'pediatr', u'popul', u'howev', u'advers', u'reaction', 'of', 'the', u'respiratori', 'system', 'were', 'most', u'frequent', u'report', 'in', 'the', '2', 'to', '16', 'year', 'age', 'group', '18', '5', u'similarli', u'accident', u'injuri', 'were', u'report', u'frequent', 'in', 'the', '2', 'to', '16', 'year', 'age', 'group', '3', '8', 'see', 'use', 'in', u'specif', u'popul', '8', '4', '6', '2', u'clinic', u'trial', u'experi', 'with', u'omeprazol', 'in', u'combin', u'therapi', 'for', 'h', 'pylori', u'erad', 'in', u'clinic', u'trial', u'use', 'either', 'dual', u'therapi', 'with', u'omeprazol', 'and', 'clarithromycin', 'or', u'tripl', u'therapi', 'with', u'omeprazol', 'clarithromycin', 'and', 'amoxicillin', 'no', u'advers', u'reaction', u'uniqu', 'to', 'these', 'drug', u'combin', 'were', u'observ', u'advers', u'reaction', u'observ', 'were', u'limit', 'to', 'those', u'previous', u'report', 'with', u'omeprazol', 'clarithromycin', 'or', 'amoxicillin', u'alon', 'dual', u'therapi', u'omeprazol', 'clarithromycin', u'advers', u'reaction', u'observ', 'in', u'control', u'clinic', u'trial', u'use', u'combin', u'therapi', 'with', u'omeprazol', 'and', 'clarithromycin', 'n', '346', 'that', u'differ', 'from', 'those', u'previous', u'describ', 'for', u'omeprazol', u'alon', 'were', u'tast', u'pervers', '15', u'tongu', u'discolor', '2', u'rhiniti', '2', u'pharyng', '1', 'and', 'flu', u'syndrom', '1', 'for', 'more', u'inform', 'on', 'clarithromycin', 'refer', 'to', 'the', 'clarithromycin', u'prescrib', u'inform', u'advers', u'reaction', 'section', u'tripl', u'therapi', u'omeprazol', 'clarithromycin', 'amoxicillin', 'the', 'most', 'frequent', u'advers', u'reaction', u'observ', 'in', u'clinic', u'trial', u'use', u'combin', u'therapi', 'with', u'omeprazol', 'clarithromycin', 'and', 'amoxicillin', 'n', '274', 'were', 'diarrhea', '14', u'tast', u'pervers', '10', 'and', u'headach', '7', 'none', 'of', 'these', u'occur', 'at', 'a', 'higher', u'frequenc', 'than', 'that', u'report', 'by', u'patient', u'take', u'antimicrobi', u'agent', u'alon', 'for', 'more', u'inform', 'on', 'clarithromycin', 'or', 'amoxicillin', 'refer', 'to', 'the', u'respect', u'prescrib', u'inform', u'advers', u'reaction', u'section', '6', '3', 'post', u'market', u'experi', 'the', u'follow', u'advers', u'reaction', 'have', 'been', u'identifi', u'dure', 'post', u'approv', 'use', 'of', u'omeprazol', u'delay', u'releas', u'capsul', u'becaus', 'these', u'reaction', 'are', u'voluntarili', u'report', 'from', 'a', u'popul', 'of', 'uncertain', 'size', 'it', 'is', 'not', u'alway', u'possibl', 'to', u'reliabl', u'estim', 'their', 'actual', u'frequenc', 'or', 'establish', 'a', 'causal', 'relationship', 'to', 'drug', u'exposur', u'bodi', 'as', 'a', 'whole', u'hypersensit', u'reaction', u'includ', u'anaphylaxi', u'anaphylact', 'shock', 'angioedema', 'bronchospasm', u'interstiti', u'nephriti', 'urticaria', 'see', 'also', 'skin', 'below', 'fever', 'pain', u'fatigu', u'malais', 'cardiovascular', 'chest', 'pain', 'or', 'angina', 'tachycardia', 'bradycardia', u'palpit', u'elev', 'blood', u'pressur', u'peripher', 'edema', u'endocrin', 'gynecomastia', u'gastrointestin', u'pancreat', 'some', 'fatal', 'anorexia', u'irrit', 'colon', 'fecal', u'discolor', u'esophag', u'candidiasi', u'mucos', u'atrophi', 'of', 'the', u'tongu', u'stomat', u'abdomin', u'swell', u'dri', 'mouth', u'microscop', u'coliti', u'dure', 'treatment', 'with', u'omeprazol', 'gastric', 'fundic', 'gland', u'polyp', 'have', 'been', u'note', u'rare', 'these', u'polyp', 'are', 'benign', 'and', 'appear', 'to', 'be', u'revers', 'when', 'treatment', 'is', u'discontinu', u'gastroduoden', u'carcinoid', 'have', 'been', u'report', 'in', u'patient', 'with', 'ze', u'syndrom', 'on', 'long', 'term', 'treatment', 'with', u'omeprazol', u'thi', u'find', 'is', u'believ', 'to', 'be', 'a', u'manifest', 'of', 'the', u'underli', u'condit', 'which', 'is', 'known', 'to', 'be', u'associ', 'with', 'such', u'tumor', u'hepat', 'liver', u'diseas', u'includ', u'hepat', u'failur', 'some', 'fatal', 'liver', u'necrosi', 'some', 'fatal', u'hepat', u'encephalopathi', 'hepatocellular', u'diseas', u'cholestat', u'diseas', u'mix', u'hepat', u'jaundic', 'and', u'elev', 'of', 'liver', 'function', u'test', 'alt', 'ast', 'ggt', u'alkalin', u'phosphatas', 'and', 'bilirubin', u'infect', 'and', u'infest', 'clostridium', u'difficil', u'associ', 'diarrhea', u'metabol', 'and', u'nutrit', u'disord', 'hypoglycemia', 'hypomagnesemia', 'hyponatremia', 'weight', 'gain', u'musculoskelet', u'muscl', u'weak', 'myalgia', u'muscl', u'cramp', 'joint', 'pain', 'leg', 'pain', 'bone', u'fractur', u'nervou', 'system', u'psychiatr', u'psychiatr', 'and', 'sleep', u'disturb', u'includ', u'depress', u'agit', u'aggress', u'hallucin', u'confus', 'insomnia', u'nervous', u'apathi', u'somnol', u'anxieti', 'and', 'dream', u'abnorm', u'tremor', 'paresthesia', 'vertigo', u'respiratori', u'epistaxi', u'pharyng', 'pain', 'skin', u'sever', u'gener', 'skin', u'reaction', u'includ', 'toxic', u'epiderm', u'necrolysi', 'some', 'fatal', u'steven', 'johnson', u'syndrom', 'and', 'erythema', u'multiform', u'photosensit', 'urticaria', 'rash', 'skin', u'inflamm', u'pruritu', u'petechia', 'purpura', 'alopecia', u'dri', 'skin', u'hyperhidrosi', 'special', u'sens', u'tinnitu', u'tast', u'pervers', 'ocular', 'optic', u'atrophi', 'anterior', u'ischem', 'optic', u'neuropathi', 'optic', u'neuriti', u'dri', 'eye', u'syndrom', 'ocular', u'irrit', u'blur', 'vision', u'doubl', 'vision', u'urogenit', u'interstiti', u'nephriti', 'hematuria', 'proteinuria', u'elev', 'serum', u'creatinin', u'microscop', 'pyuria', u'urinari', 'tract', u'infect', 'glycosuria', u'urinari', u'frequenc', 'testicular', 'pain', u'hematolog', u'agranulocytosi', 'some', 'fatal', u'hemolyt', 'anemia', 'pancytopenia', 'neutropenia', 'anemia', 'thrombocytopenia', 'leukopenia', u'leucocytosi']\n"
     ]
    }
   ],
   "source": [
    "stemmed_text=[]\n",
    "for item in test1:\n",
    "    stemmer=PorterStemmer()\n",
    "    new_item=stemmer.stem(item)\n",
    "    stemmed_text.append(new_item)\n",
    "print stemmed_text\n",
    "    "
   ]
  },
  {
   "cell_type": "code",
   "execution_count": 47,
   "metadata": {
    "collapsed": true
   },
   "outputs": [],
   "source": [
    "test4=stemmer.stem('hello everybody it\\'s nicely to meeting y\\'all')"
   ]
  },
  {
   "cell_type": "code",
   "execution_count": 48,
   "metadata": {},
   "outputs": [
    {
     "name": "stdout",
     "output_type": "stream",
     "text": [
      "hello everybody it's nicely to meeting y'al\n"
     ]
    }
   ],
   "source": [
    "print test4"
   ]
  },
  {
   "cell_type": "code",
   "execution_count": null,
   "metadata": {
    "collapsed": true
   },
   "outputs": [],
   "source": []
  },
  {
   "cell_type": "code",
   "execution_count": 49,
   "metadata": {
    "collapsed": true
   },
   "outputs": [],
   "source": [
    "def tokenize_text(text):\n",
    "    #Remove Caps\n",
    "    text_str=str(text)\n",
    "    text_lower=text_str.lower()\n",
    "    #Remove punctuation\n",
    "    tokenizer = RegexpTokenizer(r'\\w+')\n",
    "    no_punct=tokenizer.tokenize(text_lower)\n",
    "    #Remove stopwords\n",
    "    stop=stopwords.words('english')\n",
    "    no_stopwords=[i for i in no_punct if i not in stop]\n",
    "    #Stem words\n",
    "    stemmer=PorterStemmer()\n",
    "    stemmed_text=[]\n",
    "    for item in no_stopwords:\n",
    "        try:\n",
    "            if (item == 'aed') | (item == 'aeds'):\n",
    "                stemmed_text.append(item)\n",
    "            else:\n",
    "                new_item=stemmer.stem(item)\n",
    "                stemmed_text.append(new_item)\n",
    "        except:\n",
    "            print item, type(item)\n",
    "\n",
    "#         print len(no_stopwords)\n",
    "    return ' '.join(stemmed_text)"
   ]
  },
  {
   "cell_type": "code",
   "execution_count": 50,
   "metadata": {},
   "outputs": [
    {
     "data": {
      "text/plain": [
       "u'u 6 advers reaction adult common advers reaction adult incid u2265 2 headach abdomin pain nausea diarrhea vomit flatul 6 pediatr patient 2 16 year age safeti profil similar adult except respiratori system event fever frequent report reaction pediatr studi 8 4 report suspect advers reaction contact mylan pharmaceut inc toll free 1 877 446 3679 1 877 4 info rx fda 1 800 fda 1088 www fda gov medwatch 6 1 clinic trial experi omeprazol monotherapi clinic trial conduct wide vari condit advers reaction rate observ clinic trial drug cannot directli compar rate clinic trial anoth drug may reflect rate observ practic safeti data describ reflect exposur omeprazol delay releas capsul 3 096 patient worldwid clinic trial 465 patient u studi 2 631 patient intern studi indic clinic studi u trial includ duoden ulcer resist ulcer zolling ellison syndrom intern clinic trial doubl blind open label design common advers reaction report e incid rate u2265 2 omeprazol treat patient enrol studi includ headach 6 9 abdomin pain 5 2 nausea 4 diarrhea 3 7 vomit 3 2 flatul 2 7 addit advers reaction report incid u2265 1 includ acid regurgit 1 9 upper respiratori infect 1 9 constip 1 5 dizzi 1 5 rash 1 5 asthenia 1 3 back pain 1 1 cough 1 1 clinic trial safeti profil patient greater 65 year age similar patient 65 year age less clinic trial safeti profil pediatr patient receiv omeprazol delay releas capsul similar adult patient uniqu pediatr popul howev advers reaction respiratori system frequent report 2 16 year age group 18 5 similarli accident injuri report frequent 2 16 year age group 3 8 see use specif popul 8 4 6 2 clinic trial experi omeprazol combin therapi h pylori erad clinic trial use either dual therapi omeprazol clarithromycin tripl therapi omeprazol clarithromycin amoxicillin advers reaction uniqu drug combin observ advers reaction observ limit previous report omeprazol clarithromycin amoxicillin alon dual therapi omeprazol clarithromycin advers reaction observ control clinic trial use combin therapi omeprazol clarithromycin n 346 differ previous describ omeprazol alon tast pervers 15 tongu discolor 2 rhiniti 2 pharyng 1 flu syndrom 1 inform clarithromycin refer clarithromycin prescrib inform advers reaction section tripl therapi omeprazol clarithromycin amoxicillin frequent advers reaction observ clinic trial use combin therapi omeprazol clarithromycin amoxicillin n 274 diarrhea 14 tast pervers 10 headach 7 none occur higher frequenc report patient take antimicrobi agent alon inform clarithromycin amoxicillin refer respect prescrib inform advers reaction section 6 3 post market experi follow advers reaction identifi post approv use omeprazol delay releas capsul reaction voluntarili report popul uncertain size alway possibl reliabl estim actual frequenc establish causal relationship drug exposur bodi whole hypersensit reaction includ anaphylaxi anaphylact shock angioedema bronchospasm interstiti nephriti urticaria see also skin fever pain fatigu malais cardiovascular chest pain angina tachycardia bradycardia palpit elev blood pressur peripher edema endocrin gynecomastia gastrointestin pancreat fatal anorexia irrit colon fecal discolor esophag candidiasi mucos atrophi tongu stomat abdomin swell dri mouth microscop coliti treatment omeprazol gastric fundic gland polyp note rare polyp benign appear revers treatment discontinu gastroduoden carcinoid report patient ze syndrom long term treatment omeprazol find believ manifest underli condit known associ tumor hepat liver diseas includ hepat failur fatal liver necrosi fatal hepat encephalopathi hepatocellular diseas cholestat diseas mix hepat jaundic elev liver function test alt ast ggt alkalin phosphatas bilirubin infect infest clostridium difficil associ diarrhea metabol nutrit disord hypoglycemia hypomagnesemia hyponatremia weight gain musculoskelet muscl weak myalgia muscl cramp joint pain leg pain bone fractur nervou system psychiatr psychiatr sleep disturb includ depress agit aggress hallucin confus insomnia nervous apathi somnol anxieti dream abnorm tremor paresthesia vertigo respiratori epistaxi pharyng pain skin sever gener skin reaction includ toxic epiderm necrolysi fatal steven johnson syndrom erythema multiform photosensit urticaria rash skin inflamm pruritu petechia purpura alopecia dri skin hyperhidrosi special sens tinnitu tast pervers ocular optic atrophi anterior ischem optic neuropathi optic neuriti dri eye syndrom ocular irrit blur vision doubl vision urogenit interstiti nephriti hematuria proteinuria elev serum creatinin microscop pyuria urinari tract infect glycosuria urinari frequenc testicular pain hematolog agranulocytosi fatal hemolyt anemia pancytopenia neutropenia anemia thrombocytopenia leukopenia leucocytosi'"
      ]
     },
     "execution_count": 50,
     "metadata": {},
     "output_type": "execute_result"
    }
   ],
   "source": [
    "tokenize_text(df['adverse_reactions'][0])"
   ]
  },
  {
   "cell_type": "code",
   "execution_count": 51,
   "metadata": {},
   "outputs": [
    {
     "data": {
      "text/plain": [
       "u'u   6   a d v e r s   r e a c t i o n   a d u l t   c o m m o n   a d v e r s   r e a c t i o n   a d u l t   i n c i d   u 2 2 6 5   2   h e a d a c h   a b d o m i n   p a i n   n a u s e a   d i a r r h e a   v o m i t   f l a t u l   6   p e d i a t r   p a t i e n t   2   1 6   y e a r   a g e   s a f e t i   p r o f i l   s i m i l a r   a d u l t   e x c e p t   r e s p i r a t o r i   s y s t e m   e v e n t   f e v e r   f r e q u e n t   r e p o r t   r e a c t i o n   p e d i a t r   s t u d i   8   4   r e p o r t   s u s p e c t   a d v e r s   r e a c t i o n   c o n t a c t   m y l a n   p h a r m a c e u t   i n c   t o l l   f r e e   1   8 7 7   4 4 6   3 6 7 9   1   8 7 7   4   i n f o   r x   f d a   1   8 0 0   f d a   1 0 8 8   w w w   f d a   g o v   m e d w a t c h   6   1   c l i n i c   t r i a l   e x p e r i   o m e p r a z o l   m o n o t h e r a p i   c l i n i c   t r i a l   c o n d u c t   w i d e   v a r i   c o n d i t   a d v e r s   r e a c t i o n   r a t e   o b s e r v   c l i n i c   t r i a l   d r u g   c a n n o t   d i r e c t l i   c o m p a r   r a t e   c l i n i c   t r i a l   a n o t h   d r u g   m a y   r e f l e c t   r a t e   o b s e r v   p r a c t i c   s a f e t i   d a t a   d e s c r i b   r e f l e c t   e x p o s u r   o m e p r a z o l   d e l a y   r e l e a s   c a p s u l   3   0 9 6   p a t i e n t   w o r l d w i d   c l i n i c   t r i a l   4 6 5   p a t i e n t   u   s t u d i   2   6 3 1   p a t i e n t   i n t e r n   s t u d i   i n d i c   c l i n i c   s t u d i   u   t r i a l   i n c l u d   d u o d e n   u l c e r   r e s i s t   u l c e r   z o l l i n g   e l l i s o n   s y n d r o m   i n t e r n   c l i n i c   t r i a l   d o u b l   b l i n d   o p e n   l a b e l   d e s i g n   c o m m o n   a d v e r s   r e a c t i o n   r e p o r t   e   i n c i d   r a t e   u 2 2 6 5   2   o m e p r a z o l   t r e a t   p a t i e n t   e n r o l   s t u d i   i n c l u d   h e a d a c h   6   9   a b d o m i n   p a i n   5   2   n a u s e a   4   d i a r r h e a   3   7   v o m i t   3   2   f l a t u l   2   7   a d d i t   a d v e r s   r e a c t i o n   r e p o r t   i n c i d   u 2 2 6 5   1   i n c l u d   a c i d   r e g u r g i t   1   9   u p p e r   r e s p i r a t o r i   i n f e c t   1   9   c o n s t i p   1   5   d i z z i   1   5   r a s h   1   5   a s t h e n i a   1   3   b a c k   p a i n   1   1   c o u g h   1   1   c l i n i c   t r i a l   s a f e t i   p r o f i l   p a t i e n t   g r e a t e r   6 5   y e a r   a g e   s i m i l a r   p a t i e n t   6 5   y e a r   a g e   l e s s   c l i n i c   t r i a l   s a f e t i   p r o f i l   p e d i a t r   p a t i e n t   r e c e i v   o m e p r a z o l   d e l a y   r e l e a s   c a p s u l   s i m i l a r   a d u l t   p a t i e n t   u n i q u   p e d i a t r   p o p u l   h o w e v   a d v e r s   r e a c t i o n   r e s p i r a t o r i   s y s t e m   f r e q u e n t   r e p o r t   2   1 6   y e a r   a g e   g r o u p   1 8   5   s i m i l a r l i   a c c i d e n t   i n j u r i   r e p o r t   f r e q u e n t   2   1 6   y e a r   a g e   g r o u p   3   8   s e e   u s e   s p e c i f   p o p u l   8   4   6   2   c l i n i c   t r i a l   e x p e r i   o m e p r a z o l   c o m b i n   t h e r a p i   h   p y l o r i   e r a d   c l i n i c   t r i a l   u s e   e i t h e r   d u a l   t h e r a p i   o m e p r a z o l   c l a r i t h r o m y c i n   t r i p l   t h e r a p i   o m e p r a z o l   c l a r i t h r o m y c i n   a m o x i c i l l i n   a d v e r s   r e a c t i o n   u n i q u   d r u g   c o m b i n   o b s e r v   a d v e r s   r e a c t i o n   o b s e r v   l i m i t   p r e v i o u s   r e p o r t   o m e p r a z o l   c l a r i t h r o m y c i n   a m o x i c i l l i n   a l o n   d u a l   t h e r a p i   o m e p r a z o l   c l a r i t h r o m y c i n   a d v e r s   r e a c t i o n   o b s e r v   c o n t r o l   c l i n i c   t r i a l   u s e   c o m b i n   t h e r a p i   o m e p r a z o l   c l a r i t h r o m y c i n   n   3 4 6   d i f f e r   p r e v i o u s   d e s c r i b   o m e p r a z o l   a l o n   t a s t   p e r v e r s   1 5   t o n g u   d i s c o l o r   2   r h i n i t i   2   p h a r y n g   1   f l u   s y n d r o m   1   i n f o r m   c l a r i t h r o m y c i n   r e f e r   c l a r i t h r o m y c i n   p r e s c r i b   i n f o r m   a d v e r s   r e a c t i o n   s e c t i o n   t r i p l   t h e r a p i   o m e p r a z o l   c l a r i t h r o m y c i n   a m o x i c i l l i n   f r e q u e n t   a d v e r s   r e a c t i o n   o b s e r v   c l i n i c   t r i a l   u s e   c o m b i n   t h e r a p i   o m e p r a z o l   c l a r i t h r o m y c i n   a m o x i c i l l i n   n   2 7 4   d i a r r h e a   1 4   t a s t   p e r v e r s   1 0   h e a d a c h   7   n o n e   o c c u r   h i g h e r   f r e q u e n c   r e p o r t   p a t i e n t   t a k e   a n t i m i c r o b i   a g e n t   a l o n   i n f o r m   c l a r i t h r o m y c i n   a m o x i c i l l i n   r e f e r   r e s p e c t   p r e s c r i b   i n f o r m   a d v e r s   r e a c t i o n   s e c t i o n   6   3   p o s t   m a r k e t   e x p e r i   f o l l o w   a d v e r s   r e a c t i o n   i d e n t i f i   p o s t   a p p r o v   u s e   o m e p r a z o l   d e l a y   r e l e a s   c a p s u l   r e a c t i o n   v o l u n t a r i l i   r e p o r t   p o p u l   u n c e r t a i n   s i z e   a l w a y   p o s s i b l   r e l i a b l   e s t i m   a c t u a l   f r e q u e n c   e s t a b l i s h   c a u s a l   r e l a t i o n s h i p   d r u g   e x p o s u r   b o d i   w h o l e   h y p e r s e n s i t   r e a c t i o n   i n c l u d   a n a p h y l a x i   a n a p h y l a c t   s h o c k   a n g i o e d e m a   b r o n c h o s p a s m   i n t e r s t i t i   n e p h r i t i   u r t i c a r i a   s e e   a l s o   s k i n   f e v e r   p a i n   f a t i g u   m a l a i s   c a r d i o v a s c u l a r   c h e s t   p a i n   a n g i n a   t a c h y c a r d i a   b r a d y c a r d i a   p a l p i t   e l e v   b l o o d   p r e s s u r   p e r i p h e r   e d e m a   e n d o c r i n   g y n e c o m a s t i a   g a s t r o i n t e s t i n   p a n c r e a t   f a t a l   a n o r e x i a   i r r i t   c o l o n   f e c a l   d i s c o l o r   e s o p h a g   c a n d i d i a s i   m u c o s   a t r o p h i   t o n g u   s t o m a t   a b d o m i n   s w e l l   d r i   m o u t h   m i c r o s c o p   c o l i t i   t r e a t m e n t   o m e p r a z o l   g a s t r i c   f u n d i c   g l a n d   p o l y p   n o t e   r a r e   p o l y p   b e n i g n   a p p e a r   r e v e r s   t r e a t m e n t   d i s c o n t i n u   g a s t r o d u o d e n   c a r c i n o i d   r e p o r t   p a t i e n t   z e   s y n d r o m   l o n g   t e r m   t r e a t m e n t   o m e p r a z o l   f i n d   b e l i e v   m a n i f e s t   u n d e r l i   c o n d i t   k n o w n   a s s o c i   t u m o r   h e p a t   l i v e r   d i s e a s   i n c l u d   h e p a t   f a i l u r   f a t a l   l i v e r   n e c r o s i   f a t a l   h e p a t   e n c e p h a l o p a t h i   h e p a t o c e l l u l a r   d i s e a s   c h o l e s t a t   d i s e a s   m i x   h e p a t   j a u n d i c   e l e v   l i v e r   f u n c t i o n   t e s t   a l t   a s t   g g t   a l k a l i n   p h o s p h a t a s   b i l i r u b i n   i n f e c t   i n f e s t   c l o s t r i d i u m   d i f f i c i l   a s s o c i   d i a r r h e a   m e t a b o l   n u t r i t   d i s o r d   h y p o g l y c e m i a   h y p o m a g n e s e m i a   h y p o n a t r e m i a   w e i g h t   g a i n   m u s c u l o s k e l e t   m u s c l   w e a k   m y a l g i a   m u s c l   c r a m p   j o i n t   p a i n   l e g   p a i n   b o n e   f r a c t u r   n e r v o u   s y s t e m   p s y c h i a t r   p s y c h i a t r   s l e e p   d i s t u r b   i n c l u d   d e p r e s s   a g i t   a g g r e s s   h a l l u c i n   c o n f u s   i n s o m n i a   n e r v o u s   a p a t h i   s o m n o l   a n x i e t i   d r e a m   a b n o r m   t r e m o r   p a r e s t h e s i a   v e r t i g o   r e s p i r a t o r i   e p i s t a x i   p h a r y n g   p a i n   s k i n   s e v e r   g e n e r   s k i n   r e a c t i o n   i n c l u d   t o x i c   e p i d e r m   n e c r o l y s i   f a t a l   s t e v e n   j o h n s o n   s y n d r o m   e r y t h e m a   m u l t i f o r m   p h o t o s e n s i t   u r t i c a r i a   r a s h   s k i n   i n f l a m m   p r u r i t u   p e t e c h i a   p u r p u r a   a l o p e c i a   d r i   s k i n   h y p e r h i d r o s i   s p e c i a l   s e n s   t i n n i t u   t a s t   p e r v e r s   o c u l a r   o p t i c   a t r o p h i   a n t e r i o r   i s c h e m   o p t i c   n e u r o p a t h i   o p t i c   n e u r i t i   d r i   e y e   s y n d r o m   o c u l a r   i r r i t   b l u r   v i s i o n   d o u b l   v i s i o n   u r o g e n i t   i n t e r s t i t i   n e p h r i t i   h e m a t u r i a   p r o t e i n u r i a   e l e v   s e r u m   c r e a t i n i n   m i c r o s c o p   p y u r i a   u r i n a r i   t r a c t   i n f e c t   g l y c o s u r i a   u r i n a r i   f r e q u e n c   t e s t i c u l a r   p a i n   h e m a t o l o g   a g r a n u l o c y t o s i   f a t a l   h e m o l y t   a n e m i a   p a n c y t o p e n i a   n e u t r o p e n i a   a n e m i a   t h r o m b o c y t o p e n i a   l e u k o p e n i a   l e u c o c y t o s i'"
      ]
     },
     "execution_count": 51,
     "metadata": {},
     "output_type": "execute_result"
    }
   ],
   "source": [
    "' '.join(tokenize_text(df['adverse_reactions'][0]))"
   ]
  },
  {
   "cell_type": "code",
   "execution_count": 52,
   "metadata": {
    "collapsed": true
   },
   "outputs": [],
   "source": [
    "# test10=tokenize_text(df['adverse_reactions'][len(df)-5])"
   ]
  },
  {
   "cell_type": "code",
   "execution_count": 53,
   "metadata": {},
   "outputs": [],
   "source": [
    "#adverse_reactions_tok=df['adverse_reactions'].apply(tokenize_text)"
   ]
  },
  {
   "cell_type": "code",
   "execution_count": 55,
   "metadata": {},
   "outputs": [],
   "source": [
    "#adverse_reactions_tok[0]"
   ]
  },
  {
   "cell_type": "code",
   "execution_count": 56,
   "metadata": {
    "collapsed": true
   },
   "outputs": [],
   "source": [
    "new_df=pd.DataFrame()\n",
    "\n",
    "    "
   ]
  },
  {
   "cell_type": "code",
   "execution_count": 57,
   "metadata": {},
   "outputs": [],
   "source": [
    "for col in nlp_cols:\n",
    "    new_df[col]=df[col].apply(tokenize_text)"
   ]
  },
  {
   "cell_type": "code",
   "execution_count": null,
   "metadata": {
    "collapsed": true
   },
   "outputs": [],
   "source": []
  },
  {
   "cell_type": "code",
   "execution_count": null,
   "metadata": {
    "collapsed": true
   },
   "outputs": [],
   "source": []
  },
  {
   "cell_type": "code",
   "execution_count": null,
   "metadata": {
    "collapsed": true
   },
   "outputs": [],
   "source": []
  },
  {
   "cell_type": "code",
   "execution_count": 59,
   "metadata": {},
   "outputs": [],
   "source": [
    "#print adverse_reactions_tok[0]"
   ]
  },
  {
   "cell_type": "code",
   "execution_count": 60,
   "metadata": {},
   "outputs": [
    {
     "data": {
      "text/plain": [
       "['tokenized_nlp_cols.pkl']"
      ]
     },
     "execution_count": 60,
     "metadata": {},
     "output_type": "execute_result"
    }
   ],
   "source": [
    "from sklearn.externals import joblib\n",
    "joblib.dump(new_df, 'tokenized_nlp_cols.pkl') "
   ]
  },
  {
   "cell_type": "code",
   "execution_count": null,
   "metadata": {
    "collapsed": true
   },
   "outputs": [],
   "source": [
    "# from sklearn.model_selection import train_test_split"
   ]
  },
  {
   "cell_type": "code",
   "execution_count": null,
   "metadata": {
    "collapsed": true
   },
   "outputs": [],
   "source": [
    "# X_train,X_test,y_train,y_test=train_test_split(df_test_train[features],df_test_train['under_2'],test_size=0.3, random_state=None)"
   ]
  },
  {
   "cell_type": "code",
   "execution_count": 61,
   "metadata": {},
   "outputs": [
    {
     "data": {
      "text/plain": [
       "Index([u'adverse_reactions', u'clinical_pharmacology', u'contraindications',\n",
       "       u'description', u'dosage_and_administration', u'how_supplied',\n",
       "       u'indications_and_usage', u'overdosage', u'spl_product_data_elements'],\n",
       "      dtype='object')"
      ]
     },
     "execution_count": 61,
     "metadata": {},
     "output_type": "execute_result"
    }
   ],
   "source": [
    "new_df.columns"
   ]
  },
  {
   "cell_type": "code",
   "execution_count": 62,
   "metadata": {},
   "outputs": [
    {
     "data": {
      "text/plain": [
       "87251"
      ]
     },
     "execution_count": 62,
     "metadata": {},
     "output_type": "execute_result"
    }
   ],
   "source": [
    "len(new_df)"
   ]
  },
  {
   "cell_type": "code",
   "execution_count": 63,
   "metadata": {},
   "outputs": [
    {
     "data": {
      "text/plain": [
       "Index([u'abuse', u'accessories', u'active_ingredient', u'adverse_reactions',\n",
       "       u'alarms', u'animal_pharmacology_and_or_toxicology', u'ask_doctor',\n",
       "       u'ask_doctor_or_pharmacist', u'assembly_or_installation_instructions',\n",
       "       u'boxed_warning',\n",
       "       ...\n",
       "       u'good_ndcs', u'company_recall', u'product_recall', u'unix_label',\n",
       "       u'unix_diff', u'diff_years', u'target', u'under_3', u'under_2',\n",
       "       u'under_1'],\n",
       "      dtype='object', length=103)"
      ]
     },
     "execution_count": 63,
     "metadata": {},
     "output_type": "execute_result"
    }
   ],
   "source": [
    "df.columns"
   ]
  },
  {
   "cell_type": "code",
   "execution_count": 64,
   "metadata": {},
   "outputs": [
    {
     "data": {
      "text/plain": [
       "['abuse',\n",
       " 'accessories',\n",
       " 'alarms',\n",
       " 'animal_pharmacology_and_or_toxicology',\n",
       " 'ask_doctor',\n",
       " 'ask_doctor_or_pharmacist',\n",
       " 'assembly_or_installation_instructions',\n",
       " 'boxed_warning',\n",
       " 'calibration_instructions',\n",
       " 'carcinogenesis_and_mutagenesis_and_impairment_of_fertility',\n",
       " 'cleaning',\n",
       " 'clinical_studies',\n",
       " 'components',\n",
       " 'controlled_substance',\n",
       " 'dependence',\n",
       " 'diagram_of_device',\n",
       " 'disposal_and_waste_handling',\n",
       " 'do_not_use',\n",
       " 'dosage_forms_and_strengths',\n",
       " 'drug_abuse_and_dependence',\n",
       " 'drug_and_or_laboratory_test_interactions',\n",
       " 'drug_interactions',\n",
       " 'environmental_warning',\n",
       " 'food_safety_warning',\n",
       " 'general_precautions',\n",
       " 'geriatric_use',\n",
       " 'guaranteed_analysis_of_feed',\n",
       " 'health_care_provider_letter',\n",
       " 'health_claim',\n",
       " 'information_for_owners_or_caregivers',\n",
       " 'information_for_patients',\n",
       " 'instructions_for_use',\n",
       " 'intended_use_of_the_device',\n",
       " 'labor_and_delivery',\n",
       " 'laboratory_tests',\n",
       " 'mechanism_of_action',\n",
       " 'microbiology',\n",
       " 'nonclinical_toxicology',\n",
       " 'nonteratogenic_effects',\n",
       " 'nursing_mothers',\n",
       " 'other_safety_information',\n",
       " 'patient_medication_information',\n",
       " 'pediatric_use',\n",
       " 'pharmacodynamics',\n",
       " 'pharmacogenomics',\n",
       " 'pharmacokinetics',\n",
       " 'precautions',\n",
       " 'pregnancy',\n",
       " 'pregnancy_or_breast_feeding',\n",
       " 'questions',\n",
       " 'recent_major_changes',\n",
       " 'residue_warning',\n",
       " 'risks',\n",
       " 'route',\n",
       " 'safe_handling_warning',\n",
       " 'spl_indexing_data_elements',\n",
       " 'spl_medguide',\n",
       " 'spl_patient_package_insert',\n",
       " 'statement_of_identity',\n",
       " 'summary_of_safety_and_effectiveness',\n",
       " 'teratogenic_effects',\n",
       " 'troubleshooting',\n",
       " 'use_in_specific_populations',\n",
       " 'user_safety_warnings',\n",
       " 'version',\n",
       " 'veterinary_indications',\n",
       " 'warnings_and_cautions',\n",
       " 'when_using',\n",
       " 'date',\n",
       " 'month',\n",
       " 'year']"
      ]
     },
     "execution_count": 64,
     "metadata": {},
     "output_type": "execute_result"
    }
   ],
   "source": [
    "int_cols"
   ]
  },
  {
   "cell_type": "code",
   "execution_count": 65,
   "metadata": {},
   "outputs": [
    {
     "data": {
      "text/plain": [
       "['Unnamed: 0_recall',\n",
       " 'unix',\n",
       " 'good_ndcs',\n",
       " 'company_recall',\n",
       " 'product_recall',\n",
       " 'unix_label',\n",
       " 'unix_diff',\n",
       " 'diff_years']"
      ]
     },
     "execution_count": 65,
     "metadata": {},
     "output_type": "execute_result"
    }
   ],
   "source": [
    "float_cols"
   ]
  },
  {
   "cell_type": "code",
   "execution_count": 66,
   "metadata": {
    "collapsed": true
   },
   "outputs": [],
   "source": [
    "for col in int_cols:\n",
    "    new_df[col]=df[col]"
   ]
  },
  {
   "cell_type": "code",
   "execution_count": 67,
   "metadata": {
    "collapsed": true
   },
   "outputs": [],
   "source": [
    "new_df['unq_ndc']=df['unq_ndc']"
   ]
  },
  {
   "cell_type": "code",
   "execution_count": 68,
   "metadata": {
    "collapsed": true
   },
   "outputs": [],
   "source": [
    "new_df['target']=df['under_2']"
   ]
  },
  {
   "cell_type": "code",
   "execution_count": 69,
   "metadata": {},
   "outputs": [
    {
     "data": {
      "text/plain": [
       "adverse_reactions                                             u 6 advers reaction adult common advers reacti...\n",
       "clinical_pharmacology                                         u 12 clinic pharmacolog 12 1 mechan action ome...\n",
       "contraindications                                             u 4 contraind omeprazol delay releas capsul co...\n",
       "description                                                   u 11 descript activ ingredi omeprazol delay re...\n",
       "dosage_and_administration                                     u 2 dosag administr omeprazol delay releas cap...\n",
       "how_supplied                                                  u 16 suppli storag handl omeprazol delay relea...\n",
       "indications_and_usage                                         u 1 indic usag omeprazol proton pump inhibitor...\n",
       "overdosage                                                    u 10 overdosag report receiv overdosag omepraz...\n",
       "spl_product_data_elements                                     u omeprazol omeprazol omeprazol omeprazol ammo...\n",
       "abuse                                                                                                         0\n",
       "accessories                                                                                                   0\n",
       "alarms                                                                                                        0\n",
       "animal_pharmacology_and_or_toxicology                                                                         1\n",
       "ask_doctor                                                                                                    0\n",
       "ask_doctor_or_pharmacist                                                                                      0\n",
       "assembly_or_installation_instructions                                                                         0\n",
       "boxed_warning                                                                                                 0\n",
       "calibration_instructions                                                                                      0\n",
       "carcinogenesis_and_mutagenesis_and_impairment_of_fertility                                                    1\n",
       "cleaning                                                                                                      0\n",
       "clinical_studies                                                                                              1\n",
       "components                                                                                                    0\n",
       "controlled_substance                                                                                          0\n",
       "dependence                                                                                                    0\n",
       "diagram_of_device                                                                                             0\n",
       "disposal_and_waste_handling                                                                                   0\n",
       "do_not_use                                                                                                    0\n",
       "dosage_forms_and_strengths                                                                                    1\n",
       "drug_abuse_and_dependence                                                                                     0\n",
       "drug_and_or_laboratory_test_interactions                                                                      0\n",
       "                                                                                    ...                        \n",
       "pharmacodynamics                                                                                              1\n",
       "pharmacogenomics                                                                                              0\n",
       "pharmacokinetics                                                                                              1\n",
       "precautions                                                                                                   0\n",
       "pregnancy                                                                                                     1\n",
       "pregnancy_or_breast_feeding                                                                                   0\n",
       "questions                                                                                                     0\n",
       "recent_major_changes                                                                                          1\n",
       "residue_warning                                                                                               0\n",
       "risks                                                                                                         0\n",
       "route                                                                                                         0\n",
       "safe_handling_warning                                                                                         0\n",
       "spl_indexing_data_elements                                                                                    0\n",
       "spl_medguide                                                                                                  1\n",
       "spl_patient_package_insert                                                                                    0\n",
       "statement_of_identity                                                                                         0\n",
       "summary_of_safety_and_effectiveness                                                                           0\n",
       "teratogenic_effects                                                                                           0\n",
       "troubleshooting                                                                                               0\n",
       "use_in_specific_populations                                                                                   1\n",
       "user_safety_warnings                                                                                          0\n",
       "version                                                                                                       1\n",
       "veterinary_indications                                                                                        0\n",
       "warnings_and_cautions                                                                                         1\n",
       "when_using                                                                                                    0\n",
       "date                                                                                                          3\n",
       "month                                                                                                         7\n",
       "year                                                                                                       2013\n",
       "unq_ndc                                                                                               66336-706\n",
       "target                                                                                                        0\n",
       "Name: 0, dtype: object"
      ]
     },
     "execution_count": 69,
     "metadata": {},
     "output_type": "execute_result"
    }
   ],
   "source": [
    "new_df.iloc[0,:]"
   ]
  },
  {
   "cell_type": "code",
   "execution_count": 71,
   "metadata": {},
   "outputs": [
    {
     "data": {
      "text/plain": [
       "u'u 11 descript activ ingredi omeprazol delay releas capsul substitut benzimidazol 5 methoxi 2 4 methoxi 3 5 dimethyl 2 pyridinyl methyl sulfinyl 1h benzimidazol compound inhibit gastric acid secret molecular formula c17h19n3o3 molecular weight 345 42 structur formula omeprazol usp white white crystallin powder melt decomposit 155 xb0c weak base freeli solubl ethanol methanol slightli solubl aceton isopropanol slightli solubl water stabil omeprazol function ph rapidli degrad acid media accept stabil alkalin condit omeprazol suppli delay releas capsul oral administr delay releas capsul contain either 10 mg 20 mg 40 mg omeprazol usp form enter coat granul follow inact ingredi ammonium hydroxid dibutyl sebac ethylcellulos fume silica hypromellos methacryl acid oleic acid sugar sphere talc titanium dioxid triethyl citrat empti gelatin capsul shell contain c yellow 10 fd c green 3 gelatin sodium lauryl sulfat titanium dioxid empti gelatin capsul shell may also contain silicon dioxid 40 mg empti gelatin capsul shell also contain fd c blue 1 addit white imprint ink contain ammonium hydroxid propylen glycol shellac glaze simethicon titanium dioxid omeprazol delay releas capsul usp 10 mg 20 mg 40 mg meet usp drug releas test 2 structur formula'"
      ]
     },
     "execution_count": 71,
     "metadata": {},
     "output_type": "execute_result"
    }
   ],
   "source": [
    "new_df['description'][0]"
   ]
  },
  {
   "cell_type": "code",
   "execution_count": 72,
   "metadata": {
    "collapsed": true
   },
   "outputs": [],
   "source": [
    "df_test_train=new_df[(new_df['year'] ==2009) |(new_df['year'] ==2010) |(new_df['year'] ==2011) |(new_df['year'] ==2012) |(new_df['year'] ==2013) |(new_df['year'] ==2014)]\n",
    "df_predict=new_df[(new_df['year'] ==2015) |(new_df['year'] ==2016)|(new_df['year'] ==2017)]"
   ]
  },
  {
   "cell_type": "code",
   "execution_count": 73,
   "metadata": {
    "collapsed": true
   },
   "outputs": [],
   "source": [
    "df_test_train.to_csv('training_data_cleansed.csv')"
   ]
  },
  {
   "cell_type": "code",
   "execution_count": 74,
   "metadata": {
    "collapsed": true
   },
   "outputs": [],
   "source": [
    "df_predict.to_csv('predicting_data_cleansed.csv')"
   ]
  },
  {
   "cell_type": "code",
   "execution_count": 75,
   "metadata": {},
   "outputs": [
    {
     "data": {
      "text/plain": [
       "71"
      ]
     },
     "execution_count": 75,
     "metadata": {},
     "output_type": "execute_result"
    }
   ],
   "source": [
    "len(int_cols)"
   ]
  },
  {
   "cell_type": "code",
   "execution_count": null,
   "metadata": {
    "collapsed": true
   },
   "outputs": [],
   "source": []
  }
 ],
 "metadata": {
  "kernelspec": {
   "display_name": "Python 2",
   "language": "python",
   "name": "python2"
  },
  "language_info": {
   "codemirror_mode": {
    "name": "ipython",
    "version": 2
   },
   "file_extension": ".py",
   "mimetype": "text/x-python",
   "name": "python",
   "nbconvert_exporter": "python",
   "pygments_lexer": "ipython2",
   "version": "2.7.13"
  }
 },
 "nbformat": 4,
 "nbformat_minor": 2
}
